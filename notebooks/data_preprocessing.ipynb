{
 "cells": [
  {
   "cell_type": "markdown",
   "metadata": {},
   "source": [
    "## Initialization"
   ]
  },
  {
   "cell_type": "code",
   "execution_count": 1,
   "metadata": {},
   "outputs": [],
   "source": [
    "import os\n",
    "import re\n",
    "import json\n",
    "import nltk\n",
    "import pandas as pd\n",
    "import datetime as dt\n",
    "import numpy as np\n",
    "import operator\n",
    "import math\n",
    "from nltk.stem.wordnet import WordNetLemmatizer\n",
    "import multiprocessing\n",
    "import gensim\n",
    "import gensim.corpora as corpora\n",
    "from gensim.models import CoherenceModel\n",
    "import matplotlib.pyplot as plt\n",
    "%matplotlib inline"
   ]
  },
  {
   "cell_type": "markdown",
   "metadata": {},
   "source": [
    "### set experiment dates"
   ]
  },
  {
   "cell_type": "code",
   "execution_count": 2,
   "metadata": {},
   "outputs": [],
   "source": [
    "date_start = dt.datetime.strptime(\"2005-01-01\", \"%Y-%m-%d\")\n",
    "date_end = dt.datetime.strptime(\"2018-06-30\", \"%Y-%m-%d\") "
   ]
  },
  {
   "cell_type": "markdown",
   "metadata": {},
   "source": [
    "### set run prefix"
   ]
  },
  {
   "cell_type": "code",
   "execution_count": 3,
   "metadata": {},
   "outputs": [],
   "source": [
    "run_prefix = \"run_09_xx\""
   ]
  },
  {
   "cell_type": "markdown",
   "metadata": {},
   "source": [
    "### set root directories"
   ]
  },
  {
   "cell_type": "code",
   "execution_count": 4,
   "metadata": {},
   "outputs": [],
   "source": [
    "dir_root = os.path.join('..')\n",
    "dir_data_raw = os.path.join(dir_root, \"data_raw\")\n",
    "dir_data_processing = os.path.join(dir_root, \"data_processing\")\n",
    "dir_data_runs = os.path.join(dir_root, \"data_runs\")\n",
    "dir_prices = os.path.join(dir_data_processing, \"prices\")"
   ]
  },
  {
   "cell_type": "markdown",
   "metadata": {},
   "source": [
    "### set flags"
   ]
  },
  {
   "cell_type": "code",
   "execution_count": 5,
   "metadata": {},
   "outputs": [],
   "source": [
    "flag_debug = False\n",
    "flag_terms_filter_debug = False\n",
    "flag_use_strist_word_set = False\n",
    "flag_rerun_cleaning = True\n",
    "flag_test_report_names = False\n",
    "flag_run_topics_analysis = True"
   ]
  },
  {
   "cell_type": "markdown",
   "metadata": {},
   "source": [
    "### create a run directory"
   ]
  },
  {
   "cell_type": "code",
   "execution_count": 6,
   "metadata": {},
   "outputs": [],
   "source": [
    "dir_run = os.path.join(dir_data_runs, run_prefix)"
   ]
  },
  {
   "cell_type": "code",
   "execution_count": 7,
   "metadata": {},
   "outputs": [],
   "source": [
    "if not os.path.exists(dir_run):\n",
    "    os.makedirs(dir_run)"
   ]
  },
  {
   "cell_type": "markdown",
   "metadata": {},
   "source": [
    "## Clean reports"
   ]
  },
  {
   "cell_type": "markdown",
   "metadata": {},
   "source": [
    "Make sure that all nltk data sets are available"
   ]
  },
  {
   "cell_type": "code",
   "execution_count": 8,
   "metadata": {},
   "outputs": [
    {
     "name": "stderr",
     "output_type": "stream",
     "text": [
      "[nltk_data] Downloading package wordnet to\n",
      "[nltk_data]     /Users/alan.spark/nltk_data...\n",
      "[nltk_data]   Package wordnet is already up-to-date!\n",
      "[nltk_data] Downloading package words to\n",
      "[nltk_data]     /Users/alan.spark/nltk_data...\n",
      "[nltk_data]   Package words is already up-to-date!\n",
      "[nltk_data] Downloading package stopwords to\n",
      "[nltk_data]     /Users/alan.spark/nltk_data...\n",
      "[nltk_data]   Package stopwords is already up-to-date!\n",
      "[nltk_data] Downloading package omw to /Users/alan.spark/nltk_data...\n",
      "[nltk_data]   Package omw is already up-to-date!\n"
     ]
    },
    {
     "data": {
      "text/plain": [
       "True"
      ]
     },
     "execution_count": 8,
     "metadata": {},
     "output_type": "execute_result"
    }
   ],
   "source": [
    "nltk.download(\"wordnet\")\n",
    "nltk.download(\"words\")\n",
    "nltk.download(\"stopwords\")\n",
    "nltk.download(\"omw\")"
   ]
  },
  {
   "cell_type": "code",
   "execution_count": 9,
   "metadata": {},
   "outputs": [],
   "source": [
    "english_words_set = None\n",
    "english_words_set_soft = set(nltk.corpus.words.words())\n",
    "english_words_set_strict = set([x.strip() for x in open(os.path.join(dir_data_raw, \"english\", \"strict_words.txt\"), \"r\")])\n",
    "lemmatizer = WordNetLemmatizer().lemmatize\n",
    "\n",
    "if flag_use_strist_word_set:\n",
    "    english_words_set = english_words_set_strict\n",
    "else:\n",
    "    english_words_set = english_words_set_soft"
   ]
  },
  {
   "cell_type": "markdown",
   "metadata": {},
   "source": [
    "### Create stop words set"
   ]
  },
  {
   "cell_type": "code",
   "execution_count": 10,
   "metadata": {},
   "outputs": [],
   "source": [
    "stop_words_set = set(nltk.corpus.stopwords.words(\"english\"))"
   ]
  },
  {
   "cell_type": "markdown",
   "metadata": {},
   "source": [
    "Extend stop words with custom stop words"
   ]
  },
  {
   "cell_type": "code",
   "execution_count": 11,
   "metadata": {},
   "outputs": [],
   "source": [
    "with open(os.path.join(dir_data_raw, \"english\", \"extra_stopwords.txt\"), \"r\") as f_r:\n",
    "    for text_line in f_r:\n",
    "        term = text_line.strip()\n",
    "        stop_words_set.add(term)"
   ]
  },
  {
   "cell_type": "markdown",
   "metadata": {},
   "source": [
    "Craeate a white list of stop words"
   ]
  },
  {
   "cell_type": "code",
   "execution_count": 12,
   "metadata": {},
   "outputs": [],
   "source": [
    "white_list_set = set()\n",
    "with open(os.path.join(dir_data_raw, \"english\", \"white_stopwords.txt\"), \"r\") as f_r:\n",
    "    for text_line in f_r:\n",
    "        term = text_line.strip()\n",
    "        white_list_set.add(term)"
   ]
  },
  {
   "cell_type": "markdown",
   "metadata": {},
   "source": [
    "Define a funtion checker for stop words. A word is stop word if any of the folowing true:\n",
    "- it's length shorter then 4 char\n",
    "- it contains digits\n",
    "- it appears in nltk stop words set"
   ]
  },
  {
   "cell_type": "code",
   "execution_count": 13,
   "metadata": {},
   "outputs": [],
   "source": [
    "def is_stop_term(term):\n",
    "    if term in white_list_set:\n",
    "        return False\n",
    "    if len(term) < 4:\n",
    "        return True\n",
    "    return term in stop_words_set"
   ]
  },
  {
   "cell_type": "markdown",
   "metadata": {},
   "source": [
    "Define a funtion lemmatizer"
   ]
  },
  {
   "cell_type": "code",
   "execution_count": 14,
   "metadata": {},
   "outputs": [],
   "source": [
    "regexp_to_relax = re.compile(r\"[az]+\\-[a-z]+\")\n",
    "\n",
    "def get_word_lemma(possible_word):\n",
    "    if is_stop_term(possible_word):\n",
    "        return None\n",
    "    if (possible_word not in english_words_set) and (not regexp_to_relax.match(term)):\n",
    "        return None\n",
    "    \n",
    "    possible_lemma = lemmatizer(possible_word)\n",
    "    \n",
    "    if not is_stop_term(possible_lemma):\n",
    "        return possible_lemma\n",
    "    \n",
    "    return None"
   ]
  },
  {
   "cell_type": "code",
   "execution_count": 15,
   "metadata": {},
   "outputs": [],
   "source": [
    "regexp_to_remove = re.compile(r\"[\\dâºâãï½ã\\_]\")"
   ]
  },
  {
   "cell_type": "markdown",
   "metadata": {},
   "source": [
    "Define a clean report function"
   ]
  },
  {
   "cell_type": "code",
   "execution_count": 16,
   "metadata": {},
   "outputs": [],
   "source": [
    "def clean_report(file_report_path, set_eliminated_terms):\n",
    "    document = dict()\n",
    "    with open(os.path.join(file_report_path), \"r\",  encoding=\"ISO-8859-1\") as f_r:\n",
    "        for text_line in f_r:\n",
    "            cleaned_text = re.sub(regexp_to_remove, \" \", text_line)\n",
    "            words = re.split(\"\\W+\", cleaned_text)\n",
    "            for word in words:\n",
    "                word_lower = word.lower()\n",
    "                term = get_word_lemma(word_lower)\n",
    "                if term is not None:\n",
    "                    if term in document:\n",
    "                        document[term] += 1\n",
    "                    else:\n",
    "                        document[term] = 1    \n",
    "                elif flag_terms_filter_debug:\n",
    "                    set_eliminated_terms.add(word_lower)\n",
    "    return document"
   ]
  },
  {
   "cell_type": "markdown",
   "metadata": {},
   "source": [
    "Iterate over all reports, clean and convert them to term frequency map, store as csv file"
   ]
  },
  {
   "cell_type": "code",
   "execution_count": 17,
   "metadata": {},
   "outputs": [],
   "source": [
    "check_report_name_reg_exp = \"(?P<ticker>[A-Z1-9]+)[_-](?P<type>[A-Z]+)(?P<number>[1-9]*)(?P<subnumber>-[1-9]+)?[-_](?P<year>[0-9]{4})[_-](?P<p_year>[0-9]{4})\"\n"
   ]
  },
  {
   "cell_type": "code",
   "execution_count": 18,
   "metadata": {},
   "outputs": [],
   "source": [
    "dir_reports_raw = os.path.join(dir_data_raw, \"reports_txt\")\n",
    "dir_reports =  os.path.join(dir_data_processing, \"reports\")\n",
    "dir_eliminated_terms = os.path.join(dir_data_processing, \"terms_elemenated\")"
   ]
  },
  {
   "cell_type": "markdown",
   "metadata": {},
   "source": [
    "The following cell takes quite a while, be carefull and do not rerun it without a reason, results are stored at file system"
   ]
  },
  {
   "cell_type": "code",
   "execution_count": 19,
   "metadata": {},
   "outputs": [],
   "source": [
    "def ticker_reports_processing(dir_findex, ticker):\n",
    "    set_eliminated_terms = set()\n",
    "    dir_ticker = os.path.join(dir_findex, ticker)\n",
    "    print(\"working on %s at %s\" % (dir_ticker, dt.datetime.now().strftime(\"%Y-%m-%d %H:%M:%S\")))\n",
    "    if os.path.isdir(dir_ticker):\n",
    "        ticker_documents_amount = 0\n",
    "        ticker_code = \"%s_%s\" % (ticker, findex)\n",
    "        for report_file_name in os.listdir(dir_ticker):\n",
    "            match = re.search(check_report_name_reg_exp, report_file_name)\n",
    "            if not match:\n",
    "                print(\"filename %s doesn't fit pattern\" % report_file_name)\n",
    "            else:\n",
    "                dict_report = clean_report(os.path.join(dir_ticker, report_file_name), set_eliminated_terms)\n",
    "                if len(dict_report):\n",
    "                    ticker_documents_amount += 1\n",
    "                    new_file_name = \"%s-%s.csv\" % (match.group(\"p_year\"), ticker_documents_amount)\n",
    "                    new_path = os.path.join(dir_reports, ticker_code)\n",
    "                    if not os.path.exists(new_path):\n",
    "                        os.makedirs(new_path)\n",
    "                    with open(os.path.join(new_path, new_file_name), \"w\") as f_w:\n",
    "                        for term, tf in dict_report.items():\n",
    "                            f_w.write(\"%s,%s\\n\" % (term, tf))\n",
    "                elif flag_debug:\n",
    "                    print(\"report %s is empty after cleaning\" % report_file_name)\n",
    "        if len(set_eliminated_terms):\n",
    "            with open(os.path.join(dir_eliminated_terms, \"%s.txt\" % ticker_code), \"w\") as f_w:\n",
    "                for eliminated in sorted(set_eliminated_terms):\n",
    "                    f_w.write(\"%s\\n\" % (eliminated))"
   ]
  },
  {
   "cell_type": "code",
   "execution_count": 20,
   "metadata": {},
   "outputs": [],
   "source": [
    "def test_reports_names(dir_findex, ticker):\n",
    "    dir_ticker = os.path.join(dir_findex, ticker)\n",
    "    if os.path.isdir(dir_ticker):\n",
    "        ticker_documents_amount = 0\n",
    "        ticker_code = \"%s_%s\" % (ticker, findex)\n",
    "        for report_file_name in os.listdir(dir_ticker):\n",
    "            match = re.search(check_report_name_reg_exp, report_file_name)\n",
    "            if not match:\n",
    "                print(\"working on %s, filename %s doesn't fit pattern\" % (ticker_code, report_file_name))"
   ]
  },
  {
   "cell_type": "code",
   "execution_count": 21,
   "metadata": {},
   "outputs": [
    {
     "name": "stdout",
     "output_type": "stream",
     "text": [
      "working on ../data_raw/reports_txt/XETRA/.DS_Store at 2019-02-22 11:13:00\n",
      "working on ../data_raw/reports_txt/XETRA/TUI1 at 2019-02-22 11:13:00\n",
      "working on ../data_raw/reports_txt/CAC/AC at 2019-02-22 11:13:05\n",
      "working on ../data_raw/reports_txt/CAC/CA at 2019-02-22 11:13:05\n",
      "working on ../data_raw/reports_txt/CAC/EDF at 2019-02-22 11:13:05\n",
      "working on ../data_raw/reports_txt/CAC/ACA at 2019-02-22 11:13:05\n",
      "working on ../data_raw/reports_txt/CAC/CS at 2019-02-22 11:13:13\n",
      "working on ../data_raw/reports_txt/CAC/ORA at 2019-02-22 11:13:19\n",
      "working on ../data_raw/reports_txt/CAC/.DS_Store at 2019-02-22 11:13:21\n",
      "working on ../data_raw/reports_txt/CAC/AIR at 2019-02-22 11:13:21\n",
      "working on ../data_raw/reports_txt/CAC/ML at 2019-02-22 11:13:23\n",
      "working on ../data_raw/reports_txt/CAC/AI at 2019-02-22 11:13:24\n",
      "working on ../data_raw/reports_txt/CAC/MC at 2019-02-22 11:13:24\n",
      "working on ../data_raw/reports_txt/CAC/CAP at 2019-02-22 11:13:34\n",
      "working on ../data_raw/reports_txt/CAC/BN at 2019-02-22 11:13:43\n",
      "working on ../data_raw/reports_txt/CAC/RI at 2019-02-22 11:13:44\n",
      "working on ../data_raw/reports_txt/CAC/BNP at 2019-02-22 11:13:52\n",
      "working on ../data_raw/reports_txt/CAC/EN at 2019-02-22 11:13:54\n",
      "working on ../data_raw/reports_txt/CAC/EI at 2019-02-22 11:13:55\n",
      "working on ../data_raw/reports_txt/CAC/OR at 2019-02-22 11:14:04\n",
      "working on ../data_raw/reports_txt/CAC/ENGI at 2019-02-22 11:14:08\n",
      "working on ../data_raw/reports_txt/CAC/LR at 2019-02-22 11:14:08\n",
      "working on ../data_raw/reports_txt/CAC/ALO at 2019-02-22 11:14:13\n",
      "working on ../data_raw/reports_txt/CAC/KER at 2019-02-22 11:14:18\n",
      "working on ../data_raw/reports_txt/FTSE/WPP at 2019-02-22 11:14:25\n",
      "working on ../data_raw/reports_txt/FTSE/WEIR at 2019-02-22 11:14:25\n",
      "working on ../data_raw/reports_txt/FTSE/UU at 2019-02-22 11:14:25\n",
      "working on ../data_raw/reports_txt/FTSE/BP at 2019-02-22 11:14:25\n",
      "working on ../data_raw/reports_txt/FTSE/LAND at 2019-02-22 11:14:35\n",
      "working on ../data_raw/reports_txt/FTSE/TLW at 2019-02-22 11:14:36\n",
      "working on ../data_raw/reports_txt/FTSE/KGF at 2019-02-22 11:14:41\n",
      "working on ../data_raw/reports_txt/FTSE/IHG at 2019-02-22 11:14:42\n",
      "working on ../data_raw/reports_txt/FTSE/PFC at 2019-02-22 11:14:44\n",
      "working on ../data_raw/reports_txt/FTSE/SKY at 2019-02-22 11:14:47\n",
      "working on ../data_raw/reports_txt/FTSE/BARC at 2019-02-22 11:14:47\n",
      "working on ../data_raw/reports_txt/FTSE/BLND at 2019-02-22 11:14:51\n",
      "working on ../data_raw/reports_txt/FTSE/CRDA at 2019-02-22 11:14:51\n",
      "working on ../data_raw/reports_txt/FTSE/IMB at 2019-02-22 11:14:54\n",
      "working on ../data_raw/reports_txt/FTSE/AV at 2019-02-22 11:14:55\n",
      "working on ../data_raw/reports_txt/FTSE/.DS_Store at 2019-02-22 11:14:55\n",
      "working on ../data_raw/reports_txt/FTSE/ANTO at 2019-02-22 11:14:55\n",
      "working on ../data_raw/reports_txt/FTSE/ITRK at 2019-02-22 11:14:56\n",
      "working on ../data_raw/reports_txt/FTSE/SSE at 2019-02-22 11:15:02\n",
      "working on ../data_raw/reports_txt/FTSE/AAL at 2019-02-22 11:15:02\n",
      "working on ../data_raw/reports_txt/FTSE/HL at 2019-02-22 11:15:06\n",
      "working on ../data_raw/reports_txt/FTSE/NG at 2019-02-22 11:15:09\n",
      "working on ../data_raw/reports_txt/FTSE/CUK at 2019-02-22 11:15:11\n",
      "working on ../data_raw/reports_txt/FTSE/IAG at 2019-02-22 11:15:15\n",
      "working on ../data_raw/reports_txt/FTSE/SNN at 2019-02-22 11:15:15\n",
      "working on ../data_raw/reports_txt/FTSE/MGGT at 2019-02-22 11:15:17\n",
      "filename .DS_Store doesn't fit pattern\n",
      "working on ../data_raw/reports_txt/FTSE/BAB at 2019-02-22 11:15:19\n",
      "working on ../data_raw/reports_txt/FTSE/BNZL at 2019-02-22 11:15:24\n",
      "working on ../data_raw/reports_txt/FTSE/SHP at 2019-02-22 11:15:25\n",
      "working on ../data_raw/reports_txt/FTSE/CPI at 2019-02-22 11:15:26\n",
      "working on ../data_raw/reports_txt/FTSE/DGE at 2019-02-22 11:15:30\n",
      "working on ../data_raw/reports_txt/FTSE/MKS at 2019-02-22 11:15:32\n",
      "working on ../data_raw/reports_txt/FTSE/SDR at 2019-02-22 11:15:33\n",
      "filename .DS_Store doesn't fit pattern\n",
      "working on ../data_raw/reports_txt/FTSE/EVR at 2019-02-22 11:15:41\n",
      "working on ../data_raw/reports_txt/FTSE/SVT at 2019-02-22 11:15:42\n",
      "working on ../data_raw/reports_txt/FTSE/BRBY at 2019-02-22 11:15:42\n",
      "working on ../data_raw/reports_txt/FTSE/JMAT at 2019-02-22 11:15:46\n",
      "working on ../data_raw/reports_txt/FTSE/WTB at 2019-02-22 11:15:48\n",
      "working on ../data_raw/reports_txt/FTSE/PRU at 2019-02-22 11:15:49\n",
      "filename .DS_Store doesn't fit pattern\n",
      "working on ../data_raw/reports_txt/FTSE/RSA at 2019-02-22 11:15:50\n",
      "working on ../data_raw/reports_txt/FTSE/SMIN at 2019-02-22 11:15:51\n",
      "working on ../data_raw/reports_txt/FTSE/STAN at 2019-02-22 11:15:54\n",
      "working on ../data_raw/reports_txt/FTSE/EXPN at 2019-02-22 11:15:56\n",
      "working on ../data_raw/reports_txt/FTSE/CPG at 2019-02-22 11:16:02\n",
      "working on ../data_raw/reports_txt/FTSE/RR at 2019-02-22 11:16:05\n",
      "working on ../data_raw/reports_txt/FTSE/RIO at 2019-02-22 11:16:07\n",
      "working on ../data_raw/reports_txt/FTSE/VOD at 2019-02-22 11:16:08\n",
      "working on ../data_raw/reports_txt/FTSE/RBS at 2019-02-22 11:16:09\n",
      "working on ../data_raw/reports_txt/FTSE/GLEN at 2019-02-22 11:16:10\n",
      "working on ../data_raw/reports_txt/FTSE/MRW at 2019-02-22 11:16:14\n",
      "filename .DS_Store doesn't fit pattern\n",
      "working on ../data_raw/reports_txt/FTSE/CNA at 2019-02-22 11:16:17\n",
      "working on ../data_raw/reports_txt/FTSE/ABF at 2019-02-22 11:16:17\n",
      "working on ../data_raw/reports_txt/FTSE/FERG at 2019-02-22 11:16:21\n",
      "working on ../data_raw/reports_txt/FTSE/GSK at 2019-02-22 11:16:22\n",
      "working on ../data_raw/reports_txt/FTSE/GFS at 2019-02-22 11:16:22\n",
      "working on ../data_raw/reports_txt/FTSE/IMI at 2019-02-22 11:16:26\n",
      "working on ../data_raw/reports_txt/FTSE/RDSB at 2019-02-22 11:16:28\n",
      "working on ../data_raw/reports_txt/FTSE/ITV at 2019-02-22 11:16:30\n",
      "working on ../data_raw/reports_txt/FTSE/REL at 2019-02-22 11:16:31\n",
      "working on ../data_raw/reports_txt/FTSE/AZN at 2019-02-22 11:16:33\n",
      "working on ../data_raw/reports_txt/FTSE/SGE at 2019-02-22 11:16:35\n",
      "working on ../data_raw/reports_txt/FTSE/FRES at 2019-02-22 11:16:35\n",
      "working on ../data_raw/reports_txt/FTSE/LLOY at 2019-02-22 11:16:40\n",
      "working on ../data_raw/reports_txt/FTSE/TATE at 2019-02-22 11:16:41\n",
      "filename .DS_Store doesn't fit pattern\n",
      "working on ../data_raw/reports_txt/FTSE/TSCO at 2019-02-22 11:16:46\n",
      "working on ../data_raw/reports_txt/FTSE/NXT at 2019-02-22 11:16:48\n",
      "filename .DS_Store doesn't fit pattern\n",
      "working on ../data_raw/reports_txt/FTSE/BA at 2019-02-22 11:16:49\n",
      "working on ../data_raw/reports_txt/FTSE/AGK at 2019-02-22 11:16:53\n",
      "filename .DS_Store doesn't fit pattern\n",
      "working on ../data_raw/reports_txt/FTSE/MRO at 2019-02-22 11:16:55\n",
      "filename .DS_Store doesn't fit pattern\n",
      "working on ../data_raw/reports_txt/FTSE/VED at 2019-02-22 11:16:57\n",
      "working on ../data_raw/reports_txt/FTSE/RRS at 2019-02-22 11:16:57\n",
      "working on ../data_raw/reports_txt/FTSE/ULVR at 2019-02-22 11:17:01\n",
      "working on ../data_raw/reports_txt/FTSE/CRH at 2019-02-22 11:17:09\n",
      "working on ../data_raw/reports_txt/FTSE/ADM at 2019-02-22 11:17:10\n",
      "working on ../data_raw/reports_txt/FTSE/BT at 2019-02-22 11:17:12\n",
      "working on ../data_raw/reports_txt/FTSE/LGEN at 2019-02-22 11:17:15\n",
      "working on ../data_raw/reports_txt/FTSE/SLA at 2019-02-22 11:17:22\n",
      "working on ../data_raw/reports_txt/FTSE/SRP at 2019-02-22 11:17:24\n",
      "working on ../data_raw/reports_txt/FTSE/HMSO at 2019-02-22 11:17:25\n",
      "working on ../data_raw/reports_txt/FTSE/BLT at 2019-02-22 11:17:30\n",
      "working on ../data_raw/reports_txt/FTSE/SBRY at 2019-02-22 11:17:34\n",
      "working on ../data_raw/reports_txt/FTSE/CCH at 2019-02-22 11:17:41\n",
      "working on ../data_raw/reports_txt/FTSE/WG at 2019-02-22 11:17:51\n",
      "working on ../data_raw/reports_txt/FTSE/RB at 2019-02-22 11:17:52\n",
      "working on ../data_raw/reports_txt/DJIA/VZ at 2019-02-22 11:17:55\n",
      "working on ../data_raw/reports_txt/DJIA/MMM at 2019-02-22 11:17:55\n",
      "working on ../data_raw/reports_txt/DJIA/CVX at 2019-02-22 11:17:55\n",
      "working on ../data_raw/reports_txt/DJIA/HD at 2019-02-22 11:17:55\n",
      "working on ../data_raw/reports_txt/DJIA/WMT at 2019-02-22 11:18:01\n",
      "working on ../data_raw/reports_txt/DJIA/MRK at 2019-02-22 11:18:04\n",
      "working on ../data_raw/reports_txt/DJIA/INTC at 2019-02-22 11:18:06\n",
      "working on ../data_raw/reports_txt/DJIA/GS at 2019-02-22 11:18:09\n",
      "working on ../data_raw/reports_txt/DJIA/JNJ at 2019-02-22 11:18:09\n",
      "working on ../data_raw/reports_txt/DJIA/.DS_Store at 2019-02-22 11:18:10\n"
     ]
    },
    {
     "name": "stdout",
     "output_type": "stream",
     "text": [
      "working on ../data_raw/reports_txt/DJIA/MSFT at 2019-02-22 11:18:10\n",
      "working on ../data_raw/reports_txt/DJIA/CAT at 2019-02-22 11:18:10\n",
      "working on ../data_raw/reports_txt/DJIA/PFE at 2019-02-22 11:18:11\n",
      "working on ../data_raw/reports_txt/DJIA/IBM at 2019-02-22 11:18:12\n",
      "working on ../data_raw/reports_txt/DJIA/MCD at 2019-02-22 11:18:12\n",
      "filename .DS_Store doesn't fit pattern\n",
      "working on ../data_raw/reports_txt/DJIA/T at 2019-02-22 11:18:17\n",
      "working on ../data_raw/reports_txt/DJIA/BTI at 2019-02-22 11:18:19\n",
      "working on ../data_raw/reports_txt/DJIA/PG at 2019-02-22 11:18:27\n",
      "working on ../data_raw/reports_txt/DJIA/XOM at 2019-02-22 11:18:30\n",
      "working on ../data_raw/reports_txt/DJIA/HSBC at 2019-02-22 11:18:32\n",
      "working on ../data_raw/reports_txt/DJIA/GE at 2019-02-22 11:18:33\n",
      "working on ../data_raw/reports_txt/DJIA/CSCO at 2019-02-22 11:18:35\n",
      "working on ../data_raw/reports_txt/DJIA/TVE at 2019-02-22 11:18:38\n",
      "working on ../data_raw/reports_txt/DJIA/UNH at 2019-02-22 11:18:40\n",
      "working on ../data_raw/reports_txt/DJIA/DIS at 2019-02-22 11:18:41\n",
      "working on ../data_raw/reports_txt/DJIA/KO at 2019-02-22 11:18:43\n",
      "working on ../data_raw/reports_txt/DJIA/V at 2019-02-22 11:18:54\n",
      "working on ../data_raw/reports_txt/DJIA/NKE at 2019-02-22 11:18:54\n",
      "working on ../data_raw/reports_txt/DJIA/PSO at 2019-02-22 11:18:56\n",
      "working on ../data_raw/reports_txt/DJIA/AXP at 2019-02-22 11:18:59\n",
      "working on ../data_raw/reports_txt/DJIA/UTX at 2019-02-22 11:19:00\n",
      "working on ../data_raw/reports_txt/DJIA/JPM at 2019-02-22 11:19:10\n",
      "working on ../data_raw/reports_txt/DJIA/BA at 2019-02-22 11:19:20\n",
      "working on ../data_raw/reports_txt/DAX/HEN3 at 2019-02-22 11:19:26\n",
      "working on ../data_raw/reports_txt/DAX/.DS_Store at 2019-02-22 11:19:26\n",
      "working on ../data_raw/reports_txt/DAX/VOW3 at 2019-02-22 11:19:26\n",
      "working on ../data_raw/reports_txt/DAX/SAP at 2019-02-22 11:19:26\n",
      "working on ../data_raw/reports_txt/DAX/SDF at 2019-02-22 11:19:26\n",
      "working on ../data_raw/reports_txt/DAX/LXS at 2019-02-22 11:19:38\n",
      "working on ../data_raw/reports_txt/DAX/LIN at 2019-02-22 11:19:45\n",
      "working on ../data_raw/reports_txt/DAX/ADS at 2019-02-22 11:19:45\n",
      "working on ../data_raw/reports_txt/DAX/DB1 at 2019-02-22 11:19:45\n",
      "working on ../data_raw/reports_txt/DAX/MRK at 2019-02-22 11:19:52\n",
      "working on ../data_raw/reports_txt/DAX/CON at 2019-02-22 11:19:53\n",
      "working on ../data_raw/reports_txt/DAX/DAI at 2019-02-22 11:19:53\n",
      "working on ../data_raw/reports_txt/DAX/DTE at 2019-02-22 11:20:00\n",
      "working on ../data_raw/reports_txt/DAX/ALV at 2019-02-22 11:20:00\n",
      "working on ../data_raw/reports_txt/DAX/BAYN at 2019-02-22 11:20:01\n",
      "filename .DS_Store doesn't fit pattern\n",
      "working on ../data_raw/reports_txt/DAX/FRE at 2019-02-22 11:20:21\n",
      "working on ../data_raw/reports_txt/DAX/RWE at 2019-02-22 11:20:21\n",
      "working on ../data_raw/reports_txt/DAX/CBK at 2019-02-22 11:20:26\n",
      "working on ../data_raw/reports_txt/DAX/BEI at 2019-02-22 11:20:27\n",
      "working on ../data_raw/reports_txt/DAX/EOAN at 2019-02-22 11:20:30\n",
      "working on ../data_raw/reports_txt/DAX/HEI at 2019-02-22 11:20:38\n",
      "working on ../data_raw/reports_txt/DAX/MUV2 at 2019-02-22 11:20:46\n",
      "working on ../data_raw/reports_txt/DAX/DBK at 2019-02-22 11:20:48\n",
      "working on ../data_raw/reports_txt/DAX/FME at 2019-02-22 11:20:51\n",
      "working on ../data_raw/reports_txt/DAX/SIE at 2019-02-22 11:20:55\n",
      "working on ../data_raw/reports_txt/DAX/LHA at 2019-02-22 11:21:01\n",
      "working on ../data_raw/reports_txt/DAX/TKA at 2019-02-22 11:21:09\n",
      "working on ../data_raw/reports_txt/DAX/IFX at 2019-02-22 11:21:17\n",
      "working on ../data_raw/reports_txt/DAX/BMW at 2019-02-22 11:21:22\n",
      "working on ../data_raw/reports_txt/DAX/DPW at 2019-02-22 11:21:29\n",
      "working on ../data_raw/reports_txt/DAX/BAS at 2019-02-22 11:21:46\n"
     ]
    }
   ],
   "source": [
    "if flag_rerun_cleaning or flag_test_report_names:\n",
    "    for findex in os.listdir(dir_reports_raw):\n",
    "        dir_findex = os.path.join(dir_reports_raw, findex)\n",
    "        if os.path.isdir(dir_findex):\n",
    "            with multiprocessing.Pool(processes=4) as pool:\n",
    "                if flag_test_report_names: \n",
    "                    pool.starmap(test_reports_names, [(dir_findex, ticker) for ticker in os.listdir(dir_findex)])\n",
    "                else:\n",
    "                    pool.starmap(ticker_reports_processing, [(dir_findex, ticker) for ticker in os.listdir(dir_findex)])\n",
    "  "
   ]
  },
  {
   "cell_type": "code",
   "execution_count": 22,
   "metadata": {},
   "outputs": [],
   "source": [
    "eliminated_words = set()\n",
    "for file in os.listdir(dir_eliminated_terms):\n",
    "    if not file.endswith('.DS_Store'):\n",
    "        with open(os.path.join(dir_eliminated_terms, file), \"r\") as f_r:\n",
    "            for text in f_r:\n",
    "                eliminated_words.add(text.strip())\n",
    "if flag_terms_filter_debug:\n",
    "    print(\"list of eliminated terms, size(%s)\" % len(eliminated_words))\n",
    "    for eliminated in sorted(eliminated_words):\n",
    "        print(\" %s \" % eliminated)"
   ]
  },
  {
   "cell_type": "markdown",
   "metadata": {},
   "source": [
    "## Get tickers for analisys"
   ]
  },
  {
   "cell_type": "markdown",
   "metadata": {},
   "source": [
    "We want to find all tickers of companies which have reports for the experiment's timeframe."
   ]
  },
  {
   "cell_type": "code",
   "execution_count": 23,
   "metadata": {},
   "outputs": [],
   "source": [
    "file_tickers_years = os.path.join(dir_data_processing, \"tickers\", \"tickers_years.datajson\")"
   ]
  },
  {
   "cell_type": "code",
   "execution_count": 24,
   "metadata": {},
   "outputs": [],
   "source": [
    "tickers = dict()\n",
    "for ticker in os.listdir(dir_reports):\n",
    "    dir_ticker = os.path.join(dir_reports, ticker)\n",
    "    if os.path.isdir(dir_ticker):\n",
    "        ticker_years_set = set()\n",
    "        for report in os.listdir(dir_ticker):\n",
    "            ticker_years_set.add(int(report[:4]))\n",
    "        tickers[ticker] = sorted(ticker_years_set)"
   ]
  },
  {
   "cell_type": "markdown",
   "metadata": {},
   "source": [
    "save years of companies"
   ]
  },
  {
   "cell_type": "code",
   "execution_count": 25,
   "metadata": {},
   "outputs": [],
   "source": [
    "with open(file_tickers_years, \"w\") as f_w:\n",
    "    for ticker in tickers:\n",
    "        f_w.write(\"%s\\n\" % json.dumps({\"ticker\": ticker, \"available_years\": tickers[ticker]}))"
   ]
  },
  {
   "cell_type": "markdown",
   "metadata": {},
   "source": [
    "Find tickers with reports for every year in the experiment timeframe"
   ]
  },
  {
   "cell_type": "code",
   "execution_count": 26,
   "metadata": {},
   "outputs": [],
   "source": [
    "year_series = list(range(date_start.year, date_end.year)) "
   ]
  },
  {
   "cell_type": "code",
   "execution_count": 27,
   "metadata": {},
   "outputs": [],
   "source": [
    "if flag_debug:\n",
    "    print(year_series)"
   ]
  },
  {
   "cell_type": "code",
   "execution_count": 28,
   "metadata": {},
   "outputs": [],
   "source": [
    "dir_data_tickers = os.path.join(dir_data_processing, \"tickers\")\n",
    "file_tickers_for_analysis = os.path.join(dir_data_tickers, \"ticker_for_analysis.csv\")"
   ]
  },
  {
   "cell_type": "code",
   "execution_count": 29,
   "metadata": {},
   "outputs": [],
   "source": [
    "tickers_fits_for_analysis = set()\n",
    "for ticker, available_years in tickers.items():\n",
    "    flag_complete_series = True\n",
    "    available_years_set = set(available_years)\n",
    "    for year in year_series:\n",
    "        if year not in available_years_set:\n",
    "            flag_complete_series = False\n",
    "            break\n",
    "    if flag_complete_series and os.path.exists(os.path.join(dir_prices, \"%s.csv\" % ticker)):\n",
    "        tickers_fits_for_analysis.add(ticker)"
   ]
  },
  {
   "cell_type": "code",
   "execution_count": 30,
   "metadata": {},
   "outputs": [
    {
     "data": {
      "text/plain": [
       "'there are 78 tickers available for the experiment'"
      ]
     },
     "execution_count": 30,
     "metadata": {},
     "output_type": "execute_result"
    }
   ],
   "source": [
    "\"there are %s tickers available for the experiment\" % len(tickers_fits_for_analysis)"
   ]
  },
  {
   "cell_type": "markdown",
   "metadata": {},
   "source": [
    "save companies with complete years series"
   ]
  },
  {
   "cell_type": "code",
   "execution_count": 31,
   "metadata": {},
   "outputs": [],
   "source": [
    "with open(file_tickers_for_analysis, \"w\") as f_w:\n",
    "    for ticker in tickers_fits_for_analysis:\n",
    "        f_w.write(\"%s\\n\" % ticker)"
   ]
  },
  {
   "cell_type": "markdown",
   "metadata": {},
   "source": [
    "## Return table"
   ]
  },
  {
   "cell_type": "markdown",
   "metadata": {},
   "source": [
    "### Set paths"
   ]
  },
  {
   "cell_type": "code",
   "execution_count": 32,
   "metadata": {},
   "outputs": [],
   "source": [
    "dir_ticker_prices = os.path.join(dir_data_processing, \"prices\")"
   ]
  },
  {
   "cell_type": "markdown",
   "metadata": {},
   "source": [
    "Iterate over tickers available for analisys and build a return table"
   ]
  },
  {
   "cell_type": "code",
   "execution_count": 33,
   "metadata": {},
   "outputs": [],
   "source": [
    "tickers_prices_table = {}\n",
    "for ticker in tickers_fits_for_analysis:\n",
    "    file_ticker_prices = os.path.join(dir_ticker_prices, ticker + \".csv\")\n",
    "    if os.path.isfile(file_ticker_prices):\n",
    "        price_df = pd.read_csv(file_ticker_prices)\n",
    "        price_df[\"Date\"] = pd.to_datetime(price_df[\"Date\"])\n",
    "        price_df.sort_values(by=[\"Date\"], inplace=True)\n",
    "        price_df.set_index(\"Date\", inplace=True)\n",
    "        ticker_data = {}\n",
    "        \n",
    "        prev_day = None\n",
    "        date_stat_price = dt.datetime.strptime(\"%s-01-01\" % (date_start.year + 1), \"%Y-%m-%d\")\n",
    "        \n",
    "        for index, day in price_df[date_stat_price : date_end].iterrows():\n",
    "            if prev_day is None:\n",
    "                ticker_data[index] = 1\n",
    "            else:\n",
    "                ticker_data[index] = day[\"Adj Close\"] / prev_day[\"Adj Close\"]\n",
    "            prev_day = day\n",
    "        tickers_prices_table[ticker] = ticker_data"
   ]
  },
  {
   "cell_type": "markdown",
   "metadata": {},
   "source": [
    "Convert to pandas data frame"
   ]
  },
  {
   "cell_type": "code",
   "execution_count": 34,
   "metadata": {},
   "outputs": [],
   "source": [
    "df_return = pd.DataFrame.from_dict(tickers_prices_table)"
   ]
  },
  {
   "cell_type": "code",
   "execution_count": 35,
   "metadata": {},
   "outputs": [],
   "source": [
    "file_return_table = os.path.join(dir_run, run_prefix + \"-returns.csv\")\n",
    "df_return.to_csv(file_return_table)"
   ]
  },
  {
   "cell_type": "markdown",
   "metadata": {},
   "source": [
    "## Get corpus statistics "
   ]
  },
  {
   "cell_type": "code",
   "execution_count": 36,
   "metadata": {},
   "outputs": [],
   "source": [
    "number_of_documents = 0\n",
    "term_in_documents_amount = {}"
   ]
  },
  {
   "cell_type": "code",
   "execution_count": 37,
   "metadata": {},
   "outputs": [],
   "source": [
    "for ticker in tickers_fits_for_analysis:\n",
    "    dir_ticker = os.path.join(dir_reports, ticker)\n",
    "    if os.path.isdir(dir_ticker):\n",
    "        for report in os.listdir(dir_ticker):\n",
    "            if '.csv' in report:\n",
    "                number_of_documents += 1  \n",
    "                with open(os.path.join(dir_ticker, report), 'r') as f_r:\n",
    "                    for text_line in f_r:\n",
    "                        (term, amount) = text_line.strip().split(',')\n",
    "                        if term not in term_in_documents_amount:\n",
    "                            term_in_documents_amount[term] = {\n",
    "                                'term': term,\n",
    "                                'total_usage': 0,\n",
    "                                'in_documents_amount': 0}\n",
    "                        term_in_documents_amount[term]['total_usage'] += int(amount)\n",
    "                        term_in_documents_amount[term]['in_documents_amount'] += 1\n"
   ]
  },
  {
   "cell_type": "code",
   "execution_count": 38,
   "metadata": {},
   "outputs": [
    {
     "data": {
      "text/plain": [
       "5152"
      ]
     },
     "execution_count": 38,
     "metadata": {},
     "output_type": "execute_result"
    }
   ],
   "source": [
    "number_of_documents"
   ]
  },
  {
   "cell_type": "code",
   "execution_count": 39,
   "metadata": {},
   "outputs": [
    {
     "data": {
      "text/plain": [
       "'there are 28094 terms available for the experiment'"
      ]
     },
     "execution_count": 39,
     "metadata": {},
     "output_type": "execute_result"
    }
   ],
   "source": [
    "\"there are %s terms available for the experiment\" % len(term_in_documents_amount) "
   ]
  },
  {
   "cell_type": "markdown",
   "metadata": {},
   "source": [
    "## Filtered term set"
   ]
  },
  {
   "cell_type": "markdown",
   "metadata": {},
   "source": [
    "### set terms limits"
   ]
  },
  {
   "cell_type": "code",
   "execution_count": 40,
   "metadata": {},
   "outputs": [],
   "source": [
    "min_number_of_doc = 10\n",
    "remove_n_top_terms = 500\n",
    "max_partition_of_doc = 0.6\n",
    "max_number_of_doc = number_of_documents * max_partition_of_doc"
   ]
  },
  {
   "cell_type": "markdown",
   "metadata": {},
   "source": [
    "### get top N most common terms"
   ]
  },
  {
   "cell_type": "code",
   "execution_count": 41,
   "metadata": {},
   "outputs": [],
   "source": [
    "set_top_n_terms_filter = set()\n",
    "sorted_terms = sorted(list(term_in_documents_amount.values()),\n",
    "                      key=operator.itemgetter('total_usage'),\n",
    "                      reverse=True)\n",
    "for i in range(remove_n_top_terms):\n",
    "    set_top_n_terms_filter.add(sorted_terms[i]['term'])\n",
    "    if flag_debug:\n",
    "        print(\"Excluded term: %s\" % sorted_terms[i]['term'])\n"
   ]
  },
  {
   "cell_type": "markdown",
   "metadata": {},
   "source": [
    "### build terms set"
   ]
  },
  {
   "cell_type": "code",
   "execution_count": 42,
   "metadata": {},
   "outputs": [],
   "source": [
    "set_eliminated_by_max_df = set()\n",
    "set_eliminated_by_min_df = set()\n",
    "set_eliminated_by_max_tf = set()\n",
    "\n",
    "terms_set = set()\n",
    "for term_o in sorted_terms:\n",
    "    term = term_o['term']\n",
    "    in_documents_amount = term_o['in_documents_amount']\n",
    "    total_usage = term_o['total_usage']\n",
    "    if term not in set_top_n_terms_filter:\n",
    "        if in_documents_amount < max_number_of_doc:\n",
    "            if in_documents_amount > min_number_of_doc:\n",
    "                terms_set.add(term)\n",
    "            elif flag_terms_filter_debug:\n",
    "                set_eliminated_by_min_df.add(term)        \n",
    "        elif flag_terms_filter_debug:\n",
    "            set_eliminated_by_max_df.add(term)\n",
    "    elif flag_terms_filter_debug:\n",
    "            set_eliminated_by_max_tf.add(term)"
   ]
  },
  {
   "cell_type": "code",
   "execution_count": 43,
   "metadata": {},
   "outputs": [
    {
     "data": {
      "text/plain": [
       "'there are 14135 filtered terms available for the experiment'"
      ]
     },
     "execution_count": 43,
     "metadata": {},
     "output_type": "execute_result"
    }
   ],
   "source": [
    "\"there are %s filtered terms available for the experiment\" % len(terms_set) "
   ]
  },
  {
   "cell_type": "markdown",
   "metadata": {},
   "source": [
    "### Eliminated by exiding maximum terms frequency"
   ]
  },
  {
   "cell_type": "code",
   "execution_count": 44,
   "metadata": {},
   "outputs": [
    {
     "name": "stdout",
     "output_type": "stream",
     "text": [
      "Eliminated: 0\n"
     ]
    }
   ],
   "source": [
    "print(\"Eliminated: %s\" % len(set_eliminated_by_max_tf))\n",
    "for eliminated in sorted(set_eliminated_by_max_tf):\n",
    "    print(\" %s \" % eliminated)"
   ]
  },
  {
   "cell_type": "markdown",
   "metadata": {},
   "source": [
    "### Eliminated by exiding maximum document frequency"
   ]
  },
  {
   "cell_type": "code",
   "execution_count": 45,
   "metadata": {},
   "outputs": [
    {
     "name": "stdout",
     "output_type": "stream",
     "text": [
      "Eliminated: 0\n"
     ]
    }
   ],
   "source": [
    "print(\"Eliminated: %s\" % len(set_eliminated_by_max_df))\n",
    "for eliminated in sorted(set_eliminated_by_max_df):\n",
    "    print(\" %s \" % eliminated)"
   ]
  },
  {
   "cell_type": "markdown",
   "metadata": {},
   "source": [
    "### Eliminated by no reaching minimum document frequency"
   ]
  },
  {
   "cell_type": "code",
   "execution_count": 46,
   "metadata": {},
   "outputs": [
    {
     "name": "stdout",
     "output_type": "stream",
     "text": [
      "Eliminated: 0\n"
     ]
    }
   ],
   "source": [
    "print(\"Eliminated: %s\" % len(set_eliminated_by_min_df))\n",
    "for eliminated in sorted(set_eliminated_by_min_df):\n",
    "    print( \"%s \" % eliminated)"
   ]
  },
  {
   "cell_type": "markdown",
   "metadata": {},
   "source": [
    "# Corpus construction"
   ]
  },
  {
   "cell_type": "markdown",
   "metadata": {},
   "source": [
    "## Create term -> id  and id -> term dictionary"
   ]
  },
  {
   "cell_type": "code",
   "execution_count": 47,
   "metadata": {},
   "outputs": [],
   "source": [
    "dict_term2id = {}\n",
    "dict_id2term = {}\n",
    "\n",
    "id_counter = 0\n",
    "terms_list = sorted(terms_set)\n",
    "for term in terms_list:\n",
    "    dict_term2id[term] = id_counter\n",
    "    dict_id2term[id_counter] = term\n",
    "    id_counter += 1"
   ]
  },
  {
   "cell_type": "markdown",
   "metadata": {},
   "source": [
    "## Define a function report vectorization"
   ]
  },
  {
   "cell_type": "code",
   "execution_count": 48,
   "metadata": {},
   "outputs": [],
   "source": [
    "def vectorize_report_dtm(file_report):\n",
    "    vector_report = list()\n",
    "    with open(file_report, 'r') as f_r:\n",
    "        for text_line in f_r:\n",
    "            term, tf = text_line.strip().split(',')\n",
    "            if term in dict_term2id:\n",
    "                vector_report.append(\"%s:%s\" % (dict_term2id[term], tf))\n",
    "    return vector_report"
   ]
  },
  {
   "cell_type": "code",
   "execution_count": 49,
   "metadata": {},
   "outputs": [],
   "source": [
    "def vectorize_report_test(file_report, dict_term2id_local, dict_id2term_local):\n",
    "    local_term_id = 0\n",
    "    vector_report = list()\n",
    "    with open(file_report, 'r') as f_r:\n",
    "        for text_line in f_r:\n",
    "            term, tf = text_line.strip().split(',')\n",
    "            if term in dict_term2id:\n",
    "                if term not in dict_term2id_local:\n",
    "                    dict_term2id_local[term] = local_term_id\n",
    "                    dict_id2term_local[local_term_id] = term\n",
    "                    local_term_id += 1\n",
    "                vector_report.append((dict_term2id_local[term], int(tf)))\n",
    "    return vector_report"
   ]
  },
  {
   "cell_type": "markdown",
   "metadata": {},
   "source": [
    "# Find optimal topic number"
   ]
  },
  {
   "cell_type": "code",
   "execution_count": 50,
   "metadata": {},
   "outputs": [],
   "source": [
    "def get_quality_corpus(year):\n",
    "    dict_term2id_year = {}\n",
    "    dict_id2term_year = {}\n",
    "\n",
    "    corpus_of_year = []\n",
    "    for ticker in sorted(tickers_fits_for_analysis):\n",
    "        dir_ticker_reports = os.path.join(dir_reports, ticker)\n",
    "        for report in os.listdir(dir_ticker_reports):\n",
    "            if int(report[:4]) == year:\n",
    "                file_report = os.path.join(dir_ticker_reports, report)\n",
    "                corpus_of_year.append(vectorize_report_test(file_report, dict_term2id_year, dict_id2term_year))\n",
    "    \n",
    "    return dict_id2term_year, corpus_of_year      "
   ]
  },
  {
   "cell_type": "code",
   "execution_count": 51,
   "metadata": {},
   "outputs": [],
   "source": [
    "def get_quality_measurements(year, dictionary, corpus, limit, start=2, step=3):\n",
    "    topics_nums = []\n",
    "    coherence_values = []\n",
    "    perplexity_values = []\n",
    "    for num_topics in range(start, limit + 1, step):\n",
    "        topics_nums.append(num_topics)\n",
    "        lda_model = gensim.models.ldamodel.LdaModel(\n",
    "            corpus=corpus,\n",
    "            id2word=dictionary,\n",
    "            num_topics=num_topics, \n",
    "            random_state=100,\n",
    "            passes=10,\n",
    "            iterations=50,\n",
    "            alpha=\"auto\",\n",
    "            per_word_topics=True)\n",
    "        perplexity = lda_model.log_perplexity(corpus)\n",
    "        perplexity_values.append(perplexity)\n",
    "        coherence_model_lda = CoherenceModel(\n",
    "            model=lda_model,\n",
    "            corpus=corpus,\n",
    "            dictionary=dictionary,\n",
    "            coherence='u_mass')\n",
    "        coherence = coherence_model_lda.get_coherence()\n",
    "        coherence_values.append(coherence)\n",
    "        \n",
    "        #print(\"Topics: %s, coh: %s, perplex: %s\" % (num_topics, coherence, perplexity))\n",
    "    return {\n",
    "        \"year\": year,\n",
    "        \"topics_num\": topics_nums,\n",
    "        \"coherence_values\": coherence_values,\n",
    "        \"perplexity_values\": perplexity_values\n",
    "    }"
   ]
  },
  {
   "cell_type": "code",
   "execution_count": 52,
   "metadata": {},
   "outputs": [
    {
     "name": "stdout",
     "output_type": "stream",
     "text": [
      "Work on 2005 year, dictionary size: 1182\n"
     ]
    }
   ],
   "source": [
    "topic_min = 5\n",
    "topic_max = 50\n",
    "topic_step = 1\n",
    "measures = []\n",
    "if flag_run_topics_analysis:\n",
    "    #for year in year_series:\n",
    "    year = year_series[0]\n",
    "    dict_id2term_year, corpus_of_year = get_quality_corpus(year)\n",
    "    print(\"Work on %s year, dictionary size: %s\" % (year, len(dict_id2term_year)))\n",
    "    measures.append(\n",
    "        get_quality_measurements(\n",
    "            year, \n",
    "            dict_id2term_year, \n",
    "            corpus_of_year, \n",
    "            topic_max, \n",
    "            topic_min, \n",
    "            topic_step))"
   ]
  },
  {
   "cell_type": "code",
   "execution_count": 53,
   "metadata": {},
   "outputs": [
    {
     "data": {
      "image/png": "[encoded data removed]",
      "text/plain": [
       "<Figure size 360x360 with 1 Axes>"
      ]
     },
     "metadata": {
      "needs_background": "light"
     },
     "output_type": "display_data"
    }
   ],
   "source": [
    "if len(measures):\n",
    "    plt.figure(figsize=(5,5))\n",
    "    # Plot all years\n",
    "    #for year_measures in measures:\n",
    "        #plt.plot(year_measures[\"topics_num\"], year_measures[\"coherence_values\"], label=year_measures[\"year\"])\n",
    "        #for i, v in enumerate(year_measures[\"coherence_values\"]):\n",
    "        #    print(\"topic: %s :%s\" % (year_measures[\"topics_num\"][i], v))\n",
    "    # Plot a single year\n",
    "    year_measures = measures[0]\n",
    "    plt.plot(year_measures[\"topics_num\"], year_measures[\"coherence_values\"], label=year_measures[\"year\"])    \n",
    "    \n",
    "    plt.xlabel(\"Num Topics\")\n",
    "    plt.ylabel(\"Coherence score\")\n",
    "    plt.legend(bbox_to_anchor=(1.002, 1.002))\n",
    "    plt.show()"
   ]
  },
  {
   "cell_type": "code",
   "execution_count": 54,
   "metadata": {},
   "outputs": [
    {
     "data": {
      "image/png": "[encoded data removed]",
      "text/plain": [
       "<Figure size 432x288 with 1 Axes>"
      ]
     },
     "metadata": {
      "needs_background": "light"
     },
     "output_type": "display_data"
    }
   ],
   "source": [
    "if len(measures):\n",
    "    for year_measures in measures:\n",
    "        plt.plot(year_measures[\"topics_num\"], year_measures[\"perplexity_values\"], label=year_measures[\"year\"])\n",
    "    plt.xlabel(\"Num Topics\")\n",
    "    plt.ylabel(\"Perplexity score\")\n",
    "    plt.legend(bbox_to_anchor=(1.002, 1.002))\n",
    "    plt.show()"
   ]
  },
  {
   "cell_type": "code",
   "execution_count": 55,
   "metadata": {},
   "outputs": [
    {
     "name": "stdout",
     "output_type": "stream",
     "text": [
      "topics_num:5  c:-0.45670189079591694 p:-6.745019360767923\n",
      "topics_num:6  c:-0.3932777454433791 p:-6.740303434481287\n",
      "topics_num:7  c:-0.39837750204776745 p:-6.734038502717695\n",
      "topics_num:8  c:-0.3902080728384782 p:-6.731790009505501\n",
      "topics_num:9  c:-0.41830702930337726 p:-6.733037036557394\n",
      "topics_num:10  c:-0.4149176539489 p:-6.732645305638474\n",
      "topics_num:11  c:-0.3962535675580824 p:-6.730856736232738\n",
      "topics_num:12  c:-0.43322340381802543 p:-6.733202399663377\n",
      "topics_num:13  c:-0.40603758240173043 p:-6.7345008668345665\n",
      "topics_num:14  c:-0.4393297326359023 p:-6.731884110536722\n",
      "topics_num:15  c:-0.4469253049375928 p:-6.729921684010518\n",
      "topics_num:16  c:-0.4481911496915315 p:-6.73167597744301\n",
      "topics_num:17  c:-0.4439378684975253 p:-6.737298517224693\n",
      "topics_num:18  c:-0.44923339211513763 p:-6.73725422840057\n",
      "topics_num:19  c:-0.4465997829607616 p:-6.739561663798002\n",
      "topics_num:20  c:-0.4410459168097782 p:-6.735454164204053\n",
      "topics_num:21  c:-0.4230205975864134 p:-6.739220552832154\n",
      "topics_num:22  c:-0.4325432864364096 p:-6.73553231389637\n",
      "topics_num:23  c:-0.4205037177593716 p:-6.740459059412005\n",
      "topics_num:24  c:-0.4260019251477339 p:-6.749148048154796\n",
      "topics_num:25  c:-0.42580274327291595 p:-6.737851131889814\n",
      "topics_num:26  c:-0.42158738806633145 p:-6.733318939565797\n",
      "topics_num:27  c:-0.43591793503608267 p:-6.742931851416374\n",
      "topics_num:28  c:-0.4468434089195156 p:-6.742824223670362\n",
      "topics_num:29  c:-0.41968364224457927 p:-6.7464162619294115\n",
      "topics_num:30  c:-0.4371094607774646 p:-6.7415750284218845\n",
      "topics_num:31  c:-0.42120298633684966 p:-6.747875011331319\n",
      "topics_num:32  c:-0.4375889207824898 p:-6.74361821208785\n",
      "topics_num:33  c:-0.41958642973605803 p:-6.741321241482165\n",
      "topics_num:34  c:-0.4105335008621381 p:-6.737463861351268\n",
      "topics_num:35  c:-0.4345759724636911 p:-6.742757703187452\n",
      "topics_num:36  c:-0.43095252231494785 p:-6.742612011831878\n",
      "topics_num:37  c:-0.41870140486345 p:-6.7472338101675176\n",
      "topics_num:38  c:-0.4161627881383419 p:-6.74201291077955\n",
      "topics_num:39  c:-0.4189101809897578 p:-6.742174552238316\n",
      "topics_num:40  c:-0.4304191284698506 p:-6.743075360885964\n",
      "topics_num:41  c:-0.4151784367829808 p:-6.746238814176412\n",
      "topics_num:42  c:-0.40606978179183717 p:-6.755450982647579\n",
      "topics_num:43  c:-0.41495625020279747 p:-6.75449968379014\n",
      "topics_num:44  c:-0.4209015113869171 p:-6.7456608693639675\n",
      "topics_num:45  c:-0.4011410595316007 p:-6.757368288324123\n",
      "topics_num:46  c:-0.41781757858461116 p:-6.755543595294143\n",
      "topics_num:47  c:-0.4146623570481684 p:-6.750605541883954\n",
      "topics_num:48  c:-0.4159311122892257 p:-6.734108158661906\n",
      "topics_num:49  c:-0.3994971306987887 p:-6.751259743494994\n"
     ]
    }
   ],
   "source": [
    "for i in range(0, 45, 1):\n",
    "    print(\"topics_num:%s  c:%s p:%s\" % (measures[0][\"topics_num\"][i], measures[0][\"coherence_values\"][i],measures[0][\"perplexity_values\"][i]))\n",
    "    \n",
    "    \n",
    "    \n",
    "    \n",
    "    "
   ]
  },
  {
   "cell_type": "markdown",
   "metadata": {},
   "source": [
    "# Build run data"
   ]
  },
  {
   "cell_type": "markdown",
   "metadata": {},
   "source": [
    "### Read all reports (terms quantity map) for every ticker for every year in analysis"
   ]
  },
  {
   "cell_type": "code",
   "execution_count": 56,
   "metadata": {},
   "outputs": [],
   "source": [
    "amount_documents_in_series_dict = dict()\n",
    "documents_name_list = list()\n",
    "documents_vector_list = list()\n",
    "for year in year_series:\n",
    "    amount_documents_in_series = 0\n",
    "    #for every company read reports of a year\n",
    "    for ticker in sorted(tickers_fits_for_analysis):\n",
    "        dir_ticker_reports = os.path.join(dir_reports, ticker)\n",
    "        for report in os.listdir(dir_ticker_reports):\n",
    "            if int(report[:4]) == year:\n",
    "                #read a report\n",
    "                amount_documents_in_series += 1\n",
    "                documents_vector_list.append(vectorize_report_dtm(os.path.join(dir_ticker_reports, report)))\n",
    "                documents_name_list.append(ticker + '-' + report)\n",
    "\n",
    "    #keep track of documents in series\n",
    "    amount_documents_in_series_dict[int(year)] = amount_documents_in_series"
   ]
  },
  {
   "cell_type": "markdown",
   "metadata": {},
   "source": [
    "### write results into files"
   ]
  },
  {
   "cell_type": "code",
   "execution_count": 57,
   "metadata": {},
   "outputs": [],
   "source": [
    "#save prefix-seq.dat\n",
    "with open(os.path.join(dir_run, run_prefix + '-seq.dat'), 'w') as f_w:\n",
    "    f_w.write(\"%s\\n\" % len(year_series))\n",
    "    for year in sorted(amount_documents_in_series_dict.keys()):\n",
    "        f_w.write(\"%s\\n\" % amount_documents_in_series_dict[year])"
   ]
  },
  {
   "cell_type": "code",
   "execution_count": 58,
   "metadata": {},
   "outputs": [],
   "source": [
    "#save prefix-mult.dat, every document in SVM\n",
    "with open(os.path.join(dir_run, run_prefix + '-mult.dat'), 'w') as f_w:\n",
    "    for document in documents_vector_list:\n",
    "        f_w.write(\"%s %s\\n\" % (len(document), ' '.join(document)))"
   ]
  },
  {
   "cell_type": "code",
   "execution_count": 59,
   "metadata": {},
   "outputs": [],
   "source": [
    "#save prefix-documents.dat, every document the same order with mult.dat\n",
    "with open(os.path.join(dir_run, run_prefix + '-documents.dat'), 'w') as f_w:\n",
    "    for document in documents_name_list:\n",
    "        f_w.write(\"%s\\n\" % document)"
   ]
  },
  {
   "cell_type": "code",
   "execution_count": 60,
   "metadata": {},
   "outputs": [],
   "source": [
    "#save prefix-documents.dat, every document the same order with mult.dat\n",
    "with open(os.path.join(dir_run, run_prefix + '-terms.dat'), 'w') as f_w:\n",
    "    for term in terms_list:\n",
    "        f_w.write(\"%s\\n\" % term)"
   ]
  },
  {
   "cell_type": "markdown",
   "metadata": {},
   "source": [
    "### create result directories"
   ]
  },
  {
   "cell_type": "code",
   "execution_count": 61,
   "metadata": {},
   "outputs": [],
   "source": [
    "dir_results = os.path.join(dir_run, 'results')\n",
    "\n",
    "if not os.path.exists(dir_results):\n",
    "    os.makedirs(dir_results)"
   ]
  },
  {
   "cell_type": "code",
   "execution_count": 62,
   "metadata": {},
   "outputs": [],
   "source": [
    "dir_results = os.path.join(dir_run, 'interpretation')\n",
    "\n",
    "if not os.path.exists(dir_results):\n",
    "    os.makedirs(dir_results)"
   ]
  },
  {
   "cell_type": "markdown",
   "metadata": {},
   "source": [
    "# Go and run experiment"
   ]
  },
  {
   "cell_type": "markdown",
   "metadata": {},
   "source": [
    "go go go go go"
   ]
  }
 ],
 "metadata": {
  "kernelspec": {
   "display_name": "Python 3",
   "language": "python",
   "name": "python3"
  },
  "language_info": {
   "codemirror_mode": {
    "name": "ipython",
    "version": 3
   },
   "file_extension": ".py",
   "mimetype": "text/x-python",
   "name": "python",
   "nbconvert_exporter": "python",
   "pygments_lexer": "ipython3",
   "version": "3.7.1"
  }
 },
 "nbformat": 4,
 "nbformat_minor": 2
}
