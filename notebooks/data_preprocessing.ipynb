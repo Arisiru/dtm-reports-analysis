{
 "cells": [
  {
   "cell_type": "markdown",
   "metadata": {},
   "source": [
    "## Initialization"
   ]
  },
  {
   "cell_type": "code",
   "execution_count": 1,
   "metadata": {},
   "outputs": [],
   "source": [
    "import os\n",
    "import re\n",
    "import json\n",
    "import nltk\n",
    "import pandas as pd\n",
    "import datetime as dt\n",
    "import numpy as np\n",
    "import operator\n",
    "import math\n",
    "from nltk.stem.wordnet import WordNetLemmatizer\n",
    "import multiprocessing\n",
    "import gensim\n",
    "import gensim.corpora as corpora\n",
    "from gensim.models import CoherenceModel\n",
    "import matplotlib.pyplot as plt\n",
    "%matplotlib inline"
   ]
  },
  {
   "cell_type": "markdown",
   "metadata": {},
   "source": [
    "### set experiment dates"
   ]
  },
  {
   "cell_type": "code",
   "execution_count": 2,
   "metadata": {},
   "outputs": [],
   "source": [
    "date_start = dt.datetime.strptime(\"2005-01-01\", \"%Y-%m-%d\")\n",
    "date_end = dt.datetime.strptime(\"2018-06-30\", \"%Y-%m-%d\") "
   ]
  },
  {
   "cell_type": "markdown",
   "metadata": {},
   "source": [
    "### set run prefix"
   ]
  },
  {
   "cell_type": "code",
   "execution_count": 3,
   "metadata": {},
   "outputs": [],
   "source": [
    "run_prefix = \"run_08_xx\""
   ]
  },
  {
   "cell_type": "markdown",
   "metadata": {},
   "source": [
    "### set root directories"
   ]
  },
  {
   "cell_type": "code",
   "execution_count": 4,
   "metadata": {},
   "outputs": [],
   "source": [
    "dir_root = os.path.join('..')\n",
    "dir_data_raw = os.path.join(dir_root, \"data_raw\")\n",
    "dir_data_processing = os.path.join(dir_root, \"data_processing\")\n",
    "dir_data_runs = os.path.join(dir_root, \"data_runs\")\n",
    "dir_prices = os.path.join(dir_data_processing, \"prices\")"
   ]
  },
  {
   "cell_type": "markdown",
   "metadata": {},
   "source": [
    "### set flags"
   ]
  },
  {
   "cell_type": "code",
   "execution_count": 5,
   "metadata": {},
   "outputs": [],
   "source": [
    "flag_debug = False\n",
    "flag_terms_filter_debug = False\n",
    "flag_use_strist_word_set = False\n",
    "flag_rerun_cleaning = True\n",
    "flag_test_report_names = False\n",
    "flag_run_topics_analysis = True"
   ]
  },
  {
   "cell_type": "markdown",
   "metadata": {},
   "source": [
    "### create a run directory"
   ]
  },
  {
   "cell_type": "code",
   "execution_count": 6,
   "metadata": {},
   "outputs": [],
   "source": [
    "dir_run = os.path.join(dir_data_runs, run_prefix)"
   ]
  },
  {
   "cell_type": "code",
   "execution_count": 35,
   "metadata": {},
   "outputs": [],
   "source": [
    "if not os.path.exists(dir_run):\n",
    "    os.makedirs(dir_run)"
   ]
  },
  {
   "cell_type": "markdown",
   "metadata": {},
   "source": [
    "## Clean reports"
   ]
  },
  {
   "cell_type": "markdown",
   "metadata": {},
   "source": [
    "Make sure that all nltk data sets are available"
   ]
  },
  {
   "cell_type": "code",
   "execution_count": 8,
   "metadata": {},
   "outputs": [
    {
     "name": "stderr",
     "output_type": "stream",
     "text": [
      "[nltk_data] Downloading package wordnet to\n",
      "[nltk_data]     /Users/alan.spark/nltk_data...\n",
      "[nltk_data]   Package wordnet is already up-to-date!\n",
      "[nltk_data] Downloading package words to\n",
      "[nltk_data]     /Users/alan.spark/nltk_data...\n",
      "[nltk_data]   Package words is already up-to-date!\n",
      "[nltk_data] Downloading package stopwords to\n",
      "[nltk_data]     /Users/alan.spark/nltk_data...\n",
      "[nltk_data]   Package stopwords is already up-to-date!\n",
      "[nltk_data] Downloading package omw to /Users/alan.spark/nltk_data...\n",
      "[nltk_data]   Package omw is already up-to-date!\n"
     ]
    },
    {
     "data": {
      "text/plain": [
       "True"
      ]
     },
     "execution_count": 8,
     "metadata": {},
     "output_type": "execute_result"
    }
   ],
   "source": [
    "nltk.download(\"wordnet\")\n",
    "nltk.download(\"words\")\n",
    "nltk.download(\"stopwords\")\n",
    "nltk.download(\"omw\")"
   ]
  },
  {
   "cell_type": "code",
   "execution_count": 9,
   "metadata": {},
   "outputs": [],
   "source": [
    "english_words_set = None\n",
    "english_words_set_soft = set(nltk.corpus.words.words())\n",
    "english_words_set_strict = set([x.strip() for x in open(os.path.join(dir_data_raw, \"english\", \"strict_words.txt\"), \"r\")])\n",
    "lemmatizer = WordNetLemmatizer().lemmatize\n",
    "\n",
    "if flag_use_strist_word_set:\n",
    "    english_words_set = english_words_set_strict\n",
    "else:\n",
    "    english_words_set = english_words_set_soft"
   ]
  },
  {
   "cell_type": "markdown",
   "metadata": {},
   "source": [
    "### Create stop words set"
   ]
  },
  {
   "cell_type": "code",
   "execution_count": 10,
   "metadata": {},
   "outputs": [],
   "source": [
    "stop_words_set = set(nltk.corpus.stopwords.words(\"english\"))"
   ]
  },
  {
   "cell_type": "markdown",
   "metadata": {},
   "source": [
    "Extend stop words with custom stop words"
   ]
  },
  {
   "cell_type": "code",
   "execution_count": 11,
   "metadata": {},
   "outputs": [],
   "source": [
    "with open(os.path.join(dir_data_raw, \"english\", \"extra_stopwords.txt\"), \"r\") as f_r:\n",
    "    for text_line in f_r:\n",
    "        term = text_line.strip()\n",
    "        stop_words_set.add(term)"
   ]
  },
  {
   "cell_type": "markdown",
   "metadata": {},
   "source": [
    "Define a funtion checker for stop words. A word is stop word if any of the folowing true:\n",
    "- it's length shorter then 4 char\n",
    "- it contains digits\n",
    "- it appears in nltk stop words set"
   ]
  },
  {
   "cell_type": "code",
   "execution_count": 12,
   "metadata": {},
   "outputs": [],
   "source": [
    "def is_stop_term(term):\n",
    "    if len(term) < 3:\n",
    "        return True\n",
    "    return term in stop_words_set"
   ]
  },
  {
   "cell_type": "markdown",
   "metadata": {},
   "source": [
    "Define a funtion lemmatizer"
   ]
  },
  {
   "cell_type": "code",
   "execution_count": 13,
   "metadata": {},
   "outputs": [],
   "source": [
    "def get_word_lemma(possible_word):\n",
    "    if is_stop_term(possible_word):\n",
    "        return None\n",
    "    if possible_word not in english_words_set:\n",
    "        return None\n",
    "    \n",
    "    possible_lemma = lemmatizer(possible_word)\n",
    "    possible_lemma = lemmatizer(possible_lemma, \"v\")\n",
    "    \n",
    "    if not is_stop_term(possible_lemma):\n",
    "        return possible_lemma\n",
    "    \n",
    "    return None"
   ]
  },
  {
   "cell_type": "code",
   "execution_count": 14,
   "metadata": {},
   "outputs": [],
   "source": [
    "regexp_to_remove = re.compile(r\"[\\dâºâãï½ã\\_\\-]\")"
   ]
  },
  {
   "cell_type": "markdown",
   "metadata": {},
   "source": [
    "Define a clean report function"
   ]
  },
  {
   "cell_type": "code",
   "execution_count": 15,
   "metadata": {},
   "outputs": [],
   "source": [
    "def clean_report(file_report_path, set_eliminated_terms):\n",
    "    document = dict()\n",
    "    with open(os.path.join(file_report_path), \"r\",  encoding=\"ISO-8859-1\") as f_r:\n",
    "        for text_line in f_r:\n",
    "            cleaned_text = re.sub(regexp_to_remove, \" \", text_line)\n",
    "            words = re.split(\"\\W+\", cleaned_text)\n",
    "            for word in words:\n",
    "                word_lower = word.lower()\n",
    "                term = get_word_lemma(word_lower)\n",
    "                if term is not None:\n",
    "                    if term in document:\n",
    "                        document[term] += 1\n",
    "                    else:\n",
    "                        document[term] = 1    \n",
    "                elif flag_terms_filter_debug:\n",
    "                    set_eliminated_terms.add(word_lower)\n",
    "    return document"
   ]
  },
  {
   "cell_type": "markdown",
   "metadata": {},
   "source": [
    "Iterate over all reports, clean and convert them to term frequency map, store as csv file"
   ]
  },
  {
   "cell_type": "code",
   "execution_count": 16,
   "metadata": {},
   "outputs": [],
   "source": [
    "check_report_name_reg_exp = \"(?P<ticker>[A-Z1-9]+)[_-](?P<type>[A-Z]+)(?P<number>[1-9]*)(?P<subnumber>-[1-9]+)?[-_](?P<year>[0-9]{4})[_-](?P<p_year>[0-9]{4})\"\n"
   ]
  },
  {
   "cell_type": "code",
   "execution_count": 17,
   "metadata": {},
   "outputs": [],
   "source": [
    "dir_reports_raw = os.path.join(dir_data_raw, \"reports_txt\")\n",
    "dir_reports =  os.path.join(dir_data_processing, \"reports\")\n",
    "dir_eliminated_terms = os.path.join(dir_data_processing, \"terms_elemenated\")"
   ]
  },
  {
   "cell_type": "markdown",
   "metadata": {},
   "source": [
    "The following cell takes quite a while, be carefull and do not rerun it without a reason, results are stored at file system"
   ]
  },
  {
   "cell_type": "code",
   "execution_count": 18,
   "metadata": {},
   "outputs": [],
   "source": [
    "def ticker_reports_processing(dir_findex, ticker):\n",
    "    set_eliminated_terms = set()\n",
    "    dir_ticker = os.path.join(dir_findex, ticker)\n",
    "    print(\"working on %s at %s\" % (dir_ticker, dt.datetime.now().strftime(\"%Y-%m-%d %H:%M:%S\")))\n",
    "    if os.path.isdir(dir_ticker):\n",
    "        ticker_documents_amount = 0\n",
    "        ticker_code = \"%s_%s\" % (ticker, findex)\n",
    "        for report_file_name in os.listdir(dir_ticker):\n",
    "            match = re.search(check_report_name_reg_exp, report_file_name)\n",
    "            if not match:\n",
    "                print(\"filename %s doesn't fit pattern\" % report_file_name)\n",
    "            else:\n",
    "                dict_report = clean_report(os.path.join(dir_ticker, report_file_name), set_eliminated_terms)\n",
    "                if len(dict_report):\n",
    "                    ticker_documents_amount += 1\n",
    "                    new_file_name = \"%s-%s.csv\" % (match.group(\"p_year\"), ticker_documents_amount)\n",
    "                    new_path = os.path.join(dir_reports, ticker_code)\n",
    "                    if not os.path.exists(new_path):\n",
    "                        os.makedirs(new_path)\n",
    "                    with open(os.path.join(new_path, new_file_name), \"w\") as f_w:\n",
    "                        for term, tf in dict_report.items():\n",
    "                            f_w.write(\"%s,%s\\n\" % (term, tf))\n",
    "                elif flag_debug:\n",
    "                    print(\"report %s is empty after cleaning\" % report_file_name)\n",
    "        if len(set_eliminated_terms):\n",
    "            with open(os.path.join(dir_eliminated_terms, \"%s.txt\" % ticker_code), \"w\") as f_w:\n",
    "                for eliminated in sorted(set_eliminated_terms):\n",
    "                    f_w.write(\"%s\\n\" % (eliminated))"
   ]
  },
  {
   "cell_type": "code",
   "execution_count": 19,
   "metadata": {},
   "outputs": [],
   "source": [
    "def test_reports_names(dir_findex, ticker):\n",
    "    dir_ticker = os.path.join(dir_findex, ticker)\n",
    "    if os.path.isdir(dir_ticker):\n",
    "        ticker_documents_amount = 0\n",
    "        ticker_code = \"%s_%s\" % (ticker, findex)\n",
    "        for report_file_name in os.listdir(dir_ticker):\n",
    "            match = re.search(check_report_name_reg_exp, report_file_name)\n",
    "            if not match:\n",
    "                print(\"working on %s, filename %s doesn't fit pattern\" % (ticker_code, report_file_name))"
   ]
  },
  {
   "cell_type": "code",
   "execution_count": 20,
   "metadata": {},
   "outputs": [
    {
     "name": "stdout",
     "output_type": "stream",
     "text": [
      "working on ../data_raw/reports_txt/XETRA/.DS_Store at 2019-02-20 08:10:07\n",
      "working on ../data_raw/reports_txt/XETRA/TUI1 at 2019-02-20 08:10:07\n",
      "working on ../data_raw/reports_txt/CAC/AC at 2019-02-20 08:10:13\n",
      "working on ../data_raw/reports_txt/CAC/CA at 2019-02-20 08:10:13\n",
      "working on ../data_raw/reports_txt/CAC/EDF at 2019-02-20 08:10:13\n",
      "working on ../data_raw/reports_txt/CAC/ACA at 2019-02-20 08:10:13\n",
      "working on ../data_raw/reports_txt/CAC/CS at 2019-02-20 08:10:21\n",
      "working on ../data_raw/reports_txt/CAC/ORA at 2019-02-20 08:10:29\n",
      "working on ../data_raw/reports_txt/CAC/.DS_Store at 2019-02-20 08:10:32\n",
      "working on ../data_raw/reports_txt/CAC/AIR at 2019-02-20 08:10:32\n",
      "working on ../data_raw/reports_txt/CAC/ML at 2019-02-20 08:10:34\n",
      "working on ../data_raw/reports_txt/CAC/AI at 2019-02-20 08:10:36\n",
      "working on ../data_raw/reports_txt/CAC/MC at 2019-02-20 08:10:37\n",
      "working on ../data_raw/reports_txt/CAC/CAP at 2019-02-20 08:10:50\n",
      "working on ../data_raw/reports_txt/CAC/BN at 2019-02-20 08:11:00\n",
      "working on ../data_raw/reports_txt/CAC/RI at 2019-02-20 08:11:01\n",
      "working on ../data_raw/reports_txt/CAC/BNP at 2019-02-20 08:11:09\n",
      "working on ../data_raw/reports_txt/CAC/EN at 2019-02-20 08:11:10\n",
      "working on ../data_raw/reports_txt/CAC/EI at 2019-02-20 08:11:11\n",
      "working on ../data_raw/reports_txt/CAC/OR at 2019-02-20 08:11:20\n",
      "working on ../data_raw/reports_txt/CAC/ENGI at 2019-02-20 08:11:31\n",
      "working on ../data_raw/reports_txt/CAC/LR at 2019-02-20 08:11:33\n",
      "working on ../data_raw/reports_txt/CAC/ALO at 2019-02-20 08:11:39\n",
      "working on ../data_raw/reports_txt/CAC/KER at 2019-02-20 08:11:43\n",
      "working on ../data_raw/reports_txt/FTSE/UU at 2019-02-20 08:11:56\n",
      "working on ../data_raw/reports_txt/FTSE/WEIR at 2019-02-20 08:11:56\n",
      "working on ../data_raw/reports_txt/FTSE/WPP at 2019-02-20 08:11:56\n",
      "working on ../data_raw/reports_txt/FTSE/BP at 2019-02-20 08:11:56\n",
      "working on ../data_raw/reports_txt/FTSE/LAND at 2019-02-20 08:12:09\n",
      "working on ../data_raw/reports_txt/FTSE/TLW at 2019-02-20 08:12:10\n",
      "working on ../data_raw/reports_txt/FTSE/KGF at 2019-02-20 08:12:17\n",
      "working on ../data_raw/reports_txt/FTSE/IHG at 2019-02-20 08:12:18\n",
      "working on ../data_raw/reports_txt/FTSE/PFC at 2019-02-20 08:12:22\n",
      "working on ../data_raw/reports_txt/FTSE/SKY at 2019-02-20 08:12:25\n",
      "working on ../data_raw/reports_txt/FTSE/BARC at 2019-02-20 08:12:25\n",
      "working on ../data_raw/reports_txt/FTSE/BLND at 2019-02-20 08:12:31\n",
      "working on ../data_raw/reports_txt/FTSE/CRDA at 2019-02-20 08:12:31\n",
      "working on ../data_raw/reports_txt/FTSE/IMB at 2019-02-20 08:12:36\n",
      "working on ../data_raw/reports_txt/FTSE/AV at 2019-02-20 08:12:38\n",
      "working on ../data_raw/reports_txt/FTSE/.DS_Store at 2019-02-20 08:12:38\n",
      "working on ../data_raw/reports_txt/FTSE/ANTO at 2019-02-20 08:12:38\n",
      "working on ../data_raw/reports_txt/FTSE/ITRK at 2019-02-20 08:12:38\n",
      "working on ../data_raw/reports_txt/FTSE/SSE at 2019-02-20 08:12:50\n",
      "working on ../data_raw/reports_txt/FTSE/AAL at 2019-02-20 08:12:51\n",
      "working on ../data_raw/reports_txt/FTSE/HL at 2019-02-20 08:12:59\n",
      "working on ../data_raw/reports_txt/FTSE/NG at 2019-02-20 08:13:03\n",
      "working on ../data_raw/reports_txt/FTSE/CUK at 2019-02-20 08:13:06\n",
      "working on ../data_raw/reports_txt/FTSE/IAG at 2019-02-20 08:13:12\n",
      "working on ../data_raw/reports_txt/FTSE/SNN at 2019-02-20 08:13:12\n",
      "working on ../data_raw/reports_txt/FTSE/MGGT at 2019-02-20 08:13:17\n",
      "filename .DS_Store doesn't fit pattern\n",
      "working on ../data_raw/reports_txt/FTSE/BAB at 2019-02-20 08:13:18\n",
      "working on ../data_raw/reports_txt/FTSE/BNZL at 2019-02-20 08:13:25\n",
      "working on ../data_raw/reports_txt/FTSE/CPI at 2019-02-20 08:13:28\n",
      "working on ../data_raw/reports_txt/FTSE/SHP at 2019-02-20 08:13:28\n",
      "working on ../data_raw/reports_txt/FTSE/DGE at 2019-02-20 08:13:32\n",
      "working on ../data_raw/reports_txt/FTSE/MKS at 2019-02-20 08:13:34\n",
      "working on ../data_raw/reports_txt/FTSE/SDR at 2019-02-20 08:13:35\n",
      "filename .DS_Store doesn't fit pattern\n",
      "working on ../data_raw/reports_txt/FTSE/EVR at 2019-02-20 08:13:44\n",
      "working on ../data_raw/reports_txt/FTSE/SVT at 2019-02-20 08:13:46\n",
      "working on ../data_raw/reports_txt/FTSE/BRBY at 2019-02-20 08:13:47\n",
      "working on ../data_raw/reports_txt/FTSE/JMAT at 2019-02-20 08:13:51\n",
      "working on ../data_raw/reports_txt/FTSE/WTB at 2019-02-20 08:13:53\n",
      "filename .DS_Store doesn't fit pattern\n",
      "working on ../data_raw/reports_txt/FTSE/RSA at 2019-02-20 08:13:56\n",
      "working on ../data_raw/reports_txt/FTSE/PRU at 2019-02-20 08:13:57\n",
      "working on ../data_raw/reports_txt/FTSE/SMIN at 2019-02-20 08:13:57\n",
      "working on ../data_raw/reports_txt/FTSE/STAN at 2019-02-20 08:14:02\n",
      "working on ../data_raw/reports_txt/FTSE/EXPN at 2019-02-20 08:14:03\n",
      "working on ../data_raw/reports_txt/FTSE/CPG at 2019-02-20 08:14:14\n",
      "working on ../data_raw/reports_txt/FTSE/RR at 2019-02-20 08:14:15\n",
      "working on ../data_raw/reports_txt/FTSE/RIO at 2019-02-20 08:14:19\n",
      "working on ../data_raw/reports_txt/FTSE/RBS at 2019-02-20 08:14:21\n",
      "working on ../data_raw/reports_txt/FTSE/VOD at 2019-02-20 08:14:22\n",
      "working on ../data_raw/reports_txt/FTSE/GLEN at 2019-02-20 08:14:23\n",
      "working on ../data_raw/reports_txt/FTSE/MRW at 2019-02-20 08:14:31\n",
      "filename .DS_Store doesn't fit pattern\n",
      "working on ../data_raw/reports_txt/FTSE/CNA at 2019-02-20 08:14:36\n",
      "working on ../data_raw/reports_txt/FTSE/ABF at 2019-02-20 08:14:36\n",
      "working on ../data_raw/reports_txt/FTSE/FERG at 2019-02-20 08:14:41\n",
      "working on ../data_raw/reports_txt/FTSE/GFS at 2019-02-20 08:14:42\n",
      "working on ../data_raw/reports_txt/FTSE/GSK at 2019-02-20 08:14:43\n",
      "working on ../data_raw/reports_txt/FTSE/IMI at 2019-02-20 08:14:48\n",
      "working on ../data_raw/reports_txt/FTSE/RDSB at 2019-02-20 08:14:52\n",
      "working on ../data_raw/reports_txt/FTSE/ITV at 2019-02-20 08:14:54\n",
      "working on ../data_raw/reports_txt/FTSE/REL at 2019-02-20 08:14:57\n",
      "working on ../data_raw/reports_txt/FTSE/AZN at 2019-02-20 08:14:59\n",
      "working on ../data_raw/reports_txt/FTSE/FRES at 2019-02-20 08:15:02\n",
      "working on ../data_raw/reports_txt/FTSE/SGE at 2019-02-20 08:15:02\n",
      "working on ../data_raw/reports_txt/FTSE/LLOY at 2019-02-20 08:15:10\n",
      "working on ../data_raw/reports_txt/FTSE/TATE at 2019-02-20 08:15:11\n",
      "filename .DS_Store doesn't fit pattern\n",
      "working on ../data_raw/reports_txt/FTSE/TSCO at 2019-02-20 08:15:18\n",
      "working on ../data_raw/reports_txt/FTSE/BA at 2019-02-20 08:15:22\n",
      "working on ../data_raw/reports_txt/FTSE/NXT at 2019-02-20 08:15:23\n",
      "filename .DS_Store doesn't fit pattern\n",
      "working on ../data_raw/reports_txt/FTSE/AGK at 2019-02-20 08:15:31\n",
      "working on ../data_raw/reports_txt/FTSE/MRO at 2019-02-20 08:15:32\n",
      "filename .DS_Store doesn't fit pattern\n",
      "filename .DS_Store doesn't fit pattern\n",
      "working on ../data_raw/reports_txt/FTSE/RRS at 2019-02-20 08:15:34\n",
      "working on ../data_raw/reports_txt/FTSE/VED at 2019-02-20 08:15:37\n",
      "working on ../data_raw/reports_txt/FTSE/ULVR at 2019-02-20 08:15:40\n",
      "working on ../data_raw/reports_txt/FTSE/CRH at 2019-02-20 08:15:53\n",
      "working on ../data_raw/reports_txt/FTSE/ADM at 2019-02-20 08:15:54\n",
      "working on ../data_raw/reports_txt/FTSE/BT at 2019-02-20 08:15:55\n",
      "working on ../data_raw/reports_txt/FTSE/LGEN at 2019-02-20 08:16:00\n",
      "working on ../data_raw/reports_txt/FTSE/SLA at 2019-02-20 08:16:12\n",
      "working on ../data_raw/reports_txt/FTSE/SRP at 2019-02-20 08:16:13\n",
      "working on ../data_raw/reports_txt/FTSE/HMSO at 2019-02-20 08:16:14\n",
      "working on ../data_raw/reports_txt/FTSE/BLT at 2019-02-20 08:16:19\n",
      "working on ../data_raw/reports_txt/FTSE/SBRY at 2019-02-20 08:16:24\n",
      "working on ../data_raw/reports_txt/FTSE/CCH at 2019-02-20 08:16:32\n",
      "working on ../data_raw/reports_txt/FTSE/WG at 2019-02-20 08:16:44\n",
      "working on ../data_raw/reports_txt/FTSE/RB at 2019-02-20 08:16:46\n",
      "working on ../data_raw/reports_txt/DJIA/VZ at 2019-02-20 08:16:49\n",
      "working on ../data_raw/reports_txt/DJIA/CVX at 2019-02-20 08:16:49\n",
      "working on ../data_raw/reports_txt/DJIA/MMM at 2019-02-20 08:16:49\n",
      "working on ../data_raw/reports_txt/DJIA/HD at 2019-02-20 08:16:49\n",
      "working on ../data_raw/reports_txt/DJIA/WMT at 2019-02-20 08:16:56\n",
      "working on ../data_raw/reports_txt/DJIA/MRK at 2019-02-20 08:17:02\n",
      "working on ../data_raw/reports_txt/DJIA/INTC at 2019-02-20 08:17:04\n",
      "working on ../data_raw/reports_txt/DJIA/GS at 2019-02-20 08:17:09\n",
      "working on ../data_raw/reports_txt/DJIA/JNJ at 2019-02-20 08:17:09\n",
      "working on ../data_raw/reports_txt/DJIA/.DS_Store at 2019-02-20 08:17:09\n"
     ]
    },
    {
     "name": "stdout",
     "output_type": "stream",
     "text": [
      "working on ../data_raw/reports_txt/DJIA/MSFT at 2019-02-20 08:17:09\n",
      "working on ../data_raw/reports_txt/DJIA/CAT at 2019-02-20 08:17:10\n",
      "working on ../data_raw/reports_txt/DJIA/IBM at 2019-02-20 08:17:12\n",
      "working on ../data_raw/reports_txt/DJIA/PFE at 2019-02-20 08:17:12\n",
      "working on ../data_raw/reports_txt/DJIA/MCD at 2019-02-20 08:17:13\n",
      "filename .DS_Store doesn't fit pattern\n",
      "working on ../data_raw/reports_txt/DJIA/T at 2019-02-20 08:17:19\n",
      "working on ../data_raw/reports_txt/DJIA/BTI at 2019-02-20 08:17:21\n",
      "working on ../data_raw/reports_txt/DJIA/PG at 2019-02-20 08:17:30\n",
      "working on ../data_raw/reports_txt/DJIA/XOM at 2019-02-20 08:17:34\n",
      "working on ../data_raw/reports_txt/DJIA/HSBC at 2019-02-20 08:17:37\n",
      "working on ../data_raw/reports_txt/DJIA/GE at 2019-02-20 08:17:38\n",
      "working on ../data_raw/reports_txt/DJIA/CSCO at 2019-02-20 08:17:41\n",
      "working on ../data_raw/reports_txt/DJIA/TVE at 2019-02-20 08:17:48\n",
      "working on ../data_raw/reports_txt/DJIA/UNH at 2019-02-20 08:17:50\n",
      "working on ../data_raw/reports_txt/DJIA/DIS at 2019-02-20 08:17:51\n",
      "working on ../data_raw/reports_txt/DJIA/KO at 2019-02-20 08:17:54\n",
      "working on ../data_raw/reports_txt/DJIA/V at 2019-02-20 08:18:09\n",
      "working on ../data_raw/reports_txt/DJIA/NKE at 2019-02-20 08:18:11\n",
      "working on ../data_raw/reports_txt/DJIA/PSO at 2019-02-20 08:18:13\n",
      "working on ../data_raw/reports_txt/DJIA/UTX at 2019-02-20 08:18:17\n",
      "working on ../data_raw/reports_txt/DJIA/AXP at 2019-02-20 08:18:18\n",
      "working on ../data_raw/reports_txt/DJIA/JPM at 2019-02-20 08:18:35\n",
      "working on ../data_raw/reports_txt/DJIA/BA at 2019-02-20 08:18:49\n",
      "working on ../data_raw/reports_txt/DAX/VOW3 at 2019-02-20 08:18:58\n",
      "working on ../data_raw/reports_txt/DAX/.DS_Store at 2019-02-20 08:18:58\n",
      "working on ../data_raw/reports_txt/DAX/HEN3 at 2019-02-20 08:18:58\n",
      "working on ../data_raw/reports_txt/DAX/SDF at 2019-02-20 08:18:58\n",
      "working on ../data_raw/reports_txt/DAX/SAP at 2019-02-20 08:18:58\n",
      "working on ../data_raw/reports_txt/DAX/LXS at 2019-02-20 08:19:11\n",
      "working on ../data_raw/reports_txt/DAX/LIN at 2019-02-20 08:19:21\n",
      "working on ../data_raw/reports_txt/DAX/ADS at 2019-02-20 08:19:21\n",
      "working on ../data_raw/reports_txt/DAX/DB1 at 2019-02-20 08:19:22\n",
      "working on ../data_raw/reports_txt/DAX/MRK at 2019-02-20 08:19:30\n",
      "working on ../data_raw/reports_txt/DAX/CON at 2019-02-20 08:19:30\n",
      "working on ../data_raw/reports_txt/DAX/DAI at 2019-02-20 08:19:31\n",
      "working on ../data_raw/reports_txt/DAX/DTE at 2019-02-20 08:19:40\n",
      "working on ../data_raw/reports_txt/DAX/ALV at 2019-02-20 08:19:41\n",
      "working on ../data_raw/reports_txt/DAX/BAYN at 2019-02-20 08:19:42\n",
      "filename .DS_Store doesn't fit pattern\n",
      "working on ../data_raw/reports_txt/DAX/FRE at 2019-02-20 08:20:09\n",
      "working on ../data_raw/reports_txt/DAX/RWE at 2019-02-20 08:20:09\n",
      "working on ../data_raw/reports_txt/DAX/CBK at 2019-02-20 08:20:14\n",
      "working on ../data_raw/reports_txt/DAX/BEI at 2019-02-20 08:20:16\n",
      "working on ../data_raw/reports_txt/DAX/EOAN at 2019-02-20 08:20:20\n",
      "working on ../data_raw/reports_txt/DAX/HEI at 2019-02-20 08:20:31\n",
      "working on ../data_raw/reports_txt/DAX/MUV2 at 2019-02-20 08:20:38\n",
      "working on ../data_raw/reports_txt/DAX/DBK at 2019-02-20 08:20:39\n",
      "working on ../data_raw/reports_txt/DAX/FME at 2019-02-20 08:20:42\n",
      "working on ../data_raw/reports_txt/DAX/SIE at 2019-02-20 08:20:49\n",
      "working on ../data_raw/reports_txt/DAX/LHA at 2019-02-20 08:20:54\n",
      "working on ../data_raw/reports_txt/DAX/TKA at 2019-02-20 08:21:06\n",
      "working on ../data_raw/reports_txt/DAX/IFX at 2019-02-20 08:21:15\n",
      "working on ../data_raw/reports_txt/DAX/BMW at 2019-02-20 08:21:21\n",
      "working on ../data_raw/reports_txt/DAX/DPW at 2019-02-20 08:21:31\n",
      "working on ../data_raw/reports_txt/DAX/BAS at 2019-02-20 08:21:49\n"
     ]
    }
   ],
   "source": [
    "if flag_rerun_cleaning or flag_test_report_names:\n",
    "    for findex in os.listdir(dir_reports_raw):\n",
    "        dir_findex = os.path.join(dir_reports_raw, findex)\n",
    "        if os.path.isdir(dir_findex):\n",
    "            with multiprocessing.Pool(processes=4) as pool:\n",
    "                if flag_test_report_names: \n",
    "                    pool.starmap(test_reports_names, [(dir_findex, ticker) for ticker in os.listdir(dir_findex)])\n",
    "                else:\n",
    "                    pool.starmap(ticker_reports_processing, [(dir_findex, ticker) for ticker in os.listdir(dir_findex)])\n",
    "  "
   ]
  },
  {
   "cell_type": "code",
   "execution_count": 21,
   "metadata": {},
   "outputs": [],
   "source": [
    "eliminated_words = set()\n",
    "for file in os.listdir(dir_eliminated_terms):\n",
    "    if not file.endswith('.DS_Store'):\n",
    "        with open(os.path.join(dir_eliminated_terms, file), \"r\") as f_r:\n",
    "            for text in f_r:\n",
    "                eliminated_words.add(text.strip())\n",
    "if flag_terms_filter_debug:\n",
    "    print(\"list of eliminated terms, size(%s)\" % len(eliminated_words))\n",
    "    for eliminated in sorted(eliminated_words):\n",
    "        print(\" %s \" % eliminated)"
   ]
  },
  {
   "cell_type": "markdown",
   "metadata": {},
   "source": [
    "## Get tickers for analisys"
   ]
  },
  {
   "cell_type": "markdown",
   "metadata": {},
   "source": [
    "We want to find all tickers of companies which have reports for the experiment's timeframe."
   ]
  },
  {
   "cell_type": "code",
   "execution_count": 22,
   "metadata": {},
   "outputs": [],
   "source": [
    "file_tickers_years = os.path.join(dir_data_processing, \"tickers\", \"tickers_years.datajson\")"
   ]
  },
  {
   "cell_type": "code",
   "execution_count": 23,
   "metadata": {},
   "outputs": [],
   "source": [
    "tickers = dict()\n",
    "for ticker in os.listdir(dir_reports):\n",
    "    dir_ticker = os.path.join(dir_reports, ticker)\n",
    "    if os.path.isdir(dir_ticker):\n",
    "        ticker_years_set = set()\n",
    "        for report in os.listdir(dir_ticker):\n",
    "            ticker_years_set.add(int(report[:4]))\n",
    "        tickers[ticker] = sorted(ticker_years_set)"
   ]
  },
  {
   "cell_type": "markdown",
   "metadata": {},
   "source": [
    "save years of companies"
   ]
  },
  {
   "cell_type": "code",
   "execution_count": 24,
   "metadata": {},
   "outputs": [],
   "source": [
    "with open(file_tickers_years, \"w\") as f_w:\n",
    "    for ticker in tickers:\n",
    "        f_w.write(\"%s\\n\" % json.dumps({\"ticker\": ticker, \"available_years\": tickers[ticker]}))"
   ]
  },
  {
   "cell_type": "markdown",
   "metadata": {},
   "source": [
    "Find tickers with reports for every year in the experiment timeframe"
   ]
  },
  {
   "cell_type": "code",
   "execution_count": 25,
   "metadata": {},
   "outputs": [],
   "source": [
    "year_series = list(range(date_start.year, date_end.year)) "
   ]
  },
  {
   "cell_type": "code",
   "execution_count": 26,
   "metadata": {},
   "outputs": [],
   "source": [
    "if flag_debug:\n",
    "    print(year_series)"
   ]
  },
  {
   "cell_type": "code",
   "execution_count": 27,
   "metadata": {},
   "outputs": [],
   "source": [
    "dir_data_tickers = os.path.join(dir_data_processing, \"tickers\")\n",
    "file_tickers_for_analysis = os.path.join(dir_data_tickers, \"ticker_for_analysis.csv\")"
   ]
  },
  {
   "cell_type": "code",
   "execution_count": 28,
   "metadata": {},
   "outputs": [],
   "source": [
    "tickers_fits_for_analysis = set()\n",
    "for ticker, available_years in tickers.items():\n",
    "    flag_complete_series = True\n",
    "    available_years_set = set(available_years)\n",
    "    for year in year_series:\n",
    "        if year not in available_years_set:\n",
    "            flag_complete_series = False\n",
    "            break\n",
    "    if flag_complete_series and os.path.exists(os.path.join(dir_prices, \"%s.csv\" % ticker)):\n",
    "        tickers_fits_for_analysis.add(ticker)"
   ]
  },
  {
   "cell_type": "code",
   "execution_count": 29,
   "metadata": {},
   "outputs": [
    {
     "data": {
      "text/plain": [
       "'there are 78 tickers available for the experiment'"
      ]
     },
     "execution_count": 29,
     "metadata": {},
     "output_type": "execute_result"
    }
   ],
   "source": [
    "\"there are %s tickers available for the experiment\" % len(tickers_fits_for_analysis)"
   ]
  },
  {
   "cell_type": "markdown",
   "metadata": {},
   "source": [
    "save companies with complete years series"
   ]
  },
  {
   "cell_type": "code",
   "execution_count": 30,
   "metadata": {},
   "outputs": [],
   "source": [
    "with open(file_tickers_for_analysis, \"w\") as f_w:\n",
    "    for ticker in tickers_fits_for_analysis:\n",
    "        f_w.write(\"%s\\n\" % ticker)"
   ]
  },
  {
   "cell_type": "markdown",
   "metadata": {},
   "source": [
    "## Return table"
   ]
  },
  {
   "cell_type": "markdown",
   "metadata": {},
   "source": [
    "### Set paths"
   ]
  },
  {
   "cell_type": "code",
   "execution_count": 31,
   "metadata": {},
   "outputs": [],
   "source": [
    "dir_ticker_prices = os.path.join(dir_data_processing, \"prices\")"
   ]
  },
  {
   "cell_type": "markdown",
   "metadata": {},
   "source": [
    "Iterate over tickers available for analisys and build a return table"
   ]
  },
  {
   "cell_type": "code",
   "execution_count": 32,
   "metadata": {},
   "outputs": [],
   "source": [
    "tickers_prices_table = {}\n",
    "for ticker in tickers_fits_for_analysis:\n",
    "    file_ticker_prices = os.path.join(dir_ticker_prices, ticker + \".csv\")\n",
    "    if os.path.isfile(file_ticker_prices):\n",
    "        price_df = pd.read_csv(file_ticker_prices)\n",
    "        price_df[\"Date\"] = pd.to_datetime(price_df[\"Date\"])\n",
    "        price_df.sort_values(by=[\"Date\"], inplace=True)\n",
    "        price_df.set_index(\"Date\", inplace=True)\n",
    "        ticker_data = {}\n",
    "        \n",
    "        prev_day = None\n",
    "        date_stat_price = dt.datetime.strptime(\"%s-01-01\" % (date_start.year + 1), \"%Y-%m-%d\")\n",
    "        \n",
    "        for index, day in price_df[date_stat_price : date_end].iterrows():\n",
    "            if prev_day is None:\n",
    "                ticker_data[index] = 1\n",
    "            else:\n",
    "                ticker_data[index] = day[\"Adj Close\"] / prev_day[\"Adj Close\"]\n",
    "            prev_day = day\n",
    "        tickers_prices_table[ticker] = ticker_data"
   ]
  },
  {
   "cell_type": "markdown",
   "metadata": {},
   "source": [
    "Convert to pandas data frame"
   ]
  },
  {
   "cell_type": "code",
   "execution_count": 33,
   "metadata": {},
   "outputs": [],
   "source": [
    "df_return = pd.DataFrame.from_dict(tickers_prices_table)"
   ]
  },
  {
   "cell_type": "code",
   "execution_count": 36,
   "metadata": {},
   "outputs": [],
   "source": [
    "file_return_table = os.path.join(dir_run, run_prefix + \"-returns.csv\")\n",
    "df_return.to_csv(file_return_table)"
   ]
  },
  {
   "cell_type": "markdown",
   "metadata": {},
   "source": [
    "## Get corpus statistics "
   ]
  },
  {
   "cell_type": "code",
   "execution_count": 37,
   "metadata": {},
   "outputs": [],
   "source": [
    "number_of_documents = 0\n",
    "term_in_documents_amount = {}"
   ]
  },
  {
   "cell_type": "code",
   "execution_count": 38,
   "metadata": {},
   "outputs": [],
   "source": [
    "for ticker in tickers_fits_for_analysis:\n",
    "    dir_ticker = os.path.join(dir_reports, ticker)\n",
    "    if os.path.isdir(dir_ticker):\n",
    "        for report in os.listdir(dir_ticker):\n",
    "            if '.csv' in report:\n",
    "                number_of_documents += 1  \n",
    "                with open(os.path.join(dir_ticker, report), 'r') as f_r:\n",
    "                    for text_line in f_r:\n",
    "                        (term, amount) = text_line.strip().split(',')\n",
    "                        if term not in term_in_documents_amount:\n",
    "                            term_in_documents_amount[term] = {\n",
    "                                'term': term,\n",
    "                                'total_usage': 0,\n",
    "                                'in_documents_amount': 0}\n",
    "                        term_in_documents_amount[term]['total_usage'] += int(amount)\n",
    "                        term_in_documents_amount[term]['in_documents_amount'] += 1\n"
   ]
  },
  {
   "cell_type": "code",
   "execution_count": 39,
   "metadata": {},
   "outputs": [
    {
     "data": {
      "text/plain": [
       "5130"
      ]
     },
     "execution_count": 39,
     "metadata": {},
     "output_type": "execute_result"
    }
   ],
   "source": [
    "number_of_documents"
   ]
  },
  {
   "cell_type": "code",
   "execution_count": 40,
   "metadata": {},
   "outputs": [
    {
     "data": {
      "text/plain": [
       "'there are 26589 terms available for the experiment'"
      ]
     },
     "execution_count": 40,
     "metadata": {},
     "output_type": "execute_result"
    }
   ],
   "source": [
    "\"there are %s terms available for the experiment\" % len(term_in_documents_amount) "
   ]
  },
  {
   "cell_type": "markdown",
   "metadata": {},
   "source": [
    "## Filtered term set"
   ]
  },
  {
   "cell_type": "markdown",
   "metadata": {},
   "source": [
    "### set terms limits"
   ]
  },
  {
   "cell_type": "code",
   "execution_count": 41,
   "metadata": {},
   "outputs": [],
   "source": [
    "min_number_of_doc = 10\n",
    "remove_n_top_terms = 500\n",
    "max_partition_of_doc = 0.7\n",
    "max_number_of_doc = number_of_documents * max_partition_of_doc"
   ]
  },
  {
   "cell_type": "markdown",
   "metadata": {},
   "source": [
    "### get top N most common terms"
   ]
  },
  {
   "cell_type": "code",
   "execution_count": 42,
   "metadata": {},
   "outputs": [],
   "source": [
    "set_top_n_terms_filter = set()\n",
    "sorted_terms = sorted(list(term_in_documents_amount.values()),\n",
    "                      key=operator.itemgetter('total_usage'),\n",
    "                      reverse=True)\n",
    "for i in range(remove_n_top_terms):\n",
    "    set_top_n_terms_filter.add(sorted_terms[i]['term'])\n",
    "    if flag_debug:\n",
    "        print(\"Excluded term: %s\" % sorted_terms[i]['term'])\n"
   ]
  },
  {
   "cell_type": "markdown",
   "metadata": {},
   "source": [
    "### build terms set"
   ]
  },
  {
   "cell_type": "code",
   "execution_count": 43,
   "metadata": {},
   "outputs": [],
   "source": [
    "set_eliminated_by_max_df = set()\n",
    "set_eliminated_by_min_df = set()\n",
    "set_eliminated_by_max_tf = set()\n",
    "\n",
    "terms_set = set()\n",
    "for term_o in sorted_terms:\n",
    "    term = term_o['term']\n",
    "    in_documents_amount = term_o['in_documents_amount']\n",
    "    total_usage = term_o['total_usage']\n",
    "    if term not in set_top_n_terms_filter:\n",
    "        if in_documents_amount < max_number_of_doc:\n",
    "            if in_documents_amount > min_number_of_doc:\n",
    "                terms_set.add(term)\n",
    "            elif flag_terms_filter_debug:\n",
    "                set_eliminated_by_min_df.add(term)        \n",
    "        elif flag_terms_filter_debug:\n",
    "            set_eliminated_by_max_df.add(term)\n",
    "    elif flag_terms_filter_debug:\n",
    "            set_eliminated_by_max_tf.add(term)"
   ]
  },
  {
   "cell_type": "code",
   "execution_count": 44,
   "metadata": {},
   "outputs": [
    {
     "data": {
      "text/plain": [
       "'there are 13481 filtered terms available for the experiment'"
      ]
     },
     "execution_count": 44,
     "metadata": {},
     "output_type": "execute_result"
    }
   ],
   "source": [
    "\"there are %s filtered terms available for the experiment\" % len(terms_set) "
   ]
  },
  {
   "cell_type": "markdown",
   "metadata": {},
   "source": [
    "### Eliminated by exiding maximum terms frequency"
   ]
  },
  {
   "cell_type": "code",
   "execution_count": 45,
   "metadata": {},
   "outputs": [
    {
     "name": "stdout",
     "output_type": "stream",
     "text": [
      "Eliminated: 0\n"
     ]
    }
   ],
   "source": [
    "print(\"Eliminated: %s\" % len(set_eliminated_by_max_tf))\n",
    "for eliminated in sorted(set_eliminated_by_max_tf):\n",
    "    print(\" %s \" % eliminated)"
   ]
  },
  {
   "cell_type": "markdown",
   "metadata": {},
   "source": [
    "### Eliminated by exiding maximum document frequency"
   ]
  },
  {
   "cell_type": "code",
   "execution_count": 46,
   "metadata": {},
   "outputs": [
    {
     "name": "stdout",
     "output_type": "stream",
     "text": [
      "Eliminated: 0\n"
     ]
    }
   ],
   "source": [
    "print(\"Eliminated: %s\" % len(set_eliminated_by_max_df))\n",
    "for eliminated in sorted(set_eliminated_by_max_df):\n",
    "    print(\" %s \" % eliminated)"
   ]
  },
  {
   "cell_type": "markdown",
   "metadata": {},
   "source": [
    "### Eliminated by no reaching minimum document frequency"
   ]
  },
  {
   "cell_type": "code",
   "execution_count": 47,
   "metadata": {},
   "outputs": [
    {
     "name": "stdout",
     "output_type": "stream",
     "text": [
      "Eliminated: 0\n"
     ]
    }
   ],
   "source": [
    "print(\"Eliminated: %s\" % len(set_eliminated_by_min_df))\n",
    "for eliminated in sorted(set_eliminated_by_min_df):\n",
    "    print( \"%s \" % eliminated)"
   ]
  },
  {
   "cell_type": "markdown",
   "metadata": {},
   "source": [
    "# Corpus construction"
   ]
  },
  {
   "cell_type": "markdown",
   "metadata": {},
   "source": [
    "## Create term -> id  and id -> term dictionary"
   ]
  },
  {
   "cell_type": "code",
   "execution_count": 48,
   "metadata": {},
   "outputs": [],
   "source": [
    "dict_term2id = {}\n",
    "dict_id2term = {}\n",
    "\n",
    "id_counter = 0\n",
    "terms_list = sorted(terms_set)\n",
    "for term in terms_list:\n",
    "    dict_term2id[term] = id_counter\n",
    "    dict_id2term[id_counter] = term\n",
    "    id_counter += 1"
   ]
  },
  {
   "cell_type": "markdown",
   "metadata": {},
   "source": [
    "## Define a function report vectorization"
   ]
  },
  {
   "cell_type": "code",
   "execution_count": 49,
   "metadata": {},
   "outputs": [],
   "source": [
    "def vectorize_report_dtm(file_report):\n",
    "    vector_report = list()\n",
    "    with open(file_report, 'r') as f_r:\n",
    "        for text_line in f_r:\n",
    "            term, tf = text_line.strip().split(',')\n",
    "            if term in dict_term2id:\n",
    "                vector_report.append(\"%s:%s\" % (dict_term2id[term], tf))\n",
    "    return vector_report"
   ]
  },
  {
   "cell_type": "code",
   "execution_count": 50,
   "metadata": {},
   "outputs": [],
   "source": [
    "def vectorize_report_test(file_report, dict_term2id_local, dict_id2term_local):\n",
    "    local_term_id = 0\n",
    "    vector_report = list()\n",
    "    with open(file_report, 'r') as f_r:\n",
    "        for text_line in f_r:\n",
    "            term, tf = text_line.strip().split(',')\n",
    "            if term in dict_term2id:\n",
    "                if term not in dict_term2id_local:\n",
    "                    dict_term2id_local[term] = local_term_id\n",
    "                    dict_id2term_local[local_term_id] = term\n",
    "                    local_term_id += 1\n",
    "                vector_report.append((dict_term2id_local[term], int(tf)))\n",
    "    return vector_report"
   ]
  },
  {
   "cell_type": "markdown",
   "metadata": {},
   "source": [
    "# Find optimal topic number"
   ]
  },
  {
   "cell_type": "code",
   "execution_count": 51,
   "metadata": {},
   "outputs": [],
   "source": [
    "def get_quality_corpus(year):\n",
    "    dict_term2id_year = {}\n",
    "    dict_id2term_year = {}\n",
    "\n",
    "    corpus_of_year = []\n",
    "    for ticker in sorted(tickers_fits_for_analysis):\n",
    "        dir_ticker_reports = os.path.join(dir_reports, ticker)\n",
    "        for report in os.listdir(dir_ticker_reports):\n",
    "            if int(report[:4]) == year:\n",
    "                file_report = os.path.join(dir_ticker_reports, report)\n",
    "                corpus_of_year.append(vectorize_report_test(file_report, dict_term2id_year, dict_id2term_year))\n",
    "    \n",
    "    return dict_id2term_year, corpus_of_year      "
   ]
  },
  {
   "cell_type": "code",
   "execution_count": 52,
   "metadata": {},
   "outputs": [],
   "source": [
    "def get_quality_measurements(year, dictionary, corpus, limit, start=2, step=3):\n",
    "    topics_nums = []\n",
    "    coherence_values = []\n",
    "    perplexity_values = []\n",
    "    for num_topics in range(start, limit + 1, step):\n",
    "        topics_nums.append(num_topics)\n",
    "        lda_model = gensim.models.ldamodel.LdaModel(\n",
    "            corpus=corpus,\n",
    "            id2word=dictionary,\n",
    "            num_topics=num_topics, \n",
    "            random_state=100,\n",
    "            passes=10,\n",
    "            iterations=50,\n",
    "            alpha=\"auto\",\n",
    "            per_word_topics=True)\n",
    "        perplexity = lda_model.log_perplexity(corpus)\n",
    "        perplexity_values.append(perplexity)\n",
    "        coherence_model_lda = CoherenceModel(\n",
    "            model=lda_model,\n",
    "            corpus=corpus,\n",
    "            dictionary=dictionary,\n",
    "            coherence='u_mass')\n",
    "        coherence = coherence_model_lda.get_coherence()\n",
    "        coherence_values.append(coherence)\n",
    "        \n",
    "        #print(\"Topics: %s, coh: %s, perplex: %s\" % (num_topics, coherence, perplexity))\n",
    "    return {\n",
    "        \"year\": year,\n",
    "        \"topics_num\": topics_nums,\n",
    "        \"coherence_values\": coherence_values,\n",
    "        \"perplexity_values\": perplexity_values\n",
    "    }"
   ]
  },
  {
   "cell_type": "code",
   "execution_count": 53,
   "metadata": {},
   "outputs": [
    {
     "name": "stdout",
     "output_type": "stream",
     "text": [
      "Work on 2005 year, dictionary size: 1079\n"
     ]
    }
   ],
   "source": [
    "topic_min = 5\n",
    "topic_max = 50\n",
    "topic_step = 1\n",
    "measures = []\n",
    "if flag_run_topics_analysis:\n",
    "    #for year in year_series:\n",
    "    year = year_series[0]\n",
    "    dict_id2term_year, corpus_of_year = get_quality_corpus(year)\n",
    "    print(\"Work on %s year, dictionary size: %s\" % (year, len(dict_id2term_year)))\n",
    "    measures.append(\n",
    "        get_quality_measurements(\n",
    "            year, \n",
    "            dict_id2term_year, \n",
    "            corpus_of_year, \n",
    "            topic_max, \n",
    "            topic_min, \n",
    "            topic_step))"
   ]
  },
  {
   "cell_type": "code",
   "execution_count": 54,
   "metadata": {},
   "outputs": [
    {
     "data": {
      "image/png": "[encoded data removed]",
      "text/plain": [
       "<Figure size 360x360 with 1 Axes>"
      ]
     },
     "metadata": {
      "needs_background": "light"
     },
     "output_type": "display_data"
    }
   ],
   "source": [
    "if len(measures):\n",
    "    plt.figure(figsize=(5,5))\n",
    "    # Plot all years\n",
    "    #for year_measures in measures:\n",
    "        #plt.plot(year_measures[\"topics_num\"], year_measures[\"coherence_values\"], label=year_measures[\"year\"])\n",
    "        #for i, v in enumerate(year_measures[\"coherence_values\"]):\n",
    "        #    print(\"topic: %s :%s\" % (year_measures[\"topics_num\"][i], v))\n",
    "    # Plot a single year\n",
    "    year_measures = measures[0]\n",
    "    plt.plot(year_measures[\"topics_num\"], year_measures[\"coherence_values\"], label=year_measures[\"year\"])    \n",
    "    \n",
    "    plt.xlabel(\"Num Topics\")\n",
    "    plt.ylabel(\"Coherence score\")\n",
    "    plt.legend(bbox_to_anchor=(1.002, 1.002))\n",
    "    plt.show()"
   ]
  },
  {
   "cell_type": "code",
   "execution_count": 55,
   "metadata": {},
   "outputs": [
    {
     "data": {
      "image/png": "[encoded data removed]",
      "text/plain": [
       "<Figure size 432x288 with 1 Axes>"
      ]
     },
     "metadata": {
      "needs_background": "light"
     },
     "output_type": "display_data"
    }
   ],
   "source": [
    "if len(measures):\n",
    "    for year_measures in measures:\n",
    "        plt.plot(year_measures[\"topics_num\"], year_measures[\"perplexity_values\"], label=year_measures[\"year\"])\n",
    "    plt.xlabel(\"Num Topics\")\n",
    "    plt.ylabel(\"Perplexity score\")\n",
    "    plt.legend(bbox_to_anchor=(1.002, 1.002))\n",
    "    plt.show()"
   ]
  },
  {
   "cell_type": "code",
   "execution_count": 71,
   "metadata": {},
   "outputs": [
    {
     "name": "stdout",
     "output_type": "stream",
     "text": [
      "topics_num:5  c:-0.3522002779648714 p:-6.673733863772344\n",
      "topics_num:6  c:-0.3576009677610297 p:-6.671723311591278\n",
      "topics_num:7  c:-0.374156746482243 p:-6.668541675058934\n",
      "topics_num:8  c:-0.3732770939365506 p:-6.664562439347972\n",
      "topics_num:9  c:-0.3863142522344254 p:-6.661304900612231\n",
      "topics_num:10  c:-0.4046761872809615 p:-6.656957396662894\n",
      "topics_num:11  c:-0.40500395078355783 p:-6.660710438638704\n",
      "topics_num:12  c:-0.3866044773253892 p:-6.657074606688465\n",
      "topics_num:13  c:-0.3764290531100745 p:-6.657395445361632\n",
      "topics_num:14  c:-0.37820103682698497 p:-6.648426536587473\n",
      "topics_num:15  c:-0.3737055842447346 p:-6.6492972942301165\n",
      "topics_num:16  c:-0.3861158053017447 p:-6.647403250903582\n",
      "topics_num:17  c:-0.3789902437653794 p:-6.6522648886817475\n",
      "topics_num:18  c:-0.41542399978489 p:-6.651757414935008\n",
      "topics_num:19  c:-0.4009523455883007 p:-6.651867307991085\n",
      "topics_num:20  c:-0.39592412835011614 p:-6.654286073079315\n",
      "topics_num:21  c:-0.39198064776678754 p:-6.65341538797526\n",
      "topics_num:22  c:-0.4118632064731668 p:-6.656822531153338\n",
      "topics_num:23  c:-0.37231103518317005 p:-6.65540488251392\n",
      "topics_num:24  c:-0.40208886046090164 p:-6.655756452643223\n",
      "topics_num:25  c:-0.387848778924126 p:-6.652518350754979\n",
      "topics_num:26  c:-0.39810907945297314 p:-6.65759863042551\n",
      "topics_num:27  c:-0.3841809224346583 p:-6.6557062269107465\n",
      "topics_num:28  c:-0.3899319760016922 p:-6.664098509419365\n",
      "topics_num:29  c:-0.40367033932538116 p:-6.661246726673944\n",
      "topics_num:30  c:-0.4056086514100067 p:-6.658206490686208\n",
      "topics_num:31  c:-0.4184579968873828 p:-6.664543368968943\n",
      "topics_num:32  c:-0.3929320941194071 p:-6.67226528269771\n",
      "topics_num:33  c:-0.3896679935180191 p:-6.6680125102275385\n",
      "topics_num:34  c:-0.3946752973951021 p:-6.661253260795421\n",
      "topics_num:35  c:-0.415163779448667 p:-6.668357612917584\n",
      "topics_num:36  c:-0.3914549413843597 p:-6.665984443496249\n",
      "topics_num:37  c:-0.4002478982765962 p:-6.663401837050656\n",
      "topics_num:38  c:-0.39257349409182113 p:-6.670228661992489\n",
      "topics_num:39  c:-0.3974593270346487 p:-6.672017680242882\n",
      "topics_num:40  c:-0.39835740808729664 p:-6.671433535529864\n",
      "topics_num:41  c:-0.3933357761273873 p:-6.67139184721628\n",
      "topics_num:42  c:-0.3913743578080216 p:-6.663692723556449\n",
      "topics_num:43  c:-0.38411624539480593 p:-6.671387077184626\n",
      "topics_num:44  c:-0.4075429947893797 p:-6.6722942568290495\n",
      "topics_num:45  c:-0.38890157961396815 p:-6.672829764785108\n",
      "topics_num:46  c:-0.3896866996008297 p:-6.68214433073792\n",
      "topics_num:47  c:-0.39204852246641875 p:-6.669990341926154\n",
      "topics_num:48  c:-0.3873923486623938 p:-6.678090741263036\n",
      "topics_num:49  c:-0.3863569445911638 p:-6.683196202532561\n"
     ]
    }
   ],
   "source": [
    "for i in range(0, 45, 1):\n",
    "    print(\"topics_num:%s  c:%s p:%s\" % (measures[0][\"topics_num\"][i], measures[0][\"coherence_values\"][i],measures[0][\"perplexity_values\"][i]))\n",
    "    \n",
    "    \n",
    "    \n",
    "    \n",
    "    "
   ]
  },
  {
   "cell_type": "markdown",
   "metadata": {},
   "source": [
    "# Build run data"
   ]
  },
  {
   "cell_type": "markdown",
   "metadata": {},
   "source": [
    "### Read all reports (terms quantity map) for every ticker for every year in analysis"
   ]
  },
  {
   "cell_type": "code",
   "execution_count": 56,
   "metadata": {},
   "outputs": [],
   "source": [
    "amount_documents_in_series_dict = dict()\n",
    "documents_name_list = list()\n",
    "documents_vector_list = list()\n",
    "for year in year_series:\n",
    "    amount_documents_in_series = 0\n",
    "    #for every company read reports of a year\n",
    "    for ticker in sorted(tickers_fits_for_analysis):\n",
    "        dir_ticker_reports = os.path.join(dir_reports, ticker)\n",
    "        for report in os.listdir(dir_ticker_reports):\n",
    "            if int(report[:4]) == year:\n",
    "                #read a report\n",
    "                amount_documents_in_series += 1\n",
    "                documents_vector_list.append(vectorize_report_dtm(os.path.join(dir_ticker_reports, report)))\n",
    "                documents_name_list.append(ticker + '-' + report)\n",
    "\n",
    "    #keep track of documents in series\n",
    "    amount_documents_in_series_dict[int(year)] = amount_documents_in_series"
   ]
  },
  {
   "cell_type": "markdown",
   "metadata": {},
   "source": [
    "### write results into files"
   ]
  },
  {
   "cell_type": "code",
   "execution_count": 57,
   "metadata": {},
   "outputs": [],
   "source": [
    "#save prefix-seq.dat\n",
    "with open(os.path.join(dir_run, run_prefix + '-seq.dat'), 'w') as f_w:\n",
    "    f_w.write(\"%s\\n\" % len(year_series))\n",
    "    for year in sorted(amount_documents_in_series_dict.keys()):\n",
    "        f_w.write(\"%s\\n\" % amount_documents_in_series_dict[year])"
   ]
  },
  {
   "cell_type": "code",
   "execution_count": 58,
   "metadata": {},
   "outputs": [],
   "source": [
    "#save prefix-mult.dat, every document in SVM\n",
    "with open(os.path.join(dir_run, run_prefix + '-mult.dat'), 'w') as f_w:\n",
    "    for document in documents_vector_list:\n",
    "        f_w.write(\"%s %s\\n\" % (len(document), ' '.join(document)))"
   ]
  },
  {
   "cell_type": "code",
   "execution_count": 59,
   "metadata": {},
   "outputs": [],
   "source": [
    "#save prefix-documents.dat, every document the same order with mult.dat\n",
    "with open(os.path.join(dir_run, run_prefix + '-documents.dat'), 'w') as f_w:\n",
    "    for document in documents_name_list:\n",
    "        f_w.write(\"%s\\n\" % document)"
   ]
  },
  {
   "cell_type": "code",
   "execution_count": 60,
   "metadata": {},
   "outputs": [],
   "source": [
    "#save prefix-documents.dat, every document the same order with mult.dat\n",
    "with open(os.path.join(dir_run, run_prefix + '-terms.dat'), 'w') as f_w:\n",
    "    for term in terms_list:\n",
    "        f_w.write(\"%s\\n\" % term)"
   ]
  },
  {
   "cell_type": "markdown",
   "metadata": {},
   "source": [
    "### create result directories"
   ]
  },
  {
   "cell_type": "code",
   "execution_count": 61,
   "metadata": {},
   "outputs": [],
   "source": [
    "dir_results = os.path.join(dir_run, 'results')\n",
    "\n",
    "if not os.path.exists(dir_results):\n",
    "    os.makedirs(dir_results)"
   ]
  },
  {
   "cell_type": "code",
   "execution_count": 62,
   "metadata": {},
   "outputs": [],
   "source": [
    "dir_results = os.path.join(dir_run, 'interpretation')\n",
    "\n",
    "if not os.path.exists(dir_results):\n",
    "    os.makedirs(dir_results)"
   ]
  },
  {
   "cell_type": "markdown",
   "metadata": {},
   "source": [
    "# Go and run experiment"
   ]
  },
  {
   "cell_type": "markdown",
   "metadata": {},
   "source": [
    "go go go go go"
   ]
  }
 ],
 "metadata": {
  "kernelspec": {
   "display_name": "Python 3",
   "language": "python",
   "name": "python3"
  },
  "language_info": {
   "codemirror_mode": {
    "name": "ipython",
    "version": 3
   },
   "file_extension": ".py",
   "mimetype": "text/x-python",
   "name": "python",
   "nbconvert_exporter": "python",
   "pygments_lexer": "ipython3",
   "version": "3.7.1"
  }
 },
 "nbformat": 4,
 "nbformat_minor": 2
}
