{
 "cells": [
  {
   "cell_type": "code",
   "execution_count": null,
   "id": "1a0d96cf",
   "metadata": {},
   "outputs": [],
   "source": [
    "Test stocks and reports availability for each index\n"
   ]
  }
 ],
 "metadata": {
  "kernelspec": {
   "display_name": "dtm-reports-analysis",
   "language": "python",
   "name": "dtm-reports-analysis"
  },
  "language_info": {
   "codemirror_mode": {
    "name": "ipython",
    "version": 3
   },
   "file_extension": ".py",
   "mimetype": "text/x-python",
   "name": "python",
   "nbconvert_exporter": "python",
   "pygments_lexer": "ipython3",
   "version": "3.8.13"
  }
 },
 "nbformat": 4,
 "nbformat_minor": 5
}
