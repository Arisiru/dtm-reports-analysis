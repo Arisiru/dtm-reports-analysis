{
 "cells": [
  {
   "cell_type": "markdown",
   "metadata": {},
   "source": [
    "## Init"
   ]
  },
  {
   "cell_type": "code",
   "execution_count": 1,
   "metadata": {},
   "outputs": [],
   "source": [
    "import os\n",
    "import operator\n",
    "import csv\n",
    "import datetime as dt\n",
    "import numpy as np\n",
    "import pandas as pd\n",
    "import math\n",
    "from matplotlib.backends.backend_pdf import PdfPages\n",
    "import matplotlib.pyplot as plt\n",
    "import matplotlib.dates as mdates\n",
    "import matplotlib.cbook as cbook"
   ]
  },
  {
   "cell_type": "code",
   "execution_count": 2,
   "metadata": {},
   "outputs": [],
   "source": [
    "run_prefix = 'run_01_02'"
   ]
  },
  {
   "cell_type": "code",
   "execution_count": 3,
   "metadata": {},
   "outputs": [],
   "source": [
    "dir_root = os.path.join('..')\n",
    "dir_data = os.path.join(dir_root, 'data_processing')\n",
    "dir_tickers = os.path.join(dir_data, 'tickers')\n",
    "dir_run = os.path.join(dir_root, 'data_runs', run_prefix)\n",
    "dir_result_dtm = os.path.join(dir_run, 'results', 'lda-seq')\n",
    "dir_result_interpretation = os.path.join(dir_run, 'interpretation')"
   ]
  },
  {
   "cell_type": "markdown",
   "metadata": {},
   "source": [
    "## Read topics amount and time slices amount"
   ]
  },
  {
   "cell_type": "code",
   "execution_count": 4,
   "metadata": {},
   "outputs": [
    {
     "name": "stdout",
     "output_type": "stream",
     "text": [
      "10\n",
      "13\n"
     ]
    }
   ],
   "source": [
    "number_of_topics = None\n",
    "time_slices = None\n",
    "with open(os.path.join(dir_result_dtm, 'info.dat'), 'r') as f_r:\n",
    "    for text_line in f_r:\n",
    "        data = text_line.strip().split(' ')\n",
    "        if data[0] == 'NUM_TOPICS':\n",
    "            number_of_topics = int(data[1])\n",
    "        if data[0] == 'SEQ_LENGTH':\n",
    "            time_slices = int(data[1])\n",
    "            \n",
    "print(number_of_topics) \n",
    "print(time_slices)"
   ]
  },
  {
   "cell_type": "markdown",
   "metadata": {},
   "source": [
    "## Read terms"
   ]
  },
  {
   "cell_type": "code",
   "execution_count": 5,
   "metadata": {},
   "outputs": [],
   "source": [
    "terms_list = []\n",
    "with open(os.path.join(dir_run, \"%s-terms.dat\" % run_prefix), 'r') as f_r:\n",
    "    for text_line in f_r:\n",
    "        term = text_line.strip()\n",
    "        if len(term):\n",
    "            terms_list.append(term)"
   ]
  },
  {
   "cell_type": "markdown",
   "metadata": {},
   "source": [
    "## Get top terms"
   ]
  },
  {
   "cell_type": "code",
   "execution_count": 6,
   "metadata": {},
   "outputs": [],
   "source": [
    "take_top = 10\n",
    "flag_is_exp = True"
   ]
  },
  {
   "cell_type": "code",
   "execution_count": 7,
   "metadata": {},
   "outputs": [],
   "source": [
    "dir_result_top_terms = os.path.join(dir_result_interpretation, 'top_terms')\n",
    "if not os.path.exists(dir_result_top_terms):\n",
    "    os.makedirs(dir_result_top_terms)"
   ]
  },
  {
   "cell_type": "code",
   "execution_count": 8,
   "metadata": {},
   "outputs": [],
   "source": [
    "def get_sorted_terms(topic_id):\n",
    "    #create time slice data\n",
    "    all_time_slices_data_unsorted = {}\n",
    "    for time_slice in range(time_slices):\n",
    "        all_time_slices_data_unsorted[time_slice] = list()\n",
    "\n",
    "    #open terms distribution file\n",
    "    with open(os.path.join(dir_result_dtm, \"topic-%s-var-e-log-prob.dat\" % topic_id), 'r') as f_r:\n",
    "        distributions = f_r.readlines()\n",
    "        dist_x = 0\n",
    "        #for each term read one line\n",
    "        for term in terms_list:\n",
    "            # for each time slice\n",
    "            for time_slice in range(time_slices):\n",
    "                float_text = distributions[dist_x].strip()\n",
    "                if len(float_text):\n",
    "                    if flag_is_exp:\n",
    "                        term_probability = math.exp(float(float_text))\n",
    "                    else:\n",
    "                        term_probability = float(float_text)\n",
    "                    all_time_slices_data_unsorted[time_slice].append((term, term_probability))\n",
    "                dist_x += 1\n",
    "\n",
    "    # sort list\n",
    "    all_time_slices_data_sorted = []\n",
    "    for time_slice in range(time_slices):\n",
    "        all_time_slices_data_sorted.append(sorted(all_time_slices_data_unsorted[time_slice],\n",
    "                                                  key=operator.itemgetter(1),\n",
    "                                                  reverse=True))\n",
    "    \n",
    "    return all_time_slices_data_sorted"
   ]
  },
  {
   "cell_type": "code",
   "execution_count": 9,
   "metadata": {},
   "outputs": [],
   "source": [
    "def store_sorted_terms(topic_id, all_time_slices_data_sorted):\n",
    "    #save as csv without probabilities for better visualisation and limited to take top\n",
    "    file_csv_sorted_terms_without_probabilities = os.path.join(\n",
    "        dir_result_top_terms, \"%s-top-n-terms.csv\" % topic_id)\n",
    "    with open(file_csv_sorted_terms_without_probabilities, 'w') as f_w:\n",
    "        for i in range(take_top):\n",
    "            terms_at_position_list = []\n",
    "            for time_slice in range(time_slices):\n",
    "                terms_at_position_list.append(all_time_slices_data_sorted[time_slice][i][0])\n",
    "            f_w.write(\"%s\\n\" % (','.join(terms_at_position_list)))\n",
    "\n",
    "    #save as csv with probabilities\n",
    "    file_csv_sorted_terms_with_probabilities = os.path.join(\n",
    "        dir_result_top_terms, \"%s-terms_sorted.csv\" % topic_id)\n",
    "    with open(file_csv_sorted_terms_with_probabilities, 'w') as f_w:\n",
    "        for i in range(len(terms_list)):\n",
    "            terms_at_position_list = list()\n",
    "            for time_slice in range(time_slices):\n",
    "                terms_at_position_list.append(all_time_slices_data_sorted[time_slice][i][0])\n",
    "                terms_at_position_list.append(all_time_slices_data_sorted[time_slice][i][1])\n",
    "            f_w.write(\"%s\\n\" % (','.join(map(str, terms_at_position_list))))"
   ]
  },
  {
   "cell_type": "code",
   "execution_count": 10,
   "metadata": {},
   "outputs": [
    {
     "name": "stdout",
     "output_type": "stream",
     "text": [
      "Run run_01_02 topic 0\n",
      "Run run_01_02 topic 1\n",
      "Run run_01_02 topic 2\n",
      "Run run_01_02 topic 3\n",
      "Run run_01_02 topic 4\n",
      "Run run_01_02 topic 5\n",
      "Run run_01_02 topic 6\n",
      "Run run_01_02 topic 7\n",
      "Run run_01_02 topic 8\n",
      "Run run_01_02 topic 9\n"
     ]
    }
   ],
   "source": [
    "for i in range(number_of_topics):\n",
    "    print(\"Run %s topic %s\" % (run_prefix, i))\n",
    "    sorted_terms = get_sorted_terms(\"%03d\" % i)\n",
    "    store_sorted_terms(\"%03d\" % i, sorted_terms)"
   ]
  },
  {
   "cell_type": "markdown",
   "metadata": {},
   "source": [
    "## Get gammas"
   ]
  },
  {
   "cell_type": "markdown",
   "metadata": {},
   "source": [
    "read reports in list"
   ]
  },
  {
   "cell_type": "code",
   "execution_count": 11,
   "metadata": {},
   "outputs": [],
   "source": [
    "reports_list = []\n",
    "with open(os.path.join(dir_run, \"%s-documents.dat\" % run_prefix), 'r') as f_r:\n",
    "    for text_line in f_r:\n",
    "        report_name = text_line.strip()\n",
    "        if len(report_name):\n",
    "            reports_list.append(report_name)"
   ]
  },
  {
   "cell_type": "code",
   "execution_count": 12,
   "metadata": {},
   "outputs": [],
   "source": [
    "gamma_for_reports = {}"
   ]
  },
  {
   "cell_type": "code",
   "execution_count": 13,
   "metadata": {},
   "outputs": [],
   "source": [
    "with open(os.path.join(dir_result_dtm, 'gam.dat'), 'r') as f_r:\n",
    "    distributions = f_r.readlines()\n",
    "    dist_x = 0\n",
    "    #for each term read one line\n",
    "    for report in reports_list:\n",
    "        # for each topic\n",
    "        normalization_sum = 0\n",
    "        topics_probabilities = []\n",
    "        topics_probabilities_normalize = []\n",
    "\n",
    "        for topic in range(number_of_topics):\n",
    "            float_text = distributions[dist_x].strip()\n",
    "            topic_probability = float(float_text)\n",
    "            topics_probabilities.append(topic_probability)\n",
    "            normalization_sum += topic_probability\n",
    "            dist_x += 1\n",
    "\n",
    "        for prob in topics_probabilities:\n",
    "            topics_probabilities_normalize.append(prob / normalization_sum)\n",
    "        gamma_for_reports[report] = topics_probabilities_normalize"
   ]
  },
  {
   "cell_type": "markdown",
   "metadata": {},
   "source": [
    "Store to scv file with gammas for every report"
   ]
  },
  {
   "cell_type": "code",
   "execution_count": 14,
   "metadata": {},
   "outputs": [],
   "source": [
    "dir_result_topics_proportions = os.path.join(dir_result_interpretation, 'topics_proportions')\n",
    "if not os.path.exists(dir_result_topics_proportions):\n",
    "    os.makedirs(dir_result_topics_proportions)"
   ]
  },
  {
   "cell_type": "code",
   "execution_count": 15,
   "metadata": {},
   "outputs": [],
   "source": [
    "file_csv_topic_proportion = os.path.join(dir_result_topics_proportions, 'topic-proportion-for-docs.csv')\n",
    "with open(file_csv_topic_proportion, 'w') as f_w:\n",
    "    for report in gamma_for_reports:\n",
    "        f_w.write(\"%s,%s\\n\" % (report, (','.join(map(str, gamma_for_reports[report])))))"
   ]
  },
  {
   "cell_type": "markdown",
   "metadata": {},
   "source": [
    "Aggregate reports by company and stare them by year"
   ]
  },
  {
   "cell_type": "code",
   "execution_count": 16,
   "metadata": {},
   "outputs": [],
   "source": [
    "gamma_for_reports_by_years = {}"
   ]
  },
  {
   "cell_type": "code",
   "execution_count": 17,
   "metadata": {},
   "outputs": [],
   "source": [
    "for report in gamma_for_reports:\n",
    "    report_data = report.split('-')\n",
    "    company_name = report_data[0]\n",
    "    report_year = report_data[1]\n",
    "    if report_year not in gamma_for_reports_by_years:\n",
    "        gamma_for_reports_by_years[report_year] = {}\n",
    "    if company_name not in gamma_for_reports_by_years[report_year]:\n",
    "        gamma_for_reports_by_years[report_year][company_name] = []\n",
    "    gamma_for_reports_by_years[report_year][company_name].append(gamma_for_reports[report])"
   ]
  },
  {
   "cell_type": "markdown",
   "metadata": {},
   "source": [
    "Average reports for every company's year, re-normalize gammas"
   ]
  },
  {
   "cell_type": "code",
   "execution_count": 18,
   "metadata": {},
   "outputs": [],
   "source": [
    "final_gammas = {}"
   ]
  },
  {
   "cell_type": "code",
   "execution_count": 19,
   "metadata": {},
   "outputs": [],
   "source": [
    "for report_year in gamma_for_reports_by_years:\n",
    "    final_gammas[report_year] = {}\n",
    "    for ticker in gamma_for_reports_by_years[report_year]:\n",
    "        average_distribution = [0] * number_of_topics\n",
    "        for report in gamma_for_reports_by_years[report_year][ticker]:\n",
    "            for topic in range(number_of_topics):\n",
    "                average_distribution[topic] += report[topic]\n",
    "\n",
    "        reports_amount = len(gamma_for_reports_by_years[report_year][ticker])\n",
    "        normalization_sum = 0\n",
    "        for topic in range(number_of_topics):\n",
    "            average_distribution[topic] /= reports_amount\n",
    "            normalization_sum += average_distribution[topic]\n",
    "\n",
    "        for topic in range(number_of_topics):\n",
    "            average_distribution[topic] /= normalization_sum\n",
    "\n",
    "        final_gammas[report_year][ticker] = average_distribution"
   ]
  },
  {
   "cell_type": "markdown",
   "metadata": {},
   "source": [
    "Define year series"
   ]
  },
  {
   "cell_type": "code",
   "execution_count": 20,
   "metadata": {},
   "outputs": [],
   "source": [
    "year_series = []"
   ]
  },
  {
   "cell_type": "markdown",
   "metadata": {},
   "source": [
    "Save topic destribution for every compnay over the years"
   ]
  },
  {
   "cell_type": "code",
   "execution_count": 21,
   "metadata": {},
   "outputs": [],
   "source": [
    "for report_year in final_gammas:\n",
    "    # append year to year series\n",
    "    year_series.append(int(report_year))\n",
    "    \n",
    "    tickers_list = sorted(list(final_gammas[report_year].keys()))\n",
    "\n",
    "    file_csv_topic_proportion_for_year = os.path.join(dir_result_topics_proportions, \"topic-proportion-%s.csv\" % report_year)\n",
    "    with open(file_csv_topic_proportion_for_year, 'w') as f_w:\n",
    "        f_w.write(\"%s\\n\" % ','.join(tickers_list))\n",
    "        for topic_id in range(number_of_topics):\n",
    "            topic_values = list()\n",
    "            for company_name in tickers_list:\n",
    "                topic_values.append(final_gammas[report_year][company_name][topic_id])\n",
    "            f_w.write(\"%s\\n\" % ','.join(list(map(str, topic_values))))"
   ]
  },
  {
   "cell_type": "markdown",
   "metadata": {},
   "source": [
    "re-sort years series"
   ]
  },
  {
   "cell_type": "code",
   "execution_count": 22,
   "metadata": {},
   "outputs": [
    {
     "data": {
      "text/plain": [
       "[2005, 2006, 2007, 2008, 2009, 2010, 2011, 2012, 2013, 2014, 2015, 2016, 2017]"
      ]
     },
     "execution_count": 22,
     "metadata": {},
     "output_type": "execute_result"
    }
   ],
   "source": [
    "year_series.sort()\n",
    "year_series"
   ]
  },
  {
   "cell_type": "markdown",
   "metadata": {},
   "source": [
    "## Get gammas"
   ]
  },
  {
   "cell_type": "code",
   "execution_count": 23,
   "metadata": {},
   "outputs": [],
   "source": [
    "dir_result_weight_matrices = os.path.join(dir_result_interpretation, 'weight_matrices')\n",
    "if not os.path.exists(dir_result_weight_matrices):\n",
    "    os.makedirs(dir_result_weight_matrices)"
   ]
  },
  {
   "cell_type": "markdown",
   "metadata": {},
   "source": [
    "## Get weight matrix"
   ]
  },
  {
   "cell_type": "code",
   "execution_count": 24,
   "metadata": {},
   "outputs": [],
   "source": [
    "for year in year_series:\n",
    "    tickers_list = []\n",
    "    file = os.path.join(dir_result_topics_proportions, \"topic-proportion-%d.csv\" % year)\n",
    "    line_index = 0\n",
    "    rows = []\n",
    "    with open(file, 'r') as f_r:\n",
    "        for text_line in f_r:\n",
    "            if line_index == 0:\n",
    "                tickers_list = text_line.strip().split(',')\n",
    "            else:\n",
    "                row = list(map(float, text_line.strip().split(',')))\n",
    "                rows.append(row)\n",
    "            line_index += 1\n",
    "\n",
    "    a = np.array(rows)\n",
    "    x_lists = list()\n",
    "\n",
    "    for topic_id in range(number_of_topics):\n",
    "        #build b matrix\n",
    "        b_list = [0.] * number_of_topics\n",
    "        b_list[topic_id] = 1.0\n",
    "        b = np.array(b_list)\n",
    "        x = np.linalg.lstsq(a, b, rcond = None)\n",
    "        x_lists.append(list(x[0]))\n",
    "    file = os.path.join(dir_result_weight_matrices, \"topic-weights-%d.csv\" % year)\n",
    "    with open(file, 'w') as f_w:\n",
    "        for index in range(len(tickers_list)):\n",
    "            entry = list()\n",
    "            entry.append(tickers_list[index])\n",
    "            for topic_id in range(number_of_topics):\n",
    "                entry.append(x_lists[topic_id][index])\n",
    "            f_w.write(\"%s\\n\" % ','.join(list(map(str, entry))))"
   ]
  },
  {
   "cell_type": "markdown",
   "metadata": {},
   "source": [
    "## Get Return"
   ]
  },
  {
   "cell_type": "code",
   "execution_count": 25,
   "metadata": {},
   "outputs": [],
   "source": [
    "initial_amount_to_distribute = 1"
   ]
  },
  {
   "cell_type": "markdown",
   "metadata": {},
   "source": [
    "### Get returns"
   ]
  },
  {
   "cell_type": "code",
   "execution_count": 26,
   "metadata": {},
   "outputs": [],
   "source": [
    "df_returns = pd.read_csv(os.path.join(dir_run, \"%s-returns.csv\" % run_prefix))\n",
    "df_returns.rename(index=str, columns={'Unnamed: 0': 'Date'}, inplace=True)\n",
    "df_returns['Date'] = pd.to_datetime(df_returns['Date'])\n",
    "df_returns.set_index('Date', inplace=True)"
   ]
  },
  {
   "cell_type": "code",
   "execution_count": 27,
   "metadata": {},
   "outputs": [],
   "source": [
    "dir_result_portfolio = os.path.join(dir_result_interpretation, 'return')\n",
    "if not os.path.exists(dir_result_portfolio):\n",
    "    os.makedirs(dir_result_portfolio)"
   ]
  },
  {
   "cell_type": "code",
   "execution_count": 28,
   "metadata": {},
   "outputs": [],
   "source": [
    "all_returns_combined = {}\n",
    "for topic_id in range(number_of_topics):\n",
    "    #read all returns\n",
    "    returns_data = dict()\n",
    "    returns_companies_set = set()\n",
    "    result = list()\n",
    "\n",
    "    amount_to_distribute = initial_amount_to_distribute\n",
    "    last_date = None\n",
    "    #Year loop\n",
    "    for year in year_series:\n",
    "        #Get year matrix\n",
    "        file = os.path.join(dir_result_weight_matrices, \"topic-weights-%d.csv\" % year)\n",
    "        weights_data = dict()\n",
    "        weights_tickers = list()\n",
    "        with open(file, 'r') as f_r:\n",
    "            for text_line in f_r:\n",
    "                raw_weight = text_line.strip().split(',')\n",
    "                ticker = raw_weight[0]\n",
    "                weights_tickers.append(ticker)\n",
    "                weights_data[ticker] = list(map(float, raw_weight[1:]))\n",
    "\n",
    "        #days loop\n",
    "        is_first_day = True\n",
    "        a = 0 # ????\n",
    "        volume_data = dict()\n",
    "        current_year = year + 1\n",
    "        inrange = None\n",
    "        if current_year == 2018:\n",
    "            inrange = pd.date_range(start=\"01.01.%s\" % (year + 1), end=\"30.06.%s\" % (year + 1), freq='D')\n",
    "        else:\n",
    "            inrange = pd.date_range(start=\"01.01.%s\" % (year + 1), end=\"31.12.%s\" % (year + 1), freq='D')\n",
    "        for date in inrange:\n",
    "            date_return_data = df_returns.loc[date]\n",
    "            # distribute available amount for the first day of the year\n",
    "            if is_first_day:\n",
    "                is_first_day = False\n",
    "                #print(\"re-distribute new amount: %s\" % amount_to_distribute)\n",
    "                for ticker in weights_tickers:\n",
    "                    volume_data[ticker] = 1. * amount_to_distribute * weights_data[ticker][topic_id]\n",
    "                    #print(\"First Day Ticker: %s; volume: %f\" % (company_name,  volume_data[company_name]))\n",
    "            #propagate further\n",
    "            else:\n",
    "                for ticker in weights_tickers:\n",
    "                    return_changes = 1.\n",
    "                    if ticker in date_return_data:\n",
    "                        return_changes = date_return_data[ticker]\n",
    "                    volume_data[ticker] *= return_changes\n",
    "                    #print(\"%s Ticker: %s; volume: %f, return changes %f\" % (date, company_name,  volume_data[company_name], return_changes))\n",
    "\n",
    "\n",
    "            #totaling for a day\n",
    "            amount_to_distribute = 0\n",
    "            for ticker in weights_tickers:\n",
    "                amount_to_distribute += volume_data[ticker]\n",
    "\n",
    "            #print(\"%s Return for topic id = %d is %f\" % (date, topic_id, amount_to_distribute))\n",
    "            last_date = date\n",
    "            if date not in all_returns_combined:\n",
    "                all_returns_combined[date] = 0\n",
    "            all_returns_combined[date] += amount_to_distribute\n",
    "            result.append((date, amount_to_distribute))\n",
    "\n",
    "    #print(\"Write data for topic: %s with result %s\" % (topic_id, amount_to_distribute))\n",
    "    #print(\"Finish with topic: %s with total result %s\" % (topic_id, all_returns_combined[last_date]))\n",
    "\n",
    "    with open(os.path.join(dir_result_portfolio, \"results-%s.csv\" % topic_id), 'w') as f_w:\n",
    "        f_w.write(\"Date,Value\\n\")\n",
    "        for entry in result:\n",
    "            f_w.write(\"%s,%f\\n\" % (entry[0], entry[1]))\n",
    "            \n",
    "with open(os.path.join(dir_result_portfolio, \"results-all.csv\"), 'w') as f_w:\n",
    "    f_w.write(\"Date,Value\\n\")\n",
    "    for date in sorted(all_returns_combined.keys()):\n",
    "        f_w.write(\"%s,%f\\n\" % (date, all_returns_combined[date]))"
   ]
  },
  {
   "cell_type": "code",
   "execution_count": 29,
   "metadata": {},
   "outputs": [],
   "source": [
    "base_line_returns = {}\n",
    "amount_to_distribute = initial_amount_to_distribute * number_of_topics\n",
    "number_of_companies = len(df_returns.axes[1])\n",
    "tickers = list(df_returns.columns)\n",
    "result = list()\n",
    "\n",
    "last_date = None\n",
    "#Year loop\n",
    "for year in year_series:\n",
    "        is_first_day = True\n",
    "        volume_data = dict()\n",
    "        \n",
    "        # set the days range\n",
    "        current_year = year + 1\n",
    "        inrange = None\n",
    "        if current_year == 2018:\n",
    "            inrange = pd.date_range(start=\"01.01.%s\" % (year + 1), end=\"30.06.%s\" % (year + 1), freq='D')\n",
    "        else:\n",
    "            inrange = pd.date_range(start=\"01.01.%s\" % (year + 1), end=\"31.12.%s\" % (year + 1), freq='D')\n",
    "        \n",
    "        #iterate days\n",
    "        for date in inrange:\n",
    "            date_return_data = df_returns.loc[date]\n",
    "            # distribute available amount for the first day of the year\n",
    "            if is_first_day:\n",
    "                is_first_day = False\n",
    "                for ticker in tickers:\n",
    "                    volume_data[ticker] = (1.0 * amount_to_distribute) / number_of_companies\n",
    "            else:\n",
    "                for ticker in tickers:\n",
    "                    volume_data[ticker] *= date_return_data[ticker]\n",
    "\n",
    "            #totaling for a day\n",
    "            amount_to_distribute = 0\n",
    "            for ticker in tickers:\n",
    "                amount_to_distribute += volume_data[ticker]\n",
    "\n",
    "            result.append((date, amount_to_distribute))\n",
    "\n",
    "            \n",
    "with open(os.path.join(dir_result_portfolio, \"results-base-line.csv\"), 'w') as f_w:\n",
    "    f_w.write(\"Date,Value\\n\")\n",
    "    for entry in result:\n",
    "        f_w.write(\"%s,%f\\n\" % (entry[0], entry[1]))       "
   ]
  },
  {
   "cell_type": "markdown",
   "metadata": {},
   "source": [
    "# Plots"
   ]
  },
  {
   "cell_type": "markdown",
   "metadata": {},
   "source": [
    "## Topic distribution"
   ]
  },
  {
   "cell_type": "code",
   "execution_count": 30,
   "metadata": {},
   "outputs": [],
   "source": [
    "# TODO"
   ]
  },
  {
   "cell_type": "markdown",
   "metadata": {},
   "source": [
    "## Returns"
   ]
  },
  {
   "cell_type": "code",
   "execution_count": 31,
   "metadata": {},
   "outputs": [],
   "source": [
    "dir_return_plots = os.path.join(dir_result_interpretation, 'return_plots')\n",
    "if not os.path.exists(dir_return_plots):\n",
    "    os.makedirs(dir_return_plots)"
   ]
  },
  {
   "cell_type": "code",
   "execution_count": 34,
   "metadata": {},
   "outputs": [],
   "source": [
    "def generate_subpots_indisies(rows, columns):\n",
    "    for row in range(rows):\n",
    "        for column in range(columns):\n",
    "            topic_id = (row * columns) + column\n",
    "            yield row, column, topic_id"
   ]
  },
  {
   "cell_type": "code",
   "execution_count": 42,
   "metadata": {},
   "outputs": [
    {
     "data": {
      "image/png": "[encoded data removed]",
      "text/plain": [
       "<Figure size 1440x1440 with 10 Axes>"
      ]
     },
     "metadata": {
      "needs_background": "light"
     },
     "output_type": "display_data"
    }
   ],
   "source": [
    "%matplotlib inline\n",
    "columns = 2\n",
    "rows = math.ceil(number_of_topics / columns)\n",
    "f, ax = plt.subplots(rows, columns, figsize=(20, 20))\n",
    "for row, column, topic_id in generate_subpots_indisies(rows, columns):\n",
    "    if topic_id < number_of_topics:        \n",
    "        topic_file = os.path.join(dir_result_portfolio, \"results-%s.csv\" % topic_id)\n",
    "        price_df = pd.read_csv(topic_file)\n",
    "        price_df['Date'] = pd.to_datetime(price_df['Date'])\n",
    "        price_df.sort_values(by=['Date'], inplace=True)\n",
    "        price_df.set_index('Date', inplace=True)\n",
    "        ax[row, column].plot(price_df)\n",
    "        ax[row, column].set_ylim(-0.1, 9)\n",
    "        ax[row, column].set_title(\"Returns for topic id: %s\" % topic_id)\n",
    "        ax[row, column].axhline(y=1, color='r')\n",
    "    else:\n",
    "        ax[row, column].remove()\n",
    "\n",
    "    \n",
    "pp = PdfPages(os.path.join(dir_return_plots, \"returns.pdf\"))\n",
    "plt.savefig(pp, format='pdf', bbox_inches='tight')\n",
    "pp.close()    "
   ]
  },
  {
   "cell_type": "code",
   "execution_count": null,
   "metadata": {},
   "outputs": [],
   "source": [
    "# TODO all topics combined ws flat investment in the all tickers"
   ]
  },
  {
   "cell_type": "code",
   "execution_count": null,
   "metadata": {},
   "outputs": [],
   "source": []
  },
  {
   "cell_type": "code",
   "execution_count": null,
   "metadata": {},
   "outputs": [],
   "source": []
  }
 ],
 "metadata": {
  "kernelspec": {
   "display_name": "Python 3",
   "language": "python",
   "name": "python3"
  },
  "language_info": {
   "codemirror_mode": {
    "name": "ipython",
    "version": 3
   },
   "file_extension": ".py",
   "mimetype": "text/x-python",
   "name": "python",
   "nbconvert_exporter": "python",
   "pygments_lexer": "ipython3",
   "version": "3.6.7"
  }
 },
 "nbformat": 4,
 "nbformat_minor": 2
}
