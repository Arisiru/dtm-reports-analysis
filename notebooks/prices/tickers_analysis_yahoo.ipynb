{
 "cells": [
  {
   "cell_type": "markdown",
   "metadata": {},
   "source": [
    "# Analysis on yahoo adjustmet close prices"
   ]
  },
  {
   "cell_type": "markdown",
   "metadata": {},
   "source": [
    "## Initialization\n",
    "The project initialization"
   ]
  },
  {
   "cell_type": "code",
   "execution_count": 1,
   "metadata": {},
   "outputs": [],
   "source": [
    "import pandas as pd\n",
    "import numpy as np\n",
    "import datetime as dt\n",
    "import os\n",
    "import matplotlib.pyplot as plt\n",
    "%matplotlib inline"
   ]
  },
  {
   "cell_type": "markdown",
   "metadata": {},
   "source": [
    "### Set paths to data folders"
   ]
  },
  {
   "cell_type": "code",
   "execution_count": 2,
   "metadata": {},
   "outputs": [],
   "source": [
    "dir_data_raw = os.path.join('..', '..', 'data_raw')\n",
    "dir_data_processing = os.path.join('..', '..', 'data_processing')"
   ]
  },
  {
   "cell_type": "markdown",
   "metadata": {},
   "source": [
    "### Set dates"
   ]
  },
  {
   "cell_type": "code",
   "execution_count": 3,
   "metadata": {},
   "outputs": [],
   "source": [
    "date_start = dt.datetime.strptime('2006-01-01', '%Y-%m-%d')\n",
    "date_end = dt.datetime.strptime('2021-06-30', '%Y-%m-%d') "
   ]
  },
  {
   "cell_type": "markdown",
   "metadata": {},
   "source": [
    "### Get tickers DF"
   ]
  },
  {
   "cell_type": "markdown",
   "metadata": {},
   "source": [
    "_set a path to the tickers.csv file._"
   ]
  },
  {
   "cell_type": "code",
   "execution_count": 4,
   "metadata": {},
   "outputs": [],
   "source": [
    "tickers_file = os.path.join(dir_data_processing, 'tickers', 'all_tickers.csv')"
   ]
  },
  {
   "cell_type": "code",
   "execution_count": 5,
   "metadata": {},
   "outputs": [],
   "source": [
    "tickers_df = pd.read_csv(tickers_file)"
   ]
  },
  {
   "cell_type": "code",
   "execution_count": 6,
   "metadata": {},
   "outputs": [
    {
     "data": {
      "text/html": [
       "<div>\n",
       "<style scoped>\n",
       "    .dataframe tbody tr th:only-of-type {\n",
       "        vertical-align: middle;\n",
       "    }\n",
       "\n",
       "    .dataframe tbody tr th {\n",
       "        vertical-align: top;\n",
       "    }\n",
       "\n",
       "    .dataframe thead th {\n",
       "        text-align: right;\n",
       "    }\n",
       "</style>\n",
       "<table border=\"1\" class=\"dataframe\">\n",
       "  <thead>\n",
       "    <tr style=\"text-align: right;\">\n",
       "      <th></th>\n",
       "      <th>ticker</th>\n",
       "      <th>ticker_index</th>\n",
       "      <th>ticker_yahoo</th>\n",
       "      <th>ticker_quandl</th>\n",
       "    </tr>\n",
       "  </thead>\n",
       "  <tbody>\n",
       "    <tr>\n",
       "      <th>0</th>\n",
       "      <td>AAL</td>\n",
       "      <td>AAL_FTSE</td>\n",
       "      <td>AAL.L</td>\n",
       "      <td>LSE/AAL</td>\n",
       "    </tr>\n",
       "    <tr>\n",
       "      <th>1</th>\n",
       "      <td>ABF</td>\n",
       "      <td>ABF_FTSE</td>\n",
       "      <td>ABF.L</td>\n",
       "      <td>LSE/ABF</td>\n",
       "    </tr>\n",
       "    <tr>\n",
       "      <th>2</th>\n",
       "      <td>ACA</td>\n",
       "      <td>ACA_CAC</td>\n",
       "      <td>ACA.PA</td>\n",
       "      <td>EURONEXT/ACA</td>\n",
       "    </tr>\n",
       "    <tr>\n",
       "      <th>3</th>\n",
       "      <td>AC</td>\n",
       "      <td>AC_CAC</td>\n",
       "      <td>AC.PA</td>\n",
       "      <td>EURONEXT/AC</td>\n",
       "    </tr>\n",
       "    <tr>\n",
       "      <th>4</th>\n",
       "      <td>ADM</td>\n",
       "      <td>ADM_FTSE</td>\n",
       "      <td>ADM.L</td>\n",
       "      <td>LSE/ADM</td>\n",
       "    </tr>\n",
       "    <tr>\n",
       "      <th>...</th>\n",
       "      <td>...</td>\n",
       "      <td>...</td>\n",
       "      <td>...</td>\n",
       "      <td>...</td>\n",
       "    </tr>\n",
       "    <tr>\n",
       "      <th>162</th>\n",
       "      <td>WG</td>\n",
       "      <td>WG_FTSE</td>\n",
       "      <td>WG.L</td>\n",
       "      <td>LSE/WG</td>\n",
       "    </tr>\n",
       "    <tr>\n",
       "      <th>163</th>\n",
       "      <td>WMT</td>\n",
       "      <td>WMT_DJIA</td>\n",
       "      <td>WMT</td>\n",
       "      <td>XNYS/WMT</td>\n",
       "    </tr>\n",
       "    <tr>\n",
       "      <th>164</th>\n",
       "      <td>WPP</td>\n",
       "      <td>WPP_FTSE</td>\n",
       "      <td>WPP.L</td>\n",
       "      <td>LSE/WPP</td>\n",
       "    </tr>\n",
       "    <tr>\n",
       "      <th>165</th>\n",
       "      <td>WTB</td>\n",
       "      <td>WTB_FTSE</td>\n",
       "      <td>WTB.L</td>\n",
       "      <td>LSE/WTB</td>\n",
       "    </tr>\n",
       "    <tr>\n",
       "      <th>166</th>\n",
       "      <td>XOM</td>\n",
       "      <td>XOM_DJIA</td>\n",
       "      <td>XOM</td>\n",
       "      <td>XNYS/XOM</td>\n",
       "    </tr>\n",
       "  </tbody>\n",
       "</table>\n",
       "<p>167 rows × 4 columns</p>\n",
       "</div>"
      ],
      "text/plain": [
       "    ticker ticker_index ticker_yahoo ticker_quandl\n",
       "0      AAL     AAL_FTSE        AAL.L       LSE/AAL\n",
       "1      ABF     ABF_FTSE        ABF.L       LSE/ABF\n",
       "2      ACA      ACA_CAC       ACA.PA  EURONEXT/ACA\n",
       "3       AC       AC_CAC        AC.PA   EURONEXT/AC\n",
       "4      ADM     ADM_FTSE        ADM.L       LSE/ADM\n",
       "..     ...          ...          ...           ...\n",
       "162     WG      WG_FTSE         WG.L        LSE/WG\n",
       "163    WMT     WMT_DJIA          WMT      XNYS/WMT\n",
       "164    WPP     WPP_FTSE        WPP.L       LSE/WPP\n",
       "165    WTB     WTB_FTSE        WTB.L       LSE/WTB\n",
       "166    XOM     XOM_DJIA          XOM      XNYS/XOM\n",
       "\n",
       "[167 rows x 4 columns]"
      ]
     },
     "execution_count": 6,
     "metadata": {},
     "output_type": "execute_result"
    }
   ],
   "source": [
    "tickers_df"
   ]
  },
  {
   "cell_type": "markdown",
   "metadata": {},
   "source": [
    "### Set thresholds"
   ]
  },
  {
   "cell_type": "code",
   "execution_count": 7,
   "metadata": {},
   "outputs": [],
   "source": [
    "max_daily_ratio = 1.55\n",
    "min_daily_ratio = 0.55"
   ]
  },
  {
   "cell_type": "code",
   "execution_count": 8,
   "metadata": {},
   "outputs": [
    {
     "name": "stdout",
     "output_type": "stream",
     "text": [
      "Total 0 noisy series\n"
     ]
    }
   ],
   "source": [
    "bad_prices = 0\n",
    "for index, t in tickers_df.iterrows():\n",
    "    price_file = os.path.join(dir_data_raw, 'prices', 'ready', \"%s.csv\" % t['ticker_index'])\n",
    "    price_df = pd.read_csv(price_file)\n",
    "    \n",
    "    #check last and first date\n",
    "    df_start = dt.datetime.strptime(price_df['Date'].iloc[0], '%Y-%m-%d')\n",
    "    if df_start > date_start:\n",
    "        print(\"Short series for %s starts at %s\" % (t['ticker_index'], day['Date']))\n",
    "    \n",
    "    df_end = dt.datetime.strptime(price_df['Date'].iloc[-1], '%Y-%m-%d')    \n",
    "    if df_end < date_end:\n",
    "        print(\"Short series for %s ends at %s\" % (t['ticker_index'], day['Date']))\n",
    "        \n",
    "    prev_day = None\n",
    "    price_ratios = [1]\n",
    "    show_flag = False\n",
    "    for i, day in price_df.iterrows():\n",
    "        if prev_day is None:\n",
    "            prev_day = day\n",
    "            continue\n",
    "        day_ratio = day['Adj Close'] / prev_day['Adj Close'] \n",
    "        if day_ratio > max_daily_ratio or day_ratio < min_daily_ratio:\n",
    "            show_flag = True\n",
    "            print(\"anomalies %s for %s at %s\" % (day_ratio, t['ticker_index'], day['Date']))\n",
    "        price_ratios.append(day_ratio) \n",
    "        prev_day = day\n",
    "\n",
    "            \n",
    "    price_df['Ratio'] = pd.Series(price_ratios).values\n",
    "    if show_flag:\n",
    "        bad_prices += 1\n",
    "        price_df.plot.line(x='Date', y='Ratio', title=t['ticker_index'])\n",
    "        plt.show()\n",
    "        \n",
    "print(\"Total %s noisy series\" % bad_prices)        "
   ]
  },
  {
   "cell_type": "code",
   "execution_count": null,
   "metadata": {},
   "outputs": [],
   "source": []
  },
  {
   "cell_type": "code",
   "execution_count": null,
   "metadata": {},
   "outputs": [],
   "source": []
  }
 ],
 "metadata": {
  "kernelspec": {
   "display_name": "Python 3",
   "language": "python",
   "name": "python3"
  },
  "language_info": {
   "codemirror_mode": {
    "name": "ipython",
    "version": 3
   },
   "file_extension": ".py",
   "mimetype": "text/x-python",
   "name": "python",
   "nbconvert_exporter": "python",
   "pygments_lexer": "ipython3",
   "version": "3.7.10"
  }
 },
 "nbformat": 4,
 "nbformat_minor": 2
}
