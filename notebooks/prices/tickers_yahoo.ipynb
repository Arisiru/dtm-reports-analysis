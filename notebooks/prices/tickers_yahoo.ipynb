{
 "cells": [
  {
   "cell_type": "markdown",
   "metadata": {},
   "source": [
    "# Ticker quotes: get historical prices, divedends, splits from Yahoo"
   ]
  },
  {
   "cell_type": "markdown",
   "metadata": {},
   "source": [
    "## The project initialization"
   ]
  },
  {
   "cell_type": "code",
   "execution_count": 1,
   "metadata": {},
   "outputs": [],
   "source": [
    "import codecs\n",
    "import csv\n",
    "import datetime as dt\n",
    "import numpy as np\n",
    "import os\n",
    "import pandas as pd\n",
    "import urllib.request, urllib.parse, urllib.error"
   ]
  },
  {
   "cell_type": "markdown",
   "metadata": {},
   "source": [
    "### Set network handlers and global vars"
   ]
  },
  {
   "cell_type": "code",
   "execution_count": 2,
   "metadata": {},
   "outputs": [],
   "source": [
    "_cookier = urllib.request.HTTPCookieProcessor()\n",
    "_opener = urllib.request.build_opener(_cookier)\n",
    "urllib.request.install_opener(_opener)\n",
    "\n",
    "_cookie = None\n",
    "_crumb = None\n",
    "\n",
    "_headers={\n",
    "    'User-Agent': 'Mozilla/5.0 (Macintosh; Intel Mac OS X 10_13_6) AppleWebKit/537.36 (KHTML, like Gecko) Chrome/68.0.3440.106 Safari/537.36',\n",
    "    'Referer': 'https://www.google.de/'\n",
    "}"
   ]
  },
  {
   "cell_type": "markdown",
   "metadata": {},
   "source": [
    "### Target dates\n",
    "_Please setup the time frame for your analysis. The start and the end dates should be formated \"yyyy-mm-dd\"._"
   ]
  },
  {
   "cell_type": "code",
   "execution_count": 3,
   "metadata": {},
   "outputs": [],
   "source": [
    "start_date = dt.datetime.strptime('2006-01-01', '%Y-%m-%d')\n",
    "end_date = dt.datetime.strptime('2018-11-01', '%Y-%m-%d') "
   ]
  },
  {
   "cell_type": "markdown",
   "metadata": {},
   "source": [
    "### Set paths to data folders"
   ]
  },
  {
   "cell_type": "code",
   "execution_count": 4,
   "metadata": {},
   "outputs": [],
   "source": [
    "data_raw_path = os.path.join('..', '..', 'data_raw')\n",
    "data_processing_path = os.path.join('..', '..', 'data_processing')"
   ]
  },
  {
   "cell_type": "markdown",
   "metadata": {},
   "source": [
    "# Download quotes\n",
    "_The following chapter will downlad historical prices, data about splits, and dividends for a given list of tickers_"
   ]
  },
  {
   "cell_type": "code",
   "execution_count": 5,
   "metadata": {},
   "outputs": [],
   "source": [
    "dates_s = pd.date_range(start=start_date, end=end_date)\n",
    "dates_df = pd.DataFrame({'Date': dates_s, 'Adj Coef': np.ones(len(dates_s))})"
   ]
  },
  {
   "cell_type": "markdown",
   "metadata": {},
   "source": [
    "### Define functions"
   ]
  },
  {
   "cell_type": "markdown",
   "metadata": {},
   "source": [
    "<i> The function get_cookie_crumb request a page from finance.yahoo.com with a quote for an orbitrary ticker and set crumb from the response to the global var _crumb together with setting _cookies for further requests</i>"
   ]
  },
  {
   "cell_type": "code",
   "execution_count": 6,
   "metadata": {},
   "outputs": [],
   "source": [
    "def set_cookie_crumb():\n",
    "    req = urllib.request.Request('https://finance.yahoo.com/quote/AAPL', headers=_headers)\n",
    "    f = urllib.request.urlopen(req)\n",
    "    alines = f.read().decode('utf-8')\n",
    "\n",
    "    global _crumb\n",
    "    cs = alines.find('CrumbStore')\n",
    "    cr = alines.find('crumb', cs + 10)\n",
    "    cl = alines.find(':', cr + 5)\n",
    "    q1 = alines.find('\"', cl + 1)\n",
    "    q2 = alines.find('\"', q1 + 1)\n",
    "    crumb = alines[q1 + 1:q2]\n",
    "    _crumb = codecs.decode(crumb, 'unicode-escape')\n",
    "\n",
    "    global _cookier, _cookie\n",
    "    for c in _cookier.cookiejar:\n",
    "        if c.domain != '.yahoo.com':\n",
    "            continue\n",
    "        if c.name != 'B':\n",
    "            continue\n",
    "        _cookie = c.value"
   ]
  },
  {
   "cell_type": "markdown",
   "metadata": {},
   "source": [
    "<i>The get_yahoo_quote function load info for a ticker from Yahoo and returns it as a Panda data frame.</i>\n",
    "possible info values: \n",
    "* 'history',\n",
    "* 'div',\n",
    "* 'split'\n",
    "\n",
    "_use the following dictionary to set correct info type_"
   ]
  },
  {
   "cell_type": "code",
   "execution_count": 7,
   "metadata": {},
   "outputs": [],
   "source": [
    "_info_types = {\n",
    "    'History': 'history',\n",
    "    'Dividend': 'div',\n",
    "    'Split': 'split'\n",
    "}"
   ]
  },
  {
   "cell_type": "markdown",
   "metadata": {},
   "source": [
    "<i>*FYI* get_yahoo_quote will:\n",
    "- sort data by date ASC; \n",
    "- fill \"null\" in 2 iterations, at first backward and forward after that;\n",
    "- reset index.\n",
    "</i>"
   ]
  },
  {
   "cell_type": "code",
   "execution_count": 8,
   "metadata": {},
   "outputs": [],
   "source": [
    "def get_yahoo_quote(ticker, begindate, enddate, info = 'history', debugurl = False):\n",
    "    global _cookie, _crumb\n",
    "    if _cookie == None or _crumb == None:\n",
    "        set_cookie_crumb()\n",
    "\n",
    "    params = urllib.parse.urlencode({\n",
    "        'period1': int(begindate.timestamp()),\n",
    "        'period2': int(enddate.timestamp()),\n",
    "        'interval': '1d',\n",
    "        'events': info,\n",
    "        'crumb': _crumb\n",
    "    })\n",
    "    url = 'https://query1.finance.yahoo.com/v7/finance/download/{}?{}'.format(ticker, params)\n",
    "    \n",
    "    if debugurl:\n",
    "        return url\n",
    "    \n",
    "    req = urllib.request.Request(url, headers=_headers)\n",
    "\n",
    "    f = urllib.request.urlopen(req)\n",
    "    alines = f.read().decode('utf-8')\n",
    "    map_not_digints_to_none = lambda x: x and x != 'null' and x or None\n",
    "\n",
    "    nested_alines = [map(map_not_digints_to_none, line.split(',')) for line in alines.split('\\n')[1:]]\n",
    "    cols = alines.split('\\n')[0].split(',')\n",
    "    adf = pd.DataFrame.from_records(nested_alines[:-1], columns=cols)\n",
    "    \n",
    "    adf['Date'] = pd.to_datetime(adf['Date'])\n",
    "    adf.sort_values('Date', inplace = True)\n",
    "    adf.reset_index(drop = True, inplace = True)\n",
    "    \n",
    "    if info == _info_types['History']:\n",
    "        adf = pd.merge(dates_df, adf, how='outer', on=['Date'])\n",
    "    \n",
    "    adf.set_index('Date', inplace=True)\n",
    "\n",
    "    adf.fillna(inplace = True, method = 'ffill')\n",
    "    adf.fillna(inplace = True, method = 'bfill')\n",
    "\n",
    "    if len(adf[adf.isnull().any(axis=1)]):\n",
    "        print(\"Can't fix NaN in %s\" % ticker)\n",
    "\n",
    "    return adf"
   ]
  },
  {
   "cell_type": "markdown",
   "metadata": {},
   "source": [
    "<i>The save_historical_prices function get historical data for a ticker and save in as CSV.</i>"
   ]
  },
  {
   "cell_type": "code",
   "execution_count": 9,
   "metadata": {
    "scrolled": false
   },
   "outputs": [],
   "source": [
    "def save_historical_data(ticker_dict, patht_output_dir, info_type):\n",
    "    data_result = None\n",
    "    try:\n",
    "        data_result = get_yahoo_quote(ticker_dict['ticker_yahoo'], start_date, end_date, info = info_type)\n",
    "    except Exception as ex:\n",
    "        print(\"Error for ticker %s, yahoo code %s : %s\" % (ticker_dict['ticker_index'], ticker_dict['ticker_yahoo'], ex))\n",
    "\n",
    "    if data_result is not None:\n",
    "        file_result = os.path.join(patht_output_dir, \"%s.csv\" % ticker_dict['ticker_index'])\n",
    "        data_result.to_csv(file_result, encoding='utf-8')\n",
    "    else:\n",
    "        print(\"Error for ticker %s, yahoo code %s : Data is empty\" % (ticker_dict['ticker_index'], ticker_dict['ticker_yahoo']))"
   ]
  },
  {
   "cell_type": "markdown",
   "metadata": {},
   "source": [
    "### Get historical data"
   ]
  },
  {
   "cell_type": "markdown",
   "metadata": {},
   "source": [
    "_set a path to the tickers.csv file._"
   ]
  },
  {
   "cell_type": "code",
   "execution_count": 10,
   "metadata": {},
   "outputs": [],
   "source": [
    "tickers_file = os.path.join(data_processing_path, 'tickers', 'all_tickers.csv')"
   ]
  },
  {
   "cell_type": "markdown",
   "metadata": {},
   "source": [
    "#### Get prices ####"
   ]
  },
  {
   "cell_type": "markdown",
   "metadata": {},
   "source": [
    "_the folloving code will read all tickers from ticker.csv file and download historical prices for every ticker in it_"
   ]
  },
  {
   "cell_type": "code",
   "execution_count": 18,
   "metadata": {},
   "outputs": [],
   "source": [
    "price_path = os.path.join(data_raw_path, 'prices', 'yahoo')\n",
    "\n",
    "if not os.path.isdir(price_path):\n",
    "    os.mkdir(price_path)\n",
    "\n",
    "with open(tickers_file, 'r') as f_r:\n",
    "    reader = csv.DictReader(f_r)\n",
    "    for ticker_dict in reader:\n",
    "        save_historical_data(ticker_dict, price_path, _info_types['History'])\n"
   ]
  },
  {
   "cell_type": "markdown",
   "metadata": {},
   "source": [
    "#### Get dividends ####"
   ]
  },
  {
   "cell_type": "markdown",
   "metadata": {},
   "source": [
    "_the folloving code will read all tickers from ticker.csv file and download dividends data for every ticker in it_"
   ]
  },
  {
   "cell_type": "code",
   "execution_count": 19,
   "metadata": {},
   "outputs": [],
   "source": [
    "price_path = os.path.join(data_raw_path, 'prices', 'yahoo_dividends')\n",
    "\n",
    "if not os.path.isdir(price_path):\n",
    "    os.mkdir(price_path)\n",
    "\n",
    "with open(tickers_file, 'r') as f_r:\n",
    "    reader = csv.DictReader(f_r)\n",
    "    for ticker_dict in reader:\n",
    "        save_historical_data(ticker_dict, price_path, _info_types['Dividend'])"
   ]
  },
  {
   "cell_type": "markdown",
   "metadata": {},
   "source": [
    "#### Get splits ####"
   ]
  },
  {
   "cell_type": "markdown",
   "metadata": {},
   "source": [
    "_the folloving code will read all tickers from ticker.csv file and download splits data for every ticker in it_"
   ]
  },
  {
   "cell_type": "code",
   "execution_count": 20,
   "metadata": {},
   "outputs": [],
   "source": [
    "price_path = os.path.join(data_raw_path, 'prices', 'yahoo_splits')\n",
    "\n",
    "if not os.path.isdir(price_path):\n",
    "    os.mkdir(price_path)\n",
    "\n",
    "with open(tickers_file, 'r') as f_r:\n",
    "    reader = csv.DictReader(f_r)\n",
    "    for ticker_dict in reader:\n",
    "        save_historical_data(ticker_dict, price_path, _info_types['Split'])"
   ]
  },
  {
   "cell_type": "markdown",
   "metadata": {},
   "source": [
    "# Testing section"
   ]
  },
  {
   "cell_type": "markdown",
   "metadata": {},
   "source": [
    "_use it to test Crumb and Cookies_"
   ]
  },
  {
   "cell_type": "code",
   "execution_count": 11,
   "metadata": {
    "scrolled": true
   },
   "outputs": [
    {
     "name": "stdout",
     "output_type": "stream",
     "text": [
      "Cookeie: 5mpc6lhduduev&b=3&s=t3\n",
      "Crumb: D41/e9yXF3z\n"
     ]
    }
   ],
   "source": [
    "set_cookie_crumb()\n",
    "print(\"Cookeie: %s\" % _cookie)\n",
    "print(\"Crumb: %s\" % _crumb)"
   ]
  },
  {
   "cell_type": "markdown",
   "metadata": {},
   "source": [
    "_use it to test load url_"
   ]
  },
  {
   "cell_type": "code",
   "execution_count": 12,
   "metadata": {},
   "outputs": [
    {
     "data": {
      "text/plain": [
       "'https://query1.finance.yahoo.com/v7/finance/download/AAPL?period1=1136070000&period2=1541026800&interval=1d&events=history&crumb=D41%2Fe9yXF3z'"
      ]
     },
     "execution_count": 12,
     "metadata": {},
     "output_type": "execute_result"
    }
   ],
   "source": [
    "get_yahoo_quote('AAPL', start_date, end_date, debugurl = True)"
   ]
  },
  {
   "cell_type": "markdown",
   "metadata": {},
   "source": [
    "_use it to request from yahho for a single ticker_"
   ]
  },
  {
   "cell_type": "code",
   "execution_count": 13,
   "metadata": {},
   "outputs": [
    {
     "data": {
      "text/html": [
       "<div>\n",
       "<style scoped>\n",
       "    .dataframe tbody tr th:only-of-type {\n",
       "        vertical-align: middle;\n",
       "    }\n",
       "\n",
       "    .dataframe tbody tr th {\n",
       "        vertical-align: top;\n",
       "    }\n",
       "\n",
       "    .dataframe thead th {\n",
       "        text-align: right;\n",
       "    }\n",
       "</style>\n",
       "<table border=\"1\" class=\"dataframe\">\n",
       "  <thead>\n",
       "    <tr style=\"text-align: right;\">\n",
       "      <th></th>\n",
       "      <th>Adj Coef</th>\n",
       "      <th>Open</th>\n",
       "      <th>High</th>\n",
       "      <th>Low</th>\n",
       "      <th>Close</th>\n",
       "      <th>Adj Close</th>\n",
       "      <th>Volume</th>\n",
       "    </tr>\n",
       "    <tr>\n",
       "      <th>Date</th>\n",
       "      <th></th>\n",
       "      <th></th>\n",
       "      <th></th>\n",
       "      <th></th>\n",
       "      <th></th>\n",
       "      <th></th>\n",
       "      <th></th>\n",
       "    </tr>\n",
       "  </thead>\n",
       "  <tbody>\n",
       "    <tr>\n",
       "      <th>2006-01-01</th>\n",
       "      <td>1.0</td>\n",
       "      <td>10.340000</td>\n",
       "      <td>10.678572</td>\n",
       "      <td>10.321428</td>\n",
       "      <td>10.678572</td>\n",
       "      <td>7.151043</td>\n",
       "      <td>201808600</td>\n",
       "    </tr>\n",
       "    <tr>\n",
       "      <th>2006-01-02</th>\n",
       "      <td>1.0</td>\n",
       "      <td>10.340000</td>\n",
       "      <td>10.678572</td>\n",
       "      <td>10.321428</td>\n",
       "      <td>10.678572</td>\n",
       "      <td>7.151043</td>\n",
       "      <td>201808600</td>\n",
       "    </tr>\n",
       "    <tr>\n",
       "      <th>2006-01-03</th>\n",
       "      <td>1.0</td>\n",
       "      <td>10.340000</td>\n",
       "      <td>10.678572</td>\n",
       "      <td>10.321428</td>\n",
       "      <td>10.678572</td>\n",
       "      <td>7.151043</td>\n",
       "      <td>201808600</td>\n",
       "    </tr>\n",
       "  </tbody>\n",
       "</table>\n",
       "</div>"
      ],
      "text/plain": [
       "            Adj Coef       Open       High        Low      Close Adj Close  \\\n",
       "Date                                                                         \n",
       "2006-01-01       1.0  10.340000  10.678572  10.321428  10.678572  7.151043   \n",
       "2006-01-02       1.0  10.340000  10.678572  10.321428  10.678572  7.151043   \n",
       "2006-01-03       1.0  10.340000  10.678572  10.321428  10.678572  7.151043   \n",
       "\n",
       "               Volume  \n",
       "Date                   \n",
       "2006-01-01  201808600  \n",
       "2006-01-02  201808600  \n",
       "2006-01-03  201808600  "
      ]
     },
     "execution_count": 13,
     "metadata": {},
     "output_type": "execute_result"
    }
   ],
   "source": [
    "data = get_yahoo_quote('AAPL', start_date, end_date)\n",
    "data.head(3)"
   ]
  },
  {
   "cell_type": "code",
   "execution_count": 14,
   "metadata": {},
   "outputs": [
    {
     "data": {
      "text/html": [
       "<div>\n",
       "<style scoped>\n",
       "    .dataframe tbody tr th:only-of-type {\n",
       "        vertical-align: middle;\n",
       "    }\n",
       "\n",
       "    .dataframe tbody tr th {\n",
       "        vertical-align: top;\n",
       "    }\n",
       "\n",
       "    .dataframe thead th {\n",
       "        text-align: right;\n",
       "    }\n",
       "</style>\n",
       "<table border=\"1\" class=\"dataframe\">\n",
       "  <thead>\n",
       "    <tr style=\"text-align: right;\">\n",
       "      <th></th>\n",
       "      <th>Adj Coef</th>\n",
       "      <th>Open</th>\n",
       "      <th>High</th>\n",
       "      <th>Low</th>\n",
       "      <th>Close</th>\n",
       "      <th>Adj Close</th>\n",
       "      <th>Volume</th>\n",
       "    </tr>\n",
       "    <tr>\n",
       "      <th>Date</th>\n",
       "      <th></th>\n",
       "      <th></th>\n",
       "      <th></th>\n",
       "      <th></th>\n",
       "      <th></th>\n",
       "      <th></th>\n",
       "      <th></th>\n",
       "    </tr>\n",
       "  </thead>\n",
       "  <tbody>\n",
       "    <tr>\n",
       "      <th>2018-10-30</th>\n",
       "      <td>1.0</td>\n",
       "      <td>211.149994</td>\n",
       "      <td>215.179993</td>\n",
       "      <td>209.270004</td>\n",
       "      <td>213.300003</td>\n",
       "      <td>212.558350</td>\n",
       "      <td>36660000</td>\n",
       "    </tr>\n",
       "    <tr>\n",
       "      <th>2018-10-31</th>\n",
       "      <td>1.0</td>\n",
       "      <td>216.880005</td>\n",
       "      <td>220.449997</td>\n",
       "      <td>216.619995</td>\n",
       "      <td>218.860001</td>\n",
       "      <td>218.099014</td>\n",
       "      <td>38358900</td>\n",
       "    </tr>\n",
       "    <tr>\n",
       "      <th>2018-11-01</th>\n",
       "      <td>1.0</td>\n",
       "      <td>216.880005</td>\n",
       "      <td>220.449997</td>\n",
       "      <td>216.619995</td>\n",
       "      <td>218.860001</td>\n",
       "      <td>218.099014</td>\n",
       "      <td>38358900</td>\n",
       "    </tr>\n",
       "  </tbody>\n",
       "</table>\n",
       "</div>"
      ],
      "text/plain": [
       "            Adj Coef        Open        High         Low       Close  \\\n",
       "Date                                                                   \n",
       "2018-10-30       1.0  211.149994  215.179993  209.270004  213.300003   \n",
       "2018-10-31       1.0  216.880005  220.449997  216.619995  218.860001   \n",
       "2018-11-01       1.0  216.880005  220.449997  216.619995  218.860001   \n",
       "\n",
       "             Adj Close    Volume  \n",
       "Date                              \n",
       "2018-10-30  212.558350  36660000  \n",
       "2018-10-31  218.099014  38358900  \n",
       "2018-11-01  218.099014  38358900  "
      ]
     },
     "execution_count": 14,
     "metadata": {},
     "output_type": "execute_result"
    }
   ],
   "source": [
    "data.tail(3)"
   ]
  },
  {
   "cell_type": "markdown",
   "metadata": {},
   "source": [
    "_use it to get and save a ticker_"
   ]
  },
  {
   "cell_type": "code",
   "execution_count": 17,
   "metadata": {},
   "outputs": [],
   "source": [
    "price_path = os.path.join(data_raw_path, 'prices', 'yahoo')\n",
    "save_historical_data({\n",
    "    'ticker': 'RI',\n",
    "    'ticker_index': 'RI_CAC',\n",
    "    'ticker_yahoo': 'RI.PA',\n",
    "    'ticker_quandl': 'EURONEXT/RI'\n",
    "}, price_path, _info_types['History'])"
   ]
  },
  {
   "cell_type": "code",
   "execution_count": null,
   "metadata": {},
   "outputs": [],
   "source": []
  }
 ],
 "metadata": {
  "kernelspec": {
   "display_name": "Python 3",
   "language": "python",
   "name": "python3"
  },
  "language_info": {
   "codemirror_mode": {
    "name": "ipython",
    "version": 3
   },
   "file_extension": ".py",
   "mimetype": "text/x-python",
   "name": "python",
   "nbconvert_exporter": "python",
   "pygments_lexer": "ipython3",
   "version": "3.7.0"
  }
 },
 "nbformat": 4,
 "nbformat_minor": 2
}
