{
 "cells": [
  {
   "cell_type": "markdown",
   "metadata": {},
   "source": [
    "# Analysis on yahoo adjustmet close prices"
   ]
  },
  {
   "cell_type": "markdown",
   "metadata": {},
   "source": [
    "## Initialization\n",
    "The project initialization"
   ]
  },
  {
   "cell_type": "code",
   "execution_count": 1,
   "metadata": {},
   "outputs": [],
   "source": [
    "import pandas as pd\n",
    "import datetime as dt\n",
    "import numpy as np\n",
    "import os\n",
    "import matplotlib.pyplot as plt\n",
    "%matplotlib inline"
   ]
  },
  {
   "cell_type": "markdown",
   "metadata": {},
   "source": [
    "### Set paths to data folders"
   ]
  },
  {
   "cell_type": "code",
   "execution_count": 2,
   "metadata": {},
   "outputs": [],
   "source": [
    "dir_data_raw = os.path.join('..', '..', 'data_raw')\n",
    "dir_data_processing = os.path.join('..', '..', 'data_processing')"
   ]
  },
  {
   "cell_type": "markdown",
   "metadata": {},
   "source": [
    "### Get tickers DF"
   ]
  },
  {
   "cell_type": "markdown",
   "metadata": {},
   "source": [
    "_set a path to the tickers.csv file._"
   ]
  },
  {
   "cell_type": "code",
   "execution_count": 3,
   "metadata": {},
   "outputs": [],
   "source": [
    "#tickers_file = os.path.join(dir_data_processing, 'tickers', 'all_tickers.csv')"
   ]
  },
  {
   "cell_type": "code",
   "execution_count": 4,
   "metadata": {},
   "outputs": [],
   "source": [
    "#tickers_df = pd.read_csv(tickers_file)"
   ]
  },
  {
   "cell_type": "code",
   "execution_count": 5,
   "metadata": {},
   "outputs": [],
   "source": [
    "#tickers_df.head(3)"
   ]
  },
  {
   "cell_type": "markdown",
   "metadata": {},
   "source": [
    "read ticker by ticker:\n",
    "extend to have every day in the time frame \n",
    "create new dataframe with columns : every day in the time frame (string), adjusted coef = 1\n",
    "merge 2 df\n",
    "fill na\n",
    "add new column date as timestamp, make it index\n",
    "\n",
    "read dividends:\n",
    "for every dividend update all entries <= date (timestamt)\n",
    "\n",
    "read splits:\n",
    "for every split update all adj coef  where <= date (timestamp)\n",
    "\n",
    "update column adj close = close * adjusted coef\n"
   ]
  },
  {
   "cell_type": "code",
   "execution_count": 6,
   "metadata": {},
   "outputs": [],
   "source": [
    "date_start = dt.datetime.strptime('2006-01-01', '%Y-%m-%d')\n",
    "date_end = dt.datetime.strptime('2018-11-01', '%Y-%m-%d') \n",
    "max_daily_ratio = 1.5\n",
    "min_daily_ratio = 0.5"
   ]
  },
  {
   "cell_type": "code",
   "execution_count": 7,
   "metadata": {},
   "outputs": [
    {
     "name": "stdout",
     "output_type": "stream",
     "text": [
      "<class 'pandas.core.frame.DataFrame'>\n",
      "RangeIndex: 4688 entries, 0 to 4687\n",
      "Data columns (total 2 columns):\n",
      "Date        4688 non-null datetime64[ns]\n",
      "Adj Coef    4688 non-null float64\n",
      "dtypes: datetime64[ns](1), float64(1)\n",
      "memory usage: 73.3 KB\n"
     ]
    }
   ],
   "source": [
    "dates_s = pd.date_range(start=date_start, end=date_end)\n",
    "dates_df = pd.DataFrame({'Date': dates_s, 'Adj Coef': np.ones(len(dates_s))})\n",
    "\n",
    "# todo remove\n",
    "dates_df.info()"
   ]
  },
  {
   "cell_type": "code",
   "execution_count": 8,
   "metadata": {},
   "outputs": [],
   "source": [
    "#ticker = 'ACA_CAC'\n",
    "#ticker = 'BARC_FTSE'\n",
    "#ticker = 'BAS_DAX'\n",
    "#ticker = 'DTE_DAX'\n",
    "#ticker = 'IFX_DAX'\n",
    "#ticker = 'LLOY_FTSE'\n",
    "#ticker = 'RBS_FTSE'\n",
    "ticker = 'DB1_DAX'"
   ]
  },
  {
   "cell_type": "code",
   "execution_count": 9,
   "metadata": {},
   "outputs": [],
   "source": [
    "def get_yahoo_df(file):\n",
    "    df = pd.read_csv(file)\n",
    "    df['Date'] = pd.to_datetime(df['Date'])\n",
    "    df.set_index('Date', inplace=True)\n",
    "    \n",
    "    return df"
   ]
  },
  {
   "cell_type": "code",
   "execution_count": 10,
   "metadata": {},
   "outputs": [],
   "source": [
    "def get_price_df(ticker):\n",
    "    return get_yahoo_df(os.path.join(dir_data_raw, 'prices', 'yahoo', \"%s.csv\" % ticker))"
   ]
  },
  {
   "cell_type": "code",
   "execution_count": 11,
   "metadata": {},
   "outputs": [],
   "source": [
    "def get_dividends_df(ticker):\n",
    "    return get_yahoo_df(os.path.join(dir_data_raw, 'prices', 'yahoo_dividends', \"%s.csv\" % ticker))"
   ]
  },
  {
   "cell_type": "code",
   "execution_count": 12,
   "metadata": {},
   "outputs": [],
   "source": [
    "def get_splits_df(ticker):\n",
    "    return get_yahoo_df(os.path.join(dir_data_raw, 'prices', 'yahoo_splits', \"%s.csv\" % ticker))"
   ]
  },
  {
   "cell_type": "code",
   "execution_count": 13,
   "metadata": {},
   "outputs": [
    {
     "data": {
      "text/html": [
       "<div>\n",
       "<style scoped>\n",
       "    .dataframe tbody tr th:only-of-type {\n",
       "        vertical-align: middle;\n",
       "    }\n",
       "\n",
       "    .dataframe tbody tr th {\n",
       "        vertical-align: top;\n",
       "    }\n",
       "\n",
       "    .dataframe thead th {\n",
       "        text-align: right;\n",
       "    }\n",
       "</style>\n",
       "<table border=\"1\" class=\"dataframe\">\n",
       "  <thead>\n",
       "    <tr style=\"text-align: right;\">\n",
       "      <th></th>\n",
       "      <th>Adj Coef</th>\n",
       "      <th>Open</th>\n",
       "      <th>High</th>\n",
       "      <th>Low</th>\n",
       "      <th>Close</th>\n",
       "      <th>Adj Close</th>\n",
       "      <th>Volume</th>\n",
       "    </tr>\n",
       "    <tr>\n",
       "      <th>Date</th>\n",
       "      <th></th>\n",
       "      <th></th>\n",
       "      <th></th>\n",
       "      <th></th>\n",
       "      <th></th>\n",
       "      <th></th>\n",
       "      <th></th>\n",
       "    </tr>\n",
       "  </thead>\n",
       "  <tbody>\n",
       "    <tr>\n",
       "      <th>2006-01-01</th>\n",
       "      <td>1.0</td>\n",
       "      <td>86.849998</td>\n",
       "      <td>88.080002</td>\n",
       "      <td>86.650002</td>\n",
       "      <td>87.849998</td>\n",
       "      <td>58.091747</td>\n",
       "      <td>6600</td>\n",
       "    </tr>\n",
       "    <tr>\n",
       "      <th>2006-01-02</th>\n",
       "      <td>1.0</td>\n",
       "      <td>86.849998</td>\n",
       "      <td>88.080002</td>\n",
       "      <td>86.650002</td>\n",
       "      <td>87.849998</td>\n",
       "      <td>58.091747</td>\n",
       "      <td>6600</td>\n",
       "    </tr>\n",
       "    <tr>\n",
       "      <th>2006-01-03</th>\n",
       "      <td>1.0</td>\n",
       "      <td>88.699997</td>\n",
       "      <td>88.980003</td>\n",
       "      <td>86.889999</td>\n",
       "      <td>87.580002</td>\n",
       "      <td>57.913212</td>\n",
       "      <td>8700</td>\n",
       "    </tr>\n",
       "    <tr>\n",
       "      <th>2006-01-04</th>\n",
       "      <td>1.0</td>\n",
       "      <td>88.220001</td>\n",
       "      <td>88.220001</td>\n",
       "      <td>86.860001</td>\n",
       "      <td>87.070000</td>\n",
       "      <td>57.575970</td>\n",
       "      <td>7000</td>\n",
       "    </tr>\n",
       "    <tr>\n",
       "      <th>2006-01-05</th>\n",
       "      <td>1.0</td>\n",
       "      <td>86.790001</td>\n",
       "      <td>86.790001</td>\n",
       "      <td>86.129997</td>\n",
       "      <td>86.410004</td>\n",
       "      <td>57.139542</td>\n",
       "      <td>8000</td>\n",
       "    </tr>\n",
       "  </tbody>\n",
       "</table>\n",
       "</div>"
      ],
      "text/plain": [
       "            Adj Coef       Open       High        Low      Close  Adj Close  \\\n",
       "Date                                                                          \n",
       "2006-01-01       1.0  86.849998  88.080002  86.650002  87.849998  58.091747   \n",
       "2006-01-02       1.0  86.849998  88.080002  86.650002  87.849998  58.091747   \n",
       "2006-01-03       1.0  88.699997  88.980003  86.889999  87.580002  57.913212   \n",
       "2006-01-04       1.0  88.220001  88.220001  86.860001  87.070000  57.575970   \n",
       "2006-01-05       1.0  86.790001  86.790001  86.129997  86.410004  57.139542   \n",
       "\n",
       "            Volume  \n",
       "Date                \n",
       "2006-01-01    6600  \n",
       "2006-01-02    6600  \n",
       "2006-01-03    8700  \n",
       "2006-01-04    7000  \n",
       "2006-01-05    8000  "
      ]
     },
     "execution_count": 13,
     "metadata": {},
     "output_type": "execute_result"
    }
   ],
   "source": [
    "price_df = get_price_df(ticker)\n",
    "price_df.head()"
   ]
  },
  {
   "cell_type": "code",
   "execution_count": 14,
   "metadata": {},
   "outputs": [
    {
     "data": {
      "text/html": [
       "<div>\n",
       "<style scoped>\n",
       "    .dataframe tbody tr th:only-of-type {\n",
       "        vertical-align: middle;\n",
       "    }\n",
       "\n",
       "    .dataframe tbody tr th {\n",
       "        vertical-align: top;\n",
       "    }\n",
       "\n",
       "    .dataframe thead th {\n",
       "        text-align: right;\n",
       "    }\n",
       "</style>\n",
       "<table border=\"1\" class=\"dataframe\">\n",
       "  <thead>\n",
       "    <tr style=\"text-align: right;\">\n",
       "      <th></th>\n",
       "      <th>Dividends</th>\n",
       "    </tr>\n",
       "    <tr>\n",
       "      <th>Date</th>\n",
       "      <th></th>\n",
       "    </tr>\n",
       "  </thead>\n",
       "  <tbody>\n",
       "    <tr>\n",
       "      <th>2006-05-25</th>\n",
       "      <td>2.1</td>\n",
       "    </tr>\n",
       "    <tr>\n",
       "      <th>2007-05-14</th>\n",
       "      <td>3.4</td>\n",
       "    </tr>\n",
       "    <tr>\n",
       "      <th>2008-05-22</th>\n",
       "      <td>2.1</td>\n",
       "    </tr>\n",
       "    <tr>\n",
       "      <th>2009-05-21</th>\n",
       "      <td>2.1</td>\n",
       "    </tr>\n",
       "    <tr>\n",
       "      <th>2010-05-28</th>\n",
       "      <td>2.1</td>\n",
       "    </tr>\n",
       "  </tbody>\n",
       "</table>\n",
       "</div>"
      ],
      "text/plain": [
       "            Dividends\n",
       "Date                 \n",
       "2006-05-25        2.1\n",
       "2007-05-14        3.4\n",
       "2008-05-22        2.1\n",
       "2009-05-21        2.1\n",
       "2010-05-28        2.1"
      ]
     },
     "execution_count": 14,
     "metadata": {},
     "output_type": "execute_result"
    }
   ],
   "source": [
    "dividends_df = get_dividends_df(ticker)\n",
    "dividends_df.head()"
   ]
  },
  {
   "cell_type": "code",
   "execution_count": 15,
   "metadata": {},
   "outputs": [
    {
     "data": {
      "text/html": [
       "<div>\n",
       "<style scoped>\n",
       "    .dataframe tbody tr th:only-of-type {\n",
       "        vertical-align: middle;\n",
       "    }\n",
       "\n",
       "    .dataframe tbody tr th {\n",
       "        vertical-align: top;\n",
       "    }\n",
       "\n",
       "    .dataframe thead th {\n",
       "        text-align: right;\n",
       "    }\n",
       "</style>\n",
       "<table border=\"1\" class=\"dataframe\">\n",
       "  <thead>\n",
       "    <tr style=\"text-align: right;\">\n",
       "      <th></th>\n",
       "      <th>Adj Coef</th>\n",
       "      <th>Open</th>\n",
       "      <th>High</th>\n",
       "      <th>Low</th>\n",
       "      <th>Close</th>\n",
       "      <th>Adj Close</th>\n",
       "      <th>Volume</th>\n",
       "    </tr>\n",
       "    <tr>\n",
       "      <th>Date</th>\n",
       "      <th></th>\n",
       "      <th></th>\n",
       "      <th></th>\n",
       "      <th></th>\n",
       "      <th></th>\n",
       "      <th></th>\n",
       "      <th></th>\n",
       "    </tr>\n",
       "  </thead>\n",
       "  <tbody>\n",
       "    <tr>\n",
       "      <th>2006-01-01</th>\n",
       "      <td>1.511264</td>\n",
       "      <td>86.849998</td>\n",
       "      <td>88.080002</td>\n",
       "      <td>86.650002</td>\n",
       "      <td>87.849998</td>\n",
       "      <td>58.091747</td>\n",
       "      <td>6600</td>\n",
       "    </tr>\n",
       "    <tr>\n",
       "      <th>2006-01-02</th>\n",
       "      <td>1.511264</td>\n",
       "      <td>86.849998</td>\n",
       "      <td>88.080002</td>\n",
       "      <td>86.650002</td>\n",
       "      <td>87.849998</td>\n",
       "      <td>58.091747</td>\n",
       "      <td>6600</td>\n",
       "    </tr>\n",
       "    <tr>\n",
       "      <th>2006-01-03</th>\n",
       "      <td>1.511264</td>\n",
       "      <td>88.699997</td>\n",
       "      <td>88.980003</td>\n",
       "      <td>86.889999</td>\n",
       "      <td>87.580002</td>\n",
       "      <td>57.913212</td>\n",
       "      <td>8700</td>\n",
       "    </tr>\n",
       "    <tr>\n",
       "      <th>2006-01-04</th>\n",
       "      <td>1.511264</td>\n",
       "      <td>88.220001</td>\n",
       "      <td>88.220001</td>\n",
       "      <td>86.860001</td>\n",
       "      <td>87.070000</td>\n",
       "      <td>57.575970</td>\n",
       "      <td>7000</td>\n",
       "    </tr>\n",
       "    <tr>\n",
       "      <th>2006-01-05</th>\n",
       "      <td>1.511264</td>\n",
       "      <td>86.790001</td>\n",
       "      <td>86.790001</td>\n",
       "      <td>86.129997</td>\n",
       "      <td>86.410004</td>\n",
       "      <td>57.139542</td>\n",
       "      <td>8000</td>\n",
       "    </tr>\n",
       "  </tbody>\n",
       "</table>\n",
       "</div>"
      ],
      "text/plain": [
       "            Adj Coef       Open       High        Low      Close  Adj Close  \\\n",
       "Date                                                                          \n",
       "2006-01-01  1.511264  86.849998  88.080002  86.650002  87.849998  58.091747   \n",
       "2006-01-02  1.511264  86.849998  88.080002  86.650002  87.849998  58.091747   \n",
       "2006-01-03  1.511264  88.699997  88.980003  86.889999  87.580002  57.913212   \n",
       "2006-01-04  1.511264  88.220001  88.220001  86.860001  87.070000  57.575970   \n",
       "2006-01-05  1.511264  86.790001  86.790001  86.129997  86.410004  57.139542   \n",
       "\n",
       "            Volume  \n",
       "Date                \n",
       "2006-01-01    6600  \n",
       "2006-01-02    6600  \n",
       "2006-01-03    8700  \n",
       "2006-01-04    7000  \n",
       "2006-01-05    8000  "
      ]
     },
     "execution_count": 15,
     "metadata": {},
     "output_type": "execute_result"
    }
   ],
   "source": [
    "for index, row in dividends_df.iterrows():\n",
    "    day = price_df.loc[index]\n",
    "    f = (row['Dividends'] + day['Close']) / day['Close']\n",
    "    price_df.loc[price_df.index < index, 'Adj Coef'] *= f\n",
    "\n",
    "# todo remove\n",
    "price_df.head()   "
   ]
  },
  {
   "cell_type": "code",
   "execution_count": 16,
   "metadata": {},
   "outputs": [
    {
     "data": {
      "text/html": [
       "<div>\n",
       "<style scoped>\n",
       "    .dataframe tbody tr th:only-of-type {\n",
       "        vertical-align: middle;\n",
       "    }\n",
       "\n",
       "    .dataframe tbody tr th {\n",
       "        vertical-align: top;\n",
       "    }\n",
       "\n",
       "    .dataframe thead th {\n",
       "        text-align: right;\n",
       "    }\n",
       "</style>\n",
       "<table border=\"1\" class=\"dataframe\">\n",
       "  <thead>\n",
       "    <tr style=\"text-align: right;\">\n",
       "      <th></th>\n",
       "      <th>Stock Splits</th>\n",
       "    </tr>\n",
       "    <tr>\n",
       "      <th>Date</th>\n",
       "      <th></th>\n",
       "    </tr>\n",
       "  </thead>\n",
       "  <tbody>\n",
       "  </tbody>\n",
       "</table>\n",
       "</div>"
      ],
      "text/plain": [
       "Empty DataFrame\n",
       "Columns: [Stock Splits]\n",
       "Index: []"
      ]
     },
     "execution_count": 16,
     "metadata": {},
     "output_type": "execute_result"
    }
   ],
   "source": [
    "splits_df = get_splits_df(ticker)\n",
    "splits_df.head()"
   ]
  },
  {
   "cell_type": "code",
   "execution_count": 17,
   "metadata": {},
   "outputs": [
    {
     "data": {
      "text/html": [
       "<div>\n",
       "<style scoped>\n",
       "    .dataframe tbody tr th:only-of-type {\n",
       "        vertical-align: middle;\n",
       "    }\n",
       "\n",
       "    .dataframe tbody tr th {\n",
       "        vertical-align: top;\n",
       "    }\n",
       "\n",
       "    .dataframe thead th {\n",
       "        text-align: right;\n",
       "    }\n",
       "</style>\n",
       "<table border=\"1\" class=\"dataframe\">\n",
       "  <thead>\n",
       "    <tr style=\"text-align: right;\">\n",
       "      <th></th>\n",
       "      <th>Adj Coef</th>\n",
       "      <th>Open</th>\n",
       "      <th>High</th>\n",
       "      <th>Low</th>\n",
       "      <th>Close</th>\n",
       "      <th>Adj Close</th>\n",
       "      <th>Volume</th>\n",
       "    </tr>\n",
       "    <tr>\n",
       "      <th>Date</th>\n",
       "      <th></th>\n",
       "      <th></th>\n",
       "      <th></th>\n",
       "      <th></th>\n",
       "      <th></th>\n",
       "      <th></th>\n",
       "      <th></th>\n",
       "    </tr>\n",
       "  </thead>\n",
       "  <tbody>\n",
       "    <tr>\n",
       "      <th>2006-01-01</th>\n",
       "      <td>1.511264</td>\n",
       "      <td>86.849998</td>\n",
       "      <td>88.080002</td>\n",
       "      <td>86.650002</td>\n",
       "      <td>87.849998</td>\n",
       "      <td>58.091747</td>\n",
       "      <td>6600</td>\n",
       "    </tr>\n",
       "    <tr>\n",
       "      <th>2006-01-02</th>\n",
       "      <td>1.511264</td>\n",
       "      <td>86.849998</td>\n",
       "      <td>88.080002</td>\n",
       "      <td>86.650002</td>\n",
       "      <td>87.849998</td>\n",
       "      <td>58.091747</td>\n",
       "      <td>6600</td>\n",
       "    </tr>\n",
       "    <tr>\n",
       "      <th>2006-01-03</th>\n",
       "      <td>1.511264</td>\n",
       "      <td>88.699997</td>\n",
       "      <td>88.980003</td>\n",
       "      <td>86.889999</td>\n",
       "      <td>87.580002</td>\n",
       "      <td>57.913212</td>\n",
       "      <td>8700</td>\n",
       "    </tr>\n",
       "    <tr>\n",
       "      <th>2006-01-04</th>\n",
       "      <td>1.511264</td>\n",
       "      <td>88.220001</td>\n",
       "      <td>88.220001</td>\n",
       "      <td>86.860001</td>\n",
       "      <td>87.070000</td>\n",
       "      <td>57.575970</td>\n",
       "      <td>7000</td>\n",
       "    </tr>\n",
       "    <tr>\n",
       "      <th>2006-01-05</th>\n",
       "      <td>1.511264</td>\n",
       "      <td>86.790001</td>\n",
       "      <td>86.790001</td>\n",
       "      <td>86.129997</td>\n",
       "      <td>86.410004</td>\n",
       "      <td>57.139542</td>\n",
       "      <td>8000</td>\n",
       "    </tr>\n",
       "  </tbody>\n",
       "</table>\n",
       "</div>"
      ],
      "text/plain": [
       "            Adj Coef       Open       High        Low      Close  Adj Close  \\\n",
       "Date                                                                          \n",
       "2006-01-01  1.511264  86.849998  88.080002  86.650002  87.849998  58.091747   \n",
       "2006-01-02  1.511264  86.849998  88.080002  86.650002  87.849998  58.091747   \n",
       "2006-01-03  1.511264  88.699997  88.980003  86.889999  87.580002  57.913212   \n",
       "2006-01-04  1.511264  88.220001  88.220001  86.860001  87.070000  57.575970   \n",
       "2006-01-05  1.511264  86.790001  86.790001  86.129997  86.410004  57.139542   \n",
       "\n",
       "            Volume  \n",
       "Date                \n",
       "2006-01-01    6600  \n",
       "2006-01-02    6600  \n",
       "2006-01-03    8700  \n",
       "2006-01-04    7000  \n",
       "2006-01-05    8000  "
      ]
     },
     "execution_count": 17,
     "metadata": {},
     "output_type": "execute_result"
    }
   ],
   "source": [
    "for index, row in splits_df.iterrows():\n",
    "    day = price_df.loc[index]\n",
    "    split_str = row['Stock Splits']\n",
    "    new, old = map(float, split_str.split('/'))\n",
    "    f = old / new\n",
    "    price_df.loc[price_df.index < index, 'Adj Coef'] *= f\n",
    "\n",
    "# todo remove\n",
    "price_df.head()  "
   ]
  },
  {
   "cell_type": "markdown",
   "metadata": {},
   "source": [
    "## Plot yahoo close"
   ]
  },
  {
   "cell_type": "code",
   "execution_count": 18,
   "metadata": {},
   "outputs": [
    {
     "data": {
      "image/png": "[encoded data removed]",
      "text/plain": [
       "<Figure size 432x288 with 1 Axes>"
      ]
     },
     "metadata": {
      "needs_background": "light"
     },
     "output_type": "display_data"
    }
   ],
   "source": [
    "price_df.plot.line(use_index = True, y='Close', title=ticker)\n",
    "plt.show()"
   ]
  },
  {
   "cell_type": "markdown",
   "metadata": {},
   "source": [
    "## Plot quandl close"
   ]
  },
  {
   "cell_type": "code",
   "execution_count": 19,
   "metadata": {},
   "outputs": [],
   "source": [
    "#priceq_file = os.path.join(dir_data_raw, 'prices', 'quandl', \"%s.csv\" % ticker)\n",
    "#priceq_df = pd.read_csv(priceq_file)\n",
    "#priceq_df['Date'] = pd.to_datetime(priceq_df['Date'])\n",
    "#priceq_df.set_index('Date', inplace=True)\n",
    "#priceq_df.plot.line(use_index = True, y='Last Close', title=t)\n",
    "#plt.show()"
   ]
  },
  {
   "cell_type": "markdown",
   "metadata": {},
   "source": [
    "## Plot daily ratio"
   ]
  },
  {
   "cell_type": "code",
   "execution_count": 20,
   "metadata": {},
   "outputs": [],
   "source": [
    "def plot_daily_ration_on_column(df, column):\n",
    "    prev_day = None\n",
    "    price_ratios = [1]\n",
    "\n",
    "    maximum = 0\n",
    "    maximum_date = None\n",
    "    minimum = 10\n",
    "    minimum_date = None\n",
    "\n",
    "    for i, day in df.iterrows():\n",
    "        if prev_day is None:\n",
    "            prev_day = day\n",
    "            continue\n",
    "        day_ratio = day[column] / prev_day[column] \n",
    "\n",
    "        if maximum < day_ratio:\n",
    "            maximum = day_ratio\n",
    "            maximum_date = i\n",
    "\n",
    "        if minimum > day_ratio:\n",
    "            minimum = day_ratio\n",
    "            minimum_date = i\n",
    "\n",
    "        price_ratios.append(day_ratio) \n",
    "        prev_day = day\n",
    "\n",
    "    df['Ratio'] = pd.Series(price_ratios).values\n",
    "    df.plot.line(use_index = True, y='Ratio', title=ticker)\n",
    "\n",
    "    print(\"Max: %s, max_date %s\" % (maximum, maximum_date))\n",
    "    print(\"Min: %s, min_date %s\" % (minimum, minimum_date))\n",
    "\n",
    "    plt.show()"
   ]
  },
  {
   "cell_type": "markdown",
   "metadata": {},
   "source": [
    "### Plot on Close"
   ]
  },
  {
   "cell_type": "code",
   "execution_count": 21,
   "metadata": {
    "scrolled": true
   },
   "outputs": [
    {
     "name": "stdout",
     "output_type": "stream",
     "text": [
      "Max: 1.1875, max_date 2008-10-13 00:00:00\n",
      "Min: 0.5054501564808764, min_date 2007-06-11 00:00:00\n"
     ]
    },
    {
     "data": {
      "image/png": "[encoded data removed]",
      "text/plain": [
       "<Figure size 432x288 with 1 Axes>"
      ]
     },
     "metadata": {
      "needs_background": "light"
     },
     "output_type": "display_data"
    }
   ],
   "source": [
    "plot_daily_ration_on_column(price_df, 'Close')"
   ]
  },
  {
   "cell_type": "markdown",
   "metadata": {},
   "source": [
    "### Plot on Adj Close"
   ]
  },
  {
   "cell_type": "code",
   "execution_count": 22,
   "metadata": {
    "scrolled": true
   },
   "outputs": [
    {
     "name": "stdout",
     "output_type": "stream",
     "text": [
      "Max: 1.1875001204630935, max_date 2008-10-13 00:00:00\n",
      "Min: 0.5054501937251574, min_date 2007-06-11 00:00:00\n"
     ]
    },
    {
     "data": {
      "image/png": "[encoded data removed]",
      "text/plain": [
       "<Figure size 432x288 with 1 Axes>"
      ]
     },
     "metadata": {
      "needs_background": "light"
     },
     "output_type": "display_data"
    }
   ],
   "source": [
    "\n",
    "plot_daily_ration_on_column(price_df, 'Adj Close')"
   ]
  },
  {
   "cell_type": "markdown",
   "metadata": {},
   "source": [
    "### Plot my adj close"
   ]
  },
  {
   "cell_type": "code",
   "execution_count": 23,
   "metadata": {},
   "outputs": [
    {
     "name": "stdout",
     "output_type": "stream",
     "text": [
      "Max: 1.1875, max_date 2008-10-13 00:00:00\n",
      "Min: 0.5054501564808764, min_date 2007-06-11 00:00:00\n"
     ]
    },
    {
     "data": {
      "image/png": "[encoded data removed]",
      "text/plain": [
       "<Figure size 432x288 with 1 Axes>"
      ]
     },
     "metadata": {
      "needs_background": "light"
     },
     "output_type": "display_data"
    }
   ],
   "source": [
    "price_df['Adj My Close'] = price_df['Close'] / price_df['Adj Coef']\n",
    "plot_daily_ration_on_column(price_df, 'Adj My Close')"
   ]
  },
  {
   "cell_type": "code",
   "execution_count": 24,
   "metadata": {},
   "outputs": [
    {
     "data": {
      "text/html": [
       "<div>\n",
       "<style scoped>\n",
       "    .dataframe tbody tr th:only-of-type {\n",
       "        vertical-align: middle;\n",
       "    }\n",
       "\n",
       "    .dataframe tbody tr th {\n",
       "        vertical-align: top;\n",
       "    }\n",
       "\n",
       "    .dataframe thead th {\n",
       "        text-align: right;\n",
       "    }\n",
       "</style>\n",
       "<table border=\"1\" class=\"dataframe\">\n",
       "  <thead>\n",
       "    <tr style=\"text-align: right;\">\n",
       "      <th></th>\n",
       "      <th>Adj Coef</th>\n",
       "      <th>Open</th>\n",
       "      <th>High</th>\n",
       "      <th>Low</th>\n",
       "      <th>Close</th>\n",
       "      <th>Adj Close</th>\n",
       "      <th>Volume</th>\n",
       "      <th>Ratio</th>\n",
       "      <th>Adj My Close</th>\n",
       "    </tr>\n",
       "    <tr>\n",
       "      <th>Date</th>\n",
       "      <th></th>\n",
       "      <th></th>\n",
       "      <th></th>\n",
       "      <th></th>\n",
       "      <th></th>\n",
       "      <th></th>\n",
       "      <th></th>\n",
       "      <th></th>\n",
       "      <th></th>\n",
       "    </tr>\n",
       "  </thead>\n",
       "  <tbody>\n",
       "    <tr>\n",
       "      <th>2006-01-01</th>\n",
       "      <td>1.511264</td>\n",
       "      <td>86.849998</td>\n",
       "      <td>88.080002</td>\n",
       "      <td>86.650002</td>\n",
       "      <td>87.849998</td>\n",
       "      <td>58.091747</td>\n",
       "      <td>6600</td>\n",
       "      <td>1.000000</td>\n",
       "      <td>58.130135</td>\n",
       "    </tr>\n",
       "    <tr>\n",
       "      <th>2006-01-02</th>\n",
       "      <td>1.511264</td>\n",
       "      <td>86.849998</td>\n",
       "      <td>88.080002</td>\n",
       "      <td>86.650002</td>\n",
       "      <td>87.849998</td>\n",
       "      <td>58.091747</td>\n",
       "      <td>6600</td>\n",
       "      <td>1.000000</td>\n",
       "      <td>58.130135</td>\n",
       "    </tr>\n",
       "    <tr>\n",
       "      <th>2006-01-03</th>\n",
       "      <td>1.511264</td>\n",
       "      <td>88.699997</td>\n",
       "      <td>88.980003</td>\n",
       "      <td>86.889999</td>\n",
       "      <td>87.580002</td>\n",
       "      <td>57.913212</td>\n",
       "      <td>8700</td>\n",
       "      <td>0.996927</td>\n",
       "      <td>57.951479</td>\n",
       "    </tr>\n",
       "    <tr>\n",
       "      <th>2006-01-04</th>\n",
       "      <td>1.511264</td>\n",
       "      <td>88.220001</td>\n",
       "      <td>88.220001</td>\n",
       "      <td>86.860001</td>\n",
       "      <td>87.070000</td>\n",
       "      <td>57.575970</td>\n",
       "      <td>7000</td>\n",
       "      <td>0.994177</td>\n",
       "      <td>57.614012</td>\n",
       "    </tr>\n",
       "    <tr>\n",
       "      <th>2006-01-05</th>\n",
       "      <td>1.511264</td>\n",
       "      <td>86.790001</td>\n",
       "      <td>86.790001</td>\n",
       "      <td>86.129997</td>\n",
       "      <td>86.410004</td>\n",
       "      <td>57.139542</td>\n",
       "      <td>8000</td>\n",
       "      <td>0.992420</td>\n",
       "      <td>57.177294</td>\n",
       "    </tr>\n",
       "  </tbody>\n",
       "</table>\n",
       "</div>"
      ],
      "text/plain": [
       "            Adj Coef       Open       High        Low      Close  Adj Close  \\\n",
       "Date                                                                          \n",
       "2006-01-01  1.511264  86.849998  88.080002  86.650002  87.849998  58.091747   \n",
       "2006-01-02  1.511264  86.849998  88.080002  86.650002  87.849998  58.091747   \n",
       "2006-01-03  1.511264  88.699997  88.980003  86.889999  87.580002  57.913212   \n",
       "2006-01-04  1.511264  88.220001  88.220001  86.860001  87.070000  57.575970   \n",
       "2006-01-05  1.511264  86.790001  86.790001  86.129997  86.410004  57.139542   \n",
       "\n",
       "            Volume     Ratio  Adj My Close  \n",
       "Date                                        \n",
       "2006-01-01    6600  1.000000     58.130135  \n",
       "2006-01-02    6600  1.000000     58.130135  \n",
       "2006-01-03    8700  0.996927     57.951479  \n",
       "2006-01-04    7000  0.994177     57.614012  \n",
       "2006-01-05    8000  0.992420     57.177294  "
      ]
     },
     "execution_count": 24,
     "metadata": {},
     "output_type": "execute_result"
    }
   ],
   "source": [
    "price_df.head()"
   ]
  },
  {
   "cell_type": "code",
   "execution_count": 25,
   "metadata": {},
   "outputs": [
    {
     "data": {
      "text/html": [
       "<div>\n",
       "<style scoped>\n",
       "    .dataframe tbody tr th:only-of-type {\n",
       "        vertical-align: middle;\n",
       "    }\n",
       "\n",
       "    .dataframe tbody tr th {\n",
       "        vertical-align: top;\n",
       "    }\n",
       "\n",
       "    .dataframe thead th {\n",
       "        text-align: right;\n",
       "    }\n",
       "</style>\n",
       "<table border=\"1\" class=\"dataframe\">\n",
       "  <thead>\n",
       "    <tr style=\"text-align: right;\">\n",
       "      <th></th>\n",
       "      <th>Adj Coef</th>\n",
       "      <th>Open</th>\n",
       "      <th>High</th>\n",
       "      <th>Low</th>\n",
       "      <th>Close</th>\n",
       "      <th>Volume</th>\n",
       "      <th>Adj Close</th>\n",
       "    </tr>\n",
       "    <tr>\n",
       "      <th>Date</th>\n",
       "      <th></th>\n",
       "      <th></th>\n",
       "      <th></th>\n",
       "      <th></th>\n",
       "      <th></th>\n",
       "      <th></th>\n",
       "      <th></th>\n",
       "    </tr>\n",
       "  </thead>\n",
       "  <tbody>\n",
       "    <tr>\n",
       "      <th>2006-01-01</th>\n",
       "      <td>1.511264</td>\n",
       "      <td>86.849998</td>\n",
       "      <td>88.080002</td>\n",
       "      <td>86.650002</td>\n",
       "      <td>87.849998</td>\n",
       "      <td>6600</td>\n",
       "      <td>58.130135</td>\n",
       "    </tr>\n",
       "    <tr>\n",
       "      <th>2006-01-02</th>\n",
       "      <td>1.511264</td>\n",
       "      <td>86.849998</td>\n",
       "      <td>88.080002</td>\n",
       "      <td>86.650002</td>\n",
       "      <td>87.849998</td>\n",
       "      <td>6600</td>\n",
       "      <td>58.130135</td>\n",
       "    </tr>\n",
       "    <tr>\n",
       "      <th>2006-01-03</th>\n",
       "      <td>1.511264</td>\n",
       "      <td>88.699997</td>\n",
       "      <td>88.980003</td>\n",
       "      <td>86.889999</td>\n",
       "      <td>87.580002</td>\n",
       "      <td>8700</td>\n",
       "      <td>57.951479</td>\n",
       "    </tr>\n",
       "    <tr>\n",
       "      <th>2006-01-04</th>\n",
       "      <td>1.511264</td>\n",
       "      <td>88.220001</td>\n",
       "      <td>88.220001</td>\n",
       "      <td>86.860001</td>\n",
       "      <td>87.070000</td>\n",
       "      <td>7000</td>\n",
       "      <td>57.614012</td>\n",
       "    </tr>\n",
       "    <tr>\n",
       "      <th>2006-01-05</th>\n",
       "      <td>1.511264</td>\n",
       "      <td>86.790001</td>\n",
       "      <td>86.790001</td>\n",
       "      <td>86.129997</td>\n",
       "      <td>86.410004</td>\n",
       "      <td>8000</td>\n",
       "      <td>57.177294</td>\n",
       "    </tr>\n",
       "  </tbody>\n",
       "</table>\n",
       "</div>"
      ],
      "text/plain": [
       "            Adj Coef       Open       High        Low      Close  Volume  \\\n",
       "Date                                                                       \n",
       "2006-01-01  1.511264  86.849998  88.080002  86.650002  87.849998    6600   \n",
       "2006-01-02  1.511264  86.849998  88.080002  86.650002  87.849998    6600   \n",
       "2006-01-03  1.511264  88.699997  88.980003  86.889999  87.580002    8700   \n",
       "2006-01-04  1.511264  88.220001  88.220001  86.860001  87.070000    7000   \n",
       "2006-01-05  1.511264  86.790001  86.790001  86.129997  86.410004    8000   \n",
       "\n",
       "            Adj Close  \n",
       "Date                   \n",
       "2006-01-01  58.130135  \n",
       "2006-01-02  58.130135  \n",
       "2006-01-03  57.951479  \n",
       "2006-01-04  57.614012  \n",
       "2006-01-05  57.177294  "
      ]
     },
     "execution_count": 25,
     "metadata": {},
     "output_type": "execute_result"
    }
   ],
   "source": [
    "price_df = price_df.drop(columns=['Ratio', 'Adj Close'])\n",
    "price_df.rename(columns={'Adj My Close': 'Adj Close'}, inplace=True)\n",
    "\n",
    "new_price_file = os.path.join(dir_data_raw, 'prices', 'ready', \"%s.csv\" % ticker)\n",
    "\n",
    "price_df.to_csv(new_price_file)\n",
    "\n",
    "price_df.head()"
   ]
  },
  {
   "cell_type": "code",
   "execution_count": 26,
   "metadata": {},
   "outputs": [
    {
     "data": {
      "image/png": "[encoded data removed]",
      "text/plain": [
       "<Figure size 432x288 with 1 Axes>"
      ]
     },
     "metadata": {
      "needs_background": "light"
     },
     "output_type": "display_data"
    }
   ],
   "source": [
    "price_df.plot.line(use_index = True, y='Adj Close', title=ticker)\n",
    "plt.show()"
   ]
  },
  {
   "cell_type": "code",
   "execution_count": null,
   "metadata": {},
   "outputs": [],
   "source": []
  }
 ],
 "metadata": {
  "kernelspec": {
   "display_name": "Python 3",
   "language": "python",
   "name": "python3"
  },
  "language_info": {
   "codemirror_mode": {
    "name": "ipython",
    "version": 3
   },
   "file_extension": ".py",
   "mimetype": "text/x-python",
   "name": "python",
   "nbconvert_exporter": "python",
   "pygments_lexer": "ipython3",
   "version": "3.7.0"
  }
 },
 "nbformat": 4,
 "nbformat_minor": 2
}
