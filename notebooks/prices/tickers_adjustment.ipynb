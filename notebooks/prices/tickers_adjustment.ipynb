{
 "cells": [
  {
   "cell_type": "markdown",
   "metadata": {},
   "source": [
    "# Analysis on yahoo adjustmet close prices"
   ]
  },
  {
   "cell_type": "markdown",
   "metadata": {},
   "source": [
    "## Initialization\n",
    "The project initialization"
   ]
  },
  {
   "cell_type": "code",
   "execution_count": 1,
   "metadata": {},
   "outputs": [],
   "source": [
    "import pandas as pd\n",
    "import datetime as dt\n",
    "import numpy as np\n",
    "import os\n",
    "import matplotlib.pyplot as plt\n",
    "%matplotlib inline"
   ]
  },
  {
   "cell_type": "markdown",
   "metadata": {},
   "source": [
    "### Set paths to data folders"
   ]
  },
  {
   "cell_type": "code",
   "execution_count": 2,
   "metadata": {},
   "outputs": [],
   "source": [
    "dir_data_raw = os.path.join('..', '..', 'data_raw')\n",
    "dir_data_processing = os.path.join('..', '..', 'data_processing')"
   ]
  },
  {
   "cell_type": "markdown",
   "metadata": {},
   "source": [
    "### Get tickers DF"
   ]
  },
  {
   "cell_type": "markdown",
   "metadata": {},
   "source": [
    "_set a path to the tickers.csv file._"
   ]
  },
  {
   "cell_type": "code",
   "execution_count": 3,
   "metadata": {},
   "outputs": [],
   "source": [
    "#tickers_file = os.path.join(dir_data_processing, 'tickers', 'all_tickers.csv')"
   ]
  },
  {
   "cell_type": "code",
   "execution_count": 4,
   "metadata": {},
   "outputs": [],
   "source": [
    "#tickers_df = pd.read_csv(tickers_file)"
   ]
  },
  {
   "cell_type": "code",
   "execution_count": 5,
   "metadata": {},
   "outputs": [],
   "source": [
    "#tickers_df.head(3)"
   ]
  },
  {
   "cell_type": "markdown",
   "metadata": {},
   "source": [
    "read ticker by ticker:\n",
    "extend to have every day in the time frame \n",
    "create new dataframe with columns : every day in the time frame (string), adjusted coef = 1\n",
    "merge 2 df\n",
    "fill na\n",
    "add new column date as timestamp, make it index\n",
    "\n",
    "read dividends:\n",
    "for every dividend update all entries <= date (timestamt)\n",
    "\n",
    "read splits:\n",
    "for every split update all adj coef  where <= date (timestamp)\n",
    "\n",
    "update column adj close = close * adjusted coef\n"
   ]
  },
  {
   "cell_type": "code",
   "execution_count": 6,
   "metadata": {},
   "outputs": [],
   "source": [
    "date_start = dt.datetime.strptime('2006-01-01', '%Y-%m-%d')\n",
    "date_end = dt.datetime.strptime('2021-06-30', '%Y-%m-%d') \n",
    "max_daily_ratio = 1.4\n",
    "min_daily_ratio = 0.6"
   ]
  },
  {
   "cell_type": "code",
   "execution_count": 7,
   "metadata": {},
   "outputs": [
    {
     "name": "stdout",
     "output_type": "stream",
     "text": [
      "<class 'pandas.core.frame.DataFrame'>\n",
      "DatetimeIndex: 5660 entries, 2006-01-01 to 2021-06-30\n",
      "Empty DataFrame"
     ]
    }
   ],
   "source": [
    "dates_s = pd.date_range(start=date_start, end=date_end)\n",
    "dates_df = pd.DataFrame({\n",
    "    'Date': dates_s\n",
    "})\n",
    "\n",
    "# todo remove\n",
    "dates_df.set_index('Date', inplace=True)\n",
    "dates_df.info()"
   ]
  },
  {
   "cell_type": "code",
   "execution_count": 8,
   "metadata": {},
   "outputs": [
    {
     "data": {
      "text/html": [
       "<div>\n",
       "<style scoped>\n",
       "    .dataframe tbody tr th:only-of-type {\n",
       "        vertical-align: middle;\n",
       "    }\n",
       "\n",
       "    .dataframe tbody tr th {\n",
       "        vertical-align: top;\n",
       "    }\n",
       "\n",
       "    .dataframe thead th {\n",
       "        text-align: right;\n",
       "    }\n",
       "</style>\n",
       "<table border=\"1\" class=\"dataframe\">\n",
       "  <thead>\n",
       "    <tr style=\"text-align: right;\">\n",
       "      <th></th>\n",
       "    </tr>\n",
       "    <tr>\n",
       "      <th>Date</th>\n",
       "    </tr>\n",
       "  </thead>\n",
       "  <tbody>\n",
       "    <tr>\n",
       "      <th>2006-01-01</th>\n",
       "    </tr>\n",
       "    <tr>\n",
       "      <th>2006-01-02</th>\n",
       "    </tr>\n",
       "    <tr>\n",
       "      <th>2006-01-03</th>\n",
       "    </tr>\n",
       "    <tr>\n",
       "      <th>2006-01-04</th>\n",
       "    </tr>\n",
       "    <tr>\n",
       "      <th>2006-01-05</th>\n",
       "    </tr>\n",
       "  </tbody>\n",
       "</table>\n",
       "</div>"
      ],
      "text/plain": [
       "Empty DataFrame\n",
       "Columns: []\n",
       "Index: [2006-01-01 00:00:00, 2006-01-02 00:00:00, 2006-01-03 00:00:00, 2006-01-04 00:00:00, 2006-01-05 00:00:00]"
      ]
     },
     "execution_count": 8,
     "metadata": {},
     "output_type": "execute_result"
    }
   ],
   "source": [
    "dates_df.head()"
   ]
  },
  {
   "cell_type": "code",
   "execution_count": 9,
   "metadata": {},
   "outputs": [
    {
     "data": {
      "text/html": [
       "<div>\n",
       "<style scoped>\n",
       "    .dataframe tbody tr th:only-of-type {\n",
       "        vertical-align: middle;\n",
       "    }\n",
       "\n",
       "    .dataframe tbody tr th {\n",
       "        vertical-align: top;\n",
       "    }\n",
       "\n",
       "    .dataframe thead th {\n",
       "        text-align: right;\n",
       "    }\n",
       "</style>\n",
       "<table border=\"1\" class=\"dataframe\">\n",
       "  <thead>\n",
       "    <tr style=\"text-align: right;\">\n",
       "      <th></th>\n",
       "    </tr>\n",
       "    <tr>\n",
       "      <th>Date</th>\n",
       "    </tr>\n",
       "  </thead>\n",
       "  <tbody>\n",
       "    <tr>\n",
       "      <th>2021-06-26</th>\n",
       "    </tr>\n",
       "    <tr>\n",
       "      <th>2021-06-27</th>\n",
       "    </tr>\n",
       "    <tr>\n",
       "      <th>2021-06-28</th>\n",
       "    </tr>\n",
       "    <tr>\n",
       "      <th>2021-06-29</th>\n",
       "    </tr>\n",
       "    <tr>\n",
       "      <th>2021-06-30</th>\n",
       "    </tr>\n",
       "  </tbody>\n",
       "</table>\n",
       "</div>"
      ],
      "text/plain": [
       "Empty DataFrame\n",
       "Columns: []\n",
       "Index: [2021-06-26 00:00:00, 2021-06-27 00:00:00, 2021-06-28 00:00:00, 2021-06-29 00:00:00, 2021-06-30 00:00:00]"
      ]
     },
     "execution_count": 9,
     "metadata": {},
     "output_type": "execute_result"
    }
   ],
   "source": [
    "dates_df.tail()"
   ]
  },
  {
   "cell_type": "code",
   "execution_count": 10,
   "metadata": {},
   "outputs": [],
   "source": [
    "#ticker = 'ACA_CAC'\n",
    "#ticker = 'BARC_FTSE'\n",
    "#ticker = 'BAS_DAX'\n",
    "#ticker = 'DTE_DAX'\n",
    "#ticker = 'IFX_DAX'\n",
    "#ticker = 'LLOY_FTSE'\n",
    "#ticker = 'RBS_FTSE'\n",
    "#ticker = 'DB1_DAX'\n",
    "#ticker = 'ULVR_FTSE'\n",
    "#ticker = 'GFS_FTSE' \n",
    "#ticker = 'SHP_FTSE'\n",
    "#ticker = 'HEN3_DAX'\n",
    "#ticker = 'KGF_FTSE'\n",
    "#ticker = 'RSA_FTSE'\n",
    "#ticker = 'TLW_FTSE'\n",
    "#ticker = 'VED_FTSE'\n",
    "ticker = 'MRO_FTSE'"
   ]
  },
  {
   "cell_type": "code",
   "execution_count": 11,
   "metadata": {},
   "outputs": [],
   "source": [
    "def get_yahoo_df(file):\n",
    "    df = pd.read_csv(file)\n",
    "    df['Date'] = pd.to_datetime(df['Date'])\n",
    "    df.set_index('Date', inplace=True)\n",
    "    \n",
    "    return df"
   ]
  },
  {
   "cell_type": "code",
   "execution_count": 12,
   "metadata": {},
   "outputs": [],
   "source": [
    "def get_price_df(ticker):\n",
    "    return get_yahoo_df(os.path.join(dir_data_raw, 'prices', 'yahoo', \"%s.csv\" % ticker))"
   ]
  },
  {
   "cell_type": "code",
   "execution_count": 13,
   "metadata": {},
   "outputs": [],
   "source": [
    "def get_dividends_df(ticker):\n",
    "    return get_yahoo_df(os.path.join(dir_data_raw, 'prices', 'yahoo_dividends', \"%s.csv\" % ticker))"
   ]
  },
  {
   "cell_type": "code",
   "execution_count": 14,
   "metadata": {},
   "outputs": [],
   "source": [
    "def get_splits_df(ticker):\n",
    "    return get_yahoo_df(os.path.join(dir_data_raw, 'prices', 'yahoo_splits', \"%s.csv\" % ticker))"
   ]
  },
  {
   "cell_type": "code",
   "execution_count": 15,
   "metadata": {},
   "outputs": [
    {
     "data": {
      "text/html": [
       "<div>\n",
       "<style scoped>\n",
       "    .dataframe tbody tr th:only-of-type {\n",
       "        vertical-align: middle;\n",
       "    }\n",
       "\n",
       "    .dataframe tbody tr th {\n",
       "        vertical-align: top;\n",
       "    }\n",
       "\n",
       "    .dataframe thead th {\n",
       "        text-align: right;\n",
       "    }\n",
       "</style>\n",
       "<table border=\"1\" class=\"dataframe\">\n",
       "  <thead>\n",
       "    <tr style=\"text-align: right;\">\n",
       "      <th></th>\n",
       "      <th>Open</th>\n",
       "      <th>High</th>\n",
       "      <th>Low</th>\n",
       "      <th>Close</th>\n",
       "      <th>Adj Close</th>\n",
       "      <th>Volume</th>\n",
       "      <th>Adj Coef</th>\n",
       "    </tr>\n",
       "    <tr>\n",
       "      <th>Date</th>\n",
       "      <th></th>\n",
       "      <th></th>\n",
       "      <th></th>\n",
       "      <th></th>\n",
       "      <th></th>\n",
       "      <th></th>\n",
       "      <th></th>\n",
       "    </tr>\n",
       "  </thead>\n",
       "  <tbody>\n",
       "    <tr>\n",
       "      <th>2003-10-28</th>\n",
       "      <td>26.002300</td>\n",
       "      <td>29.805000</td>\n",
       "      <td>25.694099</td>\n",
       "      <td>26.927200</td>\n",
       "      <td>0.858430</td>\n",
       "      <td>1793735.0</td>\n",
       "      <td>1.0</td>\n",
       "    </tr>\n",
       "    <tr>\n",
       "      <th>2003-10-29</th>\n",
       "      <td>26.927200</td>\n",
       "      <td>27.338499</td>\n",
       "      <td>25.694099</td>\n",
       "      <td>26.207800</td>\n",
       "      <td>0.835495</td>\n",
       "      <td>298077.0</td>\n",
       "      <td>1.0</td>\n",
       "    </tr>\n",
       "    <tr>\n",
       "      <th>2003-10-30</th>\n",
       "      <td>26.207800</td>\n",
       "      <td>26.594299</td>\n",
       "      <td>25.694099</td>\n",
       "      <td>26.207800</td>\n",
       "      <td>0.835495</td>\n",
       "      <td>84144.0</td>\n",
       "      <td>1.0</td>\n",
       "    </tr>\n",
       "    <tr>\n",
       "      <th>2003-10-31</th>\n",
       "      <td>26.207800</td>\n",
       "      <td>26.645700</td>\n",
       "      <td>25.694099</td>\n",
       "      <td>26.413601</td>\n",
       "      <td>0.842056</td>\n",
       "      <td>58216.0</td>\n",
       "      <td>1.0</td>\n",
       "    </tr>\n",
       "    <tr>\n",
       "      <th>2003-11-03</th>\n",
       "      <td>26.413601</td>\n",
       "      <td>26.413601</td>\n",
       "      <td>26.413601</td>\n",
       "      <td>26.413601</td>\n",
       "      <td>0.842056</td>\n",
       "      <td>66841.0</td>\n",
       "      <td>1.0</td>\n",
       "    </tr>\n",
       "  </tbody>\n",
       "</table>\n",
       "</div>"
      ],
      "text/plain": [
       "                 Open       High        Low      Close  Adj Close     Volume  \\\n",
       "Date                                                                           \n",
       "2003-10-28  26.002300  29.805000  25.694099  26.927200   0.858430  1793735.0   \n",
       "2003-10-29  26.927200  27.338499  25.694099  26.207800   0.835495   298077.0   \n",
       "2003-10-30  26.207800  26.594299  25.694099  26.207800   0.835495    84144.0   \n",
       "2003-10-31  26.207800  26.645700  25.694099  26.413601   0.842056    58216.0   \n",
       "2003-11-03  26.413601  26.413601  26.413601  26.413601   0.842056    66841.0   \n",
       "\n",
       "            Adj Coef  \n",
       "Date                  \n",
       "2003-10-28       1.0  \n",
       "2003-10-29       1.0  \n",
       "2003-10-30       1.0  \n",
       "2003-10-31       1.0  \n",
       "2003-11-03       1.0  "
      ]
     },
     "execution_count": 15,
     "metadata": {},
     "output_type": "execute_result"
    }
   ],
   "source": [
    "price_df = pd.concat([get_price_df(ticker), dates_df], axis=1)\n",
    "if 'Adj Coef' not in price_df.columns:\n",
    "    price_df['Adj Coef'] = np.ones(len(price_df))\n",
    "price_df.head()"
   ]
  },
  {
   "cell_type": "code",
   "execution_count": 16,
   "metadata": {},
   "outputs": [
    {
     "data": {
      "text/html": [
       "<div>\n",
       "<style scoped>\n",
       "    .dataframe tbody tr th:only-of-type {\n",
       "        vertical-align: middle;\n",
       "    }\n",
       "\n",
       "    .dataframe tbody tr th {\n",
       "        vertical-align: top;\n",
       "    }\n",
       "\n",
       "    .dataframe thead th {\n",
       "        text-align: right;\n",
       "    }\n",
       "</style>\n",
       "<table border=\"1\" class=\"dataframe\">\n",
       "  <thead>\n",
       "    <tr style=\"text-align: right;\">\n",
       "      <th></th>\n",
       "      <th>Open</th>\n",
       "      <th>High</th>\n",
       "      <th>Low</th>\n",
       "      <th>Close</th>\n",
       "      <th>Adj Close</th>\n",
       "      <th>Volume</th>\n",
       "      <th>Adj Coef</th>\n",
       "    </tr>\n",
       "    <tr>\n",
       "      <th>Date</th>\n",
       "      <th></th>\n",
       "      <th></th>\n",
       "      <th></th>\n",
       "      <th></th>\n",
       "      <th></th>\n",
       "      <th></th>\n",
       "      <th></th>\n",
       "    </tr>\n",
       "  </thead>\n",
       "  <tbody>\n",
       "    <tr>\n",
       "      <th>2021-08-27</th>\n",
       "      <td>184.888794</td>\n",
       "      <td>187.944397</td>\n",
       "      <td>182.960007</td>\n",
       "      <td>187.166595</td>\n",
       "      <td>172.166595</td>\n",
       "      <td>4396569.0</td>\n",
       "      <td>1.0</td>\n",
       "    </tr>\n",
       "    <tr>\n",
       "      <th>2021-08-31</th>\n",
       "      <td>174.639999</td>\n",
       "      <td>174.639999</td>\n",
       "      <td>166.279999</td>\n",
       "      <td>167.740005</td>\n",
       "      <td>167.740005</td>\n",
       "      <td>10626369.0</td>\n",
       "      <td>1.0</td>\n",
       "    </tr>\n",
       "    <tr>\n",
       "      <th>2021-09-01</th>\n",
       "      <td>170.919998</td>\n",
       "      <td>175.179993</td>\n",
       "      <td>168.119995</td>\n",
       "      <td>171.880005</td>\n",
       "      <td>171.880005</td>\n",
       "      <td>6282794.0</td>\n",
       "      <td>1.0</td>\n",
       "    </tr>\n",
       "    <tr>\n",
       "      <th>2021-09-02</th>\n",
       "      <td>179.419998</td>\n",
       "      <td>184.559998</td>\n",
       "      <td>177.654999</td>\n",
       "      <td>184.240005</td>\n",
       "      <td>184.240005</td>\n",
       "      <td>9389984.0</td>\n",
       "      <td>1.0</td>\n",
       "    </tr>\n",
       "    <tr>\n",
       "      <th>2021-09-03</th>\n",
       "      <td>185.000000</td>\n",
       "      <td>191.149994</td>\n",
       "      <td>184.052994</td>\n",
       "      <td>188.500000</td>\n",
       "      <td>188.500000</td>\n",
       "      <td>12699822.0</td>\n",
       "      <td>1.0</td>\n",
       "    </tr>\n",
       "  </tbody>\n",
       "</table>\n",
       "</div>"
      ],
      "text/plain": [
       "                  Open        High         Low       Close   Adj Close  \\\n",
       "Date                                                                     \n",
       "2021-08-27  184.888794  187.944397  182.960007  187.166595  172.166595   \n",
       "2021-08-31  174.639999  174.639999  166.279999  167.740005  167.740005   \n",
       "2021-09-01  170.919998  175.179993  168.119995  171.880005  171.880005   \n",
       "2021-09-02  179.419998  184.559998  177.654999  184.240005  184.240005   \n",
       "2021-09-03  185.000000  191.149994  184.052994  188.500000  188.500000   \n",
       "\n",
       "                Volume  Adj Coef  \n",
       "Date                              \n",
       "2021-08-27   4396569.0       1.0  \n",
       "2021-08-31  10626369.0       1.0  \n",
       "2021-09-01   6282794.0       1.0  \n",
       "2021-09-02   9389984.0       1.0  \n",
       "2021-09-03  12699822.0       1.0  "
      ]
     },
     "execution_count": 16,
     "metadata": {},
     "output_type": "execute_result"
    }
   ],
   "source": [
    "price_df.tail()"
   ]
  },
  {
   "cell_type": "code",
   "execution_count": 17,
   "metadata": {},
   "outputs": [
    {
     "data": {
      "image/png": "[encoded data removed]",
      "text/plain": [
       "<Figure size 432x288 with 1 Axes>"
      ]
     },
     "metadata": {
      "needs_background": "light"
     },
     "output_type": "display_data"
    }
   ],
   "source": [
    "price_df.plot.line(use_index = True, y='Close', title='Close before fill up')\n",
    "plt.show()"
   ]
  },
  {
   "cell_type": "code",
   "execution_count": 18,
   "metadata": {},
   "outputs": [],
   "source": [
    "price_df.fillna(method='ffill', inplace=True)\n",
    "price_df.fillna(method='bfill', inplace=True)"
   ]
  },
  {
   "cell_type": "code",
   "execution_count": 19,
   "metadata": {},
   "outputs": [
    {
     "data": {
      "image/png": "[encoded data removed]",
      "text/plain": [
       "<Figure size 432x288 with 1 Axes>"
      ]
     },
     "metadata": {
      "needs_background": "light"
     },
     "output_type": "display_data"
    }
   ],
   "source": [
    "price_df.plot.line(use_index = True, y='Close', title='Close After fill up')\n",
    "plt.show()"
   ]
  },
  {
   "cell_type": "code",
   "execution_count": 20,
   "metadata": {},
   "outputs": [
    {
     "data": {
      "text/html": [
       "<div>\n",
       "<style scoped>\n",
       "    .dataframe tbody tr th:only-of-type {\n",
       "        vertical-align: middle;\n",
       "    }\n",
       "\n",
       "    .dataframe tbody tr th {\n",
       "        vertical-align: top;\n",
       "    }\n",
       "\n",
       "    .dataframe thead th {\n",
       "        text-align: right;\n",
       "    }\n",
       "</style>\n",
       "<table border=\"1\" class=\"dataframe\">\n",
       "  <thead>\n",
       "    <tr style=\"text-align: right;\">\n",
       "      <th></th>\n",
       "      <th>Dividends</th>\n",
       "    </tr>\n",
       "    <tr>\n",
       "      <th>Date</th>\n",
       "      <th></th>\n",
       "    </tr>\n",
       "  </thead>\n",
       "  <tbody>\n",
       "    <tr>\n",
       "      <th>2006-04-19</th>\n",
       "      <td>7.146238</td>\n",
       "    </tr>\n",
       "    <tr>\n",
       "      <th>2006-10-18</th>\n",
       "      <td>5.359678</td>\n",
       "    </tr>\n",
       "    <tr>\n",
       "      <th>2007-04-18</th>\n",
       "      <td>8.932797</td>\n",
       "    </tr>\n",
       "    <tr>\n",
       "      <th>2007-10-17</th>\n",
       "      <td>2.977599</td>\n",
       "    </tr>\n",
       "    <tr>\n",
       "      <th>2008-03-12</th>\n",
       "      <td>5.061918</td>\n",
       "    </tr>\n",
       "  </tbody>\n",
       "</table>\n",
       "</div>"
      ],
      "text/plain": [
       "            Dividends\n",
       "Date                 \n",
       "2006-04-19   7.146238\n",
       "2006-10-18   5.359678\n",
       "2007-04-18   8.932797\n",
       "2007-10-17   2.977599\n",
       "2008-03-12   5.061918"
      ]
     },
     "execution_count": 20,
     "metadata": {},
     "output_type": "execute_result"
    }
   ],
   "source": [
    "dividends_df = get_dividends_df(ticker)\n",
    "dividends_df.head()"
   ]
  },
  {
   "cell_type": "code",
   "execution_count": 21,
   "metadata": {},
   "outputs": [
    {
     "data": {
      "text/html": [
       "<div>\n",
       "<style scoped>\n",
       "    .dataframe tbody tr th:only-of-type {\n",
       "        vertical-align: middle;\n",
       "    }\n",
       "\n",
       "    .dataframe tbody tr th {\n",
       "        vertical-align: top;\n",
       "    }\n",
       "\n",
       "    .dataframe thead th {\n",
       "        text-align: right;\n",
       "    }\n",
       "</style>\n",
       "<table border=\"1\" class=\"dataframe\">\n",
       "  <thead>\n",
       "    <tr style=\"text-align: right;\">\n",
       "      <th></th>\n",
       "      <th>Open</th>\n",
       "      <th>High</th>\n",
       "      <th>Low</th>\n",
       "      <th>Close</th>\n",
       "      <th>Adj Close</th>\n",
       "      <th>Volume</th>\n",
       "      <th>Adj Coef</th>\n",
       "    </tr>\n",
       "    <tr>\n",
       "      <th>Date</th>\n",
       "      <th></th>\n",
       "      <th></th>\n",
       "      <th></th>\n",
       "      <th></th>\n",
       "      <th></th>\n",
       "      <th></th>\n",
       "      <th></th>\n",
       "    </tr>\n",
       "  </thead>\n",
       "  <tbody>\n",
       "    <tr>\n",
       "      <th>2003-10-28</th>\n",
       "      <td>26.002300</td>\n",
       "      <td>29.805000</td>\n",
       "      <td>25.694099</td>\n",
       "      <td>26.927200</td>\n",
       "      <td>0.858430</td>\n",
       "      <td>1793735.0</td>\n",
       "      <td>12.178556</td>\n",
       "    </tr>\n",
       "    <tr>\n",
       "      <th>2003-10-29</th>\n",
       "      <td>26.927200</td>\n",
       "      <td>27.338499</td>\n",
       "      <td>25.694099</td>\n",
       "      <td>26.207800</td>\n",
       "      <td>0.835495</td>\n",
       "      <td>298077.0</td>\n",
       "      <td>12.178556</td>\n",
       "    </tr>\n",
       "    <tr>\n",
       "      <th>2003-10-30</th>\n",
       "      <td>26.207800</td>\n",
       "      <td>26.594299</td>\n",
       "      <td>25.694099</td>\n",
       "      <td>26.207800</td>\n",
       "      <td>0.835495</td>\n",
       "      <td>84144.0</td>\n",
       "      <td>12.178556</td>\n",
       "    </tr>\n",
       "    <tr>\n",
       "      <th>2003-10-31</th>\n",
       "      <td>26.207800</td>\n",
       "      <td>26.645700</td>\n",
       "      <td>25.694099</td>\n",
       "      <td>26.413601</td>\n",
       "      <td>0.842056</td>\n",
       "      <td>58216.0</td>\n",
       "      <td>12.178556</td>\n",
       "    </tr>\n",
       "    <tr>\n",
       "      <th>2003-11-03</th>\n",
       "      <td>26.413601</td>\n",
       "      <td>26.413601</td>\n",
       "      <td>26.413601</td>\n",
       "      <td>26.413601</td>\n",
       "      <td>0.842056</td>\n",
       "      <td>66841.0</td>\n",
       "      <td>12.178556</td>\n",
       "    </tr>\n",
       "  </tbody>\n",
       "</table>\n",
       "</div>"
      ],
      "text/plain": [
       "                 Open       High        Low      Close  Adj Close     Volume  \\\n",
       "Date                                                                           \n",
       "2003-10-28  26.002300  29.805000  25.694099  26.927200   0.858430  1793735.0   \n",
       "2003-10-29  26.927200  27.338499  25.694099  26.207800   0.835495   298077.0   \n",
       "2003-10-30  26.207800  26.594299  25.694099  26.207800   0.835495    84144.0   \n",
       "2003-10-31  26.207800  26.645700  25.694099  26.413601   0.842056    58216.0   \n",
       "2003-11-03  26.413601  26.413601  26.413601  26.413601   0.842056    66841.0   \n",
       "\n",
       "             Adj Coef  \n",
       "Date                   \n",
       "2003-10-28  12.178556  \n",
       "2003-10-29  12.178556  \n",
       "2003-10-30  12.178556  \n",
       "2003-10-31  12.178556  \n",
       "2003-11-03  12.178556  "
      ]
     },
     "execution_count": 21,
     "metadata": {},
     "output_type": "execute_result"
    }
   ],
   "source": [
    "for index, row in dividends_df.iterrows():\n",
    "    day = price_df.loc[index]\n",
    "    f = (row['Dividends'] + day['Close']) / day['Close']\n",
    "    price_df.loc[price_df.index < index, 'Adj Coef'] *= f\n",
    "\n",
    "# todo remove\n",
    "price_df.head()   "
   ]
  },
  {
   "cell_type": "code",
   "execution_count": 22,
   "metadata": {},
   "outputs": [
    {
     "data": {
      "text/html": [
       "<div>\n",
       "<style scoped>\n",
       "    .dataframe tbody tr th:only-of-type {\n",
       "        vertical-align: middle;\n",
       "    }\n",
       "\n",
       "    .dataframe tbody tr th {\n",
       "        vertical-align: top;\n",
       "    }\n",
       "\n",
       "    .dataframe thead th {\n",
       "        text-align: right;\n",
       "    }\n",
       "</style>\n",
       "<table border=\"1\" class=\"dataframe\">\n",
       "  <thead>\n",
       "    <tr style=\"text-align: right;\">\n",
       "      <th></th>\n",
       "      <th>Stock Splits</th>\n",
       "    </tr>\n",
       "    <tr>\n",
       "      <th>Date</th>\n",
       "      <th></th>\n",
       "    </tr>\n",
       "  </thead>\n",
       "  <tbody>\n",
       "    <tr>\n",
       "      <th>2011-08-09</th>\n",
       "      <td>11:14</td>\n",
       "    </tr>\n",
       "    <tr>\n",
       "      <th>2014-02-10</th>\n",
       "      <td>11:13</td>\n",
       "    </tr>\n",
       "    <tr>\n",
       "      <th>2015-02-23</th>\n",
       "      <td>13:14</td>\n",
       "    </tr>\n",
       "    <tr>\n",
       "      <th>2016-01-28</th>\n",
       "      <td>7:48</td>\n",
       "    </tr>\n",
       "  </tbody>\n",
       "</table>\n",
       "</div>"
      ],
      "text/plain": [
       "           Stock Splits\n",
       "Date                   \n",
       "2011-08-09        11:14\n",
       "2014-02-10        11:13\n",
       "2015-02-23        13:14\n",
       "2016-01-28         7:48"
      ]
     },
     "execution_count": 22,
     "metadata": {},
     "output_type": "execute_result"
    }
   ],
   "source": [
    "splits_df = get_splits_df(ticker)\n",
    "splits_df.head()"
   ]
  },
  {
   "cell_type": "code",
   "execution_count": 23,
   "metadata": {},
   "outputs": [
    {
     "data": {
      "text/html": [
       "<div>\n",
       "<style scoped>\n",
       "    .dataframe tbody tr th:only-of-type {\n",
       "        vertical-align: middle;\n",
       "    }\n",
       "\n",
       "    .dataframe tbody tr th {\n",
       "        vertical-align: top;\n",
       "    }\n",
       "\n",
       "    .dataframe thead th {\n",
       "        text-align: right;\n",
       "    }\n",
       "</style>\n",
       "<table border=\"1\" class=\"dataframe\">\n",
       "  <thead>\n",
       "    <tr style=\"text-align: right;\">\n",
       "      <th></th>\n",
       "      <th>Open</th>\n",
       "      <th>High</th>\n",
       "      <th>Low</th>\n",
       "      <th>Close</th>\n",
       "      <th>Adj Close</th>\n",
       "      <th>Volume</th>\n",
       "      <th>Adj Coef</th>\n",
       "    </tr>\n",
       "    <tr>\n",
       "      <th>Date</th>\n",
       "      <th></th>\n",
       "      <th></th>\n",
       "      <th></th>\n",
       "      <th></th>\n",
       "      <th></th>\n",
       "      <th></th>\n",
       "      <th></th>\n",
       "    </tr>\n",
       "  </thead>\n",
       "  <tbody>\n",
       "    <tr>\n",
       "      <th>2003-10-28</th>\n",
       "      <td>26.002300</td>\n",
       "      <td>29.805000</td>\n",
       "      <td>25.694099</td>\n",
       "      <td>26.927200</td>\n",
       "      <td>0.858430</td>\n",
       "      <td>1793735.0</td>\n",
       "      <td>135.272558</td>\n",
       "    </tr>\n",
       "    <tr>\n",
       "      <th>2003-10-29</th>\n",
       "      <td>26.927200</td>\n",
       "      <td>27.338499</td>\n",
       "      <td>25.694099</td>\n",
       "      <td>26.207800</td>\n",
       "      <td>0.835495</td>\n",
       "      <td>298077.0</td>\n",
       "      <td>135.272558</td>\n",
       "    </tr>\n",
       "    <tr>\n",
       "      <th>2003-10-30</th>\n",
       "      <td>26.207800</td>\n",
       "      <td>26.594299</td>\n",
       "      <td>25.694099</td>\n",
       "      <td>26.207800</td>\n",
       "      <td>0.835495</td>\n",
       "      <td>84144.0</td>\n",
       "      <td>135.272558</td>\n",
       "    </tr>\n",
       "    <tr>\n",
       "      <th>2003-10-31</th>\n",
       "      <td>26.207800</td>\n",
       "      <td>26.645700</td>\n",
       "      <td>25.694099</td>\n",
       "      <td>26.413601</td>\n",
       "      <td>0.842056</td>\n",
       "      <td>58216.0</td>\n",
       "      <td>135.272558</td>\n",
       "    </tr>\n",
       "    <tr>\n",
       "      <th>2003-11-03</th>\n",
       "      <td>26.413601</td>\n",
       "      <td>26.413601</td>\n",
       "      <td>26.413601</td>\n",
       "      <td>26.413601</td>\n",
       "      <td>0.842056</td>\n",
       "      <td>66841.0</td>\n",
       "      <td>135.272558</td>\n",
       "    </tr>\n",
       "  </tbody>\n",
       "</table>\n",
       "</div>"
      ],
      "text/plain": [
       "                 Open       High        Low      Close  Adj Close     Volume  \\\n",
       "Date                                                                           \n",
       "2003-10-28  26.002300  29.805000  25.694099  26.927200   0.858430  1793735.0   \n",
       "2003-10-29  26.927200  27.338499  25.694099  26.207800   0.835495   298077.0   \n",
       "2003-10-30  26.207800  26.594299  25.694099  26.207800   0.835495    84144.0   \n",
       "2003-10-31  26.207800  26.645700  25.694099  26.413601   0.842056    58216.0   \n",
       "2003-11-03  26.413601  26.413601  26.413601  26.413601   0.842056    66841.0   \n",
       "\n",
       "              Adj Coef  \n",
       "Date                    \n",
       "2003-10-28  135.272558  \n",
       "2003-10-29  135.272558  \n",
       "2003-10-30  135.272558  \n",
       "2003-10-31  135.272558  \n",
       "2003-11-03  135.272558  "
      ]
     },
     "execution_count": 23,
     "metadata": {},
     "output_type": "execute_result"
    }
   ],
   "source": [
    "for index, row in splits_df.iterrows():\n",
    "    day = price_df.loc[index]\n",
    "    split_str = row['Stock Splits']\n",
    "    new, old = map(float, split_str.split(':'))\n",
    "    f = old / new\n",
    "    price_df.loc[price_df.index < index, 'Adj Coef'] *= f\n",
    "\n",
    "# todo remove\n",
    "price_df.head()  "
   ]
  },
  {
   "cell_type": "markdown",
   "metadata": {},
   "source": [
    "## Plot yahoo close"
   ]
  },
  {
   "cell_type": "code",
   "execution_count": 24,
   "metadata": {},
   "outputs": [
    {
     "data": {
      "image/png": "[encoded data removed]",
      "text/plain": [
       "<Figure size 432x288 with 1 Axes>"
      ]
     },
     "metadata": {
      "needs_background": "light"
     },
     "output_type": "display_data"
    }
   ],
   "source": [
    "price_df.plot.line(use_index = True, y='Close', title=ticker)\n",
    "plt.show()"
   ]
  },
  {
   "cell_type": "markdown",
   "metadata": {},
   "source": [
    "## Plot quandl close"
   ]
  },
  {
   "cell_type": "code",
   "execution_count": 25,
   "metadata": {},
   "outputs": [],
   "source": [
    "#priceq_file = os.path.join(dir_data_raw, 'prices', 'quandl', \"%s.csv\" % ticker)\n",
    "#priceq_df = pd.read_csv(priceq_file)\n",
    "#priceq_df['Date'] = pd.to_datetime(priceq_df['Date'])\n",
    "#priceq_df.set_index('Date', inplace=True)\n",
    "#priceq_df.plot.line(use_index = True, y='Last Close', title=t)\n",
    "#plt.show()"
   ]
  },
  {
   "cell_type": "markdown",
   "metadata": {},
   "source": [
    "## Plot daily ratio"
   ]
  },
  {
   "cell_type": "code",
   "execution_count": 26,
   "metadata": {},
   "outputs": [],
   "source": [
    "def plot_daily_ration_on_column(df, column):\n",
    "    prev_day = None\n",
    "    price_ratios = [1]\n",
    "\n",
    "    maximum = 0\n",
    "    maximum_date = None\n",
    "    minimum = 10\n",
    "    minimum_date = None\n",
    "\n",
    "    for i, day in df.iterrows():\n",
    "        if prev_day is None:\n",
    "            prev_day = day\n",
    "            continue\n",
    "        day_ratio = day[column] / prev_day[column] \n",
    "\n",
    "        if maximum < day_ratio:\n",
    "            maximum = day_ratio\n",
    "            maximum_date = i\n",
    "\n",
    "        if minimum > day_ratio:\n",
    "            minimum = day_ratio\n",
    "            minimum_date = i\n",
    "\n",
    "        price_ratios.append(day_ratio) \n",
    "        prev_day = day\n",
    "\n",
    "    df['Ratio'] = pd.Series(price_ratios).values\n",
    "    df.plot.line(use_index = True, y='Ratio', title=ticker)\n",
    "\n",
    "    print(\"Max: %s, max_date %s\" % (maximum, maximum_date))\n",
    "    print(\"Min: %s, min_date %s\" % (minimum, minimum_date))\n",
    "\n",
    "    plt.show()"
   ]
  },
  {
   "cell_type": "markdown",
   "metadata": {},
   "source": [
    "### Plot on Close"
   ]
  },
  {
   "cell_type": "code",
   "execution_count": 27,
   "metadata": {
    "scrolled": true
   },
   "outputs": [
    {
     "name": "stdout",
     "output_type": "stream",
     "text": [
      "Max: 1.4582064281316738, max_date 2016-07-06 00:00:00\n",
      "Min: 0.7241834814230821, min_date 2010-02-05 00:00:00\n"
     ]
    },
    {
     "data": {
      "image/png": "[encoded data removed]",
      "text/plain": [
       "<Figure size 432x288 with 1 Axes>"
      ]
     },
     "metadata": {
      "needs_background": "light"
     },
     "output_type": "display_data"
    }
   ],
   "source": [
    "plot_daily_ration_on_column(price_df, 'Close')"
   ]
  },
  {
   "cell_type": "markdown",
   "metadata": {},
   "source": [
    "### Plot on Adj Close"
   ]
  },
  {
   "cell_type": "code",
   "execution_count": 28,
   "metadata": {
    "scrolled": true
   },
   "outputs": [
    {
     "name": "stdout",
     "output_type": "stream",
     "text": [
      "Max: 1.4582064033213171, max_date 2016-07-06 00:00:00\n",
      "Min: 0.7241833904154782, min_date 2010-02-05 00:00:00\n"
     ]
    },
    {
     "data": {
      "image/png": "[encoded data removed]",
      "text/plain": [
       "<Figure size 432x288 with 1 Axes>"
      ]
     },
     "metadata": {
      "needs_background": "light"
     },
     "output_type": "display_data"
    }
   ],
   "source": [
    "\n",
    "plot_daily_ration_on_column(price_df, 'Adj Close')"
   ]
  },
  {
   "cell_type": "markdown",
   "metadata": {},
   "source": [
    "### Plot my adj close"
   ]
  },
  {
   "cell_type": "code",
   "execution_count": 29,
   "metadata": {},
   "outputs": [
    {
     "name": "stdout",
     "output_type": "stream",
     "text": [
      "Max: 7.087798640806783, max_date 2016-01-28 00:00:00\n",
      "Min: 0.7241834814230821, min_date 2010-02-05 00:00:00\n"
     ]
    },
    {
     "data": {
      "image/png": "[encoded data removed]",
      "text/plain": [
       "<Figure size 432x288 with 1 Axes>"
      ]
     },
     "metadata": {
      "needs_background": "light"
     },
     "output_type": "display_data"
    }
   ],
   "source": [
    "price_df['Adj My Close'] = price_df['Close'] / price_df['Adj Coef']\n",
    "plot_daily_ration_on_column(price_df, 'Adj My Close')"
   ]
  },
  {
   "cell_type": "code",
   "execution_count": 30,
   "metadata": {},
   "outputs": [
    {
     "data": {
      "text/html": [
       "<div>\n",
       "<style scoped>\n",
       "    .dataframe tbody tr th:only-of-type {\n",
       "        vertical-align: middle;\n",
       "    }\n",
       "\n",
       "    .dataframe tbody tr th {\n",
       "        vertical-align: top;\n",
       "    }\n",
       "\n",
       "    .dataframe thead th {\n",
       "        text-align: right;\n",
       "    }\n",
       "</style>\n",
       "<table border=\"1\" class=\"dataframe\">\n",
       "  <thead>\n",
       "    <tr style=\"text-align: right;\">\n",
       "      <th></th>\n",
       "      <th>Open</th>\n",
       "      <th>High</th>\n",
       "      <th>Low</th>\n",
       "      <th>Close</th>\n",
       "      <th>Adj Close</th>\n",
       "      <th>Volume</th>\n",
       "      <th>Adj Coef</th>\n",
       "      <th>Ratio</th>\n",
       "      <th>Adj My Close</th>\n",
       "    </tr>\n",
       "    <tr>\n",
       "      <th>Date</th>\n",
       "      <th></th>\n",
       "      <th></th>\n",
       "      <th></th>\n",
       "      <th></th>\n",
       "      <th></th>\n",
       "      <th></th>\n",
       "      <th></th>\n",
       "      <th></th>\n",
       "      <th></th>\n",
       "    </tr>\n",
       "  </thead>\n",
       "  <tbody>\n",
       "    <tr>\n",
       "      <th>2003-10-28</th>\n",
       "      <td>26.002300</td>\n",
       "      <td>29.805000</td>\n",
       "      <td>25.694099</td>\n",
       "      <td>26.927200</td>\n",
       "      <td>0.858430</td>\n",
       "      <td>1793735.0</td>\n",
       "      <td>135.272558</td>\n",
       "      <td>1.000000</td>\n",
       "      <td>0.199059</td>\n",
       "    </tr>\n",
       "    <tr>\n",
       "      <th>2003-10-29</th>\n",
       "      <td>26.927200</td>\n",
       "      <td>27.338499</td>\n",
       "      <td>25.694099</td>\n",
       "      <td>26.207800</td>\n",
       "      <td>0.835495</td>\n",
       "      <td>298077.0</td>\n",
       "      <td>135.272558</td>\n",
       "      <td>0.973284</td>\n",
       "      <td>0.193741</td>\n",
       "    </tr>\n",
       "    <tr>\n",
       "      <th>2003-10-30</th>\n",
       "      <td>26.207800</td>\n",
       "      <td>26.594299</td>\n",
       "      <td>25.694099</td>\n",
       "      <td>26.207800</td>\n",
       "      <td>0.835495</td>\n",
       "      <td>84144.0</td>\n",
       "      <td>135.272558</td>\n",
       "      <td>1.000000</td>\n",
       "      <td>0.193741</td>\n",
       "    </tr>\n",
       "    <tr>\n",
       "      <th>2003-10-31</th>\n",
       "      <td>26.207800</td>\n",
       "      <td>26.645700</td>\n",
       "      <td>25.694099</td>\n",
       "      <td>26.413601</td>\n",
       "      <td>0.842056</td>\n",
       "      <td>58216.0</td>\n",
       "      <td>135.272558</td>\n",
       "      <td>1.007853</td>\n",
       "      <td>0.195262</td>\n",
       "    </tr>\n",
       "    <tr>\n",
       "      <th>2003-11-03</th>\n",
       "      <td>26.413601</td>\n",
       "      <td>26.413601</td>\n",
       "      <td>26.413601</td>\n",
       "      <td>26.413601</td>\n",
       "      <td>0.842056</td>\n",
       "      <td>66841.0</td>\n",
       "      <td>135.272558</td>\n",
       "      <td>1.000000</td>\n",
       "      <td>0.195262</td>\n",
       "    </tr>\n",
       "  </tbody>\n",
       "</table>\n",
       "</div>"
      ],
      "text/plain": [
       "                 Open       High        Low      Close  Adj Close     Volume  \\\n",
       "Date                                                                           \n",
       "2003-10-28  26.002300  29.805000  25.694099  26.927200   0.858430  1793735.0   \n",
       "2003-10-29  26.927200  27.338499  25.694099  26.207800   0.835495   298077.0   \n",
       "2003-10-30  26.207800  26.594299  25.694099  26.207800   0.835495    84144.0   \n",
       "2003-10-31  26.207800  26.645700  25.694099  26.413601   0.842056    58216.0   \n",
       "2003-11-03  26.413601  26.413601  26.413601  26.413601   0.842056    66841.0   \n",
       "\n",
       "              Adj Coef     Ratio  Adj My Close  \n",
       "Date                                            \n",
       "2003-10-28  135.272558  1.000000      0.199059  \n",
       "2003-10-29  135.272558  0.973284      0.193741  \n",
       "2003-10-30  135.272558  1.000000      0.193741  \n",
       "2003-10-31  135.272558  1.007853      0.195262  \n",
       "2003-11-03  135.272558  1.000000      0.195262  "
      ]
     },
     "execution_count": 30,
     "metadata": {},
     "output_type": "execute_result"
    }
   ],
   "source": [
    "price_df.head()"
   ]
  },
  {
   "cell_type": "code",
   "execution_count": 31,
   "metadata": {},
   "outputs": [
    {
     "data": {
      "image/png": "[encoded data removed]",
      "text/plain": [
       "<Figure size 432x288 with 1 Axes>"
      ]
     },
     "metadata": {
      "needs_background": "light"
     },
     "output_type": "display_data"
    }
   ],
   "source": [
    "price_df.plot.line(use_index = True, y='Adj Close', title=ticker)\n",
    "plt.show()"
   ]
  },
  {
   "cell_type": "code",
   "execution_count": 32,
   "metadata": {
    "scrolled": true
   },
   "outputs": [
    {
     "data": {
      "image/png": "[encoded data removed]",
      "text/plain": [
       "<Figure size 432x288 with 1 Axes>"
      ]
     },
     "metadata": {
      "needs_background": "light"
     },
     "output_type": "display_data"
    }
   ],
   "source": [
    "price_df.plot.line(use_index = True, y='Adj My Close', title=ticker)\n",
    "plt.show()"
   ]
  },
  {
   "cell_type": "code",
   "execution_count": 33,
   "metadata": {},
   "outputs": [
    {
     "ename": "NameError",
     "evalue": "name 'stop' is not defined",
     "output_type": "error",
     "traceback": [
      "\u001b[0;31m---------------------------------------------------------------------------\u001b[0m",
      "\u001b[0;31mNameError\u001b[0m                                 Traceback (most recent call last)",
      "\u001b[0;32m<ipython-input-33-4f76a9dad686>\u001b[0m in \u001b[0;36m<module>\u001b[0;34m\u001b[0m\n\u001b[0;32m----> 1\u001b[0;31m \u001b[0mstop\u001b[0m\u001b[0;34m\u001b[0m\u001b[0;34m\u001b[0m\u001b[0m\n\u001b[0m",
      "\u001b[0;31mNameError\u001b[0m: name 'stop' is not defined"
     ]
    }
   ],
   "source": [
    "stop"
   ]
  },
  {
   "cell_type": "code",
   "execution_count": null,
   "metadata": {},
   "outputs": [],
   "source": [
    "price_df = price_df.drop(columns=['Ratio', 'Adj Close'])\n",
    "price_df.rename(columns={'Adj My Close': 'Adj Close'}, inplace=True)\n",
    "\n",
    "new_price_file = os.path.join(dir_data_raw, 'prices', 'ready', \"%s.csv\" % ticker)\n",
    "\n",
    "price_df.to_csv(new_price_file)\n",
    "\n",
    "price_df.head()"
   ]
  },
  {
   "cell_type": "code",
   "execution_count": null,
   "metadata": {},
   "outputs": [],
   "source": []
  }
 ],
 "metadata": {
  "kernelspec": {
   "display_name": "Python 3",
   "language": "python",
   "name": "python3"
  },
  "language_info": {
   "codemirror_mode": {
    "name": "ipython",
    "version": 3
   },
   "file_extension": ".py",
   "mimetype": "text/x-python",
   "name": "python",
   "nbconvert_exporter": "python",
   "pygments_lexer": "ipython3",
   "version": "3.7.10"
  }
 },
 "nbformat": 4,
 "nbformat_minor": 2
}
