{
 "cells": [
  {
   "cell_type": "markdown",
   "metadata": {},
   "source": [
    "# Ticker generation"
   ]
  },
  {
   "cell_type": "markdown",
   "metadata": {},
   "source": [
    "## Inittialization"
   ]
  },
  {
   "cell_type": "code",
   "execution_count": 1,
   "metadata": {},
   "outputs": [],
   "source": [
    "import os\n",
    "import csv"
   ]
  },
  {
   "cell_type": "markdown",
   "metadata": {},
   "source": [
    "_get all tickers with index as a suffix_"
   ]
  },
  {
   "cell_type": "code",
   "execution_count": 2,
   "metadata": {},
   "outputs": [],
   "source": [
    "data_raw_path = os.path.join('..', '..', 'data_raw')\n",
    "data_prosecc_path = os.path.join('..', '..', 'data_processing')"
   ]
  },
  {
   "cell_type": "code",
   "execution_count": 3,
   "metadata": {},
   "outputs": [],
   "source": [
    "quandl_code = {\n",
    "    'CAC': \"EURONEXT/%s\",\n",
    "    'FTSE': \"LSE/%s\",\n",
    "    'DAX': \"FSE/%s_X\",\n",
    "    'DJIA': \"XNYS/%s\",\n",
    "    'XETRA': \"FSE/%s_X\",\n",
    "}"
   ]
  },
  {
   "cell_type": "code",
   "execution_count": 4,
   "metadata": {},
   "outputs": [],
   "source": [
    "yahoo_code = {\n",
    "    'CAC': \"%s.PA\",\n",
    "    'FTSE': \"%s.L\",\n",
    "    'DAX': \"%s.F\",\n",
    "    'DJIA': \"%s\",\n",
    "    'XETRA': \"%s.DE\"\n",
    "}"
   ]
  },
  {
   "cell_type": "code",
   "execution_count": 5,
   "metadata": {},
   "outputs": [],
   "source": [
    "tickers = []\n",
    "reports_path = os.path.join(data_raw_path, 'reports_txt')\n",
    "for index_name in os.listdir(reports_path):\n",
    "    index_path = os.path.join(reports_path, index_name)\n",
    "    if not os.path.isdir(index_path): continue\n",
    "    \n",
    "    for ticker_name in os.listdir(index_path):\n",
    "        if not os.path.isdir(os.path.join(index_path, ticker_name)): continue\n",
    "        \n",
    "        tickers.append([\n",
    "            ticker_name,\n",
    "            \"%s_%s\" % (ticker_name, index_name),\n",
    "            yahoo_code[index_name] % ticker_name,\n",
    "            quandl_code[index_name] % ticker_name,\n",
    "                       ])\n",
    "tickers.sort(key = lambda x: x[0] + x[1])\n",
    "tickers_path = os.path.join(data_prosecc_path, 'tickers')\n",
    "with open(os.path.join(tickers_path, 'all_tickers.csv'),'w') as f_w:\n",
    "    writer = csv.writer(f_w)\n",
    "    writer.writerow(['ticker', 'ticker_index', 'ticker_yahoo', 'ticker_quandl'])\n",
    "    writer.writerows(tickers)"
   ]
  },
  {
   "cell_type": "code",
   "execution_count": null,
   "metadata": {},
   "outputs": [],
   "source": []
  }
 ],
 "metadata": {
  "kernelspec": {
   "display_name": "Python 3",
   "language": "python",
   "name": "python3"
  },
  "language_info": {
   "codemirror_mode": {
    "name": "ipython",
    "version": 3
   },
   "file_extension": ".py",
   "mimetype": "text/x-python",
   "name": "python",
   "nbconvert_exporter": "python",
   "pygments_lexer": "ipython3",
   "version": "3.7.10"
  }
 },
 "nbformat": 4,
 "nbformat_minor": 2
}
