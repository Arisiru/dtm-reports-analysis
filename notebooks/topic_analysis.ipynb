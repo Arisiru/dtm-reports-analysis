{
 "cells": [
  {
   "cell_type": "markdown",
   "metadata": {},
   "source": [
    "# Initialization"
   ]
  },
  {
   "cell_type": "code",
   "execution_count": 1,
   "metadata": {},
   "outputs": [],
   "source": [
    "import os\n",
    "import re\n",
    "import numpy as np\n",
    "\n",
    "import matplotlib.pyplot as plt\n",
    "from matplotlib.backends.backend_pdf import PdfPages\n",
    "\n",
    "%matplotlib inline"
   ]
  },
  {
   "cell_type": "markdown",
   "metadata": {},
   "source": [
    "### set experiment dates"
   ]
  },
  {
   "cell_type": "code",
   "execution_count": 2,
   "metadata": {},
   "outputs": [],
   "source": [
    "year = 2005 "
   ]
  },
  {
   "cell_type": "markdown",
   "metadata": {},
   "source": [
    "### set directories"
   ]
  },
  {
   "cell_type": "code",
   "execution_count": 3,
   "metadata": {},
   "outputs": [],
   "source": [
    "dir_root = os.path.join('..')\n",
    "dir_data_processing = os.path.join(dir_root, 'data_processing')\n",
    "dir_reports_ready =  os.path.join(dir_data_processing, 'reports_ready')"
   ]
  },
  {
   "cell_type": "markdown",
   "metadata": {},
   "source": [
    "### set flags"
   ]
  },
  {
   "cell_type": "code",
   "execution_count": 4,
   "metadata": {},
   "outputs": [],
   "source": [
    "flag_debug = False"
   ]
  },
  {
   "cell_type": "markdown",
   "metadata": {},
   "source": [
    "# Read data reports from files"
   ]
  },
  {
   "cell_type": "code",
   "execution_count": 5,
   "metadata": {},
   "outputs": [],
   "source": [
    "def read_report(dir_name, file_name):\n",
    "    file_path = os.path.join(dir_name, file_name)\n",
    "    result = []\n",
    "    with open(file_path, 'r') as f_r:\n",
    "        for text_line in f_r:\n",
    "            result = result + text_line.strip().split(' ')\n",
    "    return result        "
   ]
  },
  {
   "cell_type": "code",
   "execution_count": 6,
   "metadata": {},
   "outputs": [
    {
     "name": "stdout",
     "output_type": "stream",
     "text": [
      "Done on 2005, number of documents: 233\n"
     ]
    }
   ],
   "source": [
    "reports_list = []\n",
    "\n",
    "regExp = re.compile('[A-Z\\d]+\\_[A-Z\\d]+\\-' + str(year) + '\\_[\\d]+\\.txt$')\n",
    "reports_of_year = [f for f in os.listdir(dir_reports_ready) if re.search(regExp, f)]\n",
    "reports_of_year.sort()\n",
    "# for every reports of the year\n",
    "for report_name in reports_of_year:\n",
    "    reports_list.append(read_report(dir_reports_ready, report_name))\n",
    "\n",
    "print('Done on %s, number of documents: %s' % (year, len(reports_of_year)))"
   ]
  },
  {
   "cell_type": "markdown",
   "metadata": {},
   "source": [
    "# Corpus construction"
   ]
  },
  {
   "cell_type": "code",
   "execution_count": 7,
   "metadata": {},
   "outputs": [],
   "source": [
    "import gensim\n",
    "import gensim.corpora as corpora"
   ]
  },
  {
   "cell_type": "markdown",
   "metadata": {},
   "source": [
    "## Create Dictionary"
   ]
  },
  {
   "cell_type": "code",
   "execution_count": 8,
   "metadata": {},
   "outputs": [],
   "source": [
    "id2word = corpora.Dictionary(reports_list)"
   ]
  },
  {
   "cell_type": "markdown",
   "metadata": {},
   "source": [
    "## Create Corpus"
   ]
  },
  {
   "cell_type": "code",
   "execution_count": 9,
   "metadata": {},
   "outputs": [],
   "source": [
    "corpus = [id2word.doc2bow(text) for text in reports_list]"
   ]
  },
  {
   "cell_type": "code",
   "execution_count": 10,
   "metadata": {},
   "outputs": [
    {
     "name": "stdout",
     "output_type": "stream",
     "text": [
      "Number of unique tokens: 13741\n"
     ]
    }
   ],
   "source": [
    "print('Number of unique tokens: %s' %len(id2word))"
   ]
  },
  {
   "cell_type": "markdown",
   "metadata": {},
   "source": [
    "view the first document as BOW"
   ]
  },
  {
   "cell_type": "code",
   "execution_count": 11,
   "metadata": {},
   "outputs": [],
   "source": [
    "if flag_debug:\n",
    "    print(corpus[:1])"
   ]
  },
  {
   "cell_type": "markdown",
   "metadata": {},
   "source": [
    "# Find optimal topic number"
   ]
  },
  {
   "cell_type": "code",
   "execution_count": 12,
   "metadata": {},
   "outputs": [],
   "source": [
    "from gensim.models import CoherenceModel"
   ]
  },
  {
   "cell_type": "code",
   "execution_count": 13,
   "metadata": {},
   "outputs": [],
   "source": [
    "def compute_coherence_values(dictionary, corpus, texts, limit, start=2, step=3, passes=10, random_state=100):\n",
    "    \"\"\"\n",
    "    Compute c_v coherence for various number of topics\n",
    "\n",
    "    Parameters:\n",
    "    ----------\n",
    "    dictionary : Gensim dictionary\n",
    "    corpus : Gensim corpus\n",
    "    texts : List of input texts\n",
    "    limit : Max num of topics\n",
    "\n",
    "    Returns:\n",
    "    -------\n",
    "    model_list : List of LDA topic models\n",
    "    coherence_values : Coherence values corresponding to the LDA model with respective number of topics\n",
    "    \"\"\"\n",
    "    coherence_values = []\n",
    "    perplexity_values = []\n",
    "    model_list = []\n",
    "    i = 0\n",
    "    for num_topics in range(start, limit + 1, step):\n",
    "        model = gensim.models.ldamodel.LdaModel(corpus=corpus,\n",
    "                                           id2word=dictionary,\n",
    "                                           num_topics=num_topics, \n",
    "                                           random_state=random_state,\n",
    "                                           update_every=5,\n",
    "                                           chunksize=100,\n",
    "                                           passes=passes,\n",
    "                                           alpha='auto',\n",
    "                                           per_word_topics=True)\n",
    "        model_list.append(model)\n",
    "        \n",
    "        coherencemodel = CoherenceModel(model=model, texts=texts, dictionary=dictionary, coherence='c_v')\n",
    "        c_v_score = coherencemodel.get_coherence()\n",
    "        coherence_values.append(c_v_score)\n",
    "        \n",
    "        perplexity = model.log_perplexity(corpus)\n",
    "        perplexity_values.append(perplexity)\n",
    "        \n",
    "        print('Done on indx: %s T: %s, c_v score: %s, perplexity: %s' % (i, num_topics, c_v_score, perplexity))\n",
    "        i += 1\n",
    "    return model_list, coherence_values, perplexity_values"
   ]
  },
  {
   "cell_type": "code",
   "execution_count": 14,
   "metadata": {},
   "outputs": [],
   "source": [
    "min_T = 5\n",
    "max_T = 60\n",
    "step_T = 1\n",
    "passes_T = 31 # I had pike at 22 with 51\n",
    "random_state = 193748"
   ]
  },
  {
   "cell_type": "code",
   "execution_count": 15,
   "metadata": {},
   "outputs": [
    {
     "name": "stdout",
     "output_type": "stream",
     "text": [
      "Done on indx: 0 T: 5, c_v score: 0.3496441007660579, perplexity: -7.97553352145376\n",
      "Done on indx: 1 T: 6, c_v score: 0.3670931327366391, perplexity: -7.937691354100884\n",
      "Done on indx: 2 T: 7, c_v score: 0.36593813859959196, perplexity: -7.910196137982824\n",
      "Done on indx: 3 T: 8, c_v score: 0.4420676137477915, perplexity: -7.879053988661248\n",
      "Done on indx: 4 T: 9, c_v score: 0.43373352408686433, perplexity: -7.855157164927047\n",
      "Done on indx: 5 T: 10, c_v score: 0.4106920004885777, perplexity: -7.828519870761337\n",
      "Done on indx: 6 T: 11, c_v score: 0.3861271374253919, perplexity: -7.807202815698776\n",
      "Done on indx: 7 T: 12, c_v score: 0.4844404988360429, perplexity: -7.770469115734825\n",
      "Done on indx: 8 T: 13, c_v score: 0.4573448470586502, perplexity: -7.76264153363805\n",
      "Done on indx: 9 T: 14, c_v score: 0.46649831662712066, perplexity: -7.743898701437329\n",
      "Done on indx: 10 T: 15, c_v score: 0.4775692139230563, perplexity: -7.727303373824281\n",
      "Done on indx: 11 T: 16, c_v score: 0.4684600008677416, perplexity: -7.7178087881602515\n",
      "Done on indx: 12 T: 17, c_v score: 0.41764623575649135, perplexity: -7.711499430766245\n",
      "Done on indx: 13 T: 18, c_v score: 0.48209469542042094, perplexity: -7.696954919434936\n",
      "Done on indx: 14 T: 19, c_v score: 0.498446725481262, perplexity: -7.70793573481354\n",
      "Done on indx: 15 T: 20, c_v score: 0.4783957230765531, perplexity: -7.682432555647912\n",
      "Done on indx: 16 T: 21, c_v score: 0.4808577024015336, perplexity: -7.6890053860298595\n",
      "Done on indx: 17 T: 22, c_v score: 0.5216276574463795, perplexity: -7.691047919698885\n",
      "Done on indx: 18 T: 23, c_v score: 0.4749502222283455, perplexity: -7.715663118471948\n",
      "Done on indx: 19 T: 24, c_v score: 0.49585862110877227, perplexity: -7.700743747800426\n",
      "Done on indx: 20 T: 25, c_v score: 0.47574390566289493, perplexity: -7.711552057711926\n",
      "Done on indx: 21 T: 26, c_v score: 0.5379458954005814, perplexity: -7.71879094494793\n",
      "Done on indx: 22 T: 27, c_v score: 0.535442450970344, perplexity: -7.714041338136493\n",
      "Done on indx: 23 T: 28, c_v score: 0.5384148145999431, perplexity: -7.729758114772253\n",
      "Done on indx: 24 T: 29, c_v score: 0.5656673657805315, perplexity: -7.721635035922995\n",
      "Done on indx: 25 T: 30, c_v score: 0.5272909503277593, perplexity: -7.741083773377553\n",
      "Done on indx: 26 T: 31, c_v score: 0.556001897407875, perplexity: -7.754203587324566\n",
      "Done on indx: 27 T: 32, c_v score: 0.5514778473902151, perplexity: -7.7709287504623825\n",
      "Done on indx: 28 T: 33, c_v score: 0.5299893274422086, perplexity: -7.7860804356499\n",
      "Done on indx: 29 T: 34, c_v score: 0.553777834208436, perplexity: -7.753321950549251\n",
      "Done on indx: 30 T: 35, c_v score: 0.5488981094153665, perplexity: -7.772605778733754\n",
      "Done on indx: 31 T: 36, c_v score: 0.5714883787491432, perplexity: -7.7728242010619155\n",
      "Done on indx: 32 T: 37, c_v score: 0.5670371170979602, perplexity: -7.80762592507979\n",
      "Done on indx: 33 T: 38, c_v score: 0.5915736396181753, perplexity: -7.810554019573531\n",
      "Done on indx: 34 T: 39, c_v score: 0.5656896556142875, perplexity: -7.830732909687922\n",
      "Done on indx: 35 T: 40, c_v score: 0.5788234858549215, perplexity: -7.824017807816537\n",
      "Done on indx: 36 T: 41, c_v score: 0.5438736136716014, perplexity: -7.836768714200211\n",
      "Done on indx: 37 T: 42, c_v score: 0.5767810936370401, perplexity: -7.86508107925937\n",
      "Done on indx: 38 T: 43, c_v score: 0.5925719659651457, perplexity: -7.8810675391897185\n",
      "Done on indx: 39 T: 44, c_v score: 0.5669447064745379, perplexity: -7.887258583912358\n",
      "Done on indx: 40 T: 45, c_v score: 0.5520847591590775, perplexity: -7.89381843329818\n",
      "Done on indx: 41 T: 46, c_v score: 0.6024790740245254, perplexity: -7.9070461203676645\n",
      "Done on indx: 42 T: 47, c_v score: 0.5969990591263614, perplexity: -7.91060985191277\n",
      "Done on indx: 43 T: 48, c_v score: 0.5886652727496654, perplexity: -7.939650778169522\n",
      "Done on indx: 44 T: 49, c_v score: 0.5911147756037682, perplexity: -7.957870788337426\n",
      "Done on indx: 45 T: 50, c_v score: 0.5533174655466793, perplexity: -7.980860494263663\n",
      "Done on indx: 46 T: 51, c_v score: 0.5604077483611851, perplexity: -7.982731355754706\n",
      "Done on indx: 47 T: 52, c_v score: 0.5056070930710533, perplexity: -8.052224781055296\n",
      "Done on indx: 48 T: 53, c_v score: 0.5187475177018597, perplexity: -8.039034965899514\n",
      "Done on indx: 49 T: 54, c_v score: 0.5622557857591062, perplexity: -8.046959176388905\n",
      "Done on indx: 50 T: 55, c_v score: 0.5456004290327052, perplexity: -8.056578615092915\n",
      "Done on indx: 51 T: 56, c_v score: 0.5351450911771966, perplexity: -8.083980608186858\n",
      "Done on indx: 52 T: 57, c_v score: 0.5693591219596823, perplexity: -8.073805508146805\n",
      "Done on indx: 53 T: 58, c_v score: 0.5369040654744403, perplexity: -8.100542819583305\n",
      "Done on indx: 54 T: 59, c_v score: 0.5449757185528502, perplexity: -8.132467536578003\n",
      "Done on indx: 55 T: 60, c_v score: 0.5536581069810029, perplexity: -8.163018954604182\n"
     ]
    }
   ],
   "source": [
    "model_list, coherence_values, perplexity_values = compute_coherence_values(\n",
    "    dictionary=id2word, \n",
    "    corpus=corpus, \n",
    "    texts=reports_list, \n",
    "    start=min_T, \n",
    "    limit=max_T, \n",
    "    step=step_T,\n",
    "    passes=passes_T,\n",
    "    random_state=random_state)"
   ]
  },
  {
   "cell_type": "code",
   "execution_count": 16,
   "metadata": {},
   "outputs": [],
   "source": [
    "import math\n",
    "for i in range(len(coherence_values)):\n",
    "    if math.isnan(coherence_values[i]):\n",
    "        coherence_values[i] = 0"
   ]
  },
  {
   "cell_type": "code",
   "execution_count": 17,
   "metadata": {},
   "outputs": [
    {
     "data": {
      "image/png": "[encoded data removed]",
      "text/plain": [
       "<Figure size 288x288 with 1 Axes>"
      ]
     },
     "metadata": {
      "needs_background": "light"
     },
     "output_type": "display_data"
    }
   ],
   "source": [
    "plt.figure(figsize=(4,4))\n",
    "\n",
    "        \n",
    "y = np.array(coherence_values)\n",
    "x = np.array(range(min_T, max_T + 1, step_T))\n",
    "\n",
    "plt.plot(x, y)    \n",
    "    \n",
    "    \n",
    "xmax = x[np.argmax(y)]\n",
    "ymax = y.max()\n",
    "text = 'Num of Topics=%s, score=%f' % (xmax, ymax)\n",
    "\n",
    "bbox_props = dict(boxstyle='square,pad=0.3', fc='w', ec='k', lw=0.72)\n",
    "arrowprops=dict(arrowstyle='->')\n",
    "kw = dict(xycoords='data',textcoords='axes fraction',\n",
    "          arrowprops=arrowprops, bbox=bbox_props, ha='right', va='top')\n",
    "plt.annotate(text, xy=(xmax, ymax), xytext=(0.99,1.1), **kw)\n",
    "\n",
    "\n",
    "plt.xlabel('Number of Topics, T')\n",
    "plt.ylabel('Coherence score')\n",
    "\n",
    "#pp = PdfPages(os.path.join(dir_topics, 'cohearence_score.pdf'))\n",
    "\n",
    "#plt.savefig(pp, format='pdf', bbox_inches='tight')\n",
    "plt.show()\n",
    "\n",
    "#pp.close() \n",
    "plt.close()"
   ]
  },
  {
   "cell_type": "code",
   "execution_count": 41,
   "metadata": {},
   "outputs": [
    {
     "data": {
      "text/plain": [
       "<Figure size 288x288 with 0 Axes>"
      ]
     },
     "metadata": {},
     "output_type": "display_data"
    },
    {
     "data": {
      "image/png": "[encoded data removed]",
      "text/plain": [
       "<Figure size 432x288 with 2 Axes>"
      ]
     },
     "metadata": {
      "needs_background": "light"
     },
     "output_type": "display_data"
    }
   ],
   "source": [
    "plt.figure(figsize=(4,4))\n",
    "\n",
    "      \n",
    "data1 = np.array(coherence_values)\n",
    "data2 = np.array(perplexity_values)\n",
    "x = np.array(range(min_T, min_T + len(data1), step_T))\n",
    "\n",
    "fig, ax1 = plt.subplots()\n",
    "\n",
    "color = 'tab:red'\n",
    "ax1.set_xlabel('Number of Topics, T')\n",
    "ax1.set_ylabel('Coherence score', color=color)\n",
    "ax1.plot(x, data1, color=color)\n",
    "ax1.tick_params(axis='y', labelcolor=color)\n",
    "\n",
    "xmax = x[np.argmax(data1)]\n",
    "ymax = data1.max()\n",
    "text = 'Num of Topics=%s, score=%f' % (xmax, ymax)\n",
    "\n",
    "bbox_props = dict(boxstyle='square,pad=0.3', fc='w', ec='k', lw=0.72)\n",
    "arrowprops = dict(arrowstyle='->')\n",
    "kw = dict(xycoords='data',textcoords='axes fraction',\n",
    "          arrowprops=arrowprops, bbox=bbox_props, ha='right', va='top')\n",
    "ax1.annotate(text, xy=(xmax, ymax), xytext=(0.99,1.1), **kw)\n",
    "\n",
    "# instantiate a second axes that shares the same x-axis\n",
    "ax2 = ax1.twinx()  \n",
    "\n",
    "color = 'tab:blue'\n",
    "ax2.set_ylabel('Perplexity score', color=color)\n",
    "ax2.plot(x, data2, color=color)\n",
    "ax2.tick_params(axis='y', labelcolor=color)\n",
    "\n",
    "fig.tight_layout() # otherwise the right y-label is slightly clipped\n",
    "plt.show()"
   ]
  },
  {
   "cell_type": "code",
   "execution_count": 36,
   "metadata": {},
   "outputs": [],
   "source": [
    "take_first_t_index = 17\n",
    "coherence_values_in_use = coherence_values[:take_first_t_index]\n",
    "perplexity_values_in_use = perplexity_values[:take_first_t_index]"
   ]
  },
  {
   "cell_type": "code",
   "execution_count": 37,
   "metadata": {},
   "outputs": [
    {
     "data": {
      "text/plain": [
       "<Figure size 288x288 with 0 Axes>"
      ]
     },
     "metadata": {},
     "output_type": "display_data"
    },
    {
     "data": {
      "image/png": "[encoded data removed]",
      "text/plain": [
       "<Figure size 432x288 with 2 Axes>"
      ]
     },
     "metadata": {
      "needs_background": "light"
     },
     "output_type": "display_data"
    }
   ],
   "source": [
    "plt.figure(figsize=(4,4))\n",
    "\n",
    "      \n",
    "data1 = np.array(coherence_values_in_use)\n",
    "data2 = np.array(perplexity_values_in_use)\n",
    "x = np.array(range(min_T, min_T + len(data1), step_T))\n",
    "\n",
    "fig, ax1 = plt.subplots()\n",
    "\n",
    "color = 'tab:red'\n",
    "ax1.set_xlabel('Number of Topics, T')\n",
    "ax1.set_ylabel('Coherence score', color=color)\n",
    "ax1.plot(x, data1, color=color)\n",
    "ax1.tick_params(axis='y', labelcolor=color)\n",
    "\n",
    "xmax = x[np.argmax(data1)]\n",
    "ymax = data1.max()\n",
    "text = 'Num of Topics=%s, score=%f' % (xmax, ymax)\n",
    "\n",
    "bbox_props = dict(boxstyle='square,pad=0.3', fc='w', ec='k', lw=0.72)\n",
    "arrowprops = dict(arrowstyle='->')\n",
    "kw = dict(xycoords='data',textcoords='axes fraction',\n",
    "          arrowprops=arrowprops, bbox=bbox_props, ha='right', va='top')\n",
    "ax1.annotate(text, xy=(xmax, ymax), xytext=(0.99,1.1), **kw)\n",
    "\n",
    "# instantiate a second axes that shares the same x-axis\n",
    "ax2 = ax1.twinx()  \n",
    "\n",
    "color = 'tab:blue'\n",
    "ax2.set_ylabel('Perplexity score', color=color)\n",
    "ax2.plot(x, data2, color=color)\n",
    "ax2.tick_params(axis='y', labelcolor=color)\n",
    "\n",
    "fig.tight_layout() # otherwise the right y-label is slightly clipped\n",
    "plt.show()"
   ]
  },
  {
   "cell_type": "code",
   "execution_count": 38,
   "metadata": {},
   "outputs": [],
   "source": [
    "best_model_index = np.argmax(np.array(data1))\n",
    "ts = np.array(range(min_T, min_T + len(data1) + 1, step_T))\n",
    "\n",
    "\n",
    "best_topics_number = ts[best_model_index]\n",
    "best_model = model_list[best_model_index]"
   ]
  },
  {
   "cell_type": "code",
   "execution_count": 39,
   "metadata": {},
   "outputs": [
    {
     "name": "stdout",
     "output_type": "stream",
     "text": [
      "Best T: 19\n"
     ]
    }
   ],
   "source": [
    "print('Best T: %s' % best_topics_number)"
   ]
  },
  {
   "cell_type": "code",
   "execution_count": 40,
   "metadata": {
    "scrolled": false
   },
   "outputs": [
    {
     "name": "stdout",
     "output_type": "stream",
     "text": [
      "['mobile', 'wireless', 'voice', 'license', 'subscriber']\n",
      "['coca_cola', 'premier', 'gallon', 'hotel', 'travel']\n",
      "['steel', 'client', 'engineering', 'automotive', 'elevator']\n",
      "['reinsurance', 'hotel', 'casualty', 'asbestos', 'insurer']\n",
      "['mail', 'thousand', 'logistic', 'marketable', 'noncurrent']\n",
      "['electricity', 'water', 'station', 'nuclear', 'road']\n",
      "['salt', 'lens', 'fertilizer', 'thousand', 'optical']\n",
      "['patent', 'pharmaceutical', 'patient', 'drug', 'disease']\n",
      "['aircraft', 'defence', 'space', 'military', 'air']\n",
      "['stockholder', 'subgroup', 'pharmaceutical', 'raw', 'contents_newsletter']\n",
      "['taxation', 'turnover', 'undertaking', 'mortgage', 'creditor']\n",
      "['medical', 'millions', 'valeur', 'titre', 'montant']\n",
      "['client', 'taxation', 'advertising', 'headline', 'unaudited']\n",
      "['registration', 'shelf', 'affiliate', 'admiral', 'memory']\n",
      "['mine', 'gold', 'ore', 'mining', 'client']\n",
      "['passenger', 'car', 'aircraft', 'fleet', 'traffic']\n",
      "['chase', 'card', 'store', 'heritage', 'client']\n",
      "['reinsurance', 'casualty', 'policyholder', 'mutual', 'client']\n",
      "['store', 'food', 'television', 'supermarket', 'park_resort']\n"
     ]
    }
   ],
   "source": [
    "for i in range(best_topics_number):\n",
    "    print([id2word.id2token[x[0]] for x in best_model.get_topic_terms(i, topn=5)])"
   ]
  },
  {
   "cell_type": "markdown",
   "metadata": {},
   "source": [
    "# EnD"
   ]
  },
  {
   "cell_type": "code",
   "execution_count": null,
   "metadata": {},
   "outputs": [],
   "source": []
  }
 ],
 "metadata": {
  "kernelspec": {
   "display_name": "Python 3",
   "language": "python",
   "name": "python3"
  },
  "language_info": {
   "codemirror_mode": {
    "name": "ipython",
    "version": 3
   },
   "file_extension": ".py",
   "mimetype": "text/x-python",
   "name": "python",
   "nbconvert_exporter": "python",
   "pygments_lexer": "ipython3",
   "version": "3.7.7"
  }
 },
 "nbformat": 4,
 "nbformat_minor": 2
}
