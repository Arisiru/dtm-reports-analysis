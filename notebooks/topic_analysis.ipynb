{
 "cells": [
  {
   "cell_type": "markdown",
   "metadata": {},
   "source": [
    "# Initialization"
   ]
  },
  {
   "cell_type": "code",
   "execution_count": 1,
   "metadata": {},
   "outputs": [],
   "source": [
    "import os\n",
    "import re\n",
    "import numpy as np\n",
    "import random\n",
    "import time\n",
    "import json"
   ]
  },
  {
   "cell_type": "code",
   "execution_count": 2,
   "metadata": {},
   "outputs": [],
   "source": [
    "import matplotlib\n",
    "import matplotlib.pyplot as plt\n",
    "from matplotlib.backends.backend_pdf import PdfPages"
   ]
  },
  {
   "cell_type": "code",
   "execution_count": 3,
   "metadata": {},
   "outputs": [],
   "source": [
    "plt.rcParams[\"font.family\"] = \"Courier\"\n",
    "\n",
    "%matplotlib inline"
   ]
  },
  {
   "cell_type": "code",
   "execution_count": 4,
   "metadata": {},
   "outputs": [
    {
     "data": {
      "text/plain": [
       "{'Computer Modern',\n",
       " 'Courier',\n",
       " 'Helvetica',\n",
       " 'ITC Avant Garde Gothic',\n",
       " 'ITC Bookman',\n",
       " 'ITC Zapf Chancery',\n",
       " 'ITC Zapf Dingbats',\n",
       " 'New Century Schoolbook',\n",
       " 'Palatino',\n",
       " 'Symbol',\n",
       " 'Times',\n",
       " 'Utopia',\n",
       " 'ZapfDingbats'}"
      ]
     },
     "execution_count": 4,
     "metadata": {},
     "output_type": "execute_result"
    }
   ],
   "source": [
    "set([f.name for f in matplotlib.font_manager.fontManager.afmlist])"
   ]
  },
  {
   "cell_type": "markdown",
   "metadata": {},
   "source": [
    "### set experiment dates"
   ]
  },
  {
   "cell_type": "code",
   "execution_count": 5,
   "metadata": {},
   "outputs": [],
   "source": [
    "year = 2005 "
   ]
  },
  {
   "cell_type": "markdown",
   "metadata": {},
   "source": [
    "### set run"
   ]
  },
  {
   "cell_type": "code",
   "execution_count": 6,
   "metadata": {},
   "outputs": [],
   "source": [
    "run = 32"
   ]
  },
  {
   "cell_type": "code",
   "execution_count": 7,
   "metadata": {},
   "outputs": [],
   "source": [
    "run_prefix = 'run_%s_xx' % run"
   ]
  },
  {
   "cell_type": "markdown",
   "metadata": {},
   "source": [
    "### set directories"
   ]
  },
  {
   "cell_type": "code",
   "execution_count": 8,
   "metadata": {},
   "outputs": [],
   "source": [
    "dir_root = os.path.join('..')\n",
    "dir_data_runs = os.path.join(dir_root, 'data_runs')\n",
    "dir_run = os.path.join(dir_data_runs, run_prefix)\n",
    "dir_reports = os.path.join(dir_run, 'reports')\n",
    "dir_plots = os.path.join(dir_run, 'interpretation', 't_search_plots')"
   ]
  },
  {
   "cell_type": "code",
   "execution_count": 9,
   "metadata": {},
   "outputs": [],
   "source": [
    "if not os.path.exists(dir_plots):\n",
    "    os.makedirs(dir_plots)"
   ]
  },
  {
   "cell_type": "markdown",
   "metadata": {},
   "source": [
    "### set flags"
   ]
  },
  {
   "cell_type": "code",
   "execution_count": 10,
   "metadata": {},
   "outputs": [],
   "source": [
    "flag_debug = False\n",
    "flag_rerun_scan4T = True\n",
    "flag_run_heldout = True\n",
    "flag_serialize_findings = True\n",
    "flag_de_serialize_findings = True\n",
    "flag_print_tables = False\n",
    "flag_b_w = False"
   ]
  },
  {
   "cell_type": "markdown",
   "metadata": {},
   "source": [
    "# Read data reports from files"
   ]
  },
  {
   "cell_type": "code",
   "execution_count": 11,
   "metadata": {},
   "outputs": [],
   "source": [
    "def read_report(dir_name, file_name):\n",
    "    file_path = os.path.join(dir_name, file_name)\n",
    "    result = []\n",
    "    with open(file_path, 'r') as f_r:\n",
    "        for text_line in f_r:\n",
    "            result = result + text_line.strip().split(' ')\n",
    "    return result        "
   ]
  },
  {
   "cell_type": "code",
   "execution_count": 12,
   "metadata": {},
   "outputs": [
    {
     "name": "stdout",
     "output_type": "stream",
     "text": [
      "Done on 2005, number of documents: 234\n"
     ]
    }
   ],
   "source": [
    "reports_list = []\n",
    "\n",
    "if flag_rerun_scan4T:\n",
    "\n",
    "    regExp = re.compile('[A-Z\\d]+\\_[A-Z\\d]+\\-' + str(year) + '\\_[\\d]+\\.txt$')\n",
    "    reports_of_year = [f for f in os.listdir(dir_reports) if re.search(regExp, f)]\n",
    "    reports_of_year.sort()\n",
    "    # for every reports of the year\n",
    "    for report_name in reports_of_year:\n",
    "        reports_list.append(read_report(dir_reports, report_name))\n",
    "\n",
    "    print('Done on %s, number of documents: %s' % (year, len(reports_of_year)))"
   ]
  },
  {
   "cell_type": "markdown",
   "metadata": {},
   "source": [
    "# Corpus construction"
   ]
  },
  {
   "cell_type": "code",
   "execution_count": 13,
   "metadata": {},
   "outputs": [],
   "source": [
    "import gensim\n",
    "import gensim.corpora as corpora"
   ]
  },
  {
   "cell_type": "markdown",
   "metadata": {},
   "source": [
    "## Create Dictionary"
   ]
  },
  {
   "cell_type": "code",
   "execution_count": 14,
   "metadata": {},
   "outputs": [],
   "source": [
    "id2word = corpora.Dictionary(reports_list)"
   ]
  },
  {
   "cell_type": "markdown",
   "metadata": {},
   "source": [
    "## Create Corpus"
   ]
  },
  {
   "cell_type": "markdown",
   "metadata": {},
   "source": [
    "Shuffle reporst"
   ]
  },
  {
   "cell_type": "code",
   "execution_count": 15,
   "metadata": {},
   "outputs": [],
   "source": [
    "seed = 193748"
   ]
  },
  {
   "cell_type": "markdown",
   "metadata": {},
   "source": [
    "Best randon seed is 99"
   ]
  },
  {
   "cell_type": "code",
   "execution_count": 16,
   "metadata": {},
   "outputs": [],
   "source": [
    "random.Random(seed).shuffle(reports_list)"
   ]
  },
  {
   "cell_type": "markdown",
   "metadata": {},
   "source": [
    "Split between training and test set"
   ]
  },
  {
   "cell_type": "code",
   "execution_count": 17,
   "metadata": {},
   "outputs": [],
   "source": [
    "testing_size = len(reports_list) // 10\n",
    "training_size = len(reports_list) - testing_size"
   ]
  },
  {
   "cell_type": "code",
   "execution_count": 18,
   "metadata": {},
   "outputs": [
    {
     "name": "stdout",
     "output_type": "stream",
     "text": [
      "Total 234 reprorts\n",
      "Training 211 reprorts\n",
      "Testing 23 reprorts\n"
     ]
    }
   ],
   "source": [
    "print('Total %s reprorts' % len(reports_list))\n",
    "print('Training %s reprorts' % training_size)\n",
    "print('Testing %s reprorts' % testing_size)"
   ]
  },
  {
   "cell_type": "code",
   "execution_count": 19,
   "metadata": {},
   "outputs": [],
   "source": [
    "training_corpus = [id2word.doc2bow(text) for text in reports_list[:training_size]]\n",
    "test_corpus = [id2word.doc2bow(text) for text in reports_list[:-testing_size]]\n",
    "\n",
    "corpus = [id2word.doc2bow(text) for text in reports_list]"
   ]
  },
  {
   "cell_type": "code",
   "execution_count": 20,
   "metadata": {},
   "outputs": [
    {
     "name": "stdout",
     "output_type": "stream",
     "text": [
      "Number of unique tokens: 14380\n"
     ]
    }
   ],
   "source": [
    "print('Number of unique tokens: %s' %len(id2word))"
   ]
  },
  {
   "cell_type": "markdown",
   "metadata": {},
   "source": [
    "view the first document as BOW"
   ]
  },
  {
   "cell_type": "code",
   "execution_count": 21,
   "metadata": {},
   "outputs": [],
   "source": [
    "if flag_debug:\n",
    "    print(corpus[:1])"
   ]
  },
  {
   "cell_type": "markdown",
   "metadata": {},
   "source": [
    "# Find optimal topic number"
   ]
  },
  {
   "cell_type": "code",
   "execution_count": 22,
   "metadata": {},
   "outputs": [],
   "source": [
    "from gensim.models import CoherenceModel"
   ]
  },
  {
   "cell_type": "code",
   "execution_count": 23,
   "metadata": {},
   "outputs": [],
   "source": [
    "def scan_T_gensim(dictionary, \n",
    "                  training_corpus, \n",
    "                  test_corpus, \n",
    "                  texts, \n",
    "                  limit, \n",
    "                  start=2, \n",
    "                  step=3, \n",
    "                  passes=10, \n",
    "                  random_state=100, \n",
    "                  run_perplexity=False):\n",
    "    \n",
    "    coherence_values = []\n",
    "    train_p_values = []\n",
    "    test_p_values = []\n",
    "    model_list = []\n",
    "    bound_values = []\n",
    "    i = 0\n",
    "    for num_topics in range(start, limit + 1, step):\n",
    "        model = gensim.models.ldamodel.LdaModel(\n",
    "            corpus=training_corpus,\n",
    "            id2word=dictionary,\n",
    "            num_topics=num_topics, \n",
    "            random_state=random_state,\n",
    "            passes=passes,\n",
    "            alpha='auto',\n",
    "            per_word_topics=True,\n",
    "        )\n",
    "        model_list.append(model)\n",
    "        \n",
    "        coherencemodel = CoherenceModel(model=model, texts=texts, dictionary=dictionary, coherence='c_v')\n",
    "        c_v_score = coherencemodel.get_coherence()\n",
    "        coherence_values.append(c_v_score)\n",
    "        if run_perplexity:         \n",
    "            train_perplexity = np.exp2(-(model.log_perplexity(training_corpus)))\n",
    "            train_p_values.append(train_perplexity)\n",
    "\n",
    "            test_perplexity = np.exp2(-(model.log_perplexity(test_corpus)))\n",
    "            test_p_values.append(test_perplexity)\n",
    "        else:\n",
    "            train_p_values.append(0)\n",
    "            test_p_values.append(0)\n",
    "        \n",
    "        print('Done on indx: %s T: %s, c_v score: %s, Test perplexity: %s' % (i, num_topics, c_v_score, test_perplexity))\n",
    "        \n",
    "        i += 1\n",
    "        \n",
    "        \n",
    "    return model_list, coherence_values, train_p_values, test_p_values\n"
   ]
  },
  {
   "cell_type": "code",
   "execution_count": 24,
   "metadata": {},
   "outputs": [],
   "source": [
    "min_T = 5\n",
    "max_T = 60\n",
    "step_T = 1\n",
    "passes_T = 30\n",
    "random_state = 373748"
   ]
  },
  {
   "cell_type": "code",
   "execution_count": 25,
   "metadata": {},
   "outputs": [],
   "source": [
    "model_list = []\n",
    "coherence_values = []\n",
    "train_perplexity_values = []\n",
    "test_perplexity_values = []"
   ]
  },
  {
   "cell_type": "markdown",
   "metadata": {},
   "source": [
    "Run with heldout test set"
   ]
  },
  {
   "cell_type": "code",
   "execution_count": 26,
   "metadata": {},
   "outputs": [
    {
     "name": "stdout",
     "output_type": "stream",
     "text": [
      "Done on indx: 0 T: 5, c_v score: 0.3402567561653934, Test perplexity: 221.16480287101407\n",
      "Done on indx: 1 T: 6, c_v score: 0.3280484906255445, Test perplexity: 218.93326524561763\n",
      "Done on indx: 2 T: 7, c_v score: 0.4111886073084502, Test perplexity: 212.7794814412897\n",
      "Done on indx: 3 T: 8, c_v score: 0.37675425842780685, Test perplexity: 210.5132623489937\n",
      "Done on indx: 4 T: 9, c_v score: 0.3689673423104716, Test perplexity: 208.83814504973503\n",
      "Done on indx: 5 T: 10, c_v score: 0.4154431935571923, Test perplexity: 205.56586547060147\n",
      "Done on indx: 6 T: 11, c_v score: 0.4453725833785898, Test perplexity: 204.3657854692683\n",
      "Done on indx: 7 T: 12, c_v score: 0.4575605851883737, Test perplexity: 200.21137345577813\n",
      "Done on indx: 8 T: 13, c_v score: 0.45273524201974935, Test perplexity: 199.21520589228993\n",
      "Done on indx: 9 T: 14, c_v score: 0.4663389537876645, Test perplexity: 198.04111267962958\n",
      "Done on indx: 10 T: 15, c_v score: 0.4419967671433655, Test perplexity: 196.48091506928722\n",
      "Done on indx: 11 T: 16, c_v score: 0.4344563172709922, Test perplexity: 196.42113597675365\n",
      "Done on indx: 12 T: 17, c_v score: 0.4291974844154893, Test perplexity: 196.295824683069\n",
      "Done on indx: 13 T: 18, c_v score: 0.4403196810708019, Test perplexity: 195.9382103030534\n",
      "Done on indx: 14 T: 19, c_v score: 0.45639660954059985, Test perplexity: 196.7205673089238\n",
      "Done on indx: 15 T: 20, c_v score: 0.4719087431557457, Test perplexity: 196.0134326348699\n",
      "Done on indx: 16 T: 21, c_v score: 0.45326512843790084, Test perplexity: 197.5884211793753\n",
      "Done on indx: 17 T: 22, c_v score: 0.4478367373745394, Test perplexity: 197.9689477320179\n",
      "Done on indx: 18 T: 23, c_v score: 0.456705479117193, Test perplexity: 198.9298707144781\n",
      "Done on indx: 19 T: 24, c_v score: 0.4625742588765854, Test perplexity: 200.17124876795972\n",
      "Done on indx: 20 T: 25, c_v score: 0.45018476926937623, Test perplexity: 200.814187744326\n",
      "Done on indx: 21 T: 26, c_v score: 0.4581038108921967, Test perplexity: 201.28279224723707\n",
      "Done on indx: 22 T: 27, c_v score: 0.471652645697768, Test perplexity: 202.7844147664118\n",
      "Done on indx: 23 T: 28, c_v score: 0.49633327992264137, Test perplexity: 203.1442236619575\n",
      "Done on indx: 24 T: 29, c_v score: 0.4482971757558874, Test perplexity: 204.2398267904543\n",
      "Done on indx: 25 T: 30, c_v score: 0.4453979397579424, Test perplexity: 206.20226718598678\n",
      "Done on indx: 26 T: 31, c_v score: 0.4230259174507999, Test perplexity: 207.3842561412841\n",
      "Done on indx: 27 T: 32, c_v score: 0.43603423291899146, Test perplexity: 207.70807725504068\n",
      "Done on indx: 28 T: 33, c_v score: 0.4815320710314283, Test perplexity: 206.26743836606644\n",
      "Done on indx: 29 T: 34, c_v score: 0.45340730534157486, Test perplexity: 210.5297354663323\n",
      "Done on indx: 30 T: 35, c_v score: 0.48839033691141126, Test perplexity: 211.60326514414086\n",
      "Done on indx: 31 T: 36, c_v score: 0.4555207320644911, Test perplexity: 211.3612151406942\n",
      "Done on indx: 32 T: 37, c_v score: 0.5087198474004875, Test perplexity: 212.90146276055955\n",
      "Done on indx: 33 T: 38, c_v score: 0.4510670791703363, Test perplexity: 220.1388279477698\n",
      "Done on indx: 34 T: 39, c_v score: 0.46827917838429056, Test perplexity: 216.4771209461596\n",
      "Done on indx: 35 T: 40, c_v score: 0.47862930702902384, Test perplexity: 219.69389891453628\n",
      "Done on indx: 36 T: 41, c_v score: 0.4500950867090142, Test perplexity: 222.77512230474292\n",
      "Done on indx: 37 T: 42, c_v score: 0.48629495838616926, Test perplexity: 225.70194062561066\n",
      "Done on indx: 38 T: 43, c_v score: 0.46572155592920017, Test perplexity: 226.64585746762657\n",
      "Done on indx: 39 T: 44, c_v score: 0.43882794685930926, Test perplexity: 230.4808122356089\n",
      "Done on indx: 40 T: 45, c_v score: 0.45013165932929805, Test perplexity: 232.32297062868955\n",
      "Done on indx: 41 T: 46, c_v score: 0.4362265468996195, Test perplexity: 234.308611844798\n",
      "Done on indx: 42 T: 47, c_v score: 0.4778498494378842, Test perplexity: 232.91133375386968\n",
      "Done on indx: 43 T: 48, c_v score: 0.47709108871131733, Test perplexity: 235.14991856340797\n",
      "Done on indx: 44 T: 49, c_v score: 0.45015654085649115, Test perplexity: 240.07976107883087\n",
      "Done on indx: 45 T: 50, c_v score: 0.46460239781958107, Test perplexity: 242.8440771678196\n",
      "Done on indx: 46 T: 51, c_v score: 0.4653432189688787, Test perplexity: 243.49571911609996\n",
      "Done on indx: 47 T: 52, c_v score: 0.43887447535496615, Test perplexity: 247.6336600388212\n",
      "Done on indx: 48 T: 53, c_v score: 0.44932396621250625, Test perplexity: 252.00484086638738\n",
      "Done on indx: 49 T: 54, c_v score: 0.47002055738702997, Test perplexity: 253.08950092576757\n",
      "Done on indx: 50 T: 55, c_v score: 0.4597407998190982, Test perplexity: 255.67684189311097\n",
      "Done on indx: 51 T: 56, c_v score: 0.47699257646929866, Test perplexity: 259.8473556116554\n",
      "Done on indx: 52 T: 57, c_v score: 0.46670377146204123, Test perplexity: 263.10303185485697\n",
      "Done on indx: 53 T: 58, c_v score: 0.46675177444618093, Test perplexity: 265.136726477828\n",
      "Done on indx: 54 T: 59, c_v score: 0.45707030052945685, Test perplexity: 266.076754003093\n",
      "Done on indx: 55 T: 60, c_v score: 0.43294246811827997, Test perplexity: 271.2983490680054\n"
     ]
    }
   ],
   "source": [
    "start = time.time()\n",
    "\n",
    "if flag_rerun_scan4T and flag_run_heldout:\n",
    "    model_list, coherence_values, train_perplexity_values, test_perplexity_values = scan_T_gensim(\n",
    "        dictionary=id2word, \n",
    "        training_corpus=training_corpus, \n",
    "        test_corpus=test_corpus,\n",
    "        texts=reports_list, \n",
    "        start=min_T, \n",
    "        limit=max_T, \n",
    "        step=step_T,\n",
    "        passes=passes_T,\n",
    "        random_state=random_state,\n",
    "        run_perplexity = True,\n",
    "    )\n",
    "    \n",
    "end = time.time() "
   ]
  },
  {
   "cell_type": "code",
   "execution_count": 27,
   "metadata": {},
   "outputs": [
    {
     "name": "stdout",
     "output_type": "stream",
     "text": [
      "Execution time: 282.59365118344624 minutes\n"
     ]
    }
   ],
   "source": [
    "print('Execution time: %s minutes' % ((end - start)/60))"
   ]
  },
  {
   "cell_type": "markdown",
   "metadata": {},
   "source": [
    "Run without heldout test set"
   ]
  },
  {
   "cell_type": "code",
   "execution_count": 28,
   "metadata": {},
   "outputs": [],
   "source": [
    "if not flag_run_heldout and flag_rerun_scan4T:\n",
    "    model_list, coherence_values, train_perplexity_values, test_perplexity_values = scan_T_gensim(\n",
    "        dictionary=id2word, \n",
    "        training_corpus=corpus, \n",
    "        test_corpus=corpus,\n",
    "        texts=reports_list, \n",
    "        start=min_T, \n",
    "        limit=max_T, \n",
    "        step=step_T,\n",
    "        passes=passes_T,\n",
    "        random_state=random_state,\n",
    "        run_perplexity = False,\n",
    "    )"
   ]
  },
  {
   "cell_type": "code",
   "execution_count": 29,
   "metadata": {},
   "outputs": [],
   "source": [
    "import math\n",
    "for i in range(len(coherence_values)):\n",
    "    if math.isnan(coherence_values[i]):\n",
    "        coherence_values[i] = 0"
   ]
  },
  {
   "cell_type": "markdown",
   "metadata": {},
   "source": [
    "### serialize findings"
   ]
  },
  {
   "cell_type": "code",
   "execution_count": 30,
   "metadata": {},
   "outputs": [],
   "source": [
    "scat_T_results = {\n",
    "    'coherence_values': coherence_values, \n",
    "    'test_perplexity_values': test_perplexity_values,\n",
    "}\n",
    "\n",
    "if flag_serialize_findings and flag_rerun_scan4T:\n",
    "    with open(os.path.join(dir_run, 'scan_T_values.json'), 'w') as f_w:\n",
    "        f_w.write(json.dumps(scat_T_results))"
   ]
  },
  {
   "cell_type": "markdown",
   "metadata": {},
   "source": [
    "### de-serialize findings"
   ]
  },
  {
   "cell_type": "code",
   "execution_count": 31,
   "metadata": {},
   "outputs": [],
   "source": [
    "if flag_de_serialize_findings:\n",
    "    coherence_values = []\n",
    "    test_perplexity_values = []\n",
    "    \n",
    "    with open(os.path.join(dir_run, 'scan_T_values.json'), 'r') as f_w:\n",
    "        data = json.load(f_w)\n",
    "        coherence_values = data['coherence_values']\n",
    "        test_perplexity_values = data['test_perplexity_values']"
   ]
  },
  {
   "cell_type": "markdown",
   "metadata": {},
   "source": [
    "# Results"
   ]
  },
  {
   "cell_type": "code",
   "execution_count": 32,
   "metadata": {},
   "outputs": [],
   "source": [
    "best_T_on_perplexity = None\n",
    "best_T_on_coherence = None"
   ]
  },
  {
   "cell_type": "code",
   "execution_count": 33,
   "metadata": {},
   "outputs": [],
   "source": [
    "topics_range = np.array(range(min_T, max_T + 1, step_T))\n",
    "best_T_on_perplexity = topics_range[np.argmin(test_perplexity_values)]\n",
    "best_T_on_coherence = topics_range[np.argmax(coherence_values)]"
   ]
  },
  {
   "cell_type": "code",
   "execution_count": 34,
   "metadata": {},
   "outputs": [],
   "source": [
    "color_coherence = '#1f94f9'#hsl(208, 95%, 55%) # #1f94f9\n",
    "color_perplexity = '#f9591f' #hsl(16, 95%, 55%) # #f9591f\n",
    "color_highlight = 'green'\n",
    "\n",
    "if flag_b_w: \n",
    "    color_coherence = 'black'\n",
    "    color_perplexity = 'black'\n",
    "    color_highlight = 'gray'"
   ]
  },
  {
   "cell_type": "markdown",
   "metadata": {},
   "source": [
    "## Compute PCR"
   ]
  },
  {
   "cell_type": "code",
   "execution_count": 35,
   "metadata": {},
   "outputs": [],
   "source": [
    "def get_PCR(topics, perplexities):\n",
    "    pcrs = [0]\n",
    "    for i in range(1, len(topics)):\n",
    "        pcr = ((perplexities[i] - perplexities[i - 1]) / (topics[i] - topics[i - 1]))\n",
    "        pcrs.append(pcr)\n",
    "        \n",
    "    return pcrs"
   ]
  },
  {
   "cell_type": "code",
   "execution_count": 36,
   "metadata": {},
   "outputs": [],
   "source": [
    "rpc_values = get_PCR(topics_range, test_perplexity_values)"
   ]
  },
  {
   "cell_type": "markdown",
   "metadata": {},
   "source": [
    "## Compute normalized Perplexity"
   ]
  },
  {
   "cell_type": "code",
   "execution_count": 37,
   "metadata": {},
   "outputs": [],
   "source": [
    "def get_normalized_perplexity(topics, perplexities):\n",
    "    ps = []\n",
    "    for t, p in zip(topics, perplexities):\n",
    "        ps.append(p/t)\n",
    "        \n",
    "    return ps"
   ]
  },
  {
   "cell_type": "code",
   "execution_count": 38,
   "metadata": {},
   "outputs": [],
   "source": [
    "normalised_perplexity_values = get_normalized_perplexity(topics_range, test_perplexity_values)"
   ]
  },
  {
   "cell_type": "markdown",
   "metadata": {},
   "source": [
    "## Plot"
   ]
  },
  {
   "cell_type": "code",
   "execution_count": 39,
   "metadata": {},
   "outputs": [],
   "source": [
    "def plot_topics_metric(ax, data, metric = '', label = '', color = 'red', best_is_max = True, with_interest_area = False, interest_area_center = 0, interest_area_size = 5):\n",
    "    x = np.array(range(min_T, max_T + 1, step_T))\n",
    "    y = np.array(data)\n",
    "\n",
    "    ax.set_xlabel('Number of Topics, T')\n",
    "    ax.set_ylabel(metric, color=color)\n",
    "    ax.plot(x, y, color=color, label = label)   \n",
    "    \n",
    "    x_best = None\n",
    "    y_best = None\n",
    "    if with_interest_area:\n",
    "        interest_area_min = interest_area_center - interest_area_size;\n",
    "        interest_area_max = interest_area_center + interest_area_size;\n",
    "        ax.axvspan(interest_area_min, interest_area_max, color=color_highlight, alpha=0.2) \n",
    "\n",
    "        x_best = interest_area_min + np.argmax(y[interest_area_min - min_T : (interest_area_max + 1) - min_T])\n",
    "        y_best = y[interest_area_min - min_T : (interest_area_max + 1) - min_T].max()\n",
    "    else: \n",
    "        if best_is_max:\n",
    "            x_best = x[np.argmax(y)]\n",
    "            y_best = y.max()\n",
    "        else:\n",
    "            x_best = x[np.argmin(y)]\n",
    "            y_best = y.min()            \n",
    "\n",
    "    text = 'Num of Topics=%s, score=%f' % (x_best, y_best)\n",
    "\n",
    "    bbox_props = dict(boxstyle='square,pad=0.3', fc='w', ec='k', lw=0.72)\n",
    "    arrowprops=dict(arrowstyle='->')\n",
    "    kw = dict(xycoords='data',textcoords='axes fraction',\n",
    "          arrowprops=arrowprops, bbox=bbox_props, ha='right', va='top')\n",
    "    \n",
    "    ax.annotate(text, xy=(x_best, y_best), xytext=(0.99,1.1), **kw)\n"
   ]
  },
  {
   "cell_type": "markdown",
   "metadata": {},
   "source": [
    "### Plot Perplexity and PCR (Perplexity Change Rate)"
   ]
  },
  {
   "cell_type": "code",
   "execution_count": 40,
   "metadata": {},
   "outputs": [
    {
     "name": "stderr",
     "output_type": "stream",
     "text": [
      "findfont: Font family ['Courier'] not found. Falling back to DejaVu Sans.\n"
     ]
    },
    {
     "data": {
      "image/png": "[encoded data removed]",
      "text/plain": [
       "<Figure size 1080x360 with 3 Axes>"
      ]
     },
     "metadata": {
      "needs_background": "light"
     },
     "output_type": "display_data"
    }
   ],
   "source": [
    "fig, axs = plt.subplots(1, 3, figsize=(15,5))\n",
    "\n",
    "plot_topics_metric(\n",
    "    axs[0], \n",
    "    test_perplexity_values,\n",
    "    metric = 'Perplexity',\n",
    "    label = 'Test Perplexity',\n",
    "    color = color_perplexity,\n",
    "    best_is_max = False\n",
    ")\n",
    "plot_topics_metric(\n",
    "    axs[1], \n",
    "    rpc_values,\n",
    "    metric = 'PCR',\n",
    "    label = 'Perplexity Change Rate',\n",
    "    color = color_perplexity,\n",
    "    best_is_max = False\n",
    ")\n",
    "plot_topics_metric(\n",
    "    axs[2], \n",
    "    normalised_perplexity_values,\n",
    "    metric = 'Normalized Perplexity',\n",
    "    label = 'Normalized Perplexity',\n",
    "    color = color_perplexity,\n",
    "    best_is_max = True\n",
    ")\n",
    "\n",
    "plt.show()\n",
    "plt.close()"
   ]
  },
  {
   "cell_type": "markdown",
   "metadata": {},
   "source": [
    "### Plot Coherence"
   ]
  },
  {
   "cell_type": "code",
   "execution_count": 41,
   "metadata": {},
   "outputs": [
    {
     "data": {
      "image/png": "[encoded data removed]",
      "text/plain": [
       "<Figure size 360x360 with 1 Axes>"
      ]
     },
     "metadata": {
      "needs_background": "light"
     },
     "output_type": "display_data"
    }
   ],
   "source": [
    "fig, ax = plt.subplots(1, 1, figsize=(5,5))\n",
    "\n",
    "\n",
    "plot_topics_metric(\n",
    "    ax, \n",
    "    coherence_values,\n",
    "    metric = 'Coherence score (C_v)',\n",
    "    color = color_coherence,\n",
    ")\n",
    "\n",
    "plt.show()\n",
    "plt.close()"
   ]
  },
  {
   "cell_type": "markdown",
   "metadata": {},
   "source": [
    "### Plot Coherence with interest area around best perplexity"
   ]
  },
  {
   "cell_type": "code",
   "execution_count": 42,
   "metadata": {},
   "outputs": [
    {
     "data": {
      "image/png": "[encoded data removed]",
      "text/plain": [
       "<Figure size 360x360 with 1 Axes>"
      ]
     },
     "metadata": {
      "needs_background": "light"
     },
     "output_type": "display_data"
    }
   ],
   "source": [
    "fig, ax = plt.subplots(1, 1, figsize=(5,5))\n",
    "\n",
    "plot_topics_metric(\n",
    "    ax, \n",
    "    coherence_values,\n",
    "    metric = 'Coherence score (C_v)',\n",
    "    color = color_coherence,\n",
    "    with_interest_area = True,\n",
    "    interest_area_center = best_T_on_perplexity\n",
    ")\n",
    "\n",
    "plt.show()\n",
    "plt.close()"
   ]
  },
  {
   "cell_type": "markdown",
   "metadata": {},
   "source": [
    "### Combined plot"
   ]
  },
  {
   "cell_type": "code",
   "execution_count": 43,
   "metadata": {},
   "outputs": [
    {
     "data": {
      "image/png": "[encoded data removed]",
      "text/plain": [
       "<Figure size 576x360 with 2 Axes>"
      ]
     },
     "metadata": {
      "needs_background": "light"
     },
     "output_type": "display_data"
    }
   ],
   "source": [
    "fig, axs = plt.subplots(1, 2, figsize=(8,5))\n",
    "\n",
    "plot_topics_metric(\n",
    "    axs[0], \n",
    "    test_perplexity_values,\n",
    "    metric = 'Perplexity',\n",
    "    color = color_perplexity,\n",
    "    best_is_max = False\n",
    ")\n",
    "plot_topics_metric(\n",
    "    axs[1], \n",
    "    coherence_values,\n",
    "    metric = 'Coherence score (C_v)',\n",
    "    color = color_coherence,\n",
    "    with_interest_area = True,\n",
    "    interest_area_center = best_T_on_perplexity\n",
    ")\n",
    "\n",
    "fig.tight_layout()\n",
    "pp = PdfPages(os.path.join(dir_plots, 't_scan_combined_plot.pdf'))\n",
    "\n",
    "plt.savefig(pp, format='pdf', bbox_inches='tight')\n",
    "plt.show()\n",
    "\n",
    "pp.close() "
   ]
  },
  {
   "cell_type": "markdown",
   "metadata": {},
   "source": [
    "## Tables"
   ]
  },
  {
   "cell_type": "code",
   "execution_count": 44,
   "metadata": {},
   "outputs": [],
   "source": [
    "all_columns = len(coherence_values)\n",
    "columns = 6\n",
    "rows = math.ceil(all_columns / columns)"
   ]
  },
  {
   "cell_type": "code",
   "execution_count": 45,
   "metadata": {},
   "outputs": [
    {
     "name": "stdout",
     "output_type": "stream",
     "text": [
      "\\begin{table}[h!]\n",
      "\\centering\n",
      "\\caption{Scan for T}\\label{tabl_scan_for_t}\n",
      "\\begin{tabular}{l|c|c|c|c|c|c}\n",
      "\\hline\n",
      "\\textbf{T} & 5 & 6 & 7 & 8 & 9 & 10 \\\\ \n",
      "\\hline\n",
      "\\textbf{Coherence score}  & 0.3403 & 0.3280 & 0.4112 & 0.3768 & 0.3690 & 0.4154 \\\\ \n",
      "\\textbf{Perplexity score} & 221.1648 & 218.9333 & 212.7795 & 210.5133 & 208.8381 & 205.5659 \\\\ \n",
      "\\hline\n",
      "\\textbf{T} & 11 & 12 & 13 & 14 & 15 & 16 \\\\ \n",
      "\\hline\n",
      "\\textbf{Coherence score}  & 0.4454 & 0.4576 & 0.4527 & 0.4663 & 0.4420 & 0.4345 \\\\ \n",
      "\\textbf{Perplexity score} & 204.3658 & 200.2114 & 199.2152 & 198.0411 & 196.4809 & 196.4211 \\\\ \n",
      "\\hline\n",
      "\\textbf{T} & 17 & 18 & 19 & 20 & 21 & 22 \\\\ \n",
      "\\hline\n",
      "\\textbf{Coherence score}  & 0.4292 & 0.4403 & 0.4564 & 0.4719 & 0.4533 & 0.4478 \\\\ \n",
      "\\textbf{Perplexity score} & 196.2958 & 195.9382 & 196.7206 & 196.0134 & 197.5884 & 197.9689 \\\\ \n",
      "\\hline\n",
      "\\textbf{T} & 23 & 24 & 25 & 26 & 27 & 28 \\\\ \n",
      "\\hline\n",
      "\\textbf{Coherence score}  & 0.4567 & 0.4626 & 0.4502 & 0.4581 & 0.4717 & 0.4963 \\\\ \n",
      "\\textbf{Perplexity score} & 198.9299 & 200.1712 & 200.8142 & 201.2828 & 202.7844 & 203.1442 \\\\ \n",
      "\\hline\n",
      "\\textbf{T} & 29 & 30 & 31 & 32 & 33 & 34 \\\\ \n",
      "\\hline\n",
      "\\textbf{Coherence score}  & 0.4483 & 0.4454 & 0.4230 & 0.4360 & 0.4815 & 0.4534 \\\\ \n",
      "\\textbf{Perplexity score} & 204.2398 & 206.2023 & 207.3843 & 207.7081 & 206.2674 & 210.5297 \\\\ \n",
      "\\hline\n",
      "\\textbf{T} & 35 & 36 & 37 & 38 & 39 & 40 \\\\ \n",
      "\\hline\n",
      "\\textbf{Coherence score}  & 0.4884 & 0.4555 & 0.5087 & 0.4511 & 0.4683 & 0.4786 \\\\ \n",
      "\\textbf{Perplexity score} & 211.6033 & 211.3612 & 212.9015 & 220.1388 & 216.4771 & 219.6939 \\\\ \n",
      "\\hline\n",
      "\\textbf{T} & 41 & 42 & 43 & 44 & 45 & 46 \\\\ \n",
      "\\hline\n",
      "\\textbf{Coherence score}  & 0.4501 & 0.4863 & 0.4657 & 0.4388 & 0.4501 & 0.4362 \\\\ \n",
      "\\textbf{Perplexity score} & 222.7751 & 225.7019 & 226.6459 & 230.4808 & 232.3230 & 234.3086 \\\\ \n",
      "\\hline\n",
      "\\textbf{T} & 47 & 48 & 49 & 50 & 51 & 52 \\\\ \n",
      "\\hline\n",
      "\\textbf{Coherence score}  & 0.4778 & 0.4771 & 0.4502 & 0.4646 & 0.4653 & 0.4389 \\\\ \n",
      "\\textbf{Perplexity score} & 232.9113 & 235.1499 & 240.0798 & 242.8441 & 243.4957 & 247.6337 \\\\ \n",
      "\\hline\n",
      "\\textbf{T} & 53 & 54 & 55 & 56 & 57 & 58 \\\\ \n",
      "\\hline\n",
      "\\textbf{Coherence score}  & 0.4493 & 0.4700 & 0.4597 & 0.4770 & 0.4667 & 0.4668 \\\\ \n",
      "\\textbf{Perplexity score} & 252.0048 & 253.0895 & 255.6768 & 259.8474 & 263.1030 & 265.1367 \\\\ \n",
      "\\hline\n",
      "\\textbf{T} & 59 & 60 & 61 & 62 & 63 & 64 \\\\ \n",
      "\\hline\n",
      "\\textbf{Coherence score}  & 0.4571 & 0.4329 \\\\ \n",
      "\\textbf{Perplexity score} & 266.0768 & 271.2983 \\\\ \n",
      "\\end{tabular}\n",
      "\\end{table}\n"
     ]
    }
   ],
   "source": [
    "print('\\\\begin{table}[h!]')\n",
    "print('\\\\centering')\n",
    "print('\\\\caption{Scan for T}\\\\label{tabl_scan_for_t}')\n",
    "print('\\\\begin{tabular}{l|%s}' % '|'.join(['c'] * columns))\n",
    "\n",
    "for r in range(rows):\n",
    "    start = r * columns\n",
    "    end = (r + 1) * columns\n",
    "    \n",
    "    print('\\\\hline')\n",
    "    print('\\\\textbf{T} & %s \\\\\\\\ ' % ' & '.join(['%s' % (x + 5) for x in range(start, end)]))\n",
    "    print('\\\\hline')\n",
    "    print('\\\\textbf{Coherence score}  & %s \\\\\\\\ ' % ' & '.join(['%.4f' % x for x in coherence_values[start:end]]))\n",
    "    print('\\\\textbf{Perplexity score} & %s \\\\\\\\ ' % ' & '.join(['%.4f' % x for x in test_perplexity_values[start:end]]))\n",
    "print('\\\\end{tabular}')\n",
    "print('\\\\end{table}')"
   ]
  },
  {
   "cell_type": "markdown",
   "metadata": {},
   "source": [
    "## Print top words for best model"
   ]
  },
  {
   "cell_type": "code",
   "execution_count": 46,
   "metadata": {},
   "outputs": [],
   "source": [
    "best_topics_number = best_T_on_coherence\n",
    "best_model = model_list[best_topics_number - min_T]"
   ]
  },
  {
   "cell_type": "code",
   "execution_count": 47,
   "metadata": {},
   "outputs": [
    {
     "name": "stdout",
     "output_type": "stream",
     "text": [
      "['fiscal', 'banking', 'health', 'division', 'exposure']\n",
      "['aircraft', 'defence', 'air', 'space', 'military']\n",
      "['mine', 'coca_cola', 'gold', 'mining', 'gallon']\n",
      "['taxation', 'restate', 'unaudited', 'discontinue', 'medical']\n",
      "['division', 'client', 'allowance', 'exposure', 'unrealized']\n",
      "['recognize', 'pro', 'fiscal', 'reinsurance', 'minority']\n",
      "['care', 'health', 'family', 'beauty', 'merger']\n",
      "['organic', 'highlight', 'selective', 'watch_jewelry', 'fashion_leather']\n",
      "['exceptional', 'rental', 'implementation', 'constant', 'pence']\n",
      "['reinsurance', 'casualty', 'policyholder', 'link', 'amortization']\n",
      "['gas', 'engineering', 'governance', 'oil', 'construction']\n",
      "['oil', 'gas', 'natural', 'crude', 'barrel']\n",
      "['par', 'millions', 'administration', 'valeur', 'pro']\n",
      "['division', 'mail', 'minority', 'amortization', 'noncurrent']\n",
      "['banking', 'mortgage', 'holding', 'personal', 'retail']\n",
      "['salt', 'fertilizer', 'potash_magnesium', 'waste', 'potash']\n",
      "['coca_cola', 'president', 'beverage', 'water', 'drink']\n",
      "['hotel', 'convertible', 'conversion', 'redemption', 'resolution']\n",
      "['mobile', 'communication', 'special', 'recognize', 'wireless']\n",
      "['fiscal', 'store', 'home', 'discussion', 'estate']\n",
      "['vehicle', 'car', 'engine', 'series', 'automobile']\n",
      "['store', 'week', 'road', 'food', 'retail']\n",
      "['client', 'advertising', 'communication', 'headline', 'people']\n",
      "['court', 'recognize', 'discontinue', 'coverage', 'merger']\n",
      "['mobile', 'japan', 'undertaking', 'exceptional', 'voice']\n",
      "['fiscal', 'television', 'cumulative', 'president', 'home']\n",
      "['thousand', 'lens', 'optical', 'laboratory', 'article']\n",
      "['memory', 'copper', 'county', 'district', 'automotive']\n",
      "['care', 'medical', 'patient', 'preference', 'hospital']\n",
      "['banking', 'regional', 'retail', 'code', 'procedure']\n",
      "['client', 'banking', 'forth', 'discussion', 'exposure']\n",
      "['exceptional', 'turnover', 'taxation', 'appoint', 'appointment']\n",
      "['care', 'cosmetic', 'home', 'hair', 'versus']\n",
      "['recognize', 'passenger', 'correspond', 'traffic', 'convertible']\n",
      "['reinsurance', 'health', 'casualty', 'primary', 'underwriting']\n",
      "['patent', 'pro', 'pharmaceutical', 'treatment', 'health']\n",
      "['gas', 'electricity', 'water', 'generation', 'station']\n"
     ]
    }
   ],
   "source": [
    "for i in range(best_topics_number):\n",
    "    print([id2word.id2token[x[0]] for x in best_model.get_topic_terms(i, topn=5)])"
   ]
  },
  {
   "cell_type": "code",
   "execution_count": 48,
   "metadata": {},
   "outputs": [
    {
     "data": {
      "text/plain": [
       "array([0.01084196, 0.01827498, 0.01672974, 0.0201688 , 0.01819284,\n",
       "       0.01087475, 0.01759315, 0.01420904, 0.01151859, 0.02278884,\n",
       "       0.01729787, 0.01483239, 0.01350897, 0.02490131, 0.02966844,\n",
       "       0.01376495, 0.01488442, 0.01728186, 0.02731157, 0.01924958,\n",
       "       0.01654838, 0.01788226, 0.02190565, 0.02065962, 0.01882962,\n",
       "       0.0239159 , 0.01821201, 0.01723304, 0.01642244, 0.02940395,\n",
       "       0.01706894, 0.05036628, 0.01529409, 0.01988601, 0.01953847,\n",
       "       0.02037155, 0.02416935], dtype=float32)"
      ]
     },
     "execution_count": 48,
     "metadata": {},
     "output_type": "execute_result"
    }
   ],
   "source": [
    "best_model.alpha"
   ]
  },
  {
   "cell_type": "markdown",
   "metadata": {},
   "source": [
    "# END"
   ]
  },
  {
   "cell_type": "code",
   "execution_count": 49,
   "metadata": {},
   "outputs": [
    {
     "ename": "AttributeError",
     "evalue": "'LdaModel' object has no attribute 'betha'",
     "output_type": "error",
     "traceback": [
      "\u001b[0;31m---------------------------------------------------------------------------\u001b[0m",
      "\u001b[0;31mAttributeError\u001b[0m                            Traceback (most recent call last)",
      "\u001b[0;32m<ipython-input-49-249602b326ca>\u001b[0m in \u001b[0;36m<module>\u001b[0;34m\u001b[0m\n\u001b[0;32m----> 1\u001b[0;31m \u001b[0mbest_model\u001b[0m\u001b[0;34m.\u001b[0m\u001b[0mbetha\u001b[0m\u001b[0;34m\u001b[0m\u001b[0;34m\u001b[0m\u001b[0m\n\u001b[0m",
      "\u001b[0;31mAttributeError\u001b[0m: 'LdaModel' object has no attribute 'betha'"
     ]
    }
   ],
   "source": [
    "best_model.betha"
   ]
  },
  {
   "cell_type": "markdown",
   "metadata": {},
   "source": []
  }
 ],
 "metadata": {
  "kernelspec": {
   "display_name": "Python 3",
   "language": "python",
   "name": "python3"
  },
  "language_info": {
   "codemirror_mode": {
    "name": "ipython",
    "version": 3
   },
   "file_extension": ".py",
   "mimetype": "text/x-python",
   "name": "python",
   "nbconvert_exporter": "python",
   "pygments_lexer": "ipython3",
   "version": "3.7.10"
  }
 },
 "nbformat": 4,
 "nbformat_minor": 2
}
