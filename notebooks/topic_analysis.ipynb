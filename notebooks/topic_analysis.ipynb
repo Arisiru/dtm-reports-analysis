{
 "cells": [
  {
   "cell_type": "markdown",
   "metadata": {},
   "source": [
    "# Initialization"
   ]
  },
  {
   "cell_type": "code",
   "execution_count": 1,
   "metadata": {},
   "outputs": [],
   "source": [
    "import os\n",
    "import re\n",
    "import numpy as np\n",
    "\n",
    "import matplotlib.pyplot as plt\n",
    "from matplotlib.backends.backend_pdf import PdfPages\n",
    "\n",
    "%matplotlib inline"
   ]
  },
  {
   "cell_type": "markdown",
   "metadata": {},
   "source": [
    "### set experiment dates"
   ]
  },
  {
   "cell_type": "code",
   "execution_count": 2,
   "metadata": {},
   "outputs": [],
   "source": [
    "year = 2005 "
   ]
  },
  {
   "cell_type": "markdown",
   "metadata": {},
   "source": [
    "### set directories"
   ]
  },
  {
   "cell_type": "code",
   "execution_count": 3,
   "metadata": {},
   "outputs": [],
   "source": [
    "dir_root = os.path.join('..')\n",
    "dir_data_processing = os.path.join(dir_root, 'data_processing')\n",
    "dir_reports_ready =  os.path.join(dir_data_processing, 'reports_ready')\n",
    "dir_plots = os.path.join(dir_root, 'plots')"
   ]
  },
  {
   "cell_type": "markdown",
   "metadata": {},
   "source": [
    "### set flags"
   ]
  },
  {
   "cell_type": "code",
   "execution_count": 4,
   "metadata": {},
   "outputs": [],
   "source": [
    "flag_debug = False"
   ]
  },
  {
   "cell_type": "markdown",
   "metadata": {},
   "source": [
    "# Read data reports from files"
   ]
  },
  {
   "cell_type": "code",
   "execution_count": 5,
   "metadata": {},
   "outputs": [],
   "source": [
    "def read_report(dir_name, file_name):\n",
    "    file_path = os.path.join(dir_name, file_name)\n",
    "    result = []\n",
    "    with open(file_path, 'r') as f_r:\n",
    "        for text_line in f_r:\n",
    "            result = result + text_line.strip().split(' ')\n",
    "    return result        "
   ]
  },
  {
   "cell_type": "code",
   "execution_count": 6,
   "metadata": {},
   "outputs": [
    {
     "name": "stdout",
     "output_type": "stream",
     "text": [
      "Done on 2005, number of documents: 233\n"
     ]
    }
   ],
   "source": [
    "reports_list = []\n",
    "\n",
    "regExp = re.compile('[A-Z\\d]+\\_[A-Z\\d]+\\-' + str(year) + '\\_[\\d]+\\.txt$')\n",
    "reports_of_year = [f for f in os.listdir(dir_reports_ready) if re.search(regExp, f)]\n",
    "reports_of_year.sort()\n",
    "# for every reports of the year\n",
    "for report_name in reports_of_year:\n",
    "    reports_list.append(read_report(dir_reports_ready, report_name))\n",
    "\n",
    "print('Done on %s, number of documents: %s' % (year, len(reports_of_year)))"
   ]
  },
  {
   "cell_type": "markdown",
   "metadata": {},
   "source": [
    "# Corpus construction"
   ]
  },
  {
   "cell_type": "code",
   "execution_count": 7,
   "metadata": {},
   "outputs": [],
   "source": [
    "import gensim\n",
    "import gensim.corpora as corpora"
   ]
  },
  {
   "cell_type": "markdown",
   "metadata": {},
   "source": [
    "## Create Dictionary"
   ]
  },
  {
   "cell_type": "code",
   "execution_count": 8,
   "metadata": {},
   "outputs": [],
   "source": [
    "id2word = corpora.Dictionary(reports_list)"
   ]
  },
  {
   "cell_type": "markdown",
   "metadata": {},
   "source": [
    "## Create Corpus"
   ]
  },
  {
   "cell_type": "code",
   "execution_count": 9,
   "metadata": {},
   "outputs": [],
   "source": [
    "corpus = [id2word.doc2bow(text) for text in reports_list]"
   ]
  },
  {
   "cell_type": "code",
   "execution_count": 10,
   "metadata": {},
   "outputs": [
    {
     "name": "stdout",
     "output_type": "stream",
     "text": [
      "Number of unique tokens: 13741\n"
     ]
    }
   ],
   "source": [
    "print('Number of unique tokens: %s' %len(id2word))"
   ]
  },
  {
   "cell_type": "markdown",
   "metadata": {},
   "source": [
    "view the first document as BOW"
   ]
  },
  {
   "cell_type": "code",
   "execution_count": 11,
   "metadata": {},
   "outputs": [],
   "source": [
    "if flag_debug:\n",
    "    print(corpus[:1])"
   ]
  },
  {
   "cell_type": "markdown",
   "metadata": {},
   "source": [
    "# Find optimal topic number"
   ]
  },
  {
   "cell_type": "code",
   "execution_count": 12,
   "metadata": {},
   "outputs": [],
   "source": [
    "from gensim.models import CoherenceModel"
   ]
  },
  {
   "cell_type": "code",
   "execution_count": 13,
   "metadata": {},
   "outputs": [],
   "source": [
    "def compute_coherence_values(dictionary, corpus, texts, limit, start=2, step=3, passes=10, random_state=100):\n",
    "    \"\"\"\n",
    "    Compute c_v coherence for various number of topics\n",
    "\n",
    "    Parameters:\n",
    "    ----------\n",
    "    dictionary : Gensim dictionary\n",
    "    corpus : Gensim corpus\n",
    "    texts : List of input texts\n",
    "    limit : Max num of topics\n",
    "\n",
    "    Returns:\n",
    "    -------\n",
    "    model_list : List of LDA topic models\n",
    "    coherence_values : Coherence values corresponding to the LDA model with respective number of topics\n",
    "    \"\"\"\n",
    "    coherence_values = []\n",
    "    perplexity_values = []\n",
    "    model_list = []\n",
    "    i = 0\n",
    "    for num_topics in range(start, limit + 1, step):\n",
    "        model = gensim.models.ldamodel.LdaModel(corpus=corpus,\n",
    "                                           id2word=dictionary,\n",
    "                                           num_topics=num_topics, \n",
    "                                           random_state=random_state,\n",
    "                                           update_every=5,\n",
    "                                           chunksize=100,\n",
    "                                           passes=passes,\n",
    "                                           alpha='auto',\n",
    "                                           per_word_topics=True)\n",
    "        model_list.append(model)\n",
    "        \n",
    "        coherencemodel = CoherenceModel(model=model, texts=texts, dictionary=dictionary, coherence='c_v')\n",
    "        c_v_score = coherencemodel.get_coherence()\n",
    "        coherence_values.append(c_v_score)\n",
    "        \n",
    "        perplexity = model.log_perplexity(corpus)\n",
    "        perplexity_values.append(perplexity)\n",
    "        \n",
    "        print('Done on indx: %s T: %s, c_v score: %s, perplexity: %s' % (i, num_topics, c_v_score, perplexity))\n",
    "        i += 1\n",
    "    return model_list, coherence_values, perplexity_values"
   ]
  },
  {
   "cell_type": "code",
   "execution_count": 14,
   "metadata": {},
   "outputs": [],
   "source": [
    "min_T = 5\n",
    "max_T = 60\n",
    "step_T = 1\n",
    "passes_T = 51\n",
    "random_state = 193748"
   ]
  },
  {
   "cell_type": "code",
   "execution_count": 15,
   "metadata": {},
   "outputs": [
    {
     "name": "stdout",
     "output_type": "stream",
     "text": [
      "Done on indx: 0 T: 5, c_v score: 0.3502959258161873, perplexity: -7.969243664671843\n",
      "Done on indx: 1 T: 6, c_v score: 0.37389567247849875, perplexity: -7.930224168004542\n",
      "Done on indx: 2 T: 7, c_v score: 0.3844244704004633, perplexity: -7.8990629110327255\n",
      "Done on indx: 3 T: 8, c_v score: 0.4446338572271833, perplexity: -7.871458827751808\n",
      "Done on indx: 4 T: 9, c_v score: 0.4456345569433144, perplexity: -7.845053711257105\n",
      "Done on indx: 5 T: 10, c_v score: 0.4073397082966566, perplexity: -7.817540241357916\n",
      "Done on indx: 6 T: 11, c_v score: 0.41023211074079435, perplexity: -7.796680147821365\n",
      "Done on indx: 7 T: 12, c_v score: 0.4999893972130831, perplexity: -7.762755562512124\n",
      "Done on indx: 8 T: 13, c_v score: 0.464786435314172, perplexity: -7.754426633822013\n",
      "Done on indx: 9 T: 14, c_v score: 0.486313739660067, perplexity: -7.732003037963225\n",
      "Done on indx: 10 T: 15, c_v score: 0.48333251153249523, perplexity: -7.715192783204141\n",
      "Done on indx: 11 T: 16, c_v score: 0.47467172096815774, perplexity: -7.709286223847065\n",
      "Done on indx: 12 T: 17, c_v score: 0.44510135209798873, perplexity: -7.69982865222538\n",
      "Done on indx: 13 T: 18, c_v score: 0.49108145828774, perplexity: -7.686388881339879\n",
      "Done on indx: 14 T: 19, c_v score: 0.5021575919879107, perplexity: -7.696439176069894\n",
      "Done on indx: 15 T: 20, c_v score: 0.475310779688641, perplexity: -7.6725551791802165\n",
      "Done on indx: 16 T: 21, c_v score: 0.4856574052009308, perplexity: -7.677601809700127\n",
      "Done on indx: 17 T: 22, c_v score: 0.5218994526624273, perplexity: -7.6798168013972\n",
      "Done on indx: 18 T: 23, c_v score: 0.4943532088213449, perplexity: -7.704692328568331\n",
      "Done on indx: 19 T: 24, c_v score: 0.4963849314112938, perplexity: -7.69100339163615\n",
      "Done on indx: 20 T: 25, c_v score: 0.47337851416849097, perplexity: -7.699366277546803\n",
      "Done on indx: 21 T: 26, c_v score: 0.5384836149682292, perplexity: -7.708144148039468\n",
      "Done on indx: 22 T: 27, c_v score: 0.5364411282610471, perplexity: -7.701395045456575\n",
      "Done on indx: 23 T: 28, c_v score: 0.544143829801462, perplexity: -7.716638655055254\n",
      "Done on indx: 24 T: 29, c_v score: 0.579373230732335, perplexity: -7.710514722757422\n",
      "Done on indx: 25 T: 30, c_v score: 0.5310879680343563, perplexity: -7.727318568610671\n",
      "Done on indx: 26 T: 31, c_v score: 0.5611833758832702, perplexity: -7.740339812038945\n",
      "Done on indx: 27 T: 32, c_v score: 0.5646603882575496, perplexity: -7.751169850269537\n",
      "Done on indx: 28 T: 33, c_v score: 0.5359690554360234, perplexity: -7.770240088048988\n",
      "Done on indx: 29 T: 34, c_v score: 0.5699531712191732, perplexity: -7.739848714596616\n",
      "Done on indx: 30 T: 35, c_v score: 0.5620688869881459, perplexity: -7.759287275645739\n",
      "Done on indx: 31 T: 36, c_v score: 0.5724699463213616, perplexity: -7.757994046984535\n",
      "Done on indx: 32 T: 37, c_v score: 0.5747472095324087, perplexity: -7.792594040023763\n",
      "Done on indx: 33 T: 38, c_v score: 0.5968515952552543, perplexity: -7.79284459808702\n",
      "Done on indx: 34 T: 39, c_v score: 0.5728800072220499, perplexity: -7.814717071382586\n",
      "Done on indx: 35 T: 40, c_v score: 0.5841608358846044, perplexity: -7.80566973651685\n",
      "Done on indx: 36 T: 41, c_v score: 0.5401555451287802, perplexity: -7.820148284053362\n",
      "Done on indx: 37 T: 42, c_v score: 0.5796389047358811, perplexity: -7.8503786730673815\n",
      "Done on indx: 38 T: 43, c_v score: 0.5966599804319597, perplexity: -7.860806923781532\n",
      "Done on indx: 39 T: 44, c_v score: 0.561906707440969, perplexity: -7.869166040262662\n",
      "Done on indx: 40 T: 45, c_v score: 0.5558565613374106, perplexity: -7.8760805650609\n",
      "Done on indx: 41 T: 46, c_v score: 0.6006053611723011, perplexity: -7.892205816128643\n",
      "Done on indx: 42 T: 47, c_v score: 0.6003719571034953, perplexity: -7.894809235518756\n",
      "Done on indx: 43 T: 48, c_v score: 0.5880374091656886, perplexity: -7.92339701869125\n",
      "Done on indx: 44 T: 49, c_v score: 0.5954335243400269, perplexity: -7.939837600339057\n",
      "Done on indx: 45 T: 50, c_v score: 0.5526977562603463, perplexity: -7.964080389064712\n",
      "Done on indx: 46 T: 51, c_v score: 0.5606847995133951, perplexity: -7.967419578785527\n",
      "Done on indx: 47 T: 52, c_v score: 0.515930144397376, perplexity: -8.032222942290497\n",
      "Done on indx: 48 T: 53, c_v score: 0.5245781761369989, perplexity: -8.020057811752682\n",
      "Done on indx: 49 T: 54, c_v score: 0.5656899007782804, perplexity: -8.02592913258892\n",
      "Done on indx: 50 T: 55, c_v score: 0.5464991355279712, perplexity: -8.040203614483913\n",
      "Done on indx: 51 T: 56, c_v score: 0.5428998442797798, perplexity: -8.06623693124144\n",
      "Done on indx: 52 T: 57, c_v score: 0.5699178148030727, perplexity: -8.054697002861055\n",
      "Done on indx: 53 T: 58, c_v score: 0.5392670560482722, perplexity: -8.082329606962942\n",
      "Done on indx: 54 T: 59, c_v score: 0.5489279665774534, perplexity: -8.114907404858508\n",
      "Done on indx: 55 T: 60, c_v score: 0.5595395377848564, perplexity: -8.138315455084719\n"
     ]
    }
   ],
   "source": [
    "model_list, coherence_values, perplexity_values = compute_coherence_values(\n",
    "    dictionary=id2word, \n",
    "    corpus=corpus, \n",
    "    texts=reports_list, \n",
    "    start=min_T, \n",
    "    limit=max_T, \n",
    "    step=step_T,\n",
    "    passes=passes_T,\n",
    "    random_state=random_state)"
   ]
  },
  {
   "cell_type": "code",
   "execution_count": 16,
   "metadata": {},
   "outputs": [],
   "source": [
    "import math\n",
    "for i in range(len(coherence_values)):\n",
    "    if math.isnan(coherence_values[i]):\n",
    "        coherence_values[i] = 0"
   ]
  },
  {
   "cell_type": "code",
   "execution_count": 17,
   "metadata": {},
   "outputs": [
    {
     "data": {
      "image/png": "[encoded data removed]",
      "text/plain": [
       "<Figure size 288x288 with 1 Axes>"
      ]
     },
     "metadata": {
      "needs_background": "light"
     },
     "output_type": "display_data"
    }
   ],
   "source": [
    "plt.figure(figsize=(4,4))\n",
    "\n",
    "        \n",
    "y = np.array(coherence_values)\n",
    "x = np.array(range(min_T, max_T + 1, step_T))\n",
    "\n",
    "plt.plot(x, y)    \n",
    "    \n",
    "    \n",
    "xmax = x[np.argmax(y)]\n",
    "ymax = y.max()\n",
    "text = 'Num of Topics=%s, score=%f' % (xmax, ymax)\n",
    "\n",
    "bbox_props = dict(boxstyle='square,pad=0.3', fc='w', ec='k', lw=0.72)\n",
    "arrowprops=dict(arrowstyle='->')\n",
    "kw = dict(xycoords='data',textcoords='axes fraction',\n",
    "          arrowprops=arrowprops, bbox=bbox_props, ha='right', va='top')\n",
    "plt.annotate(text, xy=(xmax, ymax), xytext=(0.99,1.1), **kw)\n",
    "\n",
    "\n",
    "plt.xlabel('Number of Topics, T')\n",
    "plt.ylabel('Coherence score')\n",
    "\n",
    "#pp = PdfPages(os.path.join(dir_topics, 'cohearence_score.pdf'))\n",
    "\n",
    "#plt.savefig(pp, format='pdf', bbox_inches='tight')\n",
    "plt.show()\n",
    "\n",
    "#pp.close() \n",
    "plt.close()"
   ]
  },
  {
   "cell_type": "code",
   "execution_count": 18,
   "metadata": {},
   "outputs": [
    {
     "data": {
      "text/plain": [
       "<Figure size 360x360 with 0 Axes>"
      ]
     },
     "metadata": {},
     "output_type": "display_data"
    },
    {
     "data": {
      "image/png": "[encoded data removed]",
      "text/plain": [
       "<Figure size 432x288 with 2 Axes>"
      ]
     },
     "metadata": {
      "needs_background": "light"
     },
     "output_type": "display_data"
    }
   ],
   "source": [
    "plt.figure(figsize=(5,5))\n",
    "\n",
    "      \n",
    "data1 = np.array(coherence_values)\n",
    "data2 = np.array(perplexity_values)\n",
    "x = np.array(range(min_T, min_T + len(data1), step_T))\n",
    "\n",
    "fig, ax1 = plt.subplots()\n",
    "\n",
    "color = 'tab:red'\n",
    "ax1.set_xlabel('Number of Topics, T')\n",
    "ax1.set_ylabel('Coherence score', color=color)\n",
    "ax1.plot(x, data1, color=color)\n",
    "ax1.tick_params(axis='y', labelcolor=color)\n",
    "\n",
    "xmax = x[np.argmax(data1)]\n",
    "ymax = data1.max()\n",
    "text = 'Num of Topics=%s, score=%f' % (xmax, ymax)\n",
    "\n",
    "#bbox_props = dict(boxstyle='square,pad=0.3', fc='w', ec='k', lw=0.72)\n",
    "#arrowprops = dict(arrowstyle='->')\n",
    "#kw = dict(xycoords='data',textcoords='axes fraction',\n",
    "          #arrowprops=arrowprops, bbox=bbox_props, ha='right', va='top')\n",
    "#ax1.annotate(text, xy=(xmax, ymax), xytext=(0.99,1.1), **kw)\n",
    "\n",
    "# instantiate a second axes that shares the same x-axis\n",
    "ax2 = ax1.twinx()  \n",
    "\n",
    "color = 'tab:blue'\n",
    "ax2.set_ylabel('Perplexity score', color=color)\n",
    "ax2.plot(x, data2, color=color)\n",
    "ax2.tick_params(axis='y', labelcolor=color)\n",
    "\n",
    "fig.tight_layout() # otherwise the right y-label is slightly clipped\n",
    "\n",
    "pp = PdfPages(os.path.join(dir_plots, 'cohearence_score.pdf'))\n",
    "\n",
    "plt.savefig(pp, format='pdf', bbox_inches='tight')\n",
    "plt.show()\n",
    "\n",
    "pp.close() "
   ]
  },
  {
   "cell_type": "code",
   "execution_count": 19,
   "metadata": {},
   "outputs": [],
   "source": [
    "all_columns = len(coherence_values)\n",
    "columns = 10\n",
    "rows = math.ceil(all_columns / columns)"
   ]
  },
  {
   "cell_type": "code",
   "execution_count": 20,
   "metadata": {},
   "outputs": [
    {
     "name": "stdout",
     "output_type": "stream",
     "text": [
      "\\begin{tabular}{l|c|c|c|c|c|c|c|c|c|c}\n",
      "\\hline\n",
      "\\textbf{T} & 5 & 6 & 7 & 8 & 9 & 10 & 11 & 12 & 13 & 14 \\\\ \n",
      "\\hline\n",
      "\\textbf{Coherence score}  & 0.3503 & 0.3739 & 0.3844 & 0.4446 & 0.4456 & 0.4073 & 0.4102 & 0.5000 & 0.4648 & 0.4863 \\\\ \n",
      "\\textbf{Perplexity score} & -7.9692 & -7.9302 & -7.8991 & -7.8715 & -7.8451 & -7.8175 & -7.7967 & -7.7628 & -7.7544 & -7.7320 \\\\ \n",
      "\\hline\n",
      "\\textbf{T} & 15 & 16 & 17 & 18 & 19 & 20 & 21 & 22 & 23 & 24 \\\\ \n",
      "\\hline\n",
      "\\textbf{Coherence score}  & 0.4833 & 0.4747 & 0.4451 & 0.4911 & 0.5022 & 0.4753 & 0.4857 & 0.5219 & 0.4944 & 0.4964 \\\\ \n",
      "\\textbf{Perplexity score} & -7.7152 & -7.7093 & -7.6998 & -7.6864 & -7.6964 & -7.6726 & -7.6776 & -7.6798 & -7.7047 & -7.6910 \\\\ \n",
      "\\hline\n",
      "\\textbf{T} & 25 & 26 & 27 & 28 & 29 & 30 & 31 & 32 & 33 & 34 \\\\ \n",
      "\\hline\n",
      "\\textbf{Coherence score}  & 0.4734 & 0.5385 & 0.5364 & 0.5441 & 0.5794 & 0.5311 & 0.5612 & 0.5647 & 0.5360 & 0.5700 \\\\ \n",
      "\\textbf{Perplexity score} & -7.6994 & -7.7081 & -7.7014 & -7.7166 & -7.7105 & -7.7273 & -7.7403 & -7.7512 & -7.7702 & -7.7398 \\\\ \n",
      "\\hline\n",
      "\\textbf{T} & 35 & 36 & 37 & 38 & 39 & 40 & 41 & 42 & 43 & 44 \\\\ \n",
      "\\hline\n",
      "\\textbf{Coherence score}  & 0.5621 & 0.5725 & 0.5747 & 0.5969 & 0.5729 & 0.5842 & 0.5402 & 0.5796 & 0.5967 & 0.5619 \\\\ \n",
      "\\textbf{Perplexity score} & -7.7593 & -7.7580 & -7.7926 & -7.7928 & -7.8147 & -7.8057 & -7.8201 & -7.8504 & -7.8608 & -7.8692 \\\\ \n",
      "\\hline\n",
      "\\textbf{T} & 45 & 46 & 47 & 48 & 49 & 50 & 51 & 52 & 53 & 54 \\\\ \n",
      "\\hline\n",
      "\\textbf{Coherence score}  & 0.5559 & 0.6006 & 0.6004 & 0.5880 & 0.5954 & 0.5527 & 0.5607 & 0.5159 & 0.5246 & 0.5657 \\\\ \n",
      "\\textbf{Perplexity score} & -7.8761 & -7.8922 & -7.8948 & -7.9234 & -7.9398 & -7.9641 & -7.9674 & -8.0322 & -8.0201 & -8.0259 \\\\ \n",
      "\\hline\n",
      "\\textbf{T} & 55 & 56 & 57 & 58 & 59 & 60 & 61 & 62 & 63 & 64 \\\\ \n",
      "\\hline\n",
      "\\textbf{Coherence score}  & 0.5465 & 0.5429 & 0.5699 & 0.5393 & 0.5489 & 0.5595 \\\\ \n",
      "\\textbf{Perplexity score} & -8.0402 & -8.0662 & -8.0547 & -8.0823 & -8.1149 & -8.1383 \\\\ \n"
     ]
    }
   ],
   "source": [
    "print('\\\\begin{tabular}{l|%s}' % '|'.join(['c'] * columns))\n",
    "\n",
    "for r in range(rows):\n",
    "    start = r * columns\n",
    "    end = (r + 1) * columns\n",
    "    \n",
    "    print('\\\\hline')\n",
    "    print('\\\\textbf{T} & %s \\\\\\\\ ' % ' & '.join(['%s' % (x + 5) for x in range(start, end)]))\n",
    "    print('\\\\hline')\n",
    "    print('\\\\textbf{Coherence score}  & %s \\\\\\\\ ' % ' & '.join(['%.4f' % x for x in coherence_values[start:end]]))\n",
    "    print('\\\\textbf{Perplexity score} & %s \\\\\\\\ ' % ' & '.join(['%.4f' % x for x in perplexity_values[start:end]]))\n"
   ]
  },
  {
   "cell_type": "code",
   "execution_count": 21,
   "metadata": {},
   "outputs": [],
   "source": [
    "take_first_t_index = 20\n",
    "coherence_values_in_use = coherence_values[:take_first_t_index]\n",
    "perplexity_values_in_use = perplexity_values[:take_first_t_index]"
   ]
  },
  {
   "cell_type": "code",
   "execution_count": 22,
   "metadata": {},
   "outputs": [
    {
     "data": {
      "text/plain": [
       "<Figure size 360x360 with 0 Axes>"
      ]
     },
     "metadata": {},
     "output_type": "display_data"
    },
    {
     "data": {
      "image/png": "[encoded data removed]",
      "text/plain": [
       "<Figure size 432x288 with 2 Axes>"
      ]
     },
     "metadata": {
      "needs_background": "light"
     },
     "output_type": "display_data"
    }
   ],
   "source": [
    "plt.figure(figsize=(5,5))\n",
    "\n",
    "      \n",
    "data1 = np.array(coherence_values_in_use)\n",
    "data2 = np.array(perplexity_values_in_use)\n",
    "x = np.array(range(min_T, min_T + len(data1), step_T))\n",
    "\n",
    "fig, ax1 = plt.subplots()\n",
    "\n",
    "color = 'tab:red'\n",
    "ax1.set_xlabel('Number of Topics, T')\n",
    "ax1.set_ylabel('Coherence score', color=color)\n",
    "ax1.plot(x, data1, color=color)\n",
    "ax1.tick_params(axis='y', labelcolor=color)\n",
    "\n",
    "xmax = x[np.argmax(data1)]\n",
    "ymax = data1.max()\n",
    "text = 'Num of Topics=%s, score=%f' % (xmax, ymax)\n",
    "\n",
    "bbox_props = dict(boxstyle='square,pad=0.3', fc='w', ec='k', lw=0.72)\n",
    "arrowprops = dict(arrowstyle='->')\n",
    "kw = dict(xycoords='data',textcoords='axes fraction',\n",
    "          arrowprops=arrowprops, bbox=bbox_props, ha='right', va='top')\n",
    "ax1.annotate(text, xy=(xmax, ymax), xytext=(0.99,1.1), **kw)\n",
    "\n",
    "# instantiate a second axes that shares the same x-axis\n",
    "ax2 = ax1.twinx()  \n",
    "\n",
    "color = 'tab:blue'\n",
    "ax2.set_ylabel('Perplexity score', color=color)\n",
    "ax2.plot(x, data2, color=color)\n",
    "ax2.tick_params(axis='y', labelcolor=color)\n",
    "\n",
    "fig.tight_layout() # otherwise the right y-label is slightly clipped\n",
    "pp = PdfPages(os.path.join(dir_plots, 'cohearence_score_zoom.pdf'))\n",
    "\n",
    "plt.savefig(pp, format='pdf', bbox_inches='tight')\n",
    "plt.show()\n",
    "\n",
    "pp.close() "
   ]
  },
  {
   "cell_type": "code",
   "execution_count": 23,
   "metadata": {},
   "outputs": [],
   "source": [
    "best_model_index = np.argmax(np.array(data1))\n",
    "ts = np.array(range(min_T, min_T + len(data1) + 1, step_T))\n",
    "\n",
    "\n",
    "best_topics_number = ts[best_model_index]\n",
    "best_model = model_list[best_model_index]"
   ]
  },
  {
   "cell_type": "code",
   "execution_count": 24,
   "metadata": {},
   "outputs": [
    {
     "name": "stdout",
     "output_type": "stream",
     "text": [
      "Best T: 22\n"
     ]
    }
   ],
   "source": [
    "print('Best T: %s' % best_topics_number)"
   ]
  },
  {
   "cell_type": "code",
   "execution_count": 25,
   "metadata": {
    "scrolled": false
   },
   "outputs": [
    {
     "name": "stdout",
     "output_type": "stream",
     "text": [
      "['mobile', 'wireless', 'voice', 'license', 'subscriber']\n",
      "['coca_cola', 'premier', 'gallon', 'hotel', 'travel']\n",
      "['steel', 'client', 'automotive', 'elevator', 'forth']\n",
      "['reinsurance', 'casualty', 'hotel', 'policyholder', 'insurer']\n",
      "['thousand', 'marketable', 'automotive', 'unrealized', 'convertible']\n",
      "['convertible', 'crude_oil', 'client', 'consulting', 'barrel']\n",
      "['lens', 'optical', 'thousand', 'laboratory', 'vision']\n",
      "['patent', 'pharmaceutical', 'drug', 'patient', 'expiration']\n",
      "['aircraft', 'defence', 'space', 'military', 'air']\n",
      "['mail', 'noncurrent', 'stockholder', 'logistic', 'subgroup']\n",
      "['mortgage', 'undertaking', 'card', 'preference', 'client']\n",
      "['millions', 'valeur', 'titre', 'montant', 'ally']\n",
      "['client', 'memory', 'headline', 'advertising', 'taxation']\n",
      "['registration', 'client', 'shelf', 'affiliate', 'extraordinary']\n",
      "['mine', 'gold', 'ore', 'mining', 'copper']\n",
      "['passenger', 'aircraft', 'car', 'fleet', 'traffic']\n",
      "['chase', 'card', 'heritage', 'mortgage', 'client']\n",
      "['reinsurance', 'casualty', 'policyholder', 'client', 'mutual']\n",
      "['television', 'store', 'hair', 'cosmetic', 'park_resort']\n",
      "['medical', 'electricity', 'water', 'patient', 'preference']\n",
      "['salt', 'store', 'home_depot', 'fertilizer', 'potash_magnesium']\n",
      "['turnover', 'taxation', 'store', 'appointment', 'creditor']\n"
     ]
    }
   ],
   "source": [
    "for i in range(best_topics_number):\n",
    "    print([id2word.id2token[x[0]] for x in best_model.get_topic_terms(i, topn=5)])"
   ]
  },
  {
   "cell_type": "markdown",
   "metadata": {},
   "source": [
    "# EnD"
   ]
  },
  {
   "cell_type": "code",
   "execution_count": null,
   "metadata": {},
   "outputs": [],
   "source": []
  }
 ],
 "metadata": {
  "kernelspec": {
   "display_name": "Python 3",
   "language": "python",
   "name": "python3"
  },
  "language_info": {
   "codemirror_mode": {
    "name": "ipython",
    "version": 3
   },
   "file_extension": ".py",
   "mimetype": "text/x-python",
   "name": "python",
   "nbconvert_exporter": "python",
   "pygments_lexer": "ipython3",
   "version": "3.7.7"
  }
 },
 "nbformat": 4,
 "nbformat_minor": 2
}
