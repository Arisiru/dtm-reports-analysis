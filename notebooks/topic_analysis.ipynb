{
 "cells": [
  {
   "cell_type": "markdown",
   "metadata": {},
   "source": [
    "# Initialization"
   ]
  },
  {
   "cell_type": "code",
   "execution_count": 1,
   "metadata": {},
   "outputs": [],
   "source": [
    "import os\n",
    "import re\n",
    "import numpy as np\n",
    "import random\n",
    "import time\n",
    "import json"
   ]
  },
  {
   "cell_type": "code",
   "execution_count": 2,
   "metadata": {},
   "outputs": [],
   "source": [
    "import matplotlib\n",
    "import matplotlib.pyplot as plt\n",
    "from matplotlib.backends.backend_pdf import PdfPages"
   ]
  },
  {
   "cell_type": "code",
   "execution_count": 3,
   "metadata": {},
   "outputs": [],
   "source": [
    "plt.rcParams[\"font.family\"] = \"Courier\"\n",
    "\n",
    "%matplotlib inline"
   ]
  },
  {
   "cell_type": "code",
   "execution_count": 4,
   "metadata": {},
   "outputs": [
    {
     "data": {
      "text/plain": [
       "{'Computer Modern',\n",
       " 'Courier',\n",
       " 'Helvetica',\n",
       " 'ITC Avant Garde Gothic',\n",
       " 'ITC Bookman',\n",
       " 'ITC Zapf Chancery',\n",
       " 'ITC Zapf Dingbats',\n",
       " 'New Century Schoolbook',\n",
       " 'Palatino',\n",
       " 'Symbol',\n",
       " 'Times',\n",
       " 'Utopia',\n",
       " 'ZapfDingbats'}"
      ]
     },
     "execution_count": 4,
     "metadata": {},
     "output_type": "execute_result"
    }
   ],
   "source": [
    "set([f.name for f in matplotlib.font_manager.fontManager.afmlist])"
   ]
  },
  {
   "cell_type": "markdown",
   "metadata": {},
   "source": [
    "### set experiment dates"
   ]
  },
  {
   "cell_type": "code",
   "execution_count": 5,
   "metadata": {},
   "outputs": [],
   "source": [
    "year = 2005 "
   ]
  },
  {
   "cell_type": "markdown",
   "metadata": {},
   "source": [
    "### set run"
   ]
  },
  {
   "cell_type": "code",
   "execution_count": 6,
   "metadata": {},
   "outputs": [],
   "source": [
    "run = 20"
   ]
  },
  {
   "cell_type": "code",
   "execution_count": 7,
   "metadata": {},
   "outputs": [],
   "source": [
    "run_prefix = 'run_%s_xx' % run"
   ]
  },
  {
   "cell_type": "markdown",
   "metadata": {},
   "source": [
    "### set directories"
   ]
  },
  {
   "cell_type": "code",
   "execution_count": 8,
   "metadata": {},
   "outputs": [],
   "source": [
    "dir_root = os.path.join('..')\n",
    "dir_data_runs = os.path.join(dir_root, 'data_runs')\n",
    "dir_run = os.path.join(dir_data_runs, run_prefix)\n",
    "dir_reports = os.path.join(dir_run, 'reports')\n",
    "dir_plots = os.path.join(dir_run, 'interpretation', 't_search_plots')"
   ]
  },
  {
   "cell_type": "code",
   "execution_count": 9,
   "metadata": {},
   "outputs": [],
   "source": [
    "if not os.path.exists(dir_plots):\n",
    "    os.makedirs(dir_plots)"
   ]
  },
  {
   "cell_type": "markdown",
   "metadata": {},
   "source": [
    "### set flags"
   ]
  },
  {
   "cell_type": "code",
   "execution_count": 10,
   "metadata": {},
   "outputs": [],
   "source": [
    "flag_debug = False\n",
    "flag_rerun_scan4T = False\n",
    "flag_run_heldout = True\n",
    "flag_serialize_findings = False\n",
    "flag_de_serialize_findings = True\n",
    "flag_print_tables = False\n",
    "flag_b_w = False"
   ]
  },
  {
   "cell_type": "markdown",
   "metadata": {},
   "source": [
    "# Read data reports from files"
   ]
  },
  {
   "cell_type": "code",
   "execution_count": 11,
   "metadata": {},
   "outputs": [],
   "source": [
    "def read_report(dir_name, file_name):\n",
    "    file_path = os.path.join(dir_name, file_name)\n",
    "    result = []\n",
    "    with open(file_path, 'r') as f_r:\n",
    "        for text_line in f_r:\n",
    "            result = result + text_line.strip().split(' ')\n",
    "    return result        "
   ]
  },
  {
   "cell_type": "code",
   "execution_count": 12,
   "metadata": {},
   "outputs": [
    {
     "name": "stdout",
     "output_type": "stream",
     "text": [
      "Done on 2005, number of documents: 235\n"
     ]
    }
   ],
   "source": [
    "reports_list = []\n",
    "\n",
    "if flag_rerun_scan4T:\n",
    "\n",
    "    regExp = re.compile('[A-Z\\d]+\\_[A-Z\\d]+\\-' + str(year) + '\\_[\\d]+\\.txt$')\n",
    "    reports_of_year = [f for f in os.listdir(dir_reports) if re.search(regExp, f)]\n",
    "    reports_of_year.sort()\n",
    "    # for every reports of the year\n",
    "    for report_name in reports_of_year:\n",
    "        reports_list.append(read_report(dir_reports, report_name))\n",
    "\n",
    "    print('Done on %s, number of documents: %s' % (year, len(reports_of_year)))"
   ]
  },
  {
   "cell_type": "markdown",
   "metadata": {},
   "source": [
    "# Corpus construction"
   ]
  },
  {
   "cell_type": "code",
   "execution_count": 13,
   "metadata": {},
   "outputs": [],
   "source": [
    "import gensim\n",
    "import gensim.corpora as corpora"
   ]
  },
  {
   "cell_type": "markdown",
   "metadata": {},
   "source": [
    "## Create Dictionary"
   ]
  },
  {
   "cell_type": "code",
   "execution_count": 14,
   "metadata": {},
   "outputs": [],
   "source": [
    "id2word = corpora.Dictionary(reports_list)"
   ]
  },
  {
   "cell_type": "markdown",
   "metadata": {},
   "source": [
    "## Create Corpus"
   ]
  },
  {
   "cell_type": "markdown",
   "metadata": {},
   "source": [
    "Shuffle reporst"
   ]
  },
  {
   "cell_type": "code",
   "execution_count": 15,
   "metadata": {},
   "outputs": [],
   "source": [
    "seed = 193748"
   ]
  },
  {
   "cell_type": "markdown",
   "metadata": {},
   "source": [
    "Best randon seed is 99"
   ]
  },
  {
   "cell_type": "code",
   "execution_count": 16,
   "metadata": {},
   "outputs": [],
   "source": [
    "random.Random(seed).shuffle(reports_list)"
   ]
  },
  {
   "cell_type": "markdown",
   "metadata": {},
   "source": [
    "Split between training and test set"
   ]
  },
  {
   "cell_type": "code",
   "execution_count": 17,
   "metadata": {},
   "outputs": [],
   "source": [
    "testing_size = len(reports_list) // 10\n",
    "training_size = len(reports_list) - testing_size"
   ]
  },
  {
   "cell_type": "code",
   "execution_count": 18,
   "metadata": {},
   "outputs": [
    {
     "name": "stdout",
     "output_type": "stream",
     "text": [
      "Total 235 reprorts\n",
      "Training 212 reprorts\n",
      "Testing 23 reprorts\n"
     ]
    }
   ],
   "source": [
    "print('Total %s reprorts' % len(reports_list))\n",
    "print('Training %s reprorts' % training_size)\n",
    "print('Testing %s reprorts' % testing_size)"
   ]
  },
  {
   "cell_type": "code",
   "execution_count": 19,
   "metadata": {},
   "outputs": [],
   "source": [
    "training_corpus = [id2word.doc2bow(text) for text in reports_list[:training_size]]\n",
    "test_corpus = [id2word.doc2bow(text) for text in reports_list[:-testing_size]]\n",
    "\n",
    "corpus = [id2word.doc2bow(text) for text in reports_list]"
   ]
  },
  {
   "cell_type": "code",
   "execution_count": 20,
   "metadata": {},
   "outputs": [
    {
     "name": "stdout",
     "output_type": "stream",
     "text": [
      "Number of unique tokens: 14814\n"
     ]
    }
   ],
   "source": [
    "print('Number of unique tokens: %s' %len(id2word))"
   ]
  },
  {
   "cell_type": "markdown",
   "metadata": {},
   "source": [
    "view the first document as BOW"
   ]
  },
  {
   "cell_type": "code",
   "execution_count": 21,
   "metadata": {},
   "outputs": [],
   "source": [
    "if flag_debug:\n",
    "    print(corpus[:1])"
   ]
  },
  {
   "cell_type": "markdown",
   "metadata": {},
   "source": [
    "# Find optimal topic number"
   ]
  },
  {
   "cell_type": "code",
   "execution_count": 22,
   "metadata": {},
   "outputs": [],
   "source": [
    "from gensim.models import CoherenceModel"
   ]
  },
  {
   "cell_type": "code",
   "execution_count": 23,
   "metadata": {},
   "outputs": [],
   "source": [
    "def scan_T_gensim(dictionary, \n",
    "                  training_corpus, \n",
    "                  test_corpus, \n",
    "                  texts, \n",
    "                  limit, \n",
    "                  start=2, \n",
    "                  step=3, \n",
    "                  passes=10, \n",
    "                  random_state=100, \n",
    "                  run_perplexity=False):\n",
    "    \n",
    "    coherence_values = []\n",
    "    train_p_values = []\n",
    "    test_p_values = []\n",
    "    model_list = []\n",
    "    bound_values = []\n",
    "    i = 0\n",
    "    for num_topics in range(start, limit + 1, step):\n",
    "        model = gensim.models.ldamodel.LdaModel(\n",
    "            corpus=training_corpus,\n",
    "            id2word=dictionary,\n",
    "            num_topics=num_topics, \n",
    "            random_state=random_state,\n",
    "            passes=passes,\n",
    "            alpha='auto',\n",
    "            per_word_topics=True,\n",
    "        )\n",
    "        model_list.append(model)\n",
    "        \n",
    "        coherencemodel = CoherenceModel(model=model, texts=texts, dictionary=dictionary, coherence='c_v')\n",
    "        c_v_score = coherencemodel.get_coherence()\n",
    "        coherence_values.append(c_v_score)\n",
    "        if run_perplexity:         \n",
    "            train_perplexity = np.exp2(-(model.log_perplexity(training_corpus)))\n",
    "            train_p_values.append(train_perplexity)\n",
    "\n",
    "            test_perplexity = np.exp2(-(model.log_perplexity(test_corpus)))\n",
    "            test_p_values.append(test_perplexity)\n",
    "        else:\n",
    "            train_p_values.append(0)\n",
    "            test_p_values.append(0)\n",
    "        \n",
    "        print('Done on indx: %s T: %s, c_v score: %s, Test perplexity: %s' % (i, num_topics, c_v_score, test_perplexity))\n",
    "        \n",
    "        i += 1\n",
    "        \n",
    "        \n",
    "    return model_list, coherence_values, train_p_values, test_p_values\n"
   ]
  },
  {
   "cell_type": "code",
   "execution_count": 24,
   "metadata": {},
   "outputs": [],
   "source": [
    "min_T = 5\n",
    "max_T = 60\n",
    "step_T = 1\n",
    "passes_T = 30\n",
    "random_state = 373748"
   ]
  },
  {
   "cell_type": "code",
   "execution_count": 25,
   "metadata": {},
   "outputs": [],
   "source": [
    "model_list = []\n",
    "coherence_values = []\n",
    "train_perplexity_values = []\n",
    "test_perplexity_values = []"
   ]
  },
  {
   "cell_type": "markdown",
   "metadata": {},
   "source": [
    "Run with heldout test set"
   ]
  },
  {
   "cell_type": "code",
   "execution_count": 26,
   "metadata": {},
   "outputs": [
    {
     "name": "stdout",
     "output_type": "stream",
     "text": [
      "Done on indx: 0 T: 5, c_v score: 0.37912539603329476, Test perplexity: 174.6281148304054\n",
      "Done on indx: 1 T: 6, c_v score: 0.38302044489864384, Test perplexity: 171.9036947579132\n",
      "Done on indx: 2 T: 7, c_v score: 0.39752019739094974, Test perplexity: 172.3166054233591\n",
      "Done on indx: 3 T: 8, c_v score: 0.39630583311483814, Test perplexity: 169.90792677299896\n",
      "Done on indx: 4 T: 9, c_v score: 0.3829275357401878, Test perplexity: 168.0797113357257\n",
      "Done on indx: 5 T: 10, c_v score: 0.37514610961468525, Test perplexity: 168.09688277833115\n",
      "Done on indx: 6 T: 11, c_v score: 0.41100548994091995, Test perplexity: 165.31122617450617\n",
      "Done on indx: 7 T: 12, c_v score: 0.41947075832188313, Test perplexity: 165.01704741504204\n",
      "Done on indx: 8 T: 13, c_v score: 0.3601917604743597, Test perplexity: 165.84316952036883\n",
      "Done on indx: 9 T: 14, c_v score: 0.40193035336493427, Test perplexity: 165.33192490699707\n",
      "Done on indx: 10 T: 15, c_v score: 0.422408201080051, Test perplexity: 164.79912802490836\n",
      "Done on indx: 11 T: 16, c_v score: 0.40126545669530334, Test perplexity: 164.87822274741612\n",
      "Done on indx: 12 T: 17, c_v score: 0.40350641129877945, Test perplexity: 163.4088335974837\n",
      "Done on indx: 13 T: 18, c_v score: 0.4048544443471981, Test perplexity: 164.15568195669985\n",
      "Done on indx: 14 T: 19, c_v score: 0.4069073673829136, Test perplexity: 164.2914775160706\n",
      "Done on indx: 15 T: 20, c_v score: 0.4056613514015626, Test perplexity: 164.1543205708177\n",
      "Done on indx: 16 T: 21, c_v score: 0.41709998880703825, Test perplexity: 164.06468323450045\n",
      "Done on indx: 17 T: 22, c_v score: 0.4238669129642929, Test perplexity: 164.4487941064514\n",
      "Done on indx: 18 T: 23, c_v score: 0.4159794528931698, Test perplexity: 164.28283294939936\n",
      "Done on indx: 19 T: 24, c_v score: 0.44612772793427485, Test perplexity: 164.664359221874\n",
      "Done on indx: 20 T: 25, c_v score: 0.44758604120060974, Test perplexity: 164.32015731557934\n",
      "Done on indx: 21 T: 26, c_v score: 0.4457842758861873, Test perplexity: 166.24092509381748\n",
      "Done on indx: 22 T: 27, c_v score: 0.42627546519826914, Test perplexity: 165.36792705442227\n",
      "Done on indx: 23 T: 28, c_v score: 0.4469083963779975, Test perplexity: 166.52584898987945\n",
      "Done on indx: 24 T: 29, c_v score: 0.4251173970915133, Test perplexity: 167.33524214306127\n",
      "Done on indx: 25 T: 30, c_v score: 0.4517968379047012, Test perplexity: 166.75878785735625\n",
      "Done on indx: 26 T: 31, c_v score: 0.4075248146377327, Test perplexity: 168.45245867505616\n",
      "Done on indx: 27 T: 32, c_v score: 0.42009254337437146, Test perplexity: 170.55132341085795\n",
      "Done on indx: 28 T: 33, c_v score: 0.44619935610120115, Test perplexity: 169.26112856025813\n",
      "Done on indx: 29 T: 34, c_v score: 0.41690917441481, Test perplexity: 171.55934848257615\n",
      "Done on indx: 30 T: 35, c_v score: 0.44628325484593495, Test perplexity: 171.08670829028412\n",
      "Done on indx: 31 T: 36, c_v score: 0.4310090919834911, Test perplexity: 172.48166043959714\n",
      "Done on indx: 32 T: 37, c_v score: 0.417162648662292, Test perplexity: 173.6869514680706\n",
      "Done on indx: 33 T: 38, c_v score: 0.4105687816549101, Test perplexity: 175.7841535770568\n",
      "Done on indx: 34 T: 39, c_v score: 0.415318837587634, Test perplexity: 175.79566480183112\n",
      "Done on indx: 35 T: 40, c_v score: 0.41276527181091965, Test perplexity: 176.04585617348351\n",
      "Done on indx: 36 T: 41, c_v score: 0.41593540389076517, Test perplexity: 177.0494458289667\n",
      "Done on indx: 37 T: 42, c_v score: 0.4104232191280772, Test perplexity: 179.42056946082698\n",
      "Done on indx: 38 T: 43, c_v score: 0.4169003812508921, Test perplexity: 179.37018895275855\n",
      "Done on indx: 39 T: 44, c_v score: 0.42522406258345563, Test perplexity: 179.55307066950888\n",
      "Done on indx: 40 T: 45, c_v score: 0.42460961723135693, Test perplexity: 180.82376510820097\n",
      "Done on indx: 41 T: 46, c_v score: 0.42219353523680725, Test perplexity: 182.33542870207359\n",
      "Done on indx: 42 T: 47, c_v score: 0.4078402082452387, Test perplexity: 183.40162275927182\n",
      "Done on indx: 43 T: 48, c_v score: 0.4099369570304434, Test perplexity: 184.2348422680374\n",
      "Done on indx: 44 T: 49, c_v score: 0.4219132082317401, Test perplexity: 186.45598026458885\n",
      "Done on indx: 45 T: 50, c_v score: 0.4180236349342044, Test perplexity: 186.8572646314142\n",
      "Done on indx: 46 T: 51, c_v score: 0.4047227000354772, Test perplexity: 187.64472309360625\n",
      "Done on indx: 47 T: 52, c_v score: 0.41335772723997544, Test perplexity: 187.73877414743203\n",
      "Done on indx: 48 T: 53, c_v score: 0.4206503833223094, Test perplexity: 189.76015798223239\n",
      "Done on indx: 49 T: 54, c_v score: 0.4156928609063766, Test perplexity: 189.70818197054268\n",
      "Done on indx: 50 T: 55, c_v score: 0.3972671804208628, Test perplexity: 192.55731118249196\n",
      "Done on indx: 51 T: 56, c_v score: 0.41115188476639875, Test perplexity: 194.93140250686827\n",
      "Done on indx: 52 T: 57, c_v score: 0.4165152325694457, Test perplexity: 195.34720792778978\n",
      "Done on indx: 53 T: 58, c_v score: 0.4168033944867958, Test perplexity: 194.73142294392298\n",
      "Done on indx: 54 T: 59, c_v score: 0.41358599850455036, Test perplexity: 198.9145049205956\n",
      "Done on indx: 55 T: 60, c_v score: 0.42860786591359573, Test perplexity: 198.58889300929857\n"
     ]
    }
   ],
   "source": [
    "start = time.time()\n",
    "\n",
    "if flag_rerun_scan4T and flag_run_heldout:\n",
    "    model_list, coherence_values, train_perplexity_values, test_perplexity_values = scan_T_gensim(\n",
    "        dictionary=id2word, \n",
    "        training_corpus=training_corpus, \n",
    "        test_corpus=test_corpus,\n",
    "        texts=reports_list, \n",
    "        start=min_T, \n",
    "        limit=max_T, \n",
    "        step=step_T,\n",
    "        passes=passes_T,\n",
    "        random_state=random_state,\n",
    "        run_perplexity = True,\n",
    "    )\n",
    "    \n",
    "end = time.time() "
   ]
  },
  {
   "cell_type": "code",
   "execution_count": 27,
   "metadata": {},
   "outputs": [
    {
     "name": "stdout",
     "output_type": "stream",
     "text": [
      "Execution time: 110.57702793280284 minutes\n"
     ]
    }
   ],
   "source": [
    "print('Execution time: %s minutes' % ((end - start)/60))"
   ]
  },
  {
   "cell_type": "markdown",
   "metadata": {},
   "source": [
    "Run without heldout test set"
   ]
  },
  {
   "cell_type": "code",
   "execution_count": 28,
   "metadata": {},
   "outputs": [],
   "source": [
    "if not flag_run_heldout and flag_rerun_scan4T:\n",
    "    model_list, coherence_values, train_perplexity_values, test_perplexity_values = scan_T_gensim(\n",
    "        dictionary=id2word, \n",
    "        training_corpus=corpus, \n",
    "        test_corpus=corpus,\n",
    "        texts=reports_list, \n",
    "        start=min_T, \n",
    "        limit=max_T, \n",
    "        step=step_T,\n",
    "        passes=passes_T,\n",
    "        random_state=random_state,\n",
    "        run_perplexity = False,\n",
    "    )"
   ]
  },
  {
   "cell_type": "code",
   "execution_count": 29,
   "metadata": {},
   "outputs": [],
   "source": [
    "import math\n",
    "for i in range(len(coherence_values)):\n",
    "    if math.isnan(coherence_values[i]):\n",
    "        coherence_values[i] = 0"
   ]
  },
  {
   "cell_type": "markdown",
   "metadata": {},
   "source": [
    "### serialize findings"
   ]
  },
  {
   "cell_type": "code",
   "execution_count": 30,
   "metadata": {},
   "outputs": [],
   "source": [
    "scat_T_results = {\n",
    "    'coherence_values': coherence_values, \n",
    "    'test_perplexity_values': test_perplexity_values,\n",
    "}\n",
    "\n",
    "if flag_serialize_findings and flag_rerun_scan4T:\n",
    "    with open(os.path.join(dir_run, 'scan_T_values.json'), 'w') as f_w:\n",
    "        f_w.write(json.dumps(scat_T_results))"
   ]
  },
  {
   "cell_type": "markdown",
   "metadata": {},
   "source": [
    "### de-serialize findings"
   ]
  },
  {
   "cell_type": "code",
   "execution_count": 31,
   "metadata": {},
   "outputs": [],
   "source": [
    "if flag_de_serialize_findings:\n",
    "    coherence_values = []\n",
    "    test_perplexity_values = []\n",
    "    \n",
    "    with open(os.path.join(dir_run, 'scan_T_values.json'), 'r') as f_w:\n",
    "        data = json.load(f_w)\n",
    "        coherence_values = data['coherence_values']\n",
    "        test_perplexity_values = data['test_perplexity_values']"
   ]
  },
  {
   "cell_type": "markdown",
   "metadata": {},
   "source": [
    "# Results"
   ]
  },
  {
   "cell_type": "code",
   "execution_count": 32,
   "metadata": {},
   "outputs": [],
   "source": [
    "best_T_on_perplexity = None\n",
    "best_T_on_coherence = None"
   ]
  },
  {
   "cell_type": "code",
   "execution_count": 33,
   "metadata": {},
   "outputs": [],
   "source": [
    "topics_range = np.array(range(min_T, max_T + 1, step_T))\n",
    "best_T_on_perplexity = topics_range[np.argmin(test_perplexity_values)]\n",
    "best_T_on_coherence = topics_range[np.argmax(coherence_values)]"
   ]
  },
  {
   "cell_type": "code",
   "execution_count": 34,
   "metadata": {},
   "outputs": [],
   "source": [
    "color_coherence = '#1f94f9'  #hsl(208, 95%, 55%) # #1f94f9\n",
    "color_perplexity = '#f9591f' #hsl(16, 95%, 55%) # #f9591f\n",
    "color_highlight = 'green'\n",
    "\n",
    "if flag_b_w: \n",
    "    color_coherence = 'black'\n",
    "    color_perplexity = 'black'\n",
    "    color_highlight = 'gray'"
   ]
  },
  {
   "cell_type": "markdown",
   "metadata": {},
   "source": [
    "## Compute PCR"
   ]
  },
  {
   "cell_type": "code",
   "execution_count": 35,
   "metadata": {},
   "outputs": [],
   "source": [
    "def get_PCR(topics, perplexities):\n",
    "    pcrs = [0]\n",
    "    for i in range(1, len(topics)):\n",
    "        pcr = ((perplexities[i] - perplexities[i - 1]) / (topics[i] - topics[i - 1]))\n",
    "        pcrs.append(pcr)\n",
    "        \n",
    "    return pcrs"
   ]
  },
  {
   "cell_type": "code",
   "execution_count": 36,
   "metadata": {},
   "outputs": [],
   "source": [
    "rpc_values = get_PCR(topics_range, test_perplexity_values)"
   ]
  },
  {
   "cell_type": "markdown",
   "metadata": {},
   "source": [
    "## Compute normalized Perplexity"
   ]
  },
  {
   "cell_type": "code",
   "execution_count": 37,
   "metadata": {},
   "outputs": [],
   "source": [
    "def get_normalized_perplexity(topics, perplexities):\n",
    "    ps = []\n",
    "    for t, p in zip(topics, perplexities):\n",
    "        ps.append(p/t)\n",
    "        \n",
    "    return ps"
   ]
  },
  {
   "cell_type": "code",
   "execution_count": 38,
   "metadata": {},
   "outputs": [],
   "source": [
    "normalised_perplexity_values = get_normalized_perplexity(topics_range, test_perplexity_values)"
   ]
  },
  {
   "cell_type": "markdown",
   "metadata": {},
   "source": [
    "## Plot"
   ]
  },
  {
   "cell_type": "code",
   "execution_count": 39,
   "metadata": {},
   "outputs": [],
   "source": [
    "def plot_topics_metric(ax, data, metric = '', label = '', color = 'red', best_is_max = True, with_interest_area = False, interest_area_center = 0, interest_area_size = 5):\n",
    "    x = np.array(range(min_T, max_T + 1, step_T))\n",
    "    y = np.array(data)\n",
    "\n",
    "    ax.set_xlabel('Number of Topics, T')\n",
    "    ax.set_ylabel(metric, color=color)\n",
    "    ax.plot(x, y, color=color, label = label)   \n",
    "    \n",
    "    x_best = None\n",
    "    y_best = None\n",
    "    if with_interest_area:\n",
    "        interest_area_min = interest_area_center - interest_area_size;\n",
    "        interest_area_max = interest_area_center + interest_area_size;\n",
    "        ax.axvspan(interest_area_min, interest_area_max, color=color_highlight, alpha=0.2) \n",
    "\n",
    "        x_best = interest_area_min + np.argmax(y[interest_area_min - min_T : (interest_area_max + 1) - min_T])\n",
    "        y_best = y[interest_area_min - min_T : (interest_area_max + 1) - min_T].max()\n",
    "    else: \n",
    "        if best_is_max:\n",
    "            x_best = x[np.argmax(y)]\n",
    "            y_best = y.max()\n",
    "        else:\n",
    "            x_best = x[np.argmin(y)]\n",
    "            y_best = y.min()            \n",
    "\n",
    "    text = 'Num of Topics=%s, score=%f' % (x_best, y_best)\n",
    "\n",
    "    bbox_props = dict(boxstyle='square,pad=0.3', fc='w', ec='k', lw=0.72)\n",
    "    arrowprops=dict(arrowstyle='->')\n",
    "    kw = dict(xycoords='data',textcoords='axes fraction',\n",
    "          arrowprops=arrowprops, bbox=bbox_props, ha='right', va='top')\n",
    "    \n",
    "    ax.annotate(text, xy=(x_best, y_best), xytext=(0.99,1.1), **kw)\n"
   ]
  },
  {
   "cell_type": "markdown",
   "metadata": {},
   "source": [
    "### Plot Perplexity and PCR (Perplexity Change Rate)"
   ]
  },
  {
   "cell_type": "code",
   "execution_count": 40,
   "metadata": {},
   "outputs": [
    {
     "name": "stderr",
     "output_type": "stream",
     "text": [
      "findfont: Font family ['Courier'] not found. Falling back to DejaVu Sans.\n"
     ]
    },
    {
     "data": {
      "image/png": "[encoded data removed]",
      "text/plain": [
       "<Figure size 1080x360 with 3 Axes>"
      ]
     },
     "metadata": {
      "needs_background": "light"
     },
     "output_type": "display_data"
    }
   ],
   "source": [
    "fig, axs = plt.subplots(1, 3, figsize=(15,5))\n",
    "\n",
    "plot_topics_metric(\n",
    "    axs[0], \n",
    "    test_perplexity_values,\n",
    "    metric = 'Perplexity',\n",
    "    label = 'Test Perplexity',\n",
    "    color = color_perplexity,\n",
    "    best_is_max = False\n",
    ")\n",
    "plot_topics_metric(\n",
    "    axs[1], \n",
    "    rpc_values,\n",
    "    metric = 'PCR',\n",
    "    label = 'Perplexity Change Rate',\n",
    "    color = color_perplexity,\n",
    "    best_is_max = False\n",
    ")\n",
    "plot_topics_metric(\n",
    "    axs[2], \n",
    "    normalised_perplexity_values,\n",
    "    metric = 'Normalized Perplexity',\n",
    "    label = 'Normalized Perplexity',\n",
    "    color = color_perplexity,\n",
    "    best_is_max = True\n",
    ")\n",
    "\n",
    "plt.show()\n",
    "plt.close()"
   ]
  },
  {
   "cell_type": "markdown",
   "metadata": {},
   "source": [
    "### Plot Coherence"
   ]
  },
  {
   "cell_type": "code",
   "execution_count": 41,
   "metadata": {},
   "outputs": [
    {
     "data": {
      "image/png": "[encoded data removed]",
      "text/plain": [
       "<Figure size 360x360 with 1 Axes>"
      ]
     },
     "metadata": {
      "needs_background": "light"
     },
     "output_type": "display_data"
    }
   ],
   "source": [
    "fig, ax = plt.subplots(1, 1, figsize=(5,5))\n",
    "\n",
    "\n",
    "plot_topics_metric(\n",
    "    ax, \n",
    "    coherence_values,\n",
    "    metric = 'Coherence score (C_v)',\n",
    "    color = color_coherence,\n",
    ")\n",
    "\n",
    "plt.show()\n",
    "plt.close()"
   ]
  },
  {
   "cell_type": "markdown",
   "metadata": {},
   "source": [
    "### Plot Coherence with interest area around best perplexity"
   ]
  },
  {
   "cell_type": "code",
   "execution_count": 42,
   "metadata": {},
   "outputs": [
    {
     "data": {
      "image/png": "[encoded data removed]",
      "text/plain": [
       "<Figure size 360x360 with 1 Axes>"
      ]
     },
     "metadata": {
      "needs_background": "light"
     },
     "output_type": "display_data"
    }
   ],
   "source": [
    "fig, ax = plt.subplots(1, 1, figsize=(5,5))\n",
    "\n",
    "plot_topics_metric(\n",
    "    ax, \n",
    "    coherence_values,\n",
    "    metric = 'Coherence score (C_v)',\n",
    "    color = color_coherence,\n",
    "    with_interest_area = True,\n",
    "    interest_area_center = best_T_on_perplexity\n",
    ")\n",
    "\n",
    "plt.show()\n",
    "plt.close()"
   ]
  },
  {
   "cell_type": "markdown",
   "metadata": {},
   "source": [
    "### Combined plot"
   ]
  },
  {
   "cell_type": "code",
   "execution_count": 43,
   "metadata": {},
   "outputs": [
    {
     "data": {
      "image/png": "[encoded data removed]",
      "text/plain": [
       "<Figure size 576x360 with 2 Axes>"
      ]
     },
     "metadata": {
      "needs_background": "light"
     },
     "output_type": "display_data"
    }
   ],
   "source": [
    "fig, axs = plt.subplots(1, 2, figsize=(8,5))\n",
    "\n",
    "plot_topics_metric(\n",
    "    axs[0], \n",
    "    test_perplexity_values,\n",
    "    metric = 'Perplexity',\n",
    "    color = color_perplexity,\n",
    "    best_is_max = False\n",
    ")\n",
    "plot_topics_metric(\n",
    "    axs[1], \n",
    "    coherence_values,\n",
    "    metric = 'Coherence score (C_v)',\n",
    "    color = color_coherence,\n",
    "    with_interest_area = True,\n",
    "    interest_area_center = best_T_on_perplexity\n",
    ")\n",
    "\n",
    "fig.tight_layout()\n",
    "pp = PdfPages(os.path.join(dir_plots, 't_scan_combined_plot.pdf'))\n",
    "\n",
    "plt.savefig(pp, format='pdf', bbox_inches='tight')\n",
    "plt.show()\n",
    "\n",
    "pp.close() "
   ]
  },
  {
   "cell_type": "markdown",
   "metadata": {},
   "source": [
    "## Tables"
   ]
  },
  {
   "cell_type": "code",
   "execution_count": 44,
   "metadata": {},
   "outputs": [],
   "source": [
    "all_columns = len(coherence_values)\n",
    "columns = 6\n",
    "rows = math.ceil(all_columns / columns)"
   ]
  },
  {
   "cell_type": "code",
   "execution_count": 45,
   "metadata": {},
   "outputs": [
    {
     "name": "stdout",
     "output_type": "stream",
     "text": [
      "\\begin{table}[h!]\n",
      "\\centering\n",
      "\\caption{Scan for T}\\label{tabl_scan_for_t}\n",
      "\\begin{tabular}{l|c|c|c|c|c|c}\n",
      "\\hline\n",
      "\\textbf{T} & 5 & 6 & 7 & 8 & 9 & 10 \\\\ \n",
      "\\hline\n",
      "\\textbf{Coherence score}  & 0.3791 & 0.3830 & 0.3975 & 0.3963 & 0.3829 & 0.3751 \\\\ \n",
      "\\textbf{Perplexity score} & 174.6281 & 171.9037 & 172.3166 & 169.9079 & 168.0797 & 168.0969 \\\\ \n",
      "\\hline\n",
      "\\textbf{T} & 11 & 12 & 13 & 14 & 15 & 16 \\\\ \n",
      "\\hline\n",
      "\\textbf{Coherence score}  & 0.4110 & 0.4195 & 0.3602 & 0.4019 & 0.4224 & 0.4013 \\\\ \n",
      "\\textbf{Perplexity score} & 165.3112 & 165.0170 & 165.8432 & 165.3319 & 164.7991 & 164.8782 \\\\ \n",
      "\\hline\n",
      "\\textbf{T} & 17 & 18 & 19 & 20 & 21 & 22 \\\\ \n",
      "\\hline\n",
      "\\textbf{Coherence score}  & 0.4035 & 0.4049 & 0.4069 & 0.4057 & 0.4171 & 0.4239 \\\\ \n",
      "\\textbf{Perplexity score} & 163.4088 & 164.1557 & 164.2915 & 164.1543 & 164.0647 & 164.4488 \\\\ \n",
      "\\hline\n",
      "\\textbf{T} & 23 & 24 & 25 & 26 & 27 & 28 \\\\ \n",
      "\\hline\n",
      "\\textbf{Coherence score}  & 0.4160 & 0.4461 & 0.4476 & 0.4458 & 0.4263 & 0.4469 \\\\ \n",
      "\\textbf{Perplexity score} & 164.2828 & 164.6644 & 164.3202 & 166.2409 & 165.3679 & 166.5258 \\\\ \n",
      "\\hline\n",
      "\\textbf{T} & 29 & 30 & 31 & 32 & 33 & 34 \\\\ \n",
      "\\hline\n",
      "\\textbf{Coherence score}  & 0.4251 & 0.4518 & 0.4075 & 0.4201 & 0.4462 & 0.4169 \\\\ \n",
      "\\textbf{Perplexity score} & 167.3352 & 166.7588 & 168.4525 & 170.5513 & 169.2611 & 171.5593 \\\\ \n",
      "\\hline\n",
      "\\textbf{T} & 35 & 36 & 37 & 38 & 39 & 40 \\\\ \n",
      "\\hline\n",
      "\\textbf{Coherence score}  & 0.4463 & 0.4310 & 0.4172 & 0.4106 & 0.4153 & 0.4128 \\\\ \n",
      "\\textbf{Perplexity score} & 171.0867 & 172.4817 & 173.6870 & 175.7842 & 175.7957 & 176.0459 \\\\ \n",
      "\\hline\n",
      "\\textbf{T} & 41 & 42 & 43 & 44 & 45 & 46 \\\\ \n",
      "\\hline\n",
      "\\textbf{Coherence score}  & 0.4159 & 0.4104 & 0.4169 & 0.4252 & 0.4246 & 0.4222 \\\\ \n",
      "\\textbf{Perplexity score} & 177.0494 & 179.4206 & 179.3702 & 179.5531 & 180.8238 & 182.3354 \\\\ \n",
      "\\hline\n",
      "\\textbf{T} & 47 & 48 & 49 & 50 & 51 & 52 \\\\ \n",
      "\\hline\n",
      "\\textbf{Coherence score}  & 0.4078 & 0.4099 & 0.4219 & 0.4180 & 0.4047 & 0.4134 \\\\ \n",
      "\\textbf{Perplexity score} & 183.4016 & 184.2348 & 186.4560 & 186.8573 & 187.6447 & 187.7388 \\\\ \n",
      "\\hline\n",
      "\\textbf{T} & 53 & 54 & 55 & 56 & 57 & 58 \\\\ \n",
      "\\hline\n",
      "\\textbf{Coherence score}  & 0.4207 & 0.4157 & 0.3973 & 0.4112 & 0.4165 & 0.4168 \\\\ \n",
      "\\textbf{Perplexity score} & 189.7602 & 189.7082 & 192.5573 & 194.9314 & 195.3472 & 194.7314 \\\\ \n",
      "\\hline\n",
      "\\textbf{T} & 59 & 60 & 61 & 62 & 63 & 64 \\\\ \n",
      "\\hline\n",
      "\\textbf{Coherence score}  & 0.4136 & 0.4286 \\\\ \n",
      "\\textbf{Perplexity score} & 198.9145 & 198.5889 \\\\ \n",
      "\\end{tabular}\n",
      "\\end{table}\n"
     ]
    }
   ],
   "source": [
    "print('\\\\begin{table}[h!]')\n",
    "print('\\\\centering')\n",
    "print('\\\\caption{Scan for T}\\\\label{tabl_scan_for_t}')\n",
    "print('\\\\begin{tabular}{l|%s}' % '|'.join(['c'] * columns))\n",
    "\n",
    "for r in range(rows):\n",
    "    start = r * columns\n",
    "    end = (r + 1) * columns\n",
    "    \n",
    "    print('\\\\hline')\n",
    "    print('\\\\textbf{T} & %s \\\\\\\\ ' % ' & '.join(['%s' % (x + 5) for x in range(start, end)]))\n",
    "    print('\\\\hline')\n",
    "    print('\\\\textbf{Coherence score}  & %s \\\\\\\\ ' % ' & '.join(['%.4f' % x for x in coherence_values[start:end]]))\n",
    "    print('\\\\textbf{Perplexity score} & %s \\\\\\\\ ' % ' & '.join(['%.4f' % x for x in test_perplexity_values[start:end]]))\n",
    "print('\\\\end{tabular}')\n",
    "print('\\\\end{table}')"
   ]
  },
  {
   "cell_type": "markdown",
   "metadata": {},
   "source": [
    "## Print top words for best model"
   ]
  },
  {
   "cell_type": "code",
   "execution_count": 46,
   "metadata": {},
   "outputs": [],
   "source": [
    "best_topics_number = best_T_on_coherence\n",
    "best_model = model_list[best_topics_number - min_T]"
   ]
  },
  {
   "cell_type": "code",
   "execution_count": 47,
   "metadata": {},
   "outputs": [
    {
     "name": "stdout",
     "output_type": "stream",
     "text": [
      "['half', 'interim', 'intangible', 'figure', 'disposal']\n",
      "['banking', 'bank', 'loan', 'insurance', 'advance']\n",
      "['post', 'division', 'previous', 'mail', 'world']\n",
      "['mobile', 'network', 'communication', 'area', 'fix']\n",
      "['loan', 'bank', 'trading', 'fair', 'client']\n",
      "['par', 'action', 'pro', 'millions', 'administration']\n",
      "['hotel', 'bond', 'right', 'meeting', 'member']\n",
      "['resource', 'mine', 'gold', 'production', 'exploration']\n",
      "['system', 'contract', 'defence', 'aircraft', 'support']\n",
      "['fiscal', 'medium', 'network', 'option', 'salt']\n",
      "['director', 'executive', 'committee', 'option', 'pension']\n",
      "['care', 'approximately', 'coca_cola', 'unit', 'brand']\n",
      "['passenger', 'aircraft', 'traffic', 'fleet', 'staff']\n",
      "['fiscal', 'compensation', 'order', 'store', 'option']\n",
      "['care', 'medical', 'patient', 'option', 'treatment']\n",
      "['option', 'bond', 'contract', 'recognize', 'fair']\n",
      "['insurance', 'premium', 'life', 'claim', 'reinsurance']\n",
      "['approximately', 'corporation', 'option', 'subsidiary', 'technology']\n",
      "['director', 'committee', 'meeting', 'chairman', 'internal']\n",
      "['impairment', 'fair', 'premium', 'minority', 'insurance']\n",
      "['common', 'instrument', 'fair', 'derivative', 'trading']\n",
      "['bank', 'portfolio', 'chairman', 'hedge', 'claim']\n",
      "['claim', 'reserve', 'merger', 'insurance', 'coverage']\n",
      "['previous', 'care', 'rise', 'quarterly', 'consumer']\n",
      "['director', 'executive', 'insurance', 'bank', 'committee']\n",
      "['director', 'lens', 'optical', 'thousand', 'option']\n",
      "['gas', 'power', 'energy', 'electricity', 'oil']\n",
      "['director', 'fund', 'executive', 'copper', 'committee']\n",
      "['option', 'ordinary', 'intangible', 'executive', 'director']\n",
      "['unit', 'plant', 'production', 'vehicle', 'system']\n"
     ]
    }
   ],
   "source": [
    "for i in range(best_topics_number):\n",
    "    print([id2word.id2token[x[0]] for x in best_model.get_topic_terms(i, topn=5)])"
   ]
  },
  {
   "cell_type": "code",
   "execution_count": 48,
   "metadata": {},
   "outputs": [
    {
     "data": {
      "text/plain": [
       "array([0.07334089, 0.02560027, 0.03469618, 0.03896366, 0.0353878 ,\n",
       "       0.01662717, 0.01728467, 0.02032117, 0.02287585, 0.03163261,\n",
       "       0.07180154, 0.02155597, 0.01984904, 0.03424066, 0.01744518,\n",
       "       0.0350709 , 0.03527012, 0.0283104 , 0.04279399, 0.03261901,\n",
       "       0.02311901, 0.02896315, 0.02518491, 0.02620073, 0.01176091,\n",
       "       0.01783704, 0.03440288, 0.01630511, 0.04407914, 0.03514811],\n",
       "      dtype=float32)"
      ]
     },
     "execution_count": 48,
     "metadata": {},
     "output_type": "execute_result"
    }
   ],
   "source": [
    "best_model.alpha"
   ]
  },
  {
   "cell_type": "markdown",
   "metadata": {},
   "source": [
    "# END"
   ]
  },
  {
   "cell_type": "markdown",
   "metadata": {},
   "source": []
  }
 ],
 "metadata": {
  "kernelspec": {
   "display_name": "Python 3",
   "language": "python",
   "name": "python3"
  },
  "language_info": {
   "codemirror_mode": {
    "name": "ipython",
    "version": 3
   },
   "file_extension": ".py",
   "mimetype": "text/x-python",
   "name": "python",
   "nbconvert_exporter": "python",
   "pygments_lexer": "ipython3",
   "version": "3.7.10"
  }
 },
 "nbformat": 4,
 "nbformat_minor": 2
}
