{
 "cells": [
  {
   "cell_type": "markdown",
   "metadata": {},
   "source": [
    "# Initialization"
   ]
  },
  {
   "cell_type": "code",
   "execution_count": 1,
   "metadata": {},
   "outputs": [],
   "source": [
    "import os\n",
    "import re\n",
    "import numpy as np\n",
    "import random\n",
    "import time\n",
    "import json\n",
    "\n",
    "import matplotlib.pyplot as plt\n",
    "from matplotlib.backends.backend_pdf import PdfPages\n",
    "\n",
    "%matplotlib inline"
   ]
  },
  {
   "cell_type": "markdown",
   "metadata": {},
   "source": [
    "### set experiment dates"
   ]
  },
  {
   "cell_type": "code",
   "execution_count": 2,
   "metadata": {},
   "outputs": [],
   "source": [
    "year = 2005 "
   ]
  },
  {
   "cell_type": "markdown",
   "metadata": {},
   "source": [
    "### set run"
   ]
  },
  {
   "cell_type": "code",
   "execution_count": 3,
   "metadata": {},
   "outputs": [],
   "source": [
    "run = 19"
   ]
  },
  {
   "cell_type": "code",
   "execution_count": 4,
   "metadata": {},
   "outputs": [],
   "source": [
    "run_prefix = 'run_%s_xx' % run"
   ]
  },
  {
   "cell_type": "markdown",
   "metadata": {},
   "source": [
    "### set directories"
   ]
  },
  {
   "cell_type": "code",
   "execution_count": 5,
   "metadata": {},
   "outputs": [],
   "source": [
    "dir_root = os.path.join('..')\n",
    "dir_data_runs = os.path.join(dir_root, 'data_runs')\n",
    "dir_run = os.path.join(dir_data_runs, run_prefix)\n",
    "dir_reports = os.path.join(dir_run, 'reports')\n",
    "dir_plots = os.path.join(dir_run, 'interpretation', 't_search_plots')"
   ]
  },
  {
   "cell_type": "code",
   "execution_count": 6,
   "metadata": {},
   "outputs": [],
   "source": [
    "if not os.path.exists(dir_plots):\n",
    "    os.makedirs(dir_plots)"
   ]
  },
  {
   "cell_type": "markdown",
   "metadata": {},
   "source": [
    "### set flags"
   ]
  },
  {
   "cell_type": "code",
   "execution_count": 7,
   "metadata": {},
   "outputs": [],
   "source": [
    "flag_debug = False\n",
    "flag_rerun_scan4T = False\n",
    "flag_run_heldout = False\n",
    "flag_serialize_findings = True\n",
    "flag_de_serialize_findings = True\n",
    "flag_print_tables = False"
   ]
  },
  {
   "cell_type": "markdown",
   "metadata": {},
   "source": [
    "# Read data reports from files"
   ]
  },
  {
   "cell_type": "code",
   "execution_count": 8,
   "metadata": {},
   "outputs": [],
   "source": [
    "def read_report(dir_name, file_name):\n",
    "    file_path = os.path.join(dir_name, file_name)\n",
    "    result = []\n",
    "    with open(file_path, 'r') as f_r:\n",
    "        for text_line in f_r:\n",
    "            result = result + text_line.strip().split(' ')\n",
    "    return result        "
   ]
  },
  {
   "cell_type": "code",
   "execution_count": 9,
   "metadata": {},
   "outputs": [],
   "source": [
    "reports_list = []\n",
    "\n",
    "if flag_rerun_scan4T:\n",
    "\n",
    "    regExp = re.compile('[A-Z\\d]+\\_[A-Z\\d]+\\-' + str(year) + '\\_[\\d]+\\.txt$')\n",
    "    reports_of_year = [f for f in os.listdir(dir_reports) if re.search(regExp, f)]\n",
    "    reports_of_year.sort()\n",
    "    # for every reports of the year\n",
    "    for report_name in reports_of_year:\n",
    "        reports_list.append(read_report(dir_reports, report_name))\n",
    "\n",
    "    print('Done on %s, number of documents: %s' % (year, len(reports_of_year)))"
   ]
  },
  {
   "cell_type": "markdown",
   "metadata": {},
   "source": [
    "# Corpus construction"
   ]
  },
  {
   "cell_type": "code",
   "execution_count": 10,
   "metadata": {},
   "outputs": [],
   "source": [
    "import gensim\n",
    "import gensim.corpora as corpora"
   ]
  },
  {
   "cell_type": "markdown",
   "metadata": {},
   "source": [
    "## Create Dictionary"
   ]
  },
  {
   "cell_type": "code",
   "execution_count": 11,
   "metadata": {},
   "outputs": [],
   "source": [
    "id2word = corpora.Dictionary(reports_list)"
   ]
  },
  {
   "cell_type": "markdown",
   "metadata": {},
   "source": [
    "## Create Corpus"
   ]
  },
  {
   "cell_type": "markdown",
   "metadata": {},
   "source": [
    "Shuffle reporst"
   ]
  },
  {
   "cell_type": "code",
   "execution_count": 12,
   "metadata": {},
   "outputs": [],
   "source": [
    "seed = 193748"
   ]
  },
  {
   "cell_type": "markdown",
   "metadata": {},
   "source": [
    "Best randon seed is 99"
   ]
  },
  {
   "cell_type": "code",
   "execution_count": 13,
   "metadata": {},
   "outputs": [],
   "source": [
    "random.Random(seed).shuffle(reports_list)"
   ]
  },
  {
   "cell_type": "markdown",
   "metadata": {},
   "source": [
    "Split between training and test set"
   ]
  },
  {
   "cell_type": "code",
   "execution_count": 14,
   "metadata": {},
   "outputs": [],
   "source": [
    "testing_size = len(reports_list) // 10\n",
    "training_size = len(reports_list) - testing_size"
   ]
  },
  {
   "cell_type": "code",
   "execution_count": 15,
   "metadata": {},
   "outputs": [
    {
     "name": "stdout",
     "output_type": "stream",
     "text": [
      "Total 0 reprorts\n",
      "Training 0 reprorts\n",
      "Testing 0 reprorts\n"
     ]
    }
   ],
   "source": [
    "print('Total %s reprorts' % len(reports_list))\n",
    "print('Training %s reprorts' % training_size)\n",
    "print('Testing %s reprorts' % testing_size)"
   ]
  },
  {
   "cell_type": "code",
   "execution_count": 16,
   "metadata": {},
   "outputs": [],
   "source": [
    "training_corpus = [id2word.doc2bow(text) for text in reports_list[:training_size]]\n",
    "test_corpus = [id2word.doc2bow(text) for text in reports_list[:-testing_size]]\n",
    "\n",
    "corpus = [id2word.doc2bow(text) for text in reports_list]"
   ]
  },
  {
   "cell_type": "code",
   "execution_count": 17,
   "metadata": {},
   "outputs": [
    {
     "name": "stdout",
     "output_type": "stream",
     "text": [
      "Number of unique tokens: 0\n"
     ]
    }
   ],
   "source": [
    "print('Number of unique tokens: %s' %len(id2word))"
   ]
  },
  {
   "cell_type": "markdown",
   "metadata": {},
   "source": [
    "view the first document as BOW"
   ]
  },
  {
   "cell_type": "code",
   "execution_count": 18,
   "metadata": {},
   "outputs": [],
   "source": [
    "if flag_debug:\n",
    "    print(corpus[:1])"
   ]
  },
  {
   "cell_type": "markdown",
   "metadata": {},
   "source": [
    "# Find optimal topic number"
   ]
  },
  {
   "cell_type": "code",
   "execution_count": 19,
   "metadata": {},
   "outputs": [],
   "source": [
    "from gensim.models import CoherenceModel"
   ]
  },
  {
   "cell_type": "code",
   "execution_count": 20,
   "metadata": {},
   "outputs": [],
   "source": [
    "def scan_T_gensim(dictionary, \n",
    "                  training_corpus, \n",
    "                  test_corpus, \n",
    "                  texts, \n",
    "                  limit, \n",
    "                  start=2, \n",
    "                  step=3, \n",
    "                  passes=10, \n",
    "                  random_state=100, \n",
    "                  run_perplexity=False):\n",
    "    \n",
    "    coherence_values = []\n",
    "    train_p_values = []\n",
    "    test_p_values = []\n",
    "    model_list = []\n",
    "    bound_values = []\n",
    "    i = 0\n",
    "    for num_topics in range(start, limit + 1, step):\n",
    "        model = gensim.models.ldamodel.LdaModel(\n",
    "            corpus=training_corpus,\n",
    "            id2word=dictionary,\n",
    "            num_topics=num_topics, \n",
    "            random_state=random_state,\n",
    "            passes=passes,\n",
    "            alpha='auto',\n",
    "            per_word_topics=True,\n",
    "        )\n",
    "        model_list.append(model)\n",
    "        \n",
    "        coherencemodel = CoherenceModel(model=model, texts=texts, dictionary=dictionary, coherence='c_v')\n",
    "        c_v_score = coherencemodel.get_coherence()\n",
    "        coherence_values.append(c_v_score)\n",
    "        if run_perplexity:         \n",
    "            train_perplexity = np.exp2(-(model.log_perplexity(training_corpus)))\n",
    "            train_p_values.append(train_perplexity)\n",
    "\n",
    "            test_perplexity = np.exp2(-(model.log_perplexity(test_corpus)))\n",
    "            test_p_values.append(test_perplexity)\n",
    "        else:\n",
    "            train_p_values.append(0)\n",
    "            test_p_values.append(0)\n",
    "        \n",
    "        print('Done on indx: %s T: %s, c_v score: %s, Test perplexity: %s' % (i, num_topics, c_v_score, test_perplexity))\n",
    "        \n",
    "        i += 1\n",
    "        \n",
    "        \n",
    "    return model_list, coherence_values, train_p_values, test_p_values\n"
   ]
  },
  {
   "cell_type": "code",
   "execution_count": 21,
   "metadata": {},
   "outputs": [],
   "source": [
    "min_T = 5\n",
    "max_T = 60\n",
    "step_T = 1\n",
    "passes_T = 100\n",
    "random_state = 193748"
   ]
  },
  {
   "cell_type": "code",
   "execution_count": 22,
   "metadata": {},
   "outputs": [],
   "source": [
    "model_list = []\n",
    "coherence_values = []\n",
    "train_perplexity_values = []\n",
    "test_perplexity_values = []"
   ]
  },
  {
   "cell_type": "markdown",
   "metadata": {},
   "source": [
    "Run with heldout test set"
   ]
  },
  {
   "cell_type": "code",
   "execution_count": 23,
   "metadata": {},
   "outputs": [],
   "source": [
    "start = time.time()\n",
    "\n",
    "if flag_rerun_scan4T and flag_run_heldout:\n",
    "    model_list, coherence_values, train_perplexity_values, test_perplexity_values = scan_T_gensim(\n",
    "        dictionary=id2word, \n",
    "        training_corpus=training_corpus, \n",
    "        test_corpus=test_corpus,\n",
    "        texts=reports_list, \n",
    "        start=min_T, \n",
    "        limit=max_T, \n",
    "        step=step_T,\n",
    "        passes=passes_T,\n",
    "        random_state=random_state,\n",
    "        run_perplexity = True,\n",
    "    )\n",
    "    \n",
    "end = time.time() "
   ]
  },
  {
   "cell_type": "code",
   "execution_count": 24,
   "metadata": {},
   "outputs": [
    {
     "name": "stdout",
     "output_type": "stream",
     "text": [
      "Execution time: 1.3550122578938803e-06 minutes\n"
     ]
    }
   ],
   "source": [
    "print('Execution time: %s minutes' % ((end - start)/60))"
   ]
  },
  {
   "cell_type": "markdown",
   "metadata": {},
   "source": [
    "Run without heldout test set"
   ]
  },
  {
   "cell_type": "code",
   "execution_count": 25,
   "metadata": {},
   "outputs": [],
   "source": [
    "if not flag_run_heldout and flag_rerun_scan4T:\n",
    "    model_list, coherence_values, train_perplexity_values, test_perplexity_values = scan_T_gensim(\n",
    "        dictionary=id2word, \n",
    "        training_corpus=corpus, \n",
    "        test_corpus=corpus,\n",
    "        texts=reports_list, \n",
    "        start=min_T, \n",
    "        limit=max_T, \n",
    "        step=step_T,\n",
    "        passes=passes_T,\n",
    "        random_state=random_state,\n",
    "        run_perplexity = False,\n",
    "    )"
   ]
  },
  {
   "cell_type": "code",
   "execution_count": 26,
   "metadata": {},
   "outputs": [],
   "source": [
    "import math\n",
    "for i in range(len(coherence_values)):\n",
    "    if math.isnan(coherence_values[i]):\n",
    "        coherence_values[i] = 0"
   ]
  },
  {
   "cell_type": "markdown",
   "metadata": {},
   "source": [
    "### serialize findings"
   ]
  },
  {
   "cell_type": "code",
   "execution_count": 27,
   "metadata": {},
   "outputs": [],
   "source": [
    "scat_T_results = {\n",
    "    'coherence_values': coherence_values, \n",
    "    'test_perplexity_values': test_perplexity_values,\n",
    "}\n",
    "\n",
    "if flag_serialize_findings and flag_rerun_scan4T:\n",
    "    with open(os.path.join(dir_run, 'scan_T_values.json'), 'w') as f_w:\n",
    "        f_w.write(json.dumps(scat_T_results))"
   ]
  },
  {
   "cell_type": "markdown",
   "metadata": {},
   "source": [
    "### de-serialize findings"
   ]
  },
  {
   "cell_type": "code",
   "execution_count": 28,
   "metadata": {},
   "outputs": [],
   "source": [
    "if flag_de_serialize_findings:\n",
    "    coherence_values = []\n",
    "    test_perplexity_values = []\n",
    "    \n",
    "    with open(os.path.join(dir_run, 'scan_T_values.json'), 'r') as f_w:\n",
    "        data = json.load(f_w)\n",
    "        coherence_values = data['coherence_values']\n",
    "        test_perplexity_values = data['test_perplexity_values']"
   ]
  },
  {
   "cell_type": "markdown",
   "metadata": {},
   "source": [
    "# Results"
   ]
  },
  {
   "cell_type": "code",
   "execution_count": 29,
   "metadata": {},
   "outputs": [],
   "source": [
    "best_T_on_perplexity = None\n",
    "best_T_on_coherence = None"
   ]
  },
  {
   "cell_type": "code",
   "execution_count": 30,
   "metadata": {},
   "outputs": [],
   "source": [
    "topics_range = np.array(range(min_T, max_T + 1, step_T))\n",
    "best_T_on_perplexity = topics_range[np.argmin(test_perplexity_values)]\n",
    "best_T_on_coherence = topics_range[np.argmax(coherence_values)]"
   ]
  },
  {
   "cell_type": "code",
   "execution_count": 31,
   "metadata": {},
   "outputs": [],
   "source": [
    "color_coherence = '#1f94f9'#hsl(208, 95%, 55%) # #1f94f9\n",
    "color_perplexity = '#f9591f' #hsl(16, 95%, 55%) # #f9591f"
   ]
  },
  {
   "cell_type": "markdown",
   "metadata": {},
   "source": [
    "## Compute PCR"
   ]
  },
  {
   "cell_type": "code",
   "execution_count": 60,
   "metadata": {},
   "outputs": [],
   "source": [
    "def get_PCR(topics, perplexities):\n",
    "    pcrs = [0]\n",
    "    for i in range(1, len(topics)):\n",
    "        pcr = ((perplexities[i] - perplexities[i - 1]) / (topics[i] - topics[i - 1]))\n",
    "        pcrs.append(pcr)\n",
    "        \n",
    "    return pcrs"
   ]
  },
  {
   "cell_type": "code",
   "execution_count": 61,
   "metadata": {},
   "outputs": [],
   "source": [
    "rpc_values = get_PCR(topics_range, test_perplexity_values)"
   ]
  },
  {
   "cell_type": "markdown",
   "metadata": {},
   "source": [
    "## Compute normalized Perplexity"
   ]
  },
  {
   "cell_type": "code",
   "execution_count": 62,
   "metadata": {},
   "outputs": [],
   "source": [
    "def get_normalized_perplexity(topics, perplexities):\n",
    "    ps = []\n",
    "    for t, p in zip(topics, perplexities):\n",
    "        ps.append(p/t)\n",
    "        \n",
    "    return ps"
   ]
  },
  {
   "cell_type": "code",
   "execution_count": 63,
   "metadata": {},
   "outputs": [],
   "source": [
    "normalised_perplexity_values = get_normalized_perplexity(topics_range, test_perplexity_values)"
   ]
  },
  {
   "cell_type": "markdown",
   "metadata": {},
   "source": [
    "## Plot"
   ]
  },
  {
   "cell_type": "code",
   "execution_count": 64,
   "metadata": {},
   "outputs": [],
   "source": [
    "def plot_topics_metric(ax, data, metric = '', label = '', color = 'red', best_is_max = True, with_interest_area = False, interest_area_center = 0, interest_area_size = 5):\n",
    "    x = np.array(range(min_T, max_T + 1, step_T))\n",
    "    y = np.array(data)\n",
    "\n",
    "    ax.set_xlabel('Number of Topics, T')\n",
    "    ax.set_ylabel(metric, color=color)\n",
    "    ax.plot(x, y, color=color, label = label)   \n",
    "    \n",
    "    x_best = None\n",
    "    y_best = None\n",
    "    if with_interest_area:\n",
    "        interest_area_min = interest_area_center - interest_area_size;\n",
    "        interest_area_max = interest_area_center + interest_area_size;\n",
    "        ax.axvspan(interest_area_min, interest_area_max, color='green', alpha=0.2) \n",
    "\n",
    "        x_best = interest_area_min + np.argmax(y[interest_area_min - min_T : (interest_area_max + 1) - min_T])\n",
    "        y_best = y[interest_area_min - min_T : (interest_area_max + 1) - min_T].max()\n",
    "    else: \n",
    "        if best_is_max:\n",
    "            x_best = x[np.argmax(y)]\n",
    "            y_best = y.max()\n",
    "        else:\n",
    "            x_best = x[np.argmin(y)]\n",
    "            y_best = y.min()            \n",
    "\n",
    "    text = 'Num of Topics=%s, score=%f' % (x_best, y_best)\n",
    "\n",
    "    bbox_props = dict(boxstyle='square,pad=0.3', fc='w', ec='k', lw=0.72)\n",
    "    arrowprops=dict(arrowstyle='->')\n",
    "    kw = dict(xycoords='data',textcoords='axes fraction',\n",
    "          arrowprops=arrowprops, bbox=bbox_props, ha='right', va='top')\n",
    "    \n",
    "    ax.annotate(text, xy=(x_best, y_best), xytext=(0.99,1.1), **kw)\n"
   ]
  },
  {
   "cell_type": "markdown",
   "metadata": {},
   "source": [
    "### Plot Perplexity and PCR (Perplexity Change Rate)"
   ]
  },
  {
   "cell_type": "code",
   "execution_count": 65,
   "metadata": {},
   "outputs": [
    {
     "data": {
      "image/png": "[encoded data removed]",
      "text/plain": [
       "<Figure size 1080x360 with 3 Axes>"
      ]
     },
     "metadata": {
      "needs_background": "light"
     },
     "output_type": "display_data"
    }
   ],
   "source": [
    "fig, axs = plt.subplots(1, 3, figsize=(15,5))\n",
    "\n",
    "plot_topics_metric(\n",
    "    axs[0], \n",
    "    test_perplexity_values,\n",
    "    metric = 'Perplexity',\n",
    "    label = 'Test Perplexity',\n",
    "    color = color_perplexity,\n",
    "    best_is_max = False\n",
    ")\n",
    "plot_topics_metric(\n",
    "    axs[1], \n",
    "    rpc_values,\n",
    "    metric = 'PCR',\n",
    "    label = 'Perplexity Change Rate',\n",
    "    color = color_perplexity,\n",
    "    best_is_max = False\n",
    ")\n",
    "plot_topics_metric(\n",
    "    axs[2], \n",
    "    normalised_perplexity_values,\n",
    "    metric = 'Normalized Perplexity',\n",
    "    label = 'Normalized Perplexity',\n",
    "    color = color_perplexity,\n",
    "    best_is_max = True\n",
    ")\n",
    "\n",
    "plt.show()\n",
    "plt.close()"
   ]
  },
  {
   "cell_type": "markdown",
   "metadata": {},
   "source": [
    "### Plot Coherence"
   ]
  },
  {
   "cell_type": "code",
   "execution_count": 40,
   "metadata": {},
   "outputs": [
    {
     "data": {
      "image/png": "[encoded data removed]",
      "text/plain": [
       "<Figure size 360x360 with 1 Axes>"
      ]
     },
     "metadata": {
      "needs_background": "light"
     },
     "output_type": "display_data"
    }
   ],
   "source": [
    "fig, ax = plt.subplots(1, 1, figsize=(5,5))\n",
    "\n",
    "\n",
    "plot_topics_metric(\n",
    "    ax, \n",
    "    coherence_values,\n",
    "    metric = 'Coherence score (C_v)',\n",
    "    color = color_coherence,\n",
    ")\n",
    "\n",
    "plt.show()\n",
    "plt.close()"
   ]
  },
  {
   "cell_type": "markdown",
   "metadata": {},
   "source": [
    "### Plot Coherence with interest area around best perplexity"
   ]
  },
  {
   "cell_type": "code",
   "execution_count": 41,
   "metadata": {},
   "outputs": [
    {
     "data": {
      "image/png": "[encoded data removed]",
      "text/plain": [
       "<Figure size 360x360 with 1 Axes>"
      ]
     },
     "metadata": {
      "needs_background": "light"
     },
     "output_type": "display_data"
    }
   ],
   "source": [
    "fig, ax = plt.subplots(1, 1, figsize=(5,5))\n",
    "\n",
    "plot_topics_metric(\n",
    "    ax, \n",
    "    coherence_values,\n",
    "    metric = 'Coherence score (C_v)',\n",
    "    color = color_coherence,\n",
    "    with_interest_area = True,\n",
    "    interest_area_center = best_T_on_perplexity\n",
    ")\n",
    "\n",
    "plt.show()\n",
    "plt.close()"
   ]
  },
  {
   "cell_type": "markdown",
   "metadata": {},
   "source": [
    "### Combined plot"
   ]
  },
  {
   "cell_type": "code",
   "execution_count": 42,
   "metadata": {},
   "outputs": [
    {
     "data": {
      "image/png": "[encoded data removed]",
      "text/plain": [
       "<Figure size 720x360 with 2 Axes>"
      ]
     },
     "metadata": {
      "needs_background": "light"
     },
     "output_type": "display_data"
    }
   ],
   "source": [
    "fig, axs = plt.subplots(1, 2, figsize=(10,5))\n",
    "\n",
    "plot_topics_metric(\n",
    "    axs[0], \n",
    "    test_perplexity_values,\n",
    "    metric = 'Perplexity',\n",
    "    color = color_perplexity,\n",
    "    best_is_max = False\n",
    ")\n",
    "plot_topics_metric(\n",
    "    axs[1], \n",
    "    coherence_values,\n",
    "    metric = 'Coherence score (C_v)',\n",
    "    color = color_coherence,\n",
    "    with_interest_area = True,\n",
    "    interest_area_center = best_T_on_perplexity\n",
    ")\n",
    "\n",
    "fig.tight_layout()\n",
    "pp = PdfPages(os.path.join(dir_plots, 't_scan_combined_plot.pdf'))\n",
    "\n",
    "plt.savefig(pp, format='pdf', bbox_inches='tight')\n",
    "plt.show()\n",
    "\n",
    "pp.close() "
   ]
  },
  {
   "cell_type": "markdown",
   "metadata": {},
   "source": [
    "## Tables"
   ]
  },
  {
   "cell_type": "code",
   "execution_count": null,
   "metadata": {},
   "outputs": [],
   "source": [
    "all_columns = len(coherence_values)\n",
    "columns = 10\n",
    "rows = math.ceil(all_columns / columns)"
   ]
  },
  {
   "cell_type": "code",
   "execution_count": null,
   "metadata": {},
   "outputs": [],
   "source": [
    "print('\\\\begin{table}[h!]')\n",
    "print('\\\\centering')\n",
    "print('\\\\caption{Scan for T}\\\\label{tabl_scan_for_t}')\n",
    "print('\\\\begin{tabular}{l|%s}' % '|'.join(['c'] * columns))\n",
    "\n",
    "for r in range(rows):\n",
    "    start = r * columns\n",
    "    end = (r + 1) * columns\n",
    "    \n",
    "    print('\\\\hline')\n",
    "    print('\\\\textbf{T} & %s \\\\\\\\ ' % ' & '.join(['%s' % (x + 5) for x in range(start, end)]))\n",
    "    print('\\\\hline')\n",
    "    print('\\\\textbf{Coherence score}  & %s \\\\\\\\ ' % ' & '.join(['%.4f' % x for x in coherence_values[start:end]]))\n",
    "    print('\\\\textbf{Perplexity score} & %s \\\\\\\\ ' % ' & '.join(['%.4f' % x for x in test_perplexity_values[start:end]]))\n",
    "print('\\\\end{tabular}')\n",
    "print('\\\\end{table}')"
   ]
  },
  {
   "cell_type": "markdown",
   "metadata": {},
   "source": [
    "## Print top words for best model"
   ]
  },
  {
   "cell_type": "code",
   "execution_count": null,
   "metadata": {},
   "outputs": [],
   "source": [
    "best_topics_number = best_T_on_coherence\n",
    "best_model = model_list[best_topics_number - min_T]"
   ]
  },
  {
   "cell_type": "code",
   "execution_count": null,
   "metadata": {},
   "outputs": [],
   "source": [
    "for i in range(best_topics_number):\n",
    "    print([id2word.id2token[x[0]] for x in best_model.get_topic_terms(i, topn=5)])"
   ]
  },
  {
   "cell_type": "code",
   "execution_count": null,
   "metadata": {},
   "outputs": [],
   "source": [
    "best_model.alpha"
   ]
  },
  {
   "cell_type": "markdown",
   "metadata": {},
   "source": [
    "# END"
   ]
  },
  {
   "cell_type": "code",
   "execution_count": null,
   "metadata": {},
   "outputs": [],
   "source": [
    "best_model.betha"
   ]
  },
  {
   "cell_type": "markdown",
   "metadata": {},
   "source": []
  }
 ],
 "metadata": {
  "kernelspec": {
   "display_name": "Python 3",
   "language": "python",
   "name": "python3"
  },
  "language_info": {
   "codemirror_mode": {
    "name": "ipython",
    "version": 3
   },
   "file_extension": ".py",
   "mimetype": "text/x-python",
   "name": "python",
   "nbconvert_exporter": "python",
   "pygments_lexer": "ipython3",
   "version": "3.7.7"
  }
 },
 "nbformat": 4,
 "nbformat_minor": 2
}
