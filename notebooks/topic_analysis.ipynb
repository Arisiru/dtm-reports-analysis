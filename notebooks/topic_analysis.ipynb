{
 "cells": [
  {
   "cell_type": "markdown",
   "metadata": {},
   "source": [
    "# Initialization"
   ]
  },
  {
   "cell_type": "code",
   "execution_count": 1,
   "metadata": {},
   "outputs": [],
   "source": [
    "import os\n",
    "import re\n",
    "import numpy as np\n",
    "import random\n",
    "\n",
    "import matplotlib.pyplot as plt\n",
    "from matplotlib.backends.backend_pdf import PdfPages\n",
    "\n",
    "%matplotlib inline"
   ]
  },
  {
   "cell_type": "markdown",
   "metadata": {},
   "source": [
    "### set experiment dates"
   ]
  },
  {
   "cell_type": "code",
   "execution_count": 2,
   "metadata": {},
   "outputs": [],
   "source": [
    "year = 2005 "
   ]
  },
  {
   "cell_type": "markdown",
   "metadata": {},
   "source": [
    "### set directories"
   ]
  },
  {
   "cell_type": "code",
   "execution_count": 3,
   "metadata": {},
   "outputs": [],
   "source": [
    "dir_root = os.path.join('..')\n",
    "dir_data_processing = os.path.join(dir_root, 'data_processing')\n",
    "dir_reports_ready =  os.path.join(dir_data_processing, 'reports_ready')\n",
    "dir_plots = os.path.join(dir_root, 'plots')"
   ]
  },
  {
   "cell_type": "markdown",
   "metadata": {},
   "source": [
    "### set flags"
   ]
  },
  {
   "cell_type": "code",
   "execution_count": 4,
   "metadata": {},
   "outputs": [],
   "source": [
    "flag_debug = False"
   ]
  },
  {
   "cell_type": "markdown",
   "metadata": {},
   "source": [
    "# Read data reports from files"
   ]
  },
  {
   "cell_type": "code",
   "execution_count": 5,
   "metadata": {},
   "outputs": [],
   "source": [
    "def read_report(dir_name, file_name):\n",
    "    file_path = os.path.join(dir_name, file_name)\n",
    "    result = []\n",
    "    with open(file_path, 'r') as f_r:\n",
    "        for text_line in f_r:\n",
    "            result = result + text_line.strip().split(' ')\n",
    "    return result        "
   ]
  },
  {
   "cell_type": "code",
   "execution_count": 6,
   "metadata": {},
   "outputs": [
    {
     "name": "stdout",
     "output_type": "stream",
     "text": [
      "Done on 2005, number of documents: 233\n"
     ]
    }
   ],
   "source": [
    "reports_list = []\n",
    "\n",
    "regExp = re.compile('[A-Z\\d]+\\_[A-Z\\d]+\\-' + str(year) + '\\_[\\d]+\\.txt$')\n",
    "reports_of_year = [f for f in os.listdir(dir_reports_ready) if re.search(regExp, f)]\n",
    "reports_of_year.sort()\n",
    "# for every reports of the year\n",
    "for report_name in reports_of_year:\n",
    "    reports_list.append(read_report(dir_reports_ready, report_name))\n",
    "\n",
    "print('Done on %s, number of documents: %s' % (year, len(reports_of_year)))"
   ]
  },
  {
   "cell_type": "markdown",
   "metadata": {},
   "source": [
    "# Corpus construction"
   ]
  },
  {
   "cell_type": "code",
   "execution_count": 7,
   "metadata": {},
   "outputs": [],
   "source": [
    "import gensim\n",
    "import gensim.corpora as corpora"
   ]
  },
  {
   "cell_type": "markdown",
   "metadata": {},
   "source": [
    "## Create Dictionary"
   ]
  },
  {
   "cell_type": "code",
   "execution_count": 8,
   "metadata": {},
   "outputs": [],
   "source": [
    "id2word = corpora.Dictionary(reports_list)"
   ]
  },
  {
   "cell_type": "markdown",
   "metadata": {},
   "source": [
    "## Create Corpus"
   ]
  },
  {
   "cell_type": "markdown",
   "metadata": {},
   "source": [
    "Shuffle reporst"
   ]
  },
  {
   "cell_type": "code",
   "execution_count": 9,
   "metadata": {},
   "outputs": [],
   "source": [
    "random.Random(99).shuffle(reports_list)"
   ]
  },
  {
   "cell_type": "markdown",
   "metadata": {},
   "source": [
    "Split between training and test set"
   ]
  },
  {
   "cell_type": "code",
   "execution_count": 10,
   "metadata": {},
   "outputs": [],
   "source": [
    "testing_size = len(reports_list) // 10\n",
    "training_size = len(reports_list) - testing_size"
   ]
  },
  {
   "cell_type": "code",
   "execution_count": 11,
   "metadata": {},
   "outputs": [
    {
     "name": "stdout",
     "output_type": "stream",
     "text": [
      "Total 233 reprorts\n",
      "Training 210 reprorts\n",
      "Testing 23 reprorts\n"
     ]
    }
   ],
   "source": [
    "print('Total %s reprorts' % len(reports_list))\n",
    "print('Training %s reprorts' % training_size)\n",
    "print('Testing %s reprorts' % testing_size)"
   ]
  },
  {
   "cell_type": "code",
   "execution_count": 12,
   "metadata": {},
   "outputs": [],
   "source": [
    "training_corpus = [id2word.doc2bow(text) for text in reports_list[:training_size]]\n",
    "test_corpus = [id2word.doc2bow(text) for text in reports_list[testing_size:]]\n",
    "\n",
    "corpus = [id2word.doc2bow(text) for text in reports_list]"
   ]
  },
  {
   "cell_type": "code",
   "execution_count": 13,
   "metadata": {},
   "outputs": [
    {
     "name": "stdout",
     "output_type": "stream",
     "text": [
      "Number of unique tokens: 13741\n"
     ]
    }
   ],
   "source": [
    "print('Number of unique tokens: %s' %len(id2word))"
   ]
  },
  {
   "cell_type": "markdown",
   "metadata": {},
   "source": [
    "view the first document as BOW"
   ]
  },
  {
   "cell_type": "code",
   "execution_count": 14,
   "metadata": {},
   "outputs": [],
   "source": [
    "if flag_debug:\n",
    "    print(corpus[:1])"
   ]
  },
  {
   "cell_type": "markdown",
   "metadata": {},
   "source": [
    "# Find optimal topic number"
   ]
  },
  {
   "cell_type": "code",
   "execution_count": 15,
   "metadata": {},
   "outputs": [],
   "source": [
    "from gensim.models import CoherenceModel"
   ]
  },
  {
   "cell_type": "code",
   "execution_count": 32,
   "metadata": {},
   "outputs": [],
   "source": [
    "def compute_coherence_values(dictionary, training_corpus, test_corpus, texts, limit, start=2, step=3, passes=10, random_state=100):\n",
    "    \"\"\"\n",
    "    Compute c_v coherence for various number of topics\n",
    "\n",
    "    Parameters:\n",
    "    ----------\n",
    "    dictionary : Gensim dictionary\n",
    "    corpus : Gensim corpus\n",
    "    texts : List of input texts\n",
    "    limit : Max num of topics\n",
    "\n",
    "    Returns:\n",
    "    -------\n",
    "    model_list : List of LDA topic models\n",
    "    coherence_values : Coherence values corresponding to the LDA model with respective number of topics\n",
    "    \"\"\"\n",
    "    coherence_values = []\n",
    "    perplexity_values = []\n",
    "    model_list = []\n",
    "    bound_values = []\n",
    "    i = 0\n",
    "    for num_topics in range(start, limit + 1, step):\n",
    "        model = gensim.models.ldamodel.LdaModel(corpus=training_corpus,\n",
    "                                           id2word=dictionary,\n",
    "                                           num_topics=num_topics, \n",
    "                                           random_state=random_state,\n",
    "                                           update_every=5,\n",
    "                                           chunksize=100,\n",
    "                                           passes=passes,\n",
    "                                           alpha='auto',\n",
    "                                           per_word_topics=True)\n",
    "        model_list.append(model)\n",
    "        \n",
    "        coherencemodel = CoherenceModel(model=model, texts=texts, dictionary=dictionary, coherence='c_v')\n",
    "        c_v_score = coherencemodel.get_coherence()\n",
    "        coherence_values.append(c_v_score)\n",
    "        \n",
    "        bound = model.log_perplexity(test_corpus)\n",
    "        bound_values.append(bound)\n",
    "        \n",
    "        perplexity = np.exp2(-bound)\n",
    "        perplexity_values.append(perplexity)\n",
    "        \n",
    "        print('Done on indx: %s T: %s, c_v score: %s, bound: %s, perplexity: %s' % (i, num_topics, c_v_score, bound, perplexity))\n",
    "        i += 1\n",
    "    return model_list, coherence_values, perplexity_values, bound_values\n"
   ]
  },
  {
   "cell_type": "code",
   "execution_count": 35,
   "metadata": {},
   "outputs": [],
   "source": [
    "min_T = 5\n",
    "max_T = 60\n",
    "step_T = 1\n",
    "passes_T = 51\n",
    "random_state = 193748"
   ]
  },
  {
   "cell_type": "code",
   "execution_count": 36,
   "metadata": {},
   "outputs": [
    {
     "name": "stdout",
     "output_type": "stream",
     "text": [
      "Done on indx: 0 T: 5, c_v score: 0.37172281404369734, bound: -8.048648992197768, perplexity: 264.7797520995808\n",
      "Done on indx: 1 T: 6, c_v score: 0.378066225249233, bound: -8.029982944683729, perplexity: 261.3760142162105\n",
      "Done on indx: 2 T: 7, c_v score: 0.38251400958616477, bound: -8.00289238608337, perplexity: 256.5137562400725\n",
      "Done on indx: 3 T: 8, c_v score: 0.3833927443321606, bound: -7.970833453737309, perplexity: 250.8764872050569\n",
      "Done on indx: 4 T: 9, c_v score: 0.41141406320685914, bound: -7.952984400090065, perplexity: 247.79175948969228\n",
      "Done on indx: 5 T: 10, c_v score: 0.49521290185696853, bound: -7.914048441773803, perplexity: 241.19370461196416\n",
      "Done on indx: 6 T: 11, c_v score: 0.4218229213640393, bound: -7.9172559278773385, perplexity: 241.73053745381674\n",
      "Done on indx: 7 T: 12, c_v score: 0.45001839853605685, bound: -7.899621038019221, perplexity: 238.79371211499839\n",
      "Done on indx: 8 T: 13, c_v score: 0.44335506078035947, bound: -7.90350558383032, perplexity: 239.43754537602115\n",
      "Done on indx: 9 T: 14, c_v score: 0.43949375684148795, bound: -7.894232323614924, perplexity: 237.90344017543433\n",
      "Done on indx: 10 T: 15, c_v score: 0.4889259042815715, bound: -7.878454273077017, perplexity: 235.31578229331652\n",
      "Done on indx: 11 T: 16, c_v score: 0.4595113174518195, bound: -7.856645924898404, perplexity: 231.7854064694328\n",
      "Done on indx: 12 T: 17, c_v score: 0.4734504502386955, bound: -7.859602942549465, perplexity: 232.26097227286746\n",
      "Done on indx: 13 T: 18, c_v score: 0.47701705287172697, bound: -7.872512890981188, perplexity: 234.348685285358\n",
      "Done on indx: 14 T: 19, c_v score: 0.45629019373708096, bound: -7.8551483029265885, perplexity: 231.54492126741516\n",
      "Done on indx: 15 T: 20, c_v score: 0.5183397704099031, bound: -7.853724842040101, perplexity: 231.31657599516794\n",
      "Done on indx: 16 T: 21, c_v score: 0.5134606555845654, bound: -7.864559883278818, perplexity: 233.06036783759433\n",
      "Done on indx: 17 T: 22, c_v score: 0.479170052921495, bound: -7.873756245045119, perplexity: 234.5507404508485\n",
      "Done on indx: 18 T: 23, c_v score: 0.5206567925864278, bound: -7.850730844959833, perplexity: 230.83702695602557\n",
      "Done on indx: 19 T: 24, c_v score: 0.5413379355686382, bound: -7.879998375100445, perplexity: 235.56777324112065\n",
      "Done on indx: 20 T: 25, c_v score: 0.5243676356256497, bound: -7.8965888382161635, perplexity: 238.29235191901768\n",
      "Done on indx: 21 T: 26, c_v score: 0.4950283339352742, bound: -7.942580532683191, perplexity: 246.011258857794\n",
      "Done on indx: 22 T: 27, c_v score: 0.4940434808541223, bound: -7.93454336736521, perplexity: 244.644555713589\n",
      "Done on indx: 23 T: 28, c_v score: 0.5381129906049151, bound: -7.897619223151854, perplexity: 238.46260311170744\n",
      "Done on indx: 24 T: 29, c_v score: 0.5382553891951525, bound: -7.938708423960921, perplexity: 245.35186437759182\n",
      "Done on indx: 25 T: 30, c_v score: 0.5308688156533079, bound: -7.936531797369588, perplexity: 244.98197557851014\n",
      "Done on indx: 26 T: 31, c_v score: 0.5243187873880892, bound: -7.958815575219486, perplexity: 248.79532650879574\n",
      "Done on indx: 27 T: 32, c_v score: 0.5380872066772928, bound: -7.946783531957263, perplexity: 246.72900774421214\n",
      "Done on indx: 28 T: 33, c_v score: 0.508366762767008, bound: -7.98654870216367, perplexity: 253.62421811678766\n",
      "Done on indx: 29 T: 34, c_v score: 0.5546146651485722, bound: -7.950222249393253, perplexity: 247.31779695782188\n",
      "Done on indx: 30 T: 35, c_v score: 0.5729008287914916, bound: -7.961887632052814, perplexity: 249.32567263103306\n",
      "Done on indx: 31 T: 36, c_v score: 0.5965786914055173, bound: -7.975712901837425, perplexity: 251.72643208333452\n",
      "Done on indx: 32 T: 37, c_v score: 0.5791898634098046, bound: -7.99830874391682, perplexity: 255.70006975414123\n",
      "Done on indx: 33 T: 38, c_v score: 0.5764300230765391, bound: -8.012387065779897, perplexity: 258.20749456716874\n",
      "Done on indx: 34 T: 39, c_v score: 0.5549550933307965, bound: -8.03168779329479, perplexity: 261.68506769943394\n",
      "Done on indx: 35 T: 40, c_v score: 0.5720628063666864, bound: -8.026470959385204, perplexity: 260.7405144690788\n",
      "Done on indx: 36 T: 41, c_v score: 0.5768179891212374, bound: -8.066821941278757, perplexity: 268.1361528897688\n",
      "Done on indx: 37 T: 42, c_v score: 0.533835570521895, bound: -8.102348315576144, perplexity: 274.82097642416755\n",
      "Done on indx: 38 T: 43, c_v score: 0.5946192529617519, bound: -8.111463101503817, perplexity: 276.5627610256605\n",
      "Done on indx: 39 T: 44, c_v score: 0.5553322454909879, bound: -8.105802831703208, perplexity: 275.4798204679249\n",
      "Done on indx: 40 T: 45, c_v score: 0.5689063106708631, bound: -8.122876266330119, perplexity: 278.7593269274609\n",
      "Done on indx: 41 T: 46, c_v score: 0.5994309981353394, bound: -8.128203200407123, perplexity: 279.79050630899496\n",
      "Done on indx: 42 T: 47, c_v score: 0.54391453086507, bound: -8.175160757106859, perplexity: 289.0470938725073\n",
      "Done on indx: 43 T: 48, c_v score: 0.5616462173633511, bound: -8.157071894115079, perplexity: 285.44557630726297\n",
      "Done on indx: 44 T: 49, c_v score: 0.5581486776449993, bound: -8.214483763377887, perplexity: 297.0338960309218\n",
      "Done on indx: 45 T: 50, c_v score: 0.5114617032980064, bound: -8.259201795454295, perplexity: 306.3849868684277\n",
      "Done on indx: 46 T: 51, c_v score: 0.5617498873302929, bound: -8.219460115549799, perplexity: 298.0602373445627\n",
      "Done on indx: 47 T: 52, c_v score: 0.5057085031672892, bound: -8.287322202828458, perplexity: 312.41549583568764\n",
      "Done on indx: 48 T: 53, c_v score: 0.5242554235866616, bound: -8.279502196835196, perplexity: 310.7266554057099\n",
      "Done on indx: 49 T: 54, c_v score: 0.5569848176847686, bound: -8.319653103770102, perplexity: 319.4957884737945\n",
      "Done on indx: 50 T: 55, c_v score: 0.5492608767214316, bound: -8.323783061303583, perplexity: 320.4117093412176\n",
      "Done on indx: 51 T: 56, c_v score: 0.552288653727559, bound: -8.321026003669967, perplexity: 319.7999723085106\n",
      "Done on indx: 52 T: 57, c_v score: 0.5438139673760742, bound: -8.3425467342355, perplexity: 324.6061974666226\n",
      "Done on indx: 53 T: 58, c_v score: 0.5375887423817105, bound: -8.354413941762834, perplexity: 327.28732962975624\n",
      "Done on indx: 54 T: 59, c_v score: 0.5350881106683365, bound: -8.431257379269335, perplexity: 345.1925167687155\n",
      "Done on indx: 55 T: 60, c_v score: 0.5411059532372107, bound: -8.440537173197825, perplexity: 347.42004215584313\n"
     ]
    }
   ],
   "source": [
    "model_list, coherence_values, perplexity_values, bound_values = compute_coherence_values(\n",
    "    dictionary=id2word, \n",
    "    training_corpus=training_corpus, \n",
    "    test_corpus=test_corpus,\n",
    "    texts=reports_list, \n",
    "    start=min_T, \n",
    "    limit=max_T, \n",
    "    step=step_T,\n",
    "    passes=passes_T,\n",
    "    random_state=random_state)"
   ]
  },
  {
   "cell_type": "code",
   "execution_count": 37,
   "metadata": {},
   "outputs": [],
   "source": [
    "import math\n",
    "for i in range(len(coherence_values)):\n",
    "    if math.isnan(coherence_values[i]):\n",
    "        coherence_values[i] = 0"
   ]
  },
  {
   "cell_type": "code",
   "execution_count": 38,
   "metadata": {},
   "outputs": [
    {
     "data": {
      "image/png": "[encoded data removed]",
      "text/plain": [
       "<Figure size 288x288 with 1 Axes>"
      ]
     },
     "metadata": {
      "needs_background": "light"
     },
     "output_type": "display_data"
    }
   ],
   "source": [
    "plt.figure(figsize=(4,4))\n",
    "\n",
    "        \n",
    "y = np.array(coherence_values)\n",
    "x = np.array(range(min_T, max_T + 1, step_T))\n",
    "\n",
    "plt.plot(x, y)    \n",
    "    \n",
    "    \n",
    "xmax = x[np.argmax(y)]\n",
    "ymax = y.max()\n",
    "text = 'Num of Topics=%s, score=%f' % (xmax, ymax)\n",
    "\n",
    "bbox_props = dict(boxstyle='square,pad=0.3', fc='w', ec='k', lw=0.72)\n",
    "arrowprops=dict(arrowstyle='->')\n",
    "kw = dict(xycoords='data',textcoords='axes fraction',\n",
    "          arrowprops=arrowprops, bbox=bbox_props, ha='right', va='top')\n",
    "plt.annotate(text, xy=(xmax, ymax), xytext=(0.99,1.1), **kw)\n",
    "\n",
    "\n",
    "plt.xlabel('Number of Topics, T')\n",
    "plt.ylabel('Coherence score')\n",
    "\n",
    "#pp = PdfPages(os.path.join(dir_topics, 'cohearence_score.pdf'))\n",
    "\n",
    "#plt.savefig(pp, format='pdf', bbox_inches='tight')\n",
    "plt.show()\n",
    "\n",
    "#pp.close() \n",
    "plt.close()"
   ]
  },
  {
   "cell_type": "code",
   "execution_count": 39,
   "metadata": {},
   "outputs": [
    {
     "data": {
      "text/plain": [
       "<Figure size 360x360 with 0 Axes>"
      ]
     },
     "metadata": {},
     "output_type": "display_data"
    },
    {
     "data": {
      "image/png": "[encoded data removed]",
      "text/plain": [
       "<Figure size 432x288 with 2 Axes>"
      ]
     },
     "metadata": {
      "needs_background": "light"
     },
     "output_type": "display_data"
    }
   ],
   "source": [
    "plt.figure(figsize=(5,5))\n",
    "\n",
    "      \n",
    "data1 = np.array(coherence_values)\n",
    "data2 = np.array(perplexity_values)\n",
    "x = np.array(range(min_T, min_T + len(data1), step_T))\n",
    "\n",
    "fig, ax1 = plt.subplots()\n",
    "\n",
    "color = 'tab:red'\n",
    "ax1.set_xlabel('Number of Topics, T')\n",
    "ax1.set_ylabel('Coherence score', color=color)\n",
    "ax1.plot(x, data1, color=color)\n",
    "ax1.tick_params(axis='y', labelcolor=color)\n",
    "\n",
    "xmax = x[np.argmax(data1)]\n",
    "ymax = data1.max()\n",
    "text = 'Num of Topics=%s, score=%f' % (xmax, ymax)\n",
    "\n",
    "#bbox_props = dict(boxstyle='square,pad=0.3', fc='w', ec='k', lw=0.72)\n",
    "#arrowprops = dict(arrowstyle='->')\n",
    "#kw = dict(xycoords='data',textcoords='axes fraction',\n",
    "          #arrowprops=arrowprops, bbox=bbox_props, ha='right', va='top')\n",
    "#ax1.annotate(text, xy=(xmax, ymax), xytext=(0.99,1.1), **kw)\n",
    "\n",
    "# instantiate a second axes that shares the same x-axis\n",
    "ax2 = ax1.twinx()  \n",
    "\n",
    "color = 'tab:blue'\n",
    "ax2.set_ylabel('Perplexity score', color=color)\n",
    "ax2.plot(x, data2, color=color)\n",
    "ax2.tick_params(axis='y', labelcolor=color)\n",
    "plt.axvspan(15, 25, color='green', alpha=0.2)\n",
    "\n",
    "fig.tight_layout() # otherwise the right y-label is slightly clipped\n",
    "\n",
    "pp = PdfPages(os.path.join(dir_plots, 'cohearence_score.pdf'))\n",
    "\n",
    "plt.savefig(pp, format='pdf', bbox_inches='tight')\n",
    "plt.show()\n",
    "\n",
    "pp.close() "
   ]
  },
  {
   "cell_type": "code",
   "execution_count": 40,
   "metadata": {},
   "outputs": [],
   "source": [
    "all_columns = len(coherence_values)\n",
    "columns = 10\n",
    "rows = math.ceil(all_columns / columns)"
   ]
  },
  {
   "cell_type": "code",
   "execution_count": 41,
   "metadata": {},
   "outputs": [
    {
     "name": "stdout",
     "output_type": "stream",
     "text": [
      "\\begin{tabular}{l|c|c|c|c|c|c|c|c|c|c}\n",
      "\\hline\n",
      "\\textbf{T} & 5 & 6 & 7 & 8 & 9 & 10 & 11 & 12 & 13 & 14 \\\\ \n",
      "\\hline\n",
      "\\textbf{Coherence score}  & 0.3717 & 0.3781 & 0.3825 & 0.3834 & 0.4114 & 0.4952 & 0.4218 & 0.4500 & 0.4434 & 0.4395 \\\\ \n",
      "\\textbf{Perplexity score} & 264.7798 & 261.3760 & 256.5138 & 250.8765 & 247.7918 & 241.1937 & 241.7305 & 238.7937 & 239.4375 & 237.9034 \\\\ \n",
      "\\hline\n",
      "\\textbf{T} & 15 & 16 & 17 & 18 & 19 & 20 & 21 & 22 & 23 & 24 \\\\ \n",
      "\\hline\n",
      "\\textbf{Coherence score}  & 0.4889 & 0.4595 & 0.4735 & 0.4770 & 0.4563 & 0.5183 & 0.5135 & 0.4792 & 0.5207 & 0.5413 \\\\ \n",
      "\\textbf{Perplexity score} & 235.3158 & 231.7854 & 232.2610 & 234.3487 & 231.5449 & 231.3166 & 233.0604 & 234.5507 & 230.8370 & 235.5678 \\\\ \n",
      "\\hline\n",
      "\\textbf{T} & 25 & 26 & 27 & 28 & 29 & 30 & 31 & 32 & 33 & 34 \\\\ \n",
      "\\hline\n",
      "\\textbf{Coherence score}  & 0.5244 & 0.4950 & 0.4940 & 0.5381 & 0.5383 & 0.5309 & 0.5243 & 0.5381 & 0.5084 & 0.5546 \\\\ \n",
      "\\textbf{Perplexity score} & 238.2924 & 246.0113 & 244.6446 & 238.4626 & 245.3519 & 244.9820 & 248.7953 & 246.7290 & 253.6242 & 247.3178 \\\\ \n",
      "\\hline\n",
      "\\textbf{T} & 35 & 36 & 37 & 38 & 39 & 40 & 41 & 42 & 43 & 44 \\\\ \n",
      "\\hline\n",
      "\\textbf{Coherence score}  & 0.5729 & 0.5966 & 0.5792 & 0.5764 & 0.5550 & 0.5721 & 0.5768 & 0.5338 & 0.5946 & 0.5553 \\\\ \n",
      "\\textbf{Perplexity score} & 249.3257 & 251.7264 & 255.7001 & 258.2075 & 261.6851 & 260.7405 & 268.1362 & 274.8210 & 276.5628 & 275.4798 \\\\ \n",
      "\\hline\n",
      "\\textbf{T} & 45 & 46 & 47 & 48 & 49 & 50 & 51 & 52 & 53 & 54 \\\\ \n",
      "\\hline\n",
      "\\textbf{Coherence score}  & 0.5689 & 0.5994 & 0.5439 & 0.5616 & 0.5581 & 0.5115 & 0.5617 & 0.5057 & 0.5243 & 0.5570 \\\\ \n",
      "\\textbf{Perplexity score} & 278.7593 & 279.7905 & 289.0471 & 285.4456 & 297.0339 & 306.3850 & 298.0602 & 312.4155 & 310.7267 & 319.4958 \\\\ \n",
      "\\hline\n",
      "\\textbf{T} & 55 & 56 & 57 & 58 & 59 & 60 & 61 & 62 & 63 & 64 \\\\ \n",
      "\\hline\n",
      "\\textbf{Coherence score}  & 0.5493 & 0.5523 & 0.5438 & 0.5376 & 0.5351 & 0.5411 \\\\ \n",
      "\\textbf{Perplexity score} & 320.4117 & 319.8000 & 324.6062 & 327.2873 & 345.1925 & 347.4200 \\\\ \n"
     ]
    }
   ],
   "source": [
    "print('\\\\begin{tabular}{l|%s}' % '|'.join(['c'] * columns))\n",
    "\n",
    "for r in range(rows):\n",
    "    start = r * columns\n",
    "    end = (r + 1) * columns\n",
    "    \n",
    "    print('\\\\hline')\n",
    "    print('\\\\textbf{T} & %s \\\\\\\\ ' % ' & '.join(['%s' % (x + 5) for x in range(start, end)]))\n",
    "    print('\\\\hline')\n",
    "    print('\\\\textbf{Coherence score}  & %s \\\\\\\\ ' % ' & '.join(['%.4f' % x for x in coherence_values[start:end]]))\n",
    "    print('\\\\textbf{Perplexity score} & %s \\\\\\\\ ' % ' & '.join(['%.4f' % x for x in perplexity_values[start:end]]))\n"
   ]
  },
  {
   "cell_type": "code",
   "execution_count": 42,
   "metadata": {},
   "outputs": [],
   "source": [
    "take_first_t_index = 20\n",
    "coherence_values_in_use = coherence_values[:take_first_t_index]\n",
    "perplexity_values_in_use = perplexity_values[:take_first_t_index]"
   ]
  },
  {
   "cell_type": "code",
   "execution_count": 43,
   "metadata": {},
   "outputs": [
    {
     "data": {
      "text/plain": [
       "<Figure size 360x360 with 0 Axes>"
      ]
     },
     "metadata": {},
     "output_type": "display_data"
    },
    {
     "data": {
      "image/png": "[encoded data removed]",
      "text/plain": [
       "<Figure size 432x288 with 2 Axes>"
      ]
     },
     "metadata": {
      "needs_background": "light"
     },
     "output_type": "display_data"
    }
   ],
   "source": [
    "plt.figure(figsize=(5,5))\n",
    "\n",
    "      \n",
    "data1 = np.array(coherence_values_in_use)\n",
    "data2 = np.array(perplexity_values_in_use)\n",
    "x = np.array(range(min_T, min_T + len(data1), step_T))\n",
    "\n",
    "fig, ax1 = plt.subplots()\n",
    "\n",
    "color = 'tab:red'\n",
    "ax1.set_xlabel('Number of Topics, T')\n",
    "ax1.set_ylabel('Coherence score', color=color)\n",
    "ax1.plot(x, data1, color=color)\n",
    "ax1.tick_params(axis='y', labelcolor=color)\n",
    "\n",
    "xmax = x[np.argmax(data1)]\n",
    "ymax = data1.max()\n",
    "text = 'Num of Topics=%s, score=%f' % (xmax, ymax)\n",
    "\n",
    "bbox_props = dict(boxstyle='square,pad=0.3', fc='w', ec='k', lw=0.72)\n",
    "arrowprops = dict(arrowstyle='->')\n",
    "kw = dict(xycoords='data',textcoords='axes fraction',\n",
    "          arrowprops=arrowprops, bbox=bbox_props, ha='right', va='top')\n",
    "ax1.annotate(text, xy=(xmax, ymax), xytext=(0.99,1.1), **kw)\n",
    "\n",
    "# instantiate a second axes that shares the same x-axis\n",
    "ax2 = ax1.twinx()  \n",
    "\n",
    "color = 'tab:blue'\n",
    "ax2.set_ylabel('Perplexity score', color=color)\n",
    "ax2.plot(x, data2, color=color)\n",
    "ax2.tick_params(axis='y', labelcolor=color)\n",
    "\n",
    "fig.tight_layout() # otherwise the right y-label is slightly clipped\n",
    "pp = PdfPages(os.path.join(dir_plots, 'cohearence_score_zoom.pdf'))\n",
    "\n",
    "plt.savefig(pp, format='pdf', bbox_inches='tight')\n",
    "plt.show()\n",
    "\n",
    "pp.close() "
   ]
  },
  {
   "cell_type": "code",
   "execution_count": 44,
   "metadata": {},
   "outputs": [],
   "source": [
    "best_model_index = np.argmax(np.array(data1))\n",
    "ts = np.array(range(min_T, min_T + len(data1) + 1, step_T))\n",
    "\n",
    "\n",
    "best_topics_number = ts[best_model_index]\n",
    "best_model = model_list[best_model_index]"
   ]
  },
  {
   "cell_type": "code",
   "execution_count": 45,
   "metadata": {},
   "outputs": [
    {
     "name": "stdout",
     "output_type": "stream",
     "text": [
      "Best T: 24\n"
     ]
    }
   ],
   "source": [
    "print('Best T: %s' % best_topics_number)"
   ]
  },
  {
   "cell_type": "markdown",
   "metadata": {},
   "source": [
    "## Combined plot"
   ]
  },
  {
   "cell_type": "code",
   "execution_count": 46,
   "metadata": {},
   "outputs": [
    {
     "ename": "ValueError",
     "evalue": "x and y must have same first dimension, but have shapes (20,) and (56,)",
     "output_type": "error",
     "traceback": [
      "\u001b[0;31m---------------------------------------------------------------------------\u001b[0m",
      "\u001b[0;31mValueError\u001b[0m                                Traceback (most recent call last)",
      "\u001b[0;32m<ipython-input-46-b7a456bc3ff6>\u001b[0m in \u001b[0;36m<module>\u001b[0;34m\u001b[0m\n\u001b[1;32m     14\u001b[0m \u001b[0max_left_main\u001b[0m\u001b[0;34m.\u001b[0m\u001b[0mset_xlabel\u001b[0m\u001b[0;34m(\u001b[0m\u001b[0;34m'Number of Topics, T'\u001b[0m\u001b[0;34m)\u001b[0m\u001b[0;34m\u001b[0m\u001b[0;34m\u001b[0m\u001b[0m\n\u001b[1;32m     15\u001b[0m \u001b[0max_left_main\u001b[0m\u001b[0;34m.\u001b[0m\u001b[0mset_ylabel\u001b[0m\u001b[0;34m(\u001b[0m\u001b[0;34m'Coherence score'\u001b[0m\u001b[0;34m,\u001b[0m \u001b[0mcolor\u001b[0m\u001b[0;34m=\u001b[0m\u001b[0mcolor_corherence\u001b[0m\u001b[0;34m)\u001b[0m\u001b[0;34m\u001b[0m\u001b[0;34m\u001b[0m\u001b[0m\n\u001b[0;32m---> 16\u001b[0;31m \u001b[0max_left_main\u001b[0m\u001b[0;34m.\u001b[0m\u001b[0mplot\u001b[0m\u001b[0;34m(\u001b[0m\u001b[0mx_left\u001b[0m\u001b[0;34m,\u001b[0m \u001b[0mdata_left_coherence\u001b[0m\u001b[0;34m,\u001b[0m \u001b[0mcolor\u001b[0m\u001b[0;34m=\u001b[0m\u001b[0mcolor_corherence\u001b[0m\u001b[0;34m)\u001b[0m\u001b[0;34m\u001b[0m\u001b[0;34m\u001b[0m\u001b[0m\n\u001b[0m\u001b[1;32m     17\u001b[0m \u001b[0max_left_main\u001b[0m\u001b[0;34m.\u001b[0m\u001b[0mtick_params\u001b[0m\u001b[0;34m(\u001b[0m\u001b[0maxis\u001b[0m\u001b[0;34m=\u001b[0m\u001b[0;34m'y'\u001b[0m\u001b[0;34m,\u001b[0m \u001b[0mlabelcolor\u001b[0m\u001b[0;34m=\u001b[0m\u001b[0mcolor_corherence\u001b[0m\u001b[0;34m)\u001b[0m\u001b[0;34m\u001b[0m\u001b[0;34m\u001b[0m\u001b[0m\n\u001b[1;32m     18\u001b[0m \u001b[0;34m\u001b[0m\u001b[0m\n",
      "\u001b[0;32m~/opt/anaconda3/lib/python3.7/site-packages/matplotlib/axes/_axes.py\u001b[0m in \u001b[0;36mplot\u001b[0;34m(self, scalex, scaley, data, *args, **kwargs)\u001b[0m\n\u001b[1;32m   1663\u001b[0m         \"\"\"\n\u001b[1;32m   1664\u001b[0m         \u001b[0mkwargs\u001b[0m \u001b[0;34m=\u001b[0m \u001b[0mcbook\u001b[0m\u001b[0;34m.\u001b[0m\u001b[0mnormalize_kwargs\u001b[0m\u001b[0;34m(\u001b[0m\u001b[0mkwargs\u001b[0m\u001b[0;34m,\u001b[0m \u001b[0mmlines\u001b[0m\u001b[0;34m.\u001b[0m\u001b[0mLine2D\u001b[0m\u001b[0;34m.\u001b[0m\u001b[0m_alias_map\u001b[0m\u001b[0;34m)\u001b[0m\u001b[0;34m\u001b[0m\u001b[0;34m\u001b[0m\u001b[0m\n\u001b[0;32m-> 1665\u001b[0;31m         \u001b[0mlines\u001b[0m \u001b[0;34m=\u001b[0m \u001b[0;34m[\u001b[0m\u001b[0;34m*\u001b[0m\u001b[0mself\u001b[0m\u001b[0;34m.\u001b[0m\u001b[0m_get_lines\u001b[0m\u001b[0;34m(\u001b[0m\u001b[0;34m*\u001b[0m\u001b[0margs\u001b[0m\u001b[0;34m,\u001b[0m \u001b[0mdata\u001b[0m\u001b[0;34m=\u001b[0m\u001b[0mdata\u001b[0m\u001b[0;34m,\u001b[0m \u001b[0;34m**\u001b[0m\u001b[0mkwargs\u001b[0m\u001b[0;34m)\u001b[0m\u001b[0;34m]\u001b[0m\u001b[0;34m\u001b[0m\u001b[0;34m\u001b[0m\u001b[0m\n\u001b[0m\u001b[1;32m   1666\u001b[0m         \u001b[0;32mfor\u001b[0m \u001b[0mline\u001b[0m \u001b[0;32min\u001b[0m \u001b[0mlines\u001b[0m\u001b[0;34m:\u001b[0m\u001b[0;34m\u001b[0m\u001b[0;34m\u001b[0m\u001b[0m\n\u001b[1;32m   1667\u001b[0m             \u001b[0mself\u001b[0m\u001b[0;34m.\u001b[0m\u001b[0madd_line\u001b[0m\u001b[0;34m(\u001b[0m\u001b[0mline\u001b[0m\u001b[0;34m)\u001b[0m\u001b[0;34m\u001b[0m\u001b[0;34m\u001b[0m\u001b[0m\n",
      "\u001b[0;32m~/opt/anaconda3/lib/python3.7/site-packages/matplotlib/axes/_base.py\u001b[0m in \u001b[0;36m__call__\u001b[0;34m(self, *args, **kwargs)\u001b[0m\n\u001b[1;32m    223\u001b[0m                 \u001b[0mthis\u001b[0m \u001b[0;34m+=\u001b[0m \u001b[0margs\u001b[0m\u001b[0;34m[\u001b[0m\u001b[0;36m0\u001b[0m\u001b[0;34m]\u001b[0m\u001b[0;34m,\u001b[0m\u001b[0;34m\u001b[0m\u001b[0;34m\u001b[0m\u001b[0m\n\u001b[1;32m    224\u001b[0m                 \u001b[0margs\u001b[0m \u001b[0;34m=\u001b[0m \u001b[0margs\u001b[0m\u001b[0;34m[\u001b[0m\u001b[0;36m1\u001b[0m\u001b[0;34m:\u001b[0m\u001b[0;34m]\u001b[0m\u001b[0;34m\u001b[0m\u001b[0;34m\u001b[0m\u001b[0m\n\u001b[0;32m--> 225\u001b[0;31m             \u001b[0;32myield\u001b[0m \u001b[0;32mfrom\u001b[0m \u001b[0mself\u001b[0m\u001b[0;34m.\u001b[0m\u001b[0m_plot_args\u001b[0m\u001b[0;34m(\u001b[0m\u001b[0mthis\u001b[0m\u001b[0;34m,\u001b[0m \u001b[0mkwargs\u001b[0m\u001b[0;34m)\u001b[0m\u001b[0;34m\u001b[0m\u001b[0;34m\u001b[0m\u001b[0m\n\u001b[0m\u001b[1;32m    226\u001b[0m \u001b[0;34m\u001b[0m\u001b[0m\n\u001b[1;32m    227\u001b[0m     \u001b[0;32mdef\u001b[0m \u001b[0mget_next_color\u001b[0m\u001b[0;34m(\u001b[0m\u001b[0mself\u001b[0m\u001b[0;34m)\u001b[0m\u001b[0;34m:\u001b[0m\u001b[0;34m\u001b[0m\u001b[0;34m\u001b[0m\u001b[0m\n",
      "\u001b[0;32m~/opt/anaconda3/lib/python3.7/site-packages/matplotlib/axes/_base.py\u001b[0m in \u001b[0;36m_plot_args\u001b[0;34m(self, tup, kwargs)\u001b[0m\n\u001b[1;32m    389\u001b[0m             \u001b[0mx\u001b[0m\u001b[0;34m,\u001b[0m \u001b[0my\u001b[0m \u001b[0;34m=\u001b[0m \u001b[0mindex_of\u001b[0m\u001b[0;34m(\u001b[0m\u001b[0mtup\u001b[0m\u001b[0;34m[\u001b[0m\u001b[0;34m-\u001b[0m\u001b[0;36m1\u001b[0m\u001b[0;34m]\u001b[0m\u001b[0;34m)\u001b[0m\u001b[0;34m\u001b[0m\u001b[0;34m\u001b[0m\u001b[0m\n\u001b[1;32m    390\u001b[0m \u001b[0;34m\u001b[0m\u001b[0m\n\u001b[0;32m--> 391\u001b[0;31m         \u001b[0mx\u001b[0m\u001b[0;34m,\u001b[0m \u001b[0my\u001b[0m \u001b[0;34m=\u001b[0m \u001b[0mself\u001b[0m\u001b[0;34m.\u001b[0m\u001b[0m_xy_from_xy\u001b[0m\u001b[0;34m(\u001b[0m\u001b[0mx\u001b[0m\u001b[0;34m,\u001b[0m \u001b[0my\u001b[0m\u001b[0;34m)\u001b[0m\u001b[0;34m\u001b[0m\u001b[0;34m\u001b[0m\u001b[0m\n\u001b[0m\u001b[1;32m    392\u001b[0m \u001b[0;34m\u001b[0m\u001b[0m\n\u001b[1;32m    393\u001b[0m         \u001b[0;32mif\u001b[0m \u001b[0mself\u001b[0m\u001b[0;34m.\u001b[0m\u001b[0mcommand\u001b[0m \u001b[0;34m==\u001b[0m \u001b[0;34m'plot'\u001b[0m\u001b[0;34m:\u001b[0m\u001b[0;34m\u001b[0m\u001b[0;34m\u001b[0m\u001b[0m\n",
      "\u001b[0;32m~/opt/anaconda3/lib/python3.7/site-packages/matplotlib/axes/_base.py\u001b[0m in \u001b[0;36m_xy_from_xy\u001b[0;34m(self, x, y)\u001b[0m\n\u001b[1;32m    268\u001b[0m         \u001b[0;32mif\u001b[0m \u001b[0mx\u001b[0m\u001b[0;34m.\u001b[0m\u001b[0mshape\u001b[0m\u001b[0;34m[\u001b[0m\u001b[0;36m0\u001b[0m\u001b[0;34m]\u001b[0m \u001b[0;34m!=\u001b[0m \u001b[0my\u001b[0m\u001b[0;34m.\u001b[0m\u001b[0mshape\u001b[0m\u001b[0;34m[\u001b[0m\u001b[0;36m0\u001b[0m\u001b[0;34m]\u001b[0m\u001b[0;34m:\u001b[0m\u001b[0;34m\u001b[0m\u001b[0;34m\u001b[0m\u001b[0m\n\u001b[1;32m    269\u001b[0m             raise ValueError(\"x and y must have same first dimension, but \"\n\u001b[0;32m--> 270\u001b[0;31m                              \"have shapes {} and {}\".format(x.shape, y.shape))\n\u001b[0m\u001b[1;32m    271\u001b[0m         \u001b[0;32mif\u001b[0m \u001b[0mx\u001b[0m\u001b[0;34m.\u001b[0m\u001b[0mndim\u001b[0m \u001b[0;34m>\u001b[0m \u001b[0;36m2\u001b[0m \u001b[0;32mor\u001b[0m \u001b[0my\u001b[0m\u001b[0;34m.\u001b[0m\u001b[0mndim\u001b[0m \u001b[0;34m>\u001b[0m \u001b[0;36m2\u001b[0m\u001b[0;34m:\u001b[0m\u001b[0;34m\u001b[0m\u001b[0;34m\u001b[0m\u001b[0m\n\u001b[1;32m    272\u001b[0m             raise ValueError(\"x and y can be no greater than 2-D, but have \"\n",
      "\u001b[0;31mValueError\u001b[0m: x and y must have same first dimension, but have shapes (20,) and (56,)"
     ]
    },
    {
     "data": {
      "image/png": "[encoded data removed]",
      "text/plain": [
       "<Figure size 720x360 with 2 Axes>"
      ]
     },
     "metadata": {
      "needs_background": "light"
     },
     "output_type": "display_data"
    }
   ],
   "source": [
    "zoom_min_t = 15\n",
    "zoom_max_t = 25\n",
    "\n",
    "x_left = np.array(range(min_T, min_T + len(data1), step_T))\n",
    "x_right = np.array(range(zoom_min_t, zoom_max_t + 1, step_T))\n",
    "\n",
    "color_corherence = '#1f94f9'#hsl(208, 95%, 55%) # #1f94f9\n",
    "color_preplexity = '#f9591f' #hsl(16, 95%, 55%) # #f9591f\n",
    "fig, axs = plt.subplots(1, 2, figsize=(10,5))\n",
    "\n",
    "# Left cohereance\n",
    "ax_left_main = axs[0]\n",
    "data_left_coherence = np.array(coherence_values)\n",
    "ax_left_main.set_xlabel('Number of Topics, T')\n",
    "ax_left_main.set_ylabel('Coherence score', color=color_corherence)\n",
    "ax_left_main.plot(x_left, data_left_coherence, color=color_corherence)\n",
    "ax_left_main.tick_params(axis='y', labelcolor=color_corherence)\n",
    "\n",
    "# Left Preplexity\n",
    "ax_left_twinx = ax_left_main.twinx()  \n",
    "data_left_preplexity = np.array(perplexity_values)\n",
    "ax_left_twinx.set_ylabel('Perplexity score', color=color_preplexity)\n",
    "ax_left_twinx.plot(x_left, data_left_preplexity, color=color_preplexity)\n",
    "ax_left_twinx.tick_params(axis='y', labelcolor=color_preplexity)\n",
    "plt.axvspan(zoom_min_t, zoom_max_t, color='green', alpha=0.2)\n",
    "\n",
    "## Add max point\n",
    "xmax = x_left[np.argmax(data_left_preplexity)]\n",
    "ymax = data_left_preplexity.max()\n",
    "text = 'Max Perplexity Score=%f, Num of Topics=%s' % (ymax, xmax)\n",
    "\n",
    "bbox_props = dict(boxstyle='square,pad=0.3', fc='w', ec='k', lw=0.72)\n",
    "arrowprops = dict(arrowstyle='->')\n",
    "kw = dict(xycoords='data',textcoords='axes fraction',\n",
    "          arrowprops=arrowprops, bbox=bbox_props, ha='right', va='top')\n",
    "ax_left_twinx.annotate(text, xy=(xmax, ymax), xytext=(0.99,1.1), **kw)\n",
    "\n",
    "\n",
    "\n",
    "# Rigth cohereance\n",
    "ax_right_main = axs[1]\n",
    "data_right_coherence = np.array(coherence_values[zoom_min_t - min_T: (zoom_max_t-min_T) + 1])\n",
    "ax_right_main.set_xlabel('Number of Topics, T')\n",
    "ax_right_main.set_ylabel('Coherence score', color=color_corherence)\n",
    "ax_right_main.plot(x_right, data_right_coherence, color=color_corherence, label='Coherence $C_v$')\n",
    "ax_right_main.tick_params(axis='y', labelcolor=color_corherence)\n",
    "\n",
    "## Add max point\n",
    "xmax = x_right[np.argmax(data_right_coherence)]\n",
    "ymax = data_right_coherence.max()\n",
    "text = 'Max Coherence Score=%f, Num of Topics=%s' % (ymax, xmax)\n",
    "\n",
    "bbox_props = dict(boxstyle='square,pad=0.3', fc='w', ec='k', lw=0.72)\n",
    "arrowprops = dict(arrowstyle='->')\n",
    "kw = dict(xycoords='data',textcoords='axes fraction',\n",
    "          arrowprops=arrowprops, bbox=bbox_props, ha='right', va='top')\n",
    "ax_right_main.annotate(text, xy=(xmax, ymax), xytext=(0.99,1.1), **kw)\n",
    "\n",
    "# Right Preplexity\n",
    "ax_right_twinx = ax_right_main.twinx()  \n",
    "data_right_preplexity = np.array(perplexity_values[zoom_min_t - min_T: (zoom_max_t-min_T) + 1])\n",
    "ax_right_twinx.set_ylabel('Perplexity score', color=color_preplexity)\n",
    "ax_right_twinx.plot(x_right, data_right_preplexity, color=color_preplexity, label='Perplexity')\n",
    "ax_right_twinx.tick_params(axis='y', labelcolor=color_preplexity)\n",
    "\n",
    "\n",
    "fig.tight_layout() # otherwise the right y-label is slightly clipped\n",
    "\n",
    "#handles, labels = ax_right_twinx.get_legend_handles_labels()\n",
    "#lgd = ax_right_twinx.legend(handles, labels, bbox_to_anchor=(1, 1), loc=\"lower center\", ncol=3, handleheight=2.4, labelspacing=0.05)\n",
    "all_labels = [ax.get_legend_handles_labels() for ax in [ax_right_main, ax_right_twinx]]\n",
    "lines, labels = [sum(x, []) for x in zip(*all_labels)]\n",
    "fig.legend(lines, labels, bbox_to_anchor=(1, 0.5), loc='center left')\n",
    "# finally we invoke the legend (that you probably would like to customize...)\n",
    "\n",
    "pp = PdfPages(os.path.join(dir_plots, 'search_T_plot.pdf'))\n",
    "plt.savefig(pp, format='pdf', bbox_inches='tight')\n",
    "plt.show()\n",
    "\n",
    "pp.close() "
   ]
  },
  {
   "cell_type": "code",
   "execution_count": null,
   "metadata": {
    "scrolled": false
   },
   "outputs": [],
   "source": [
    "for i in range(best_topics_number):\n",
    "    print([id2word.id2token[x[0]] for x in best_model.get_topic_terms(i, topn=5)])"
   ]
  },
  {
   "cell_type": "markdown",
   "metadata": {},
   "source": [
    "# EnD"
   ]
  },
  {
   "cell_type": "code",
   "execution_count": null,
   "metadata": {},
   "outputs": [],
   "source": []
  },
  {
   "cell_type": "code",
   "execution_count": null,
   "metadata": {},
   "outputs": [],
   "source": []
  }
 ],
 "metadata": {
  "kernelspec": {
   "display_name": "Python 3",
   "language": "python",
   "name": "python3"
  },
  "language_info": {
   "codemirror_mode": {
    "name": "ipython",
    "version": 3
   },
   "file_extension": ".py",
   "mimetype": "text/x-python",
   "name": "python",
   "nbconvert_exporter": "python",
   "pygments_lexer": "ipython3",
   "version": "3.7.7"
  }
 },
 "nbformat": 4,
 "nbformat_minor": 2
}
