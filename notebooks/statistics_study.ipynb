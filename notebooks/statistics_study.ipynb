{
 "cells": [
  {
   "cell_type": "markdown",
   "metadata": {},
   "source": [
    "!Important the notebook should be run after pre-processing notebook"
   ]
  },
  {
   "cell_type": "markdown",
   "metadata": {},
   "source": [
    "# Initialization"
   ]
  },
  {
   "cell_type": "code",
   "execution_count": 1,
   "metadata": {},
   "outputs": [],
   "source": [
    "import os\n",
    "import datetime as dt\n",
    "import re\n"
   ]
  },
  {
   "cell_type": "markdown",
   "metadata": {},
   "source": [
    "## Experiment period"
   ]
  },
  {
   "cell_type": "code",
   "execution_count": 2,
   "metadata": {},
   "outputs": [],
   "source": [
    "date_start = dt.datetime.strptime(\"2005-01-01\", \"%Y-%m-%d\")\n",
    "date_end = dt.datetime.strptime(\"2018-06-30\", \"%Y-%m-%d\") "
   ]
  },
  {
   "cell_type": "markdown",
   "metadata": {},
   "source": [
    "## Paths"
   ]
  },
  {
   "cell_type": "code",
   "execution_count": 24,
   "metadata": {},
   "outputs": [],
   "source": [
    "dir_root = os.path.join('..')\n",
    "dir_data_raw = os.path.join(dir_root, \"data_raw\")\n",
    "dir_data_processing = os.path.join(dir_root, \"data_processing\")\n",
    "\n",
    "dir_reports_txt = os.path.join(dir_data_raw, \"reports_txt\")\n",
    "\n",
    "dir_reports_words = os.path.join(dir_data_processing, \"reports_words\")\n",
    "dir_reports_terms = os.path.join(dir_data_processing, \"reports_terms\")\n",
    "dir_reports_ready = os.path.join(dir_data_processing, \"reports_ready\")\n",
    "\n"
   ]
  },
  {
   "cell_type": "markdown",
   "metadata": {},
   "source": [
    "# Companies/reports stats"
   ]
  },
  {
   "cell_type": "code",
   "execution_count": 4,
   "metadata": {},
   "outputs": [],
   "source": [
    "dir_data_tickers = os.path.join(dir_data_processing, \"tickers\")\n",
    "file_tickers_for_analysis = os.path.join(dir_data_tickers, \"ticker_for_analysis.csv\")"
   ]
  },
  {
   "cell_type": "code",
   "execution_count": 5,
   "metadata": {},
   "outputs": [],
   "source": [
    "all_tickers2reports = {}\n",
    "all_reports_counter = 0;\n",
    "for index in os.listdir(dir_reports_txt):\n",
    "    index_path = os.path.join(dir_reports_txt, index)\n",
    "    if os.path.isdir(index_path):\n",
    "        for ticker in os.listdir(index_path):\n",
    "            dir_ticker = os.path.join(index_path, ticker)\n",
    "            if os.path.isdir(dir_ticker):\n",
    "                ticker_reports = []\n",
    "                for report_name in os.listdir(dir_ticker):\n",
    "                    file_path = os.path.join(dir_ticker, report_name)\n",
    "                    if os.path.isfile(file_path):\n",
    "                        all_reports_counter += 1\n",
    "                        ticker_reports.append(file_path)\n",
    "                all_tickers2reports[ticker] = sorted(ticker_reports)"
   ]
  },
  {
   "cell_type": "code",
   "execution_count": 6,
   "metadata": {},
   "outputs": [
    {
     "data": {
      "text/plain": [
       "'there are 165 companies available'"
      ]
     },
     "execution_count": 6,
     "metadata": {},
     "output_type": "execute_result"
    }
   ],
   "source": [
    "\"there are %s companies available\" % len(all_tickers2reports)"
   ]
  },
  {
   "cell_type": "code",
   "execution_count": 7,
   "metadata": {},
   "outputs": [
    {
     "data": {
      "text/plain": [
       "'there are 8048 reports available'"
      ]
     },
     "execution_count": 7,
     "metadata": {},
     "output_type": "execute_result"
    }
   ],
   "source": [
    "\"there are %s reports available\" % all_reports_counter"
   ]
  },
  {
   "cell_type": "code",
   "execution_count": 18,
   "metadata": {},
   "outputs": [],
   "source": [
    "tickers2reports = {}\n",
    "with open(file_tickers_for_analysis, 'r') as f_r:\n",
    "    for text_line in f_r:\n",
    "        tickers2reports[text_line.strip()] = None"
   ]
  },
  {
   "cell_type": "code",
   "execution_count": 19,
   "metadata": {},
   "outputs": [],
   "source": [
    "reports_counter = 0\n",
    "for ticker in tickers2reports.keys():\n",
    "    company,index = ticker.split('_')\n",
    "    company_path = os.path.join(dir_reports_terms, index, company)\n",
    "    ticker_reports = []\n",
    "    for file in os.listdir(company_path):\n",
    "        file_path = os.path.join(company_path, file)\n",
    "        if os.path.isfile(file_path):\n",
    "            year = int(file.split('_')[0])\n",
    "            if year >= date_start.year and year < date_end.year:\n",
    "                reports_counter += 1\n",
    "                ticker_reports.append(file_path)\n",
    "    tickers2reports[ticker] = ticker_reports"
   ]
  },
  {
   "cell_type": "code",
   "execution_count": 20,
   "metadata": {},
   "outputs": [
    {
     "data": {
      "text/plain": [
       "'there are 79 companies available for study'"
      ]
     },
     "execution_count": 20,
     "metadata": {},
     "output_type": "execute_result"
    }
   ],
   "source": [
    "\"there are %s companies available for study\" % len(tickers2reports)"
   ]
  },
  {
   "cell_type": "code",
   "execution_count": 21,
   "metadata": {},
   "outputs": [
    {
     "data": {
      "text/plain": [
       "'there are 4038 reports available'"
      ]
     },
     "execution_count": 21,
     "metadata": {},
     "output_type": "execute_result"
    }
   ],
   "source": [
    "\"there are %s reports available\" % reports_counter"
   ]
  },
  {
   "cell_type": "markdown",
   "metadata": {},
   "source": [
    "# Textual stats"
   ]
  },
  {
   "cell_type": "markdown",
   "metadata": {},
   "source": [
    "Count the length of every document available for study, raw in chars"
   ]
  },
  {
   "cell_type": "code",
   "execution_count": 12,
   "metadata": {},
   "outputs": [],
   "source": [
    "all_chars = 0\n",
    "all_good_chars = 0\n",
    "all_words = 0\n",
    "for ticker, reports in all_tickers2reports.items():\n",
    "    for report in reports:\n",
    "        with open(report, 'r', encoding='ISO-8859-1') as f_r:\n",
    "            for text_line in f_r:\n",
    "                text = text_line.strip()\n",
    "                all_chars += len(text)\n",
    "                all_good_chars += len(re.sub(r\"\\s\", \"\", text))\n",
    "                all_words += len(text.split(' '))"
   ]
  },
  {
   "cell_type": "code",
   "execution_count": 13,
   "metadata": {},
   "outputs": [
    {
     "name": "stdout",
     "output_type": "stream",
     "text": [
      "total chars: 2673162927 average chars: 332152.451167992\n",
      "total g_chars: 1608965524 average g_chars: 199921.1635188867\n",
      "total words: 1111153518 average words: 138065.79498011927\n"
     ]
    }
   ],
   "source": [
    "print('total chars: %s average chars: %s' % (all_chars, all_chars / all_reports_counter))\n",
    "print('total g_chars: %s average g_chars: %s' % (all_good_chars, all_good_chars / all_reports_counter))\n",
    "print('total words: %s average words: %s' % (all_words, all_words / all_reports_counter))\n"
   ]
  },
  {
   "cell_type": "code",
   "execution_count": 16,
   "metadata": {},
   "outputs": [
    {
     "data": {
      "text/plain": [
       "1.4480137064192782"
      ]
     },
     "execution_count": 16,
     "metadata": {},
     "output_type": "execute_result"
    }
   ],
   "source": [
    "199921.1635188867 / 138065.79498011927"
   ]
  },
  {
   "cell_type": "code",
   "execution_count": 22,
   "metadata": {},
   "outputs": [],
   "source": [
    "chars = 0\n",
    "good_chars = 0\n",
    "words = 0\n",
    "\n",
    "for ticker, reports in tickers2reports.items():\n",
    "    for report in reports:\n",
    "        with open(report, 'r') as f_r:\n",
    "            for text_line in f_r:\n",
    "                text = text_line.strip()\n",
    "                chars += len(text)\n",
    "                good_chars += len(re.sub(r\"\\s\", \"\", text))\n",
    "                words += len(text.split(' '))"
   ]
  },
  {
   "cell_type": "code",
   "execution_count": 23,
   "metadata": {},
   "outputs": [
    {
     "name": "stdout",
     "output_type": "stream",
     "text": [
      "total chars: 556946032 average chars: 137926.20901436356\n",
      "total g_chars: 487889237 g_average chars: 120824.47672114908\n",
      "total words: 69060833 average words: 17102.732293214463\n"
     ]
    }
   ],
   "source": [
    "print('total chars: %s average chars: %s' % (chars, chars / reports_counter))\n",
    "print('total g_chars: %s g_average chars: %s' % (good_chars, good_chars / reports_counter))\n",
    "print('total words: %s average words: %s' % (words, words / reports_counter))\n"
   ]
  },
  {
   "cell_type": "code",
   "execution_count": null,
   "metadata": {},
   "outputs": [],
   "source": [
    "191432.07889497263 / 34812.62593330015"
   ]
  },
  {
   "cell_type": "code",
   "execution_count": 29,
   "metadata": {},
   "outputs": [],
   "source": [
    "chars = 0\n",
    "good_chars = 0\n",
    "words = 0\n",
    "reports_counter = 0\n",
    "\n",
    "for file_name in os.listdir(dir_reports_ready):\n",
    "    report_path = os.path.join(dir_reports_ready, file_name)\n",
    "    if os.path.isfile(report_path):\n",
    "        #print(\"Ready to work on %s\" % report_path)\n",
    "        reports_counter += 1\n",
    "        with open(report_path, 'r') as f_r:\n",
    "            for text_line in f_r:\n",
    "                text = text_line.strip()\n",
    "                chars += len(text)\n",
    "                good_chars += len(re.sub(r\"\\s\", \"\", text))\n",
    "                words += len(text.split(' '))"
   ]
  },
  {
   "cell_type": "code",
   "execution_count": 30,
   "metadata": {},
   "outputs": [
    {
     "name": "stdout",
     "output_type": "stream",
     "text": [
      "total reports: 4038\n",
      "total chars: 556946032 average chars: 137926.20901436356\n",
      "total g_chars: 487889237 g_average chars: 120824.47672114908\n",
      "total words: 69060833 average words: 17102.732293214463\n"
     ]
    }
   ],
   "source": [
    "print('total reports: %s' % reports_counter)\n",
    "print('total chars: %s average chars: %s' % (chars, chars / reports_counter))\n",
    "print('total g_chars: %s g_average chars: %s' % (good_chars, good_chars / reports_counter))\n",
    "print('total words: %s average words: %s' % (words, words / reports_counter))\n"
   ]
  },
  {
   "cell_type": "markdown",
   "metadata": {},
   "source": [
    "# Terms stats"
   ]
  },
  {
   "cell_type": "code",
   "execution_count": null,
   "metadata": {},
   "outputs": [],
   "source": [
    "# todo number of words"
   ]
  },
  {
   "cell_type": "code",
   "execution_count": null,
   "metadata": {},
   "outputs": [],
   "source": [
    "# todo number of terms in analysis"
   ]
  },
  {
   "cell_type": "code",
   "execution_count": null,
   "metadata": {},
   "outputs": [],
   "source": []
  }
 ],
 "metadata": {
  "kernelspec": {
   "display_name": "Python 3",
   "language": "python",
   "name": "python3"
  },
  "language_info": {
   "codemirror_mode": {
    "name": "ipython",
    "version": 3
   },
   "file_extension": ".py",
   "mimetype": "text/x-python",
   "name": "python",
   "nbconvert_exporter": "python",
   "pygments_lexer": "ipython3",
   "version": "3.6.8"
  }
 },
 "nbformat": 4,
 "nbformat_minor": 2
}
